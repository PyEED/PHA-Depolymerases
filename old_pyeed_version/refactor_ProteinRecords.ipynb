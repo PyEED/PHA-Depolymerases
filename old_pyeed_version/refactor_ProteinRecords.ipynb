{
 "cells": [
  {
   "cell_type": "code",
   "execution_count": 2,
   "metadata": {},
   "outputs": [],
   "source": [
    "%reload_ext autoreload\n",
    "%autoreload 2\n",
    "from pyeed.core import ProteinRecord \n",
    "from pathlib import Path\n",
    "import json\n",
    "import os"
   ]
  },
  {
   "cell_type": "markdown",
   "metadata": {},
   "source": [
    "open all json protein sequences from the given path to get the ProteinRecord entry   \n",
    "The proteins come from the blast search "
   ]
  },
  {
   "cell_type": "code",
   "execution_count": 3,
   "metadata": {},
   "outputs": [],
   "source": [
    "sequences = []\n",
    "#i = 0\n",
    "#while i < 7:\n",
    "for path in Path(\"./blast_results/blast_results_3\").rglob(\"*.json\"):\n",
    "    with open(str(path.absolute())) as f:\n",
    "        sequences.append(json.load(f)) \n",
    "    #i = i + 1"
   ]
  },
  {
   "cell_type": "markdown",
   "metadata": {},
   "source": [
    "remove all duplicates "
   ]
  },
  {
   "cell_type": "code",
   "execution_count": 4,
   "metadata": {},
   "outputs": [],
   "source": [
    "source_ids = []\n",
    "for protein in sequences: \n",
    "    if protein['source_id'] not in source_ids:\n",
    "        source_ids.append(protein['source_id'])"
   ]
  },
  {
   "cell_type": "code",
   "execution_count": 5,
   "metadata": {},
   "outputs": [
    {
     "name": "stdout",
     "output_type": "stream",
     "text": [
      "51574\n"
     ]
    }
   ],
   "source": [
    "print(len(source_ids))"
   ]
  },
  {
   "cell_type": "markdown",
   "metadata": {},
   "source": [
    "get the ProteinRecord for each protein in the folder"
   ]
  },
  {
   "cell_type": "code",
   "execution_count": 7,
   "metadata": {},
   "outputs": [
    {
     "data": {
      "application/vnd.jupyter.widget-view+json": {
       "model_id": "adaf4f079e9243dfbb9a5aec744ec303",
       "version_major": 2,
       "version_minor": 0
      },
      "text/plain": [
       "Output()"
      ]
     },
     "metadata": {},
     "output_type": "display_data"
    },
    {
     "data": {
      "text/html": [
       "<pre style=\"white-space:pre;overflow-x:auto;line-height:normal;font-family:Menlo,'DejaVu Sans Mono',consolas,'Courier New',monospace\"></pre>\n"
      ],
      "text/plain": []
     },
     "metadata": {},
     "output_type": "display_data"
    },
    {
     "data": {
      "text/html": [
       "<pre style=\"white-space:pre;overflow-x:auto;line-height:normal;font-family:Menlo,'DejaVu Sans Mono',consolas,'Courier New',monospace\">\n",
       "</pre>\n"
      ],
      "text/plain": [
       "\n"
      ]
     },
     "metadata": {},
     "output_type": "display_data"
    },
    {
     "data": {
      "application/vnd.jupyter.widget-view+json": {
       "model_id": "051bb2b38e0e4bdfb366e3ebad7438af",
       "version_major": 2,
       "version_minor": 0
      },
      "text/plain": [
       "Output()"
      ]
     },
     "metadata": {},
     "output_type": "display_data"
    },
    {
     "name": "stdout",
     "output_type": "stream",
     "text": [
      "0\n"
     ]
    },
    {
     "data": {
      "text/html": [
       "<pre style=\"white-space:pre;overflow-x:auto;line-height:normal;font-family:Menlo,'DejaVu Sans Mono',consolas,'Courier New',monospace\"></pre>\n"
      ],
      "text/plain": []
     },
     "metadata": {},
     "output_type": "display_data"
    },
    {
     "data": {
      "text/html": [
       "<pre style=\"white-space:pre;overflow-x:auto;line-height:normal;font-family:Menlo,'DejaVu Sans Mono',consolas,'Courier New',monospace\">\n",
       "</pre>\n"
      ],
      "text/plain": [
       "\n"
      ]
     },
     "metadata": {},
     "output_type": "display_data"
    },
    {
     "data": {
      "application/vnd.jupyter.widget-view+json": {
       "model_id": "4e21bbaf0f5340dd822f469a64119421",
       "version_major": 2,
       "version_minor": 0
      },
      "text/plain": [
       "Output()"
      ]
     },
     "metadata": {},
     "output_type": "display_data"
    },
    {
     "name": "stdout",
     "output_type": "stream",
     "text": [
      "1\n"
     ]
    },
    {
     "data": {
      "text/html": [
       "<pre style=\"white-space:pre;overflow-x:auto;line-height:normal;font-family:Menlo,'DejaVu Sans Mono',consolas,'Courier New',monospace\"></pre>\n"
      ],
      "text/plain": []
     },
     "metadata": {},
     "output_type": "display_data"
    },
    {
     "data": {
      "text/html": [
       "<pre style=\"white-space:pre;overflow-x:auto;line-height:normal;font-family:Menlo,'DejaVu Sans Mono',consolas,'Courier New',monospace\">\n",
       "</pre>\n"
      ],
      "text/plain": [
       "\n"
      ]
     },
     "metadata": {},
     "output_type": "display_data"
    },
    {
     "data": {
      "application/vnd.jupyter.widget-view+json": {
       "model_id": "e21904125c174804a07e881e56d50a14",
       "version_major": 2,
       "version_minor": 0
      },
      "text/plain": [
       "Output()"
      ]
     },
     "metadata": {},
     "output_type": "display_data"
    },
    {
     "name": "stdout",
     "output_type": "stream",
     "text": [
      "2\n"
     ]
    },
    {
     "data": {
      "text/html": [
       "<pre style=\"white-space:pre;overflow-x:auto;line-height:normal;font-family:Menlo,'DejaVu Sans Mono',consolas,'Courier New',monospace\"></pre>\n"
      ],
      "text/plain": []
     },
     "metadata": {},
     "output_type": "display_data"
    },
    {
     "data": {
      "text/html": [
       "<pre style=\"white-space:pre;overflow-x:auto;line-height:normal;font-family:Menlo,'DejaVu Sans Mono',consolas,'Courier New',monospace\">\n",
       "</pre>\n"
      ],
      "text/plain": [
       "\n"
      ]
     },
     "metadata": {},
     "output_type": "display_data"
    },
    {
     "data": {
      "application/vnd.jupyter.widget-view+json": {
       "model_id": "65daf41b6de14742a24db49b61ee8154",
       "version_major": 2,
       "version_minor": 0
      },
      "text/plain": [
       "Output()"
      ]
     },
     "metadata": {},
     "output_type": "display_data"
    },
    {
     "name": "stdout",
     "output_type": "stream",
     "text": [
      "3\n"
     ]
    },
    {
     "data": {
      "text/html": [
       "<pre style=\"white-space:pre;overflow-x:auto;line-height:normal;font-family:Menlo,'DejaVu Sans Mono',consolas,'Courier New',monospace\"></pre>\n"
      ],
      "text/plain": []
     },
     "metadata": {},
     "output_type": "display_data"
    },
    {
     "data": {
      "text/html": [
       "<pre style=\"white-space:pre;overflow-x:auto;line-height:normal;font-family:Menlo,'DejaVu Sans Mono',consolas,'Courier New',monospace\">\n",
       "</pre>\n"
      ],
      "text/plain": [
       "\n"
      ]
     },
     "metadata": {},
     "output_type": "display_data"
    },
    {
     "data": {
      "application/vnd.jupyter.widget-view+json": {
       "model_id": "ec08fd6741964708b4d207b4f35904df",
       "version_major": 2,
       "version_minor": 0
      },
      "text/plain": [
       "Output()"
      ]
     },
     "metadata": {},
     "output_type": "display_data"
    },
    {
     "name": "stdout",
     "output_type": "stream",
     "text": [
      "4\n"
     ]
    },
    {
     "data": {
      "text/html": [
       "<pre style=\"white-space:pre;overflow-x:auto;line-height:normal;font-family:Menlo,'DejaVu Sans Mono',consolas,'Courier New',monospace\"></pre>\n"
      ],
      "text/plain": []
     },
     "metadata": {},
     "output_type": "display_data"
    },
    {
     "data": {
      "text/html": [
       "<pre style=\"white-space:pre;overflow-x:auto;line-height:normal;font-family:Menlo,'DejaVu Sans Mono',consolas,'Courier New',monospace\">\n",
       "</pre>\n"
      ],
      "text/plain": [
       "\n"
      ]
     },
     "metadata": {},
     "output_type": "display_data"
    },
    {
     "data": {
      "application/vnd.jupyter.widget-view+json": {
       "model_id": "4e2da6f59c9f426d9a20b66653182e14",
       "version_major": 2,
       "version_minor": 0
      },
      "text/plain": [
       "Output()"
      ]
     },
     "metadata": {},
     "output_type": "display_data"
    },
    {
     "name": "stdout",
     "output_type": "stream",
     "text": [
      "5\n"
     ]
    },
    {
     "data": {
      "text/html": [
       "<pre style=\"white-space:pre;overflow-x:auto;line-height:normal;font-family:Menlo,'DejaVu Sans Mono',consolas,'Courier New',monospace\">Request to \n",
       "https://eutils.ncbi.nlm.nih.gov/entrez/eutils/efetch.fcgi?db=protein&amp;retmode=text&amp;rettype=genbank&amp;id=WP_022979333.1\n",
       ",WP_045774728.1,MYA33063.1,MBI2766114.1,MCL5058999.1,MBV8301252.1,MBV8186841.1,WP_057259803.1,WP_236970731.1,WP_084\n",
       "716516.1 failed with status code 429\n",
       "</pre>\n"
      ],
      "text/plain": [
       "Request to \n",
       "https://eutils.ncbi.nlm.nih.gov/entrez/eutils/efetch.fcgi?db=protein&retmode=text&rettype=genbank&id=WP_022979333.1\n",
       ",WP_045774728.1,MYA33063.1,MBI2766114.1,MCL5058999.1,MBV8301252.1,MBV8186841.1,WP_057259803.1,WP_236970731.1,WP_084\n",
       "716516.1 failed with status code 429\n"
      ]
     },
     "metadata": {},
     "output_type": "display_data"
    },
    {
     "data": {
      "text/html": [
       "<pre style=\"white-space:pre;overflow-x:auto;line-height:normal;font-family:Menlo,'DejaVu Sans Mono',consolas,'Courier New',monospace\">Response: {\"error\":\"API rate limit exceeded\",\"api-key\":\"145.40.68.99\",\"count\":\"4\",\"limit\":\"3\"}\n",
       "\n",
       "</pre>\n"
      ],
      "text/plain": [
       "Response: {\"error\":\"API rate limit exceeded\",\"api-key\":\"145.40.68.99\",\"count\":\"4\",\"limit\":\"3\"}\n",
       "\n"
      ]
     },
     "metadata": {},
     "output_type": "display_data"
    },
    {
     "data": {
      "text/html": [
       "<pre style=\"white-space:pre;overflow-x:auto;line-height:normal;font-family:Menlo,'DejaVu Sans Mono',consolas,'Courier New',monospace\">Rate limit exceeded. Waiting for 1 second...\n",
       "</pre>\n"
      ],
      "text/plain": [
       "Rate limit exceeded. Waiting for 1 second...\n"
      ]
     },
     "metadata": {},
     "output_type": "display_data"
    },
    {
     "data": {
      "text/html": [
       "<pre style=\"white-space:pre;overflow-x:auto;line-height:normal;font-family:Menlo,'DejaVu Sans Mono',consolas,'Courier New',monospace\"></pre>\n"
      ],
      "text/plain": []
     },
     "metadata": {},
     "output_type": "display_data"
    },
    {
     "data": {
      "text/html": [
       "<pre style=\"white-space:pre;overflow-x:auto;line-height:normal;font-family:Menlo,'DejaVu Sans Mono',consolas,'Courier New',monospace\">\n",
       "</pre>\n"
      ],
      "text/plain": [
       "\n"
      ]
     },
     "metadata": {},
     "output_type": "display_data"
    },
    {
     "data": {
      "application/vnd.jupyter.widget-view+json": {
       "model_id": "07f49e8caa144cd0b1525a4a111de802",
       "version_major": 2,
       "version_minor": 0
      },
      "text/plain": [
       "Output()"
      ]
     },
     "metadata": {},
     "output_type": "display_data"
    },
    {
     "name": "stdout",
     "output_type": "stream",
     "text": [
      "6\n"
     ]
    },
    {
     "data": {
      "text/html": [
       "<pre style=\"white-space:pre;overflow-x:auto;line-height:normal;font-family:Menlo,'DejaVu Sans Mono',consolas,'Courier New',monospace\">Request to \n",
       "https://eutils.ncbi.nlm.nih.gov/entrez/eutils/efetch.fcgi?db=protein&amp;retmode=text&amp;rettype=genbank&amp;id=GBC85441.1,MAP\n",
       "48347.1,NNE80958.1,WP_204395059.1,WP_136415317.1,WP_264515982.1,WP_075528914.1,MCK4383939.1,WP_022980139.1,HBW17816\n",
       ".1 failed with status code 429\n",
       "</pre>\n"
      ],
      "text/plain": [
       "Request to \n",
       "https://eutils.ncbi.nlm.nih.gov/entrez/eutils/efetch.fcgi?db=protein&retmode=text&rettype=genbank&id=GBC85441.1,MAP\n",
       "48347.1,NNE80958.1,WP_204395059.1,WP_136415317.1,WP_264515982.1,WP_075528914.1,MCK4383939.1,WP_022980139.1,HBW17816\n",
       ".1 failed with status code 429\n"
      ]
     },
     "metadata": {},
     "output_type": "display_data"
    },
    {
     "data": {
      "text/html": [
       "<pre style=\"white-space:pre;overflow-x:auto;line-height:normal;font-family:Menlo,'DejaVu Sans Mono',consolas,'Courier New',monospace\">Response: {\"error\":\"API rate limit exceeded\",\"api-key\":\"145.40.68.99\",\"count\":\"4\",\"limit\":\"3\"}\n",
       "\n",
       "</pre>\n"
      ],
      "text/plain": [
       "Response: {\"error\":\"API rate limit exceeded\",\"api-key\":\"145.40.68.99\",\"count\":\"4\",\"limit\":\"3\"}\n",
       "\n"
      ]
     },
     "metadata": {},
     "output_type": "display_data"
    },
    {
     "data": {
      "text/html": [
       "<pre style=\"white-space:pre;overflow-x:auto;line-height:normal;font-family:Menlo,'DejaVu Sans Mono',consolas,'Courier New',monospace\">Rate limit exceeded. Waiting for 1 second...\n",
       "</pre>\n"
      ],
      "text/plain": [
       "Rate limit exceeded. Waiting for 1 second...\n"
      ]
     },
     "metadata": {},
     "output_type": "display_data"
    },
    {
     "data": {
      "text/html": [
       "<pre style=\"white-space:pre;overflow-x:auto;line-height:normal;font-family:Menlo,'DejaVu Sans Mono',consolas,'Courier New',monospace\"></pre>\n"
      ],
      "text/plain": []
     },
     "metadata": {},
     "output_type": "display_data"
    },
    {
     "data": {
      "text/html": [
       "<pre style=\"white-space:pre;overflow-x:auto;line-height:normal;font-family:Menlo,'DejaVu Sans Mono',consolas,'Courier New',monospace\">\n",
       "</pre>\n"
      ],
      "text/plain": [
       "\n"
      ]
     },
     "metadata": {},
     "output_type": "display_data"
    },
    {
     "data": {
      "application/vnd.jupyter.widget-view+json": {
       "model_id": "791be540508d43e68b7a743b7193e355",
       "version_major": 2,
       "version_minor": 0
      },
      "text/plain": [
       "Output()"
      ]
     },
     "metadata": {},
     "output_type": "display_data"
    },
    {
     "name": "stdout",
     "output_type": "stream",
     "text": [
      "7\n"
     ]
    },
    {
     "data": {
      "text/html": [
       "<pre style=\"white-space:pre;overflow-x:auto;line-height:normal;font-family:Menlo,'DejaVu Sans Mono',consolas,'Courier New',monospace\">Request to \n",
       "https://eutils.ncbi.nlm.nih.gov/entrez/eutils/efetch.fcgi?db=protein&amp;retmode=text&amp;rettype=genbank&amp;id=TMK19011.1,WP_\n",
       "216457611.1,WP_012110247.1,WP_258445821.1,WP_123112335.1,WP_033262168.1,WP_187672469.1,MCH2430783.1,MSQ63452.1,WP_0\n",
       "88319806.1 failed with status code 429\n",
       "</pre>\n"
      ],
      "text/plain": [
       "Request to \n",
       "https://eutils.ncbi.nlm.nih.gov/entrez/eutils/efetch.fcgi?db=protein&retmode=text&rettype=genbank&id=TMK19011.1,WP_\n",
       "216457611.1,WP_012110247.1,WP_258445821.1,WP_123112335.1,WP_033262168.1,WP_187672469.1,MCH2430783.1,MSQ63452.1,WP_0\n",
       "88319806.1 failed with status code 429\n"
      ]
     },
     "metadata": {},
     "output_type": "display_data"
    },
    {
     "data": {
      "text/html": [
       "<pre style=\"white-space:pre;overflow-x:auto;line-height:normal;font-family:Menlo,'DejaVu Sans Mono',consolas,'Courier New',monospace\">Response: {\"error\":\"API rate limit exceeded\",\"api-key\":\"145.40.68.99\",\"count\":\"4\",\"limit\":\"3\"}\n",
       "\n",
       "</pre>\n"
      ],
      "text/plain": [
       "Response: {\"error\":\"API rate limit exceeded\",\"api-key\":\"145.40.68.99\",\"count\":\"4\",\"limit\":\"3\"}\n",
       "\n"
      ]
     },
     "metadata": {},
     "output_type": "display_data"
    },
    {
     "data": {
      "text/html": [
       "<pre style=\"white-space:pre;overflow-x:auto;line-height:normal;font-family:Menlo,'DejaVu Sans Mono',consolas,'Courier New',monospace\">Rate limit exceeded. Waiting for 1 second...\n",
       "</pre>\n"
      ],
      "text/plain": [
       "Rate limit exceeded. Waiting for 1 second...\n"
      ]
     },
     "metadata": {},
     "output_type": "display_data"
    },
    {
     "data": {
      "text/html": [
       "<pre style=\"white-space:pre;overflow-x:auto;line-height:normal;font-family:Menlo,'DejaVu Sans Mono',consolas,'Courier New',monospace\"></pre>\n"
      ],
      "text/plain": []
     },
     "metadata": {},
     "output_type": "display_data"
    },
    {
     "data": {
      "text/html": [
       "<pre style=\"white-space:pre;overflow-x:auto;line-height:normal;font-family:Menlo,'DejaVu Sans Mono',consolas,'Courier New',monospace\">\n",
       "</pre>\n"
      ],
      "text/plain": [
       "\n"
      ]
     },
     "metadata": {},
     "output_type": "display_data"
    },
    {
     "data": {
      "application/vnd.jupyter.widget-view+json": {
       "model_id": "665f89e47a9e468bb2ecc463e6e7cf98",
       "version_major": 2,
       "version_minor": 0
      },
      "text/plain": [
       "Output()"
      ]
     },
     "metadata": {},
     "output_type": "display_data"
    },
    {
     "name": "stdout",
     "output_type": "stream",
     "text": [
      "8\n"
     ]
    },
    {
     "data": {
      "text/html": [
       "<pre style=\"white-space:pre;overflow-x:auto;line-height:normal;font-family:Menlo,'DejaVu Sans Mono',consolas,'Courier New',monospace\"></pre>\n"
      ],
      "text/plain": []
     },
     "metadata": {},
     "output_type": "display_data"
    },
    {
     "data": {
      "text/html": [
       "<pre style=\"white-space:pre;overflow-x:auto;line-height:normal;font-family:Menlo,'DejaVu Sans Mono',consolas,'Courier New',monospace\">\n",
       "</pre>\n"
      ],
      "text/plain": [
       "\n"
      ]
     },
     "metadata": {},
     "output_type": "display_data"
    },
    {
     "data": {
      "application/vnd.jupyter.widget-view+json": {
       "model_id": "cf35e737b8b848f0a881462575269774",
       "version_major": 2,
       "version_minor": 0
      },
      "text/plain": [
       "Output()"
      ]
     },
     "metadata": {},
     "output_type": "display_data"
    },
    {
     "name": "stdout",
     "output_type": "stream",
     "text": [
      "9\n"
     ]
    },
    {
     "data": {
      "text/html": [
       "<pre style=\"white-space:pre;overflow-x:auto;line-height:normal;font-family:Menlo,'DejaVu Sans Mono',consolas,'Courier New',monospace\"></pre>\n"
      ],
      "text/plain": []
     },
     "metadata": {},
     "output_type": "display_data"
    },
    {
     "data": {
      "text/html": [
       "<pre style=\"white-space:pre;overflow-x:auto;line-height:normal;font-family:Menlo,'DejaVu Sans Mono',consolas,'Courier New',monospace\">\n",
       "</pre>\n"
      ],
      "text/plain": [
       "\n"
      ]
     },
     "metadata": {},
     "output_type": "display_data"
    },
    {
     "data": {
      "application/vnd.jupyter.widget-view+json": {
       "model_id": "9721e0f48d164ff19c46b1ff6618cdd8",
       "version_major": 2,
       "version_minor": 0
      },
      "text/plain": [
       "Output()"
      ]
     },
     "metadata": {},
     "output_type": "display_data"
    },
    {
     "name": "stdout",
     "output_type": "stream",
     "text": [
      "10\n"
     ]
    },
    {
     "data": {
      "text/html": [
       "<pre style=\"white-space:pre;overflow-x:auto;line-height:normal;font-family:Menlo,'DejaVu Sans Mono',consolas,'Courier New',monospace\"></pre>\n"
      ],
      "text/plain": []
     },
     "metadata": {},
     "output_type": "display_data"
    },
    {
     "data": {
      "text/html": [
       "<pre style=\"white-space:pre;overflow-x:auto;line-height:normal;font-family:Menlo,'DejaVu Sans Mono',consolas,'Courier New',monospace\">\n",
       "</pre>\n"
      ],
      "text/plain": [
       "\n"
      ]
     },
     "metadata": {},
     "output_type": "display_data"
    },
    {
     "data": {
      "application/vnd.jupyter.widget-view+json": {
       "model_id": "bb9602c546724df3b4eda6d6a44d612f",
       "version_major": 2,
       "version_minor": 0
      },
      "text/plain": [
       "Output()"
      ]
     },
     "metadata": {},
     "output_type": "display_data"
    },
    {
     "name": "stdout",
     "output_type": "stream",
     "text": [
      "11\n"
     ]
    },
    {
     "data": {
      "text/html": [
       "<pre style=\"white-space:pre;overflow-x:auto;line-height:normal;font-family:Menlo,'DejaVu Sans Mono',consolas,'Courier New',monospace\"></pre>\n"
      ],
      "text/plain": []
     },
     "metadata": {},
     "output_type": "display_data"
    },
    {
     "data": {
      "text/html": [
       "<pre style=\"white-space:pre;overflow-x:auto;line-height:normal;font-family:Menlo,'DejaVu Sans Mono',consolas,'Courier New',monospace\">\n",
       "</pre>\n"
      ],
      "text/plain": [
       "\n"
      ]
     },
     "metadata": {},
     "output_type": "display_data"
    },
    {
     "data": {
      "application/vnd.jupyter.widget-view+json": {
       "model_id": "f67dceaab8e04496ae95916cca6ce336",
       "version_major": 2,
       "version_minor": 0
      },
      "text/plain": [
       "Output()"
      ]
     },
     "metadata": {},
     "output_type": "display_data"
    },
    {
     "name": "stdout",
     "output_type": "stream",
     "text": [
      "12\n"
     ]
    },
    {
     "data": {
      "text/html": [
       "<pre style=\"white-space:pre;overflow-x:auto;line-height:normal;font-family:Menlo,'DejaVu Sans Mono',consolas,'Courier New',monospace\">Request to \n",
       "https://eutils.ncbi.nlm.nih.gov/entrez/eutils/efetch.fcgi?db=protein&amp;retmode=text&amp;rettype=genbank&amp;id=WP_102091443.1\n",
       ",MSW35570.1,MBW3619282.1,MAY40165.1,MCU0762527.1,MBQ6951498.1,MCL6584806.1,MBR9974631.1,OHB82245.1,WP_247849850.1 \n",
       "failed with status code 429\n",
       "</pre>\n"
      ],
      "text/plain": [
       "Request to \n",
       "https://eutils.ncbi.nlm.nih.gov/entrez/eutils/efetch.fcgi?db=protein&retmode=text&rettype=genbank&id=WP_102091443.1\n",
       ",MSW35570.1,MBW3619282.1,MAY40165.1,MCU0762527.1,MBQ6951498.1,MCL6584806.1,MBR9974631.1,OHB82245.1,WP_247849850.1 \n",
       "failed with status code 429\n"
      ]
     },
     "metadata": {},
     "output_type": "display_data"
    },
    {
     "data": {
      "text/html": [
       "<pre style=\"white-space:pre;overflow-x:auto;line-height:normal;font-family:Menlo,'DejaVu Sans Mono',consolas,'Courier New',monospace\">Response: {\"error\":\"API rate limit exceeded\",\"api-key\":\"145.40.68.99\",\"count\":\"4\",\"limit\":\"3\"}\n",
       "\n",
       "</pre>\n"
      ],
      "text/plain": [
       "Response: {\"error\":\"API rate limit exceeded\",\"api-key\":\"145.40.68.99\",\"count\":\"4\",\"limit\":\"3\"}\n",
       "\n"
      ]
     },
     "metadata": {},
     "output_type": "display_data"
    },
    {
     "data": {
      "text/html": [
       "<pre style=\"white-space:pre;overflow-x:auto;line-height:normal;font-family:Menlo,'DejaVu Sans Mono',consolas,'Courier New',monospace\">Rate limit exceeded. Waiting for 1 second...\n",
       "</pre>\n"
      ],
      "text/plain": [
       "Rate limit exceeded. Waiting for 1 second...\n"
      ]
     },
     "metadata": {},
     "output_type": "display_data"
    },
    {
     "data": {
      "text/html": [
       "<pre style=\"white-space:pre;overflow-x:auto;line-height:normal;font-family:Menlo,'DejaVu Sans Mono',consolas,'Courier New',monospace\">Request to \n",
       "https://eutils.ncbi.nlm.nih.gov/entrez/eutils/efetch.fcgi?db=protein&amp;retmode=text&amp;rettype=genbank&amp;id=WP_263111934.1\n",
       ",WP_063129174.1,WP_227757928.1,MBI5353279.1,MSR02384.1,NLW77682.1,MBA3414726.1,HEY90297.1,KAF3691307.1,RUF23385.1 \n",
       "failed with status code 429\n",
       "</pre>\n"
      ],
      "text/plain": [
       "Request to \n",
       "https://eutils.ncbi.nlm.nih.gov/entrez/eutils/efetch.fcgi?db=protein&retmode=text&rettype=genbank&id=WP_263111934.1\n",
       ",WP_063129174.1,WP_227757928.1,MBI5353279.1,MSR02384.1,NLW77682.1,MBA3414726.1,HEY90297.1,KAF3691307.1,RUF23385.1 \n",
       "failed with status code 429\n"
      ]
     },
     "metadata": {},
     "output_type": "display_data"
    },
    {
     "data": {
      "text/html": [
       "<pre style=\"white-space:pre;overflow-x:auto;line-height:normal;font-family:Menlo,'DejaVu Sans Mono',consolas,'Courier New',monospace\">Response: {\"error\":\"API rate limit exceeded\",\"api-key\":\"145.40.68.99\",\"count\":\"4\",\"limit\":\"3\"}\n",
       "\n",
       "</pre>\n"
      ],
      "text/plain": [
       "Response: {\"error\":\"API rate limit exceeded\",\"api-key\":\"145.40.68.99\",\"count\":\"4\",\"limit\":\"3\"}\n",
       "\n"
      ]
     },
     "metadata": {},
     "output_type": "display_data"
    },
    {
     "data": {
      "text/html": [
       "<pre style=\"white-space:pre;overflow-x:auto;line-height:normal;font-family:Menlo,'DejaVu Sans Mono',consolas,'Courier New',monospace\">Rate limit exceeded. Waiting for 1 second...\n",
       "</pre>\n"
      ],
      "text/plain": [
       "Rate limit exceeded. Waiting for 1 second...\n"
      ]
     },
     "metadata": {},
     "output_type": "display_data"
    },
    {
     "data": {
      "text/html": [
       "<pre style=\"white-space:pre;overflow-x:auto;line-height:normal;font-family:Menlo,'DejaVu Sans Mono',consolas,'Courier New',monospace\">Request to \n",
       "https://eutils.ncbi.nlm.nih.gov/entrez/eutils/efetch.fcgi?db=protein&amp;retmode=text&amp;rettype=genbank&amp;id=WP_211201938.1\n",
       ",WP_237877287.1,MCU0448138.1,WP_263365530.1,WP_025022295.1,WP_030296017.1,MCG3121469.1,MCS7313244.1,MBR5126318.1,WP\n",
       "_206145706.1 failed with status code 429\n",
       "</pre>\n"
      ],
      "text/plain": [
       "Request to \n",
       "https://eutils.ncbi.nlm.nih.gov/entrez/eutils/efetch.fcgi?db=protein&retmode=text&rettype=genbank&id=WP_211201938.1\n",
       ",WP_237877287.1,MCU0448138.1,WP_263365530.1,WP_025022295.1,WP_030296017.1,MCG3121469.1,MCS7313244.1,MBR5126318.1,WP\n",
       "_206145706.1 failed with status code 429\n"
      ]
     },
     "metadata": {},
     "output_type": "display_data"
    },
    {
     "data": {
      "text/html": [
       "<pre style=\"white-space:pre;overflow-x:auto;line-height:normal;font-family:Menlo,'DejaVu Sans Mono',consolas,'Courier New',monospace\">Response: {\"error\":\"API rate limit exceeded\",\"api-key\":\"145.40.68.99\",\"count\":\"4\",\"limit\":\"3\"}\n",
       "\n",
       "</pre>\n"
      ],
      "text/plain": [
       "Response: {\"error\":\"API rate limit exceeded\",\"api-key\":\"145.40.68.99\",\"count\":\"4\",\"limit\":\"3\"}\n",
       "\n"
      ]
     },
     "metadata": {},
     "output_type": "display_data"
    },
    {
     "data": {
      "text/html": [
       "<pre style=\"white-space:pre;overflow-x:auto;line-height:normal;font-family:Menlo,'DejaVu Sans Mono',consolas,'Courier New',monospace\">Rate limit exceeded. Waiting for 1 second...\n",
       "</pre>\n"
      ],
      "text/plain": [
       "Rate limit exceeded. Waiting for 1 second...\n"
      ]
     },
     "metadata": {},
     "output_type": "display_data"
    },
    {
     "data": {
      "text/html": [
       "<pre style=\"white-space:pre;overflow-x:auto;line-height:normal;font-family:Menlo,'DejaVu Sans Mono',consolas,'Courier New',monospace\"></pre>\n"
      ],
      "text/plain": []
     },
     "metadata": {},
     "output_type": "display_data"
    },
    {
     "data": {
      "text/html": [
       "<pre style=\"white-space:pre;overflow-x:auto;line-height:normal;font-family:Menlo,'DejaVu Sans Mono',consolas,'Courier New',monospace\">\n",
       "</pre>\n"
      ],
      "text/plain": [
       "\n"
      ]
     },
     "metadata": {},
     "output_type": "display_data"
    },
    {
     "data": {
      "application/vnd.jupyter.widget-view+json": {
       "model_id": "6de37c2b5a704c0393e274a1da55c99c",
       "version_major": 2,
       "version_minor": 0
      },
      "text/plain": [
       "Output()"
      ]
     },
     "metadata": {},
     "output_type": "display_data"
    },
    {
     "name": "stdout",
     "output_type": "stream",
     "text": [
      "13\n"
     ]
    },
    {
     "data": {
      "text/html": [
       "<pre style=\"white-space:pre;overflow-x:auto;line-height:normal;font-family:Menlo,'DejaVu Sans Mono',consolas,'Courier New',monospace\"></pre>\n"
      ],
      "text/plain": []
     },
     "metadata": {},
     "output_type": "display_data"
    },
    {
     "data": {
      "text/html": [
       "<pre style=\"white-space:pre;overflow-x:auto;line-height:normal;font-family:Menlo,'DejaVu Sans Mono',consolas,'Courier New',monospace\">\n",
       "</pre>\n"
      ],
      "text/plain": [
       "\n"
      ]
     },
     "metadata": {},
     "output_type": "display_data"
    },
    {
     "data": {
      "application/vnd.jupyter.widget-view+json": {
       "model_id": "7c402dea8079417aa1521b88f7beb20d",
       "version_major": 2,
       "version_minor": 0
      },
      "text/plain": [
       "Output()"
      ]
     },
     "metadata": {},
     "output_type": "display_data"
    },
    {
     "name": "stdout",
     "output_type": "stream",
     "text": [
      "14\n"
     ]
    },
    {
     "data": {
      "text/html": [
       "<pre style=\"white-space:pre;overflow-x:auto;line-height:normal;font-family:Menlo,'DejaVu Sans Mono',consolas,'Courier New',monospace\"></pre>\n"
      ],
      "text/plain": []
     },
     "metadata": {},
     "output_type": "display_data"
    },
    {
     "data": {
      "text/html": [
       "<pre style=\"white-space:pre;overflow-x:auto;line-height:normal;font-family:Menlo,'DejaVu Sans Mono',consolas,'Courier New',monospace\">\n",
       "</pre>\n"
      ],
      "text/plain": [
       "\n"
      ]
     },
     "metadata": {},
     "output_type": "display_data"
    },
    {
     "data": {
      "application/vnd.jupyter.widget-view+json": {
       "model_id": "53ab17fa974a4e71b0da959c7ef663e8",
       "version_major": 2,
       "version_minor": 0
      },
      "text/plain": [
       "Output()"
      ]
     },
     "metadata": {},
     "output_type": "display_data"
    },
    {
     "name": "stdout",
     "output_type": "stream",
     "text": [
      "15\n"
     ]
    },
    {
     "data": {
      "text/html": [
       "<pre style=\"white-space:pre;overflow-x:auto;line-height:normal;font-family:Menlo,'DejaVu Sans Mono',consolas,'Courier New',monospace\"></pre>\n"
      ],
      "text/plain": []
     },
     "metadata": {},
     "output_type": "display_data"
    },
    {
     "data": {
      "text/html": [
       "<pre style=\"white-space:pre;overflow-x:auto;line-height:normal;font-family:Menlo,'DejaVu Sans Mono',consolas,'Courier New',monospace\">\n",
       "</pre>\n"
      ],
      "text/plain": [
       "\n"
      ]
     },
     "metadata": {},
     "output_type": "display_data"
    },
    {
     "data": {
      "application/vnd.jupyter.widget-view+json": {
       "model_id": "10d9a82eeb67469e99c37e2b974262f7",
       "version_major": 2,
       "version_minor": 0
      },
      "text/plain": [
       "Output()"
      ]
     },
     "metadata": {},
     "output_type": "display_data"
    },
    {
     "name": "stdout",
     "output_type": "stream",
     "text": [
      "16\n"
     ]
    },
    {
     "data": {
      "text/html": [
       "<pre style=\"white-space:pre;overflow-x:auto;line-height:normal;font-family:Menlo,'DejaVu Sans Mono',consolas,'Courier New',monospace\"></pre>\n"
      ],
      "text/plain": []
     },
     "metadata": {},
     "output_type": "display_data"
    },
    {
     "data": {
      "text/html": [
       "<pre style=\"white-space:pre;overflow-x:auto;line-height:normal;font-family:Menlo,'DejaVu Sans Mono',consolas,'Courier New',monospace\">\n",
       "</pre>\n"
      ],
      "text/plain": [
       "\n"
      ]
     },
     "metadata": {},
     "output_type": "display_data"
    },
    {
     "data": {
      "application/vnd.jupyter.widget-view+json": {
       "model_id": "6028d6f9a4e14b399512edc28a7f27ab",
       "version_major": 2,
       "version_minor": 0
      },
      "text/plain": [
       "Output()"
      ]
     },
     "metadata": {},
     "output_type": "display_data"
    },
    {
     "name": "stdout",
     "output_type": "stream",
     "text": [
      "17\n"
     ]
    },
    {
     "data": {
      "text/html": [
       "<pre style=\"white-space:pre;overflow-x:auto;line-height:normal;font-family:Menlo,'DejaVu Sans Mono',consolas,'Courier New',monospace\">Request to \n",
       "https://eutils.ncbi.nlm.nih.gov/entrez/eutils/efetch.fcgi?db=protein&amp;retmode=text&amp;rettype=genbank&amp;id=WP_269343980.1\n",
       ",WP_075976442.1,MBL8719962.1,OYX64164.1,MBB2989805.1,KAG6974258.1,WP_023055539.1,WP_030645359.1,WP_162345011.1,WP_1\n",
       "68716044.1 failed with status code 429\n",
       "</pre>\n"
      ],
      "text/plain": [
       "Request to \n",
       "https://eutils.ncbi.nlm.nih.gov/entrez/eutils/efetch.fcgi?db=protein&retmode=text&rettype=genbank&id=WP_269343980.1\n",
       ",WP_075976442.1,MBL8719962.1,OYX64164.1,MBB2989805.1,KAG6974258.1,WP_023055539.1,WP_030645359.1,WP_162345011.1,WP_1\n",
       "68716044.1 failed with status code 429\n"
      ]
     },
     "metadata": {},
     "output_type": "display_data"
    },
    {
     "data": {
      "text/html": [
       "<pre style=\"white-space:pre;overflow-x:auto;line-height:normal;font-family:Menlo,'DejaVu Sans Mono',consolas,'Courier New',monospace\">Response: {\"error\":\"API rate limit exceeded\",\"api-key\":\"145.40.68.99\",\"count\":\"4\",\"limit\":\"3\"}\n",
       "\n",
       "</pre>\n"
      ],
      "text/plain": [
       "Response: {\"error\":\"API rate limit exceeded\",\"api-key\":\"145.40.68.99\",\"count\":\"4\",\"limit\":\"3\"}\n",
       "\n"
      ]
     },
     "metadata": {},
     "output_type": "display_data"
    },
    {
     "data": {
      "text/html": [
       "<pre style=\"white-space:pre;overflow-x:auto;line-height:normal;font-family:Menlo,'DejaVu Sans Mono',consolas,'Courier New',monospace\">Rate limit exceeded. Waiting for 1 second...\n",
       "</pre>\n"
      ],
      "text/plain": [
       "Rate limit exceeded. Waiting for 1 second...\n"
      ]
     },
     "metadata": {},
     "output_type": "display_data"
    },
    {
     "data": {
      "text/html": [
       "<pre style=\"white-space:pre;overflow-x:auto;line-height:normal;font-family:Menlo,'DejaVu Sans Mono',consolas,'Courier New',monospace\"></pre>\n"
      ],
      "text/plain": []
     },
     "metadata": {},
     "output_type": "display_data"
    },
    {
     "data": {
      "text/html": [
       "<pre style=\"white-space:pre;overflow-x:auto;line-height:normal;font-family:Menlo,'DejaVu Sans Mono',consolas,'Courier New',monospace\">\n",
       "</pre>\n"
      ],
      "text/plain": [
       "\n"
      ]
     },
     "metadata": {},
     "output_type": "display_data"
    },
    {
     "data": {
      "application/vnd.jupyter.widget-view+json": {
       "model_id": "bd2e6c2d81fb4a678d7d6a92daa0e68a",
       "version_major": 2,
       "version_minor": 0
      },
      "text/plain": [
       "Output()"
      ]
     },
     "metadata": {},
     "output_type": "display_data"
    },
    {
     "name": "stdout",
     "output_type": "stream",
     "text": [
      "18\n"
     ]
    },
    {
     "data": {
      "text/html": [
       "<pre style=\"white-space:pre;overflow-x:auto;line-height:normal;font-family:Menlo,'DejaVu Sans Mono',consolas,'Courier New',monospace\">Request to \n",
       "https://eutils.ncbi.nlm.nih.gov/entrez/eutils/efetch.fcgi?db=protein&amp;retmode=text&amp;rettype=genbank&amp;id=HII76072.1,WP_\n",
       "205255622.1,WP_090877537.1,WP_056806701.1,WP_257553318.1,WP_251271930.1,WP_210116372.1,WP_206122392.1,WP_067870882.\n",
       "1,WP_096495134.1 failed with status code 429\n",
       "</pre>\n"
      ],
      "text/plain": [
       "Request to \n",
       "https://eutils.ncbi.nlm.nih.gov/entrez/eutils/efetch.fcgi?db=protein&retmode=text&rettype=genbank&id=HII76072.1,WP_\n",
       "205255622.1,WP_090877537.1,WP_056806701.1,WP_257553318.1,WP_251271930.1,WP_210116372.1,WP_206122392.1,WP_067870882.\n",
       "1,WP_096495134.1 failed with status code 429\n"
      ]
     },
     "metadata": {},
     "output_type": "display_data"
    },
    {
     "data": {
      "text/html": [
       "<pre style=\"white-space:pre;overflow-x:auto;line-height:normal;font-family:Menlo,'DejaVu Sans Mono',consolas,'Courier New',monospace\">Response: {\"error\":\"API rate limit exceeded\",\"api-key\":\"145.40.68.99\",\"count\":\"4\",\"limit\":\"3\"}\n",
       "\n",
       "</pre>\n"
      ],
      "text/plain": [
       "Response: {\"error\":\"API rate limit exceeded\",\"api-key\":\"145.40.68.99\",\"count\":\"4\",\"limit\":\"3\"}\n",
       "\n"
      ]
     },
     "metadata": {},
     "output_type": "display_data"
    },
    {
     "data": {
      "text/html": [
       "<pre style=\"white-space:pre;overflow-x:auto;line-height:normal;font-family:Menlo,'DejaVu Sans Mono',consolas,'Courier New',monospace\">Rate limit exceeded. Waiting for 1 second...\n",
       "</pre>\n"
      ],
      "text/plain": [
       "Rate limit exceeded. Waiting for 1 second...\n"
      ]
     },
     "metadata": {},
     "output_type": "display_data"
    },
    {
     "data": {
      "text/html": [
       "<pre style=\"white-space:pre;overflow-x:auto;line-height:normal;font-family:Menlo,'DejaVu Sans Mono',consolas,'Courier New',monospace\"></pre>\n"
      ],
      "text/plain": []
     },
     "metadata": {},
     "output_type": "display_data"
    },
    {
     "data": {
      "text/html": [
       "<pre style=\"white-space:pre;overflow-x:auto;line-height:normal;font-family:Menlo,'DejaVu Sans Mono',consolas,'Courier New',monospace\">\n",
       "</pre>\n"
      ],
      "text/plain": [
       "\n"
      ]
     },
     "metadata": {},
     "output_type": "display_data"
    },
    {
     "data": {
      "application/vnd.jupyter.widget-view+json": {
       "model_id": "496e2d0ebff9461db2fc30814cd679d8",
       "version_major": 2,
       "version_minor": 0
      },
      "text/plain": [
       "Output()"
      ]
     },
     "metadata": {},
     "output_type": "display_data"
    },
    {
     "name": "stdout",
     "output_type": "stream",
     "text": [
      "19\n"
     ]
    },
    {
     "data": {
      "text/html": [
       "<pre style=\"white-space:pre;overflow-x:auto;line-height:normal;font-family:Menlo,'DejaVu Sans Mono',consolas,'Courier New',monospace\"></pre>\n"
      ],
      "text/plain": []
     },
     "metadata": {},
     "output_type": "display_data"
    },
    {
     "data": {
      "text/html": [
       "<pre style=\"white-space:pre;overflow-x:auto;line-height:normal;font-family:Menlo,'DejaVu Sans Mono',consolas,'Courier New',monospace\">\n",
       "</pre>\n"
      ],
      "text/plain": [
       "\n"
      ]
     },
     "metadata": {},
     "output_type": "display_data"
    },
    {
     "data": {
      "application/vnd.jupyter.widget-view+json": {
       "model_id": "42b03dd93b634d08904392e638f77c89",
       "version_major": 2,
       "version_minor": 0
      },
      "text/plain": [
       "Output()"
      ]
     },
     "metadata": {},
     "output_type": "display_data"
    },
    {
     "name": "stdout",
     "output_type": "stream",
     "text": [
      "20\n"
     ]
    },
    {
     "data": {
      "text/html": [
       "<pre style=\"white-space:pre;overflow-x:auto;line-height:normal;font-family:Menlo,'DejaVu Sans Mono',consolas,'Courier New',monospace\"></pre>\n"
      ],
      "text/plain": []
     },
     "metadata": {},
     "output_type": "display_data"
    },
    {
     "data": {
      "text/html": [
       "<pre style=\"white-space:pre;overflow-x:auto;line-height:normal;font-family:Menlo,'DejaVu Sans Mono',consolas,'Courier New',monospace\">\n",
       "</pre>\n"
      ],
      "text/plain": [
       "\n"
      ]
     },
     "metadata": {},
     "output_type": "display_data"
    },
    {
     "data": {
      "application/vnd.jupyter.widget-view+json": {
       "model_id": "9fe4a64018034e4ea80f994b5d4aa2ca",
       "version_major": 2,
       "version_minor": 0
      },
      "text/plain": [
       "Output()"
      ]
     },
     "metadata": {},
     "output_type": "display_data"
    },
    {
     "name": "stdout",
     "output_type": "stream",
     "text": [
      "21\n"
     ]
    },
    {
     "data": {
      "text/html": [
       "<pre style=\"white-space:pre;overflow-x:auto;line-height:normal;font-family:Menlo,'DejaVu Sans Mono',consolas,'Courier New',monospace\"></pre>\n"
      ],
      "text/plain": []
     },
     "metadata": {},
     "output_type": "display_data"
    },
    {
     "data": {
      "text/html": [
       "<pre style=\"white-space:pre;overflow-x:auto;line-height:normal;font-family:Menlo,'DejaVu Sans Mono',consolas,'Courier New',monospace\">\n",
       "</pre>\n"
      ],
      "text/plain": [
       "\n"
      ]
     },
     "metadata": {},
     "output_type": "display_data"
    },
    {
     "data": {
      "application/vnd.jupyter.widget-view+json": {
       "model_id": "f3c8a818ca534a7c803edef14a9cf92e",
       "version_major": 2,
       "version_minor": 0
      },
      "text/plain": [
       "Output()"
      ]
     },
     "metadata": {},
     "output_type": "display_data"
    },
    {
     "name": "stdout",
     "output_type": "stream",
     "text": [
      "22\n"
     ]
    },
    {
     "data": {
      "text/html": [
       "<pre style=\"white-space:pre;overflow-x:auto;line-height:normal;font-family:Menlo,'DejaVu Sans Mono',consolas,'Courier New',monospace\"></pre>\n"
      ],
      "text/plain": []
     },
     "metadata": {},
     "output_type": "display_data"
    },
    {
     "data": {
      "text/html": [
       "<pre style=\"white-space:pre;overflow-x:auto;line-height:normal;font-family:Menlo,'DejaVu Sans Mono',consolas,'Courier New',monospace\">\n",
       "</pre>\n"
      ],
      "text/plain": [
       "\n"
      ]
     },
     "metadata": {},
     "output_type": "display_data"
    },
    {
     "data": {
      "application/vnd.jupyter.widget-view+json": {
       "model_id": "cd1cd36641924448953d7e547ac0ead7",
       "version_major": 2,
       "version_minor": 0
      },
      "text/plain": [
       "Output()"
      ]
     },
     "metadata": {},
     "output_type": "display_data"
    },
    {
     "name": "stdout",
     "output_type": "stream",
     "text": [
      "23\n"
     ]
    },
    {
     "data": {
      "text/html": [
       "<pre style=\"white-space:pre;overflow-x:auto;line-height:normal;font-family:Menlo,'DejaVu Sans Mono',consolas,'Courier New',monospace\"></pre>\n"
      ],
      "text/plain": []
     },
     "metadata": {},
     "output_type": "display_data"
    },
    {
     "data": {
      "text/html": [
       "<pre style=\"white-space:pre;overflow-x:auto;line-height:normal;font-family:Menlo,'DejaVu Sans Mono',consolas,'Courier New',monospace\">\n",
       "</pre>\n"
      ],
      "text/plain": [
       "\n"
      ]
     },
     "metadata": {},
     "output_type": "display_data"
    },
    {
     "data": {
      "application/vnd.jupyter.widget-view+json": {
       "model_id": "6629ba63c3954f0b90f1f4e9f17b69db",
       "version_major": 2,
       "version_minor": 0
      },
      "text/plain": [
       "Output()"
      ]
     },
     "metadata": {},
     "output_type": "display_data"
    },
    {
     "name": "stdout",
     "output_type": "stream",
     "text": [
      "24\n"
     ]
    },
    {
     "data": {
      "text/html": [
       "<pre style=\"white-space:pre;overflow-x:auto;line-height:normal;font-family:Menlo,'DejaVu Sans Mono',consolas,'Courier New',monospace\"></pre>\n"
      ],
      "text/plain": []
     },
     "metadata": {},
     "output_type": "display_data"
    },
    {
     "data": {
      "text/html": [
       "<pre style=\"white-space:pre;overflow-x:auto;line-height:normal;font-family:Menlo,'DejaVu Sans Mono',consolas,'Courier New',monospace\">\n",
       "</pre>\n"
      ],
      "text/plain": [
       "\n"
      ]
     },
     "metadata": {},
     "output_type": "display_data"
    },
    {
     "data": {
      "application/vnd.jupyter.widget-view+json": {
       "model_id": "d8d58bcc709649cc99196194010b39a0",
       "version_major": 2,
       "version_minor": 0
      },
      "text/plain": [
       "Output()"
      ]
     },
     "metadata": {},
     "output_type": "display_data"
    },
    {
     "name": "stdout",
     "output_type": "stream",
     "text": [
      "25\n"
     ]
    },
    {
     "data": {
      "text/html": [
       "<pre style=\"white-space:pre;overflow-x:auto;line-height:normal;font-family:Menlo,'DejaVu Sans Mono',consolas,'Courier New',monospace\">Request to \n",
       "https://eutils.ncbi.nlm.nih.gov/entrez/eutils/efetch.fcgi?db=protein&amp;retmode=text&amp;rettype=genbank&amp;id=MBA2377514.1,P\n",
       "ZF98916.1,TDW31611.1,MBA4099296.1,WP_218645238.1,WP_063032760.1,MBN1527144.1,MBI3534235.1,WP_111373795.1,WP_2101898\n",
       "44.1 failed with status code 429\n",
       "</pre>\n"
      ],
      "text/plain": [
       "Request to \n",
       "https://eutils.ncbi.nlm.nih.gov/entrez/eutils/efetch.fcgi?db=protein&retmode=text&rettype=genbank&id=MBA2377514.1,P\n",
       "ZF98916.1,TDW31611.1,MBA4099296.1,WP_218645238.1,WP_063032760.1,MBN1527144.1,MBI3534235.1,WP_111373795.1,WP_2101898\n",
       "44.1 failed with status code 429\n"
      ]
     },
     "metadata": {},
     "output_type": "display_data"
    },
    {
     "data": {
      "text/html": [
       "<pre style=\"white-space:pre;overflow-x:auto;line-height:normal;font-family:Menlo,'DejaVu Sans Mono',consolas,'Courier New',monospace\">Response: {\"error\":\"API rate limit exceeded\",\"api-key\":\"145.40.68.99\",\"count\":\"4\",\"limit\":\"3\"}\n",
       "\n",
       "</pre>\n"
      ],
      "text/plain": [
       "Response: {\"error\":\"API rate limit exceeded\",\"api-key\":\"145.40.68.99\",\"count\":\"4\",\"limit\":\"3\"}\n",
       "\n"
      ]
     },
     "metadata": {},
     "output_type": "display_data"
    },
    {
     "data": {
      "text/html": [
       "<pre style=\"white-space:pre;overflow-x:auto;line-height:normal;font-family:Menlo,'DejaVu Sans Mono',consolas,'Courier New',monospace\">Rate limit exceeded. Waiting for 1 second...\n",
       "</pre>\n"
      ],
      "text/plain": [
       "Rate limit exceeded. Waiting for 1 second...\n"
      ]
     },
     "metadata": {},
     "output_type": "display_data"
    },
    {
     "data": {
      "text/html": [
       "<pre style=\"white-space:pre;overflow-x:auto;line-height:normal;font-family:Menlo,'DejaVu Sans Mono',consolas,'Courier New',monospace\"></pre>\n"
      ],
      "text/plain": []
     },
     "metadata": {},
     "output_type": "display_data"
    },
    {
     "data": {
      "text/html": [
       "<pre style=\"white-space:pre;overflow-x:auto;line-height:normal;font-family:Menlo,'DejaVu Sans Mono',consolas,'Courier New',monospace\">\n",
       "</pre>\n"
      ],
      "text/plain": [
       "\n"
      ]
     },
     "metadata": {},
     "output_type": "display_data"
    },
    {
     "data": {
      "application/vnd.jupyter.widget-view+json": {
       "model_id": "d8c8dc813b74421dbf57651253f77181",
       "version_major": 2,
       "version_minor": 0
      },
      "text/plain": [
       "Output()"
      ]
     },
     "metadata": {},
     "output_type": "display_data"
    },
    {
     "name": "stdout",
     "output_type": "stream",
     "text": [
      "26\n"
     ]
    },
    {
     "data": {
      "text/html": [
       "<pre style=\"white-space:pre;overflow-x:auto;line-height:normal;font-family:Menlo,'DejaVu Sans Mono',consolas,'Courier New',monospace\"></pre>\n"
      ],
      "text/plain": []
     },
     "metadata": {},
     "output_type": "display_data"
    },
    {
     "data": {
      "text/html": [
       "<pre style=\"white-space:pre;overflow-x:auto;line-height:normal;font-family:Menlo,'DejaVu Sans Mono',consolas,'Courier New',monospace\">\n",
       "</pre>\n"
      ],
      "text/plain": [
       "\n"
      ]
     },
     "metadata": {},
     "output_type": "display_data"
    },
    {
     "data": {
      "application/vnd.jupyter.widget-view+json": {
       "model_id": "d2a7d7b1ce684d40a6b75e2441e62b11",
       "version_major": 2,
       "version_minor": 0
      },
      "text/plain": [
       "Output()"
      ]
     },
     "metadata": {},
     "output_type": "display_data"
    },
    {
     "name": "stdout",
     "output_type": "stream",
     "text": [
      "27\n"
     ]
    },
    {
     "data": {
      "text/html": [
       "<pre style=\"white-space:pre;overflow-x:auto;line-height:normal;font-family:Menlo,'DejaVu Sans Mono',consolas,'Courier New',monospace\">Request to \n",
       "https://eutils.ncbi.nlm.nih.gov/entrez/eutils/efetch.fcgi?db=protein&amp;retmode=text&amp;rettype=genbank&amp;id=WP_081762742.1\n",
       ",EPJ49208.1,WP_247411135.1,MCK5420815.1,SNS52348.1,WP_225059511.1,KAF9170933.1,WP_089261050.1,WP_089252998.1,QAU327\n",
       "56.1 failed with status code 429\n",
       "</pre>\n"
      ],
      "text/plain": [
       "Request to \n",
       "https://eutils.ncbi.nlm.nih.gov/entrez/eutils/efetch.fcgi?db=protein&retmode=text&rettype=genbank&id=WP_081762742.1\n",
       ",EPJ49208.1,WP_247411135.1,MCK5420815.1,SNS52348.1,WP_225059511.1,KAF9170933.1,WP_089261050.1,WP_089252998.1,QAU327\n",
       "56.1 failed with status code 429\n"
      ]
     },
     "metadata": {},
     "output_type": "display_data"
    },
    {
     "data": {
      "text/html": [
       "<pre style=\"white-space:pre;overflow-x:auto;line-height:normal;font-family:Menlo,'DejaVu Sans Mono',consolas,'Courier New',monospace\">Response: {\"error\":\"API rate limit exceeded\",\"api-key\":\"145.40.68.99\",\"count\":\"4\",\"limit\":\"3\"}\n",
       "\n",
       "</pre>\n"
      ],
      "text/plain": [
       "Response: {\"error\":\"API rate limit exceeded\",\"api-key\":\"145.40.68.99\",\"count\":\"4\",\"limit\":\"3\"}\n",
       "\n"
      ]
     },
     "metadata": {},
     "output_type": "display_data"
    },
    {
     "data": {
      "text/html": [
       "<pre style=\"white-space:pre;overflow-x:auto;line-height:normal;font-family:Menlo,'DejaVu Sans Mono',consolas,'Courier New',monospace\">Rate limit exceeded. Waiting for 1 second...\n",
       "</pre>\n"
      ],
      "text/plain": [
       "Rate limit exceeded. Waiting for 1 second...\n"
      ]
     },
     "metadata": {},
     "output_type": "display_data"
    },
    {
     "data": {
      "text/html": [
       "<pre style=\"white-space:pre;overflow-x:auto;line-height:normal;font-family:Menlo,'DejaVu Sans Mono',consolas,'Courier New',monospace\"></pre>\n"
      ],
      "text/plain": []
     },
     "metadata": {},
     "output_type": "display_data"
    },
    {
     "data": {
      "text/html": [
       "<pre style=\"white-space:pre;overflow-x:auto;line-height:normal;font-family:Menlo,'DejaVu Sans Mono',consolas,'Courier New',monospace\">\n",
       "</pre>\n"
      ],
      "text/plain": [
       "\n"
      ]
     },
     "metadata": {},
     "output_type": "display_data"
    },
    {
     "data": {
      "application/vnd.jupyter.widget-view+json": {
       "model_id": "54f4a198c9644076a2f0e1633fa5357b",
       "version_major": 2,
       "version_minor": 0
      },
      "text/plain": [
       "Output()"
      ]
     },
     "metadata": {},
     "output_type": "display_data"
    },
    {
     "name": "stdout",
     "output_type": "stream",
     "text": [
      "28\n"
     ]
    },
    {
     "data": {
      "text/html": [
       "<pre style=\"white-space:pre;overflow-x:auto;line-height:normal;font-family:Menlo,'DejaVu Sans Mono',consolas,'Courier New',monospace\"></pre>\n"
      ],
      "text/plain": []
     },
     "metadata": {},
     "output_type": "display_data"
    },
    {
     "data": {
      "text/html": [
       "<pre style=\"white-space:pre;overflow-x:auto;line-height:normal;font-family:Menlo,'DejaVu Sans Mono',consolas,'Courier New',monospace\">\n",
       "</pre>\n"
      ],
      "text/plain": [
       "\n"
      ]
     },
     "metadata": {},
     "output_type": "display_data"
    },
    {
     "data": {
      "application/vnd.jupyter.widget-view+json": {
       "model_id": "32f639a20bbb46308051e208404d83c5",
       "version_major": 2,
       "version_minor": 0
      },
      "text/plain": [
       "Output()"
      ]
     },
     "metadata": {},
     "output_type": "display_data"
    },
    {
     "name": "stdout",
     "output_type": "stream",
     "text": [
      "29\n"
     ]
    },
    {
     "data": {
      "text/html": [
       "<pre style=\"white-space:pre;overflow-x:auto;line-height:normal;font-family:Menlo,'DejaVu Sans Mono',consolas,'Courier New',monospace\">Request to \n",
       "https://eutils.ncbi.nlm.nih.gov/entrez/eutils/efetch.fcgi?db=protein&amp;retmode=text&amp;rettype=genbank&amp;id=KAH7144197.1,W\n",
       "P_109110192.1,WP_015181043.1,XP_014396851.1,WP_053659809.1,GIX41757.1,MBV9100867.1,CQD20586.1,WP_061083056.1,MCB898\n",
       "7979.1 failed with status code 429\n",
       "</pre>\n"
      ],
      "text/plain": [
       "Request to \n",
       "https://eutils.ncbi.nlm.nih.gov/entrez/eutils/efetch.fcgi?db=protein&retmode=text&rettype=genbank&id=KAH7144197.1,W\n",
       "P_109110192.1,WP_015181043.1,XP_014396851.1,WP_053659809.1,GIX41757.1,MBV9100867.1,CQD20586.1,WP_061083056.1,MCB898\n",
       "7979.1 failed with status code 429\n"
      ]
     },
     "metadata": {},
     "output_type": "display_data"
    },
    {
     "data": {
      "text/html": [
       "<pre style=\"white-space:pre;overflow-x:auto;line-height:normal;font-family:Menlo,'DejaVu Sans Mono',consolas,'Courier New',monospace\">Response: {\"error\":\"API rate limit exceeded\",\"api-key\":\"145.40.68.99\",\"count\":\"4\",\"limit\":\"3\"}\n",
       "\n",
       "</pre>\n"
      ],
      "text/plain": [
       "Response: {\"error\":\"API rate limit exceeded\",\"api-key\":\"145.40.68.99\",\"count\":\"4\",\"limit\":\"3\"}\n",
       "\n"
      ]
     },
     "metadata": {},
     "output_type": "display_data"
    },
    {
     "data": {
      "text/html": [
       "<pre style=\"white-space:pre;overflow-x:auto;line-height:normal;font-family:Menlo,'DejaVu Sans Mono',consolas,'Courier New',monospace\">Rate limit exceeded. Waiting for 1 second...\n",
       "</pre>\n"
      ],
      "text/plain": [
       "Rate limit exceeded. Waiting for 1 second...\n"
      ]
     },
     "metadata": {},
     "output_type": "display_data"
    },
    {
     "data": {
      "text/html": [
       "<pre style=\"white-space:pre;overflow-x:auto;line-height:normal;font-family:Menlo,'DejaVu Sans Mono',consolas,'Courier New',monospace\"></pre>\n"
      ],
      "text/plain": []
     },
     "metadata": {},
     "output_type": "display_data"
    },
    {
     "data": {
      "text/html": [
       "<pre style=\"white-space:pre;overflow-x:auto;line-height:normal;font-family:Menlo,'DejaVu Sans Mono',consolas,'Courier New',monospace\">\n",
       "</pre>\n"
      ],
      "text/plain": [
       "\n"
      ]
     },
     "metadata": {},
     "output_type": "display_data"
    },
    {
     "data": {
      "application/vnd.jupyter.widget-view+json": {
       "model_id": "df3fb4a031b8432788c0ae1a57fea96a",
       "version_major": 2,
       "version_minor": 0
      },
      "text/plain": [
       "Output()"
      ]
     },
     "metadata": {},
     "output_type": "display_data"
    },
    {
     "name": "stdout",
     "output_type": "stream",
     "text": [
      "30\n"
     ]
    },
    {
     "data": {
      "text/html": [
       "<pre style=\"white-space:pre;overflow-x:auto;line-height:normal;font-family:Menlo,'DejaVu Sans Mono',consolas,'Courier New',monospace\"></pre>\n"
      ],
      "text/plain": []
     },
     "metadata": {},
     "output_type": "display_data"
    },
    {
     "data": {
      "text/html": [
       "<pre style=\"white-space:pre;overflow-x:auto;line-height:normal;font-family:Menlo,'DejaVu Sans Mono',consolas,'Courier New',monospace\">\n",
       "</pre>\n"
      ],
      "text/plain": [
       "\n"
      ]
     },
     "metadata": {},
     "output_type": "display_data"
    },
    {
     "data": {
      "application/vnd.jupyter.widget-view+json": {
       "model_id": "cf5e5127b67347119eeef13e270af0ed",
       "version_major": 2,
       "version_minor": 0
      },
      "text/plain": [
       "Output()"
      ]
     },
     "metadata": {},
     "output_type": "display_data"
    },
    {
     "name": "stdout",
     "output_type": "stream",
     "text": [
      "31\n"
     ]
    },
    {
     "data": {
      "text/html": [
       "<pre style=\"white-space:pre;overflow-x:auto;line-height:normal;font-family:Menlo,'DejaVu Sans Mono',consolas,'Courier New',monospace\"></pre>\n"
      ],
      "text/plain": []
     },
     "metadata": {},
     "output_type": "display_data"
    },
    {
     "data": {
      "text/html": [
       "<pre style=\"white-space:pre;overflow-x:auto;line-height:normal;font-family:Menlo,'DejaVu Sans Mono',consolas,'Courier New',monospace\">\n",
       "</pre>\n"
      ],
      "text/plain": [
       "\n"
      ]
     },
     "metadata": {},
     "output_type": "display_data"
    },
    {
     "data": {
      "application/vnd.jupyter.widget-view+json": {
       "model_id": "6d29ef04bb4e40248ae757da023bb972",
       "version_major": 2,
       "version_minor": 0
      },
      "text/plain": [
       "Output()"
      ]
     },
     "metadata": {},
     "output_type": "display_data"
    },
    {
     "name": "stdout",
     "output_type": "stream",
     "text": [
      "32\n"
     ]
    },
    {
     "data": {
      "text/html": [
       "<pre style=\"white-space:pre;overflow-x:auto;line-height:normal;font-family:Menlo,'DejaVu Sans Mono',consolas,'Courier New',monospace\">Request to \n",
       "https://eutils.ncbi.nlm.nih.gov/entrez/eutils/efetch.fcgi?db=protein&amp;retmode=text&amp;rettype=genbank&amp;id=MCE5192663.1,M\n",
       "BN2098708.1,MBO6826709.1,MBE6989664.1,MBX3313655.1,WP_082077573.1,MAJ12351.1,KQT15878.1,NQW94824.1,MBW2021843.1 \n",
       "failed with status code 429\n",
       "</pre>\n"
      ],
      "text/plain": [
       "Request to \n",
       "https://eutils.ncbi.nlm.nih.gov/entrez/eutils/efetch.fcgi?db=protein&retmode=text&rettype=genbank&id=MCE5192663.1,M\n",
       "BN2098708.1,MBO6826709.1,MBE6989664.1,MBX3313655.1,WP_082077573.1,MAJ12351.1,KQT15878.1,NQW94824.1,MBW2021843.1 \n",
       "failed with status code 429\n"
      ]
     },
     "metadata": {},
     "output_type": "display_data"
    },
    {
     "data": {
      "text/html": [
       "<pre style=\"white-space:pre;overflow-x:auto;line-height:normal;font-family:Menlo,'DejaVu Sans Mono',consolas,'Courier New',monospace\">Response: {\"error\":\"API rate limit exceeded\",\"api-key\":\"145.40.68.99\",\"count\":\"4\",\"limit\":\"3\"}\n",
       "\n",
       "</pre>\n"
      ],
      "text/plain": [
       "Response: {\"error\":\"API rate limit exceeded\",\"api-key\":\"145.40.68.99\",\"count\":\"4\",\"limit\":\"3\"}\n",
       "\n"
      ]
     },
     "metadata": {},
     "output_type": "display_data"
    },
    {
     "data": {
      "text/html": [
       "<pre style=\"white-space:pre;overflow-x:auto;line-height:normal;font-family:Menlo,'DejaVu Sans Mono',consolas,'Courier New',monospace\">Rate limit exceeded. Waiting for 1 second...\n",
       "</pre>\n"
      ],
      "text/plain": [
       "Rate limit exceeded. Waiting for 1 second...\n"
      ]
     },
     "metadata": {},
     "output_type": "display_data"
    },
    {
     "data": {
      "text/html": [
       "<pre style=\"white-space:pre;overflow-x:auto;line-height:normal;font-family:Menlo,'DejaVu Sans Mono',consolas,'Courier New',monospace\"></pre>\n"
      ],
      "text/plain": []
     },
     "metadata": {},
     "output_type": "display_data"
    },
    {
     "data": {
      "text/html": [
       "<pre style=\"white-space:pre;overflow-x:auto;line-height:normal;font-family:Menlo,'DejaVu Sans Mono',consolas,'Courier New',monospace\">\n",
       "</pre>\n"
      ],
      "text/plain": [
       "\n"
      ]
     },
     "metadata": {},
     "output_type": "display_data"
    },
    {
     "data": {
      "application/vnd.jupyter.widget-view+json": {
       "model_id": "4be26d4c93b04cbfa72352aeef8b4a77",
       "version_major": 2,
       "version_minor": 0
      },
      "text/plain": [
       "Output()"
      ]
     },
     "metadata": {},
     "output_type": "display_data"
    },
    {
     "name": "stdout",
     "output_type": "stream",
     "text": [
      "33\n"
     ]
    },
    {
     "data": {
      "text/html": [
       "<pre style=\"white-space:pre;overflow-x:auto;line-height:normal;font-family:Menlo,'DejaVu Sans Mono',consolas,'Courier New',monospace\"></pre>\n"
      ],
      "text/plain": []
     },
     "metadata": {},
     "output_type": "display_data"
    },
    {
     "data": {
      "text/html": [
       "<pre style=\"white-space:pre;overflow-x:auto;line-height:normal;font-family:Menlo,'DejaVu Sans Mono',consolas,'Courier New',monospace\">\n",
       "</pre>\n"
      ],
      "text/plain": [
       "\n"
      ]
     },
     "metadata": {},
     "output_type": "display_data"
    },
    {
     "data": {
      "application/vnd.jupyter.widget-view+json": {
       "model_id": "94dafd0f28a4486298bae2c994ce79d2",
       "version_major": 2,
       "version_minor": 0
      },
      "text/plain": [
       "Output()"
      ]
     },
     "metadata": {},
     "output_type": "display_data"
    },
    {
     "name": "stdout",
     "output_type": "stream",
     "text": [
      "34\n"
     ]
    },
    {
     "data": {
      "text/html": [
       "<pre style=\"white-space:pre;overflow-x:auto;line-height:normal;font-family:Menlo,'DejaVu Sans Mono',consolas,'Courier New',monospace\">Request to \n",
       "https://eutils.ncbi.nlm.nih.gov/entrez/eutils/efetch.fcgi?db=protein&amp;retmode=text&amp;rettype=genbank&amp;id=WP_015353495.1\n",
       ",WP_106014594.1,WP_124457887.1,NDA42457.1,MCB2078931.1,MBN1534582.1,MCB9456192.1,WP_026118812.1,WP_015371658.1,NMM1\n",
       "0739.1 failed with status code 429\n",
       "</pre>\n"
      ],
      "text/plain": [
       "Request to \n",
       "https://eutils.ncbi.nlm.nih.gov/entrez/eutils/efetch.fcgi?db=protein&retmode=text&rettype=genbank&id=WP_015353495.1\n",
       ",WP_106014594.1,WP_124457887.1,NDA42457.1,MCB2078931.1,MBN1534582.1,MCB9456192.1,WP_026118812.1,WP_015371658.1,NMM1\n",
       "0739.1 failed with status code 429\n"
      ]
     },
     "metadata": {},
     "output_type": "display_data"
    },
    {
     "data": {
      "text/html": [
       "<pre style=\"white-space:pre;overflow-x:auto;line-height:normal;font-family:Menlo,'DejaVu Sans Mono',consolas,'Courier New',monospace\">Response: {\"error\":\"API rate limit exceeded\",\"api-key\":\"145.40.68.99\",\"count\":\"4\",\"limit\":\"3\"}\n",
       "\n",
       "</pre>\n"
      ],
      "text/plain": [
       "Response: {\"error\":\"API rate limit exceeded\",\"api-key\":\"145.40.68.99\",\"count\":\"4\",\"limit\":\"3\"}\n",
       "\n"
      ]
     },
     "metadata": {},
     "output_type": "display_data"
    },
    {
     "data": {
      "text/html": [
       "<pre style=\"white-space:pre;overflow-x:auto;line-height:normal;font-family:Menlo,'DejaVu Sans Mono',consolas,'Courier New',monospace\">Rate limit exceeded. Waiting for 1 second...\n",
       "</pre>\n"
      ],
      "text/plain": [
       "Rate limit exceeded. Waiting for 1 second...\n"
      ]
     },
     "metadata": {},
     "output_type": "display_data"
    },
    {
     "data": {
      "text/html": [
       "<pre style=\"white-space:pre;overflow-x:auto;line-height:normal;font-family:Menlo,'DejaVu Sans Mono',consolas,'Courier New',monospace\"></pre>\n"
      ],
      "text/plain": []
     },
     "metadata": {},
     "output_type": "display_data"
    },
    {
     "data": {
      "text/html": [
       "<pre style=\"white-space:pre;overflow-x:auto;line-height:normal;font-family:Menlo,'DejaVu Sans Mono',consolas,'Courier New',monospace\">\n",
       "</pre>\n"
      ],
      "text/plain": [
       "\n"
      ]
     },
     "metadata": {},
     "output_type": "display_data"
    },
    {
     "data": {
      "application/vnd.jupyter.widget-view+json": {
       "model_id": "706b16491a75469ca180fffff0455cee",
       "version_major": 2,
       "version_minor": 0
      },
      "text/plain": [
       "Output()"
      ]
     },
     "metadata": {},
     "output_type": "display_data"
    },
    {
     "name": "stdout",
     "output_type": "stream",
     "text": [
      "35\n"
     ]
    },
    {
     "data": {
      "text/html": [
       "<pre style=\"white-space:pre;overflow-x:auto;line-height:normal;font-family:Menlo,'DejaVu Sans Mono',consolas,'Courier New',monospace\"></pre>\n"
      ],
      "text/plain": []
     },
     "metadata": {},
     "output_type": "display_data"
    },
    {
     "data": {
      "text/html": [
       "<pre style=\"white-space:pre;overflow-x:auto;line-height:normal;font-family:Menlo,'DejaVu Sans Mono',consolas,'Courier New',monospace\">\n",
       "</pre>\n"
      ],
      "text/plain": [
       "\n"
      ]
     },
     "metadata": {},
     "output_type": "display_data"
    },
    {
     "data": {
      "application/vnd.jupyter.widget-view+json": {
       "model_id": "79c9cdf2df2f40abbb0e763c37a4516f",
       "version_major": 2,
       "version_minor": 0
      },
      "text/plain": [
       "Output()"
      ]
     },
     "metadata": {},
     "output_type": "display_data"
    },
    {
     "name": "stdout",
     "output_type": "stream",
     "text": [
      "36\n"
     ]
    },
    {
     "data": {
      "text/html": [
       "<pre style=\"white-space:pre;overflow-x:auto;line-height:normal;font-family:Menlo,'DejaVu Sans Mono',consolas,'Courier New',monospace\">Request to \n",
       "https://eutils.ncbi.nlm.nih.gov/entrez/eutils/efetch.fcgi?db=protein&amp;retmode=text&amp;rettype=genbank&amp;id=MCB0920626.1,W\n",
       "P_106393001.1,WP_107321941.1,WP_063040587.1,MCB1256066.1,WP_207042351.1,MCB1039435.1,WP_150439432.1,VDC79619.1,WP_1\n",
       "22977579.1 failed with status code 429\n",
       "</pre>\n"
      ],
      "text/plain": [
       "Request to \n",
       "https://eutils.ncbi.nlm.nih.gov/entrez/eutils/efetch.fcgi?db=protein&retmode=text&rettype=genbank&id=MCB0920626.1,W\n",
       "P_106393001.1,WP_107321941.1,WP_063040587.1,MCB1256066.1,WP_207042351.1,MCB1039435.1,WP_150439432.1,VDC79619.1,WP_1\n",
       "22977579.1 failed with status code 429\n"
      ]
     },
     "metadata": {},
     "output_type": "display_data"
    },
    {
     "data": {
      "text/html": [
       "<pre style=\"white-space:pre;overflow-x:auto;line-height:normal;font-family:Menlo,'DejaVu Sans Mono',consolas,'Courier New',monospace\">Response: {\"error\":\"API rate limit exceeded\",\"api-key\":\"145.40.68.99\",\"count\":\"4\",\"limit\":\"3\"}\n",
       "\n",
       "</pre>\n"
      ],
      "text/plain": [
       "Response: {\"error\":\"API rate limit exceeded\",\"api-key\":\"145.40.68.99\",\"count\":\"4\",\"limit\":\"3\"}\n",
       "\n"
      ]
     },
     "metadata": {},
     "output_type": "display_data"
    },
    {
     "data": {
      "text/html": [
       "<pre style=\"white-space:pre;overflow-x:auto;line-height:normal;font-family:Menlo,'DejaVu Sans Mono',consolas,'Courier New',monospace\">Rate limit exceeded. Waiting for 1 second...\n",
       "</pre>\n"
      ],
      "text/plain": [
       "Rate limit exceeded. Waiting for 1 second...\n"
      ]
     },
     "metadata": {},
     "output_type": "display_data"
    },
    {
     "data": {
      "text/html": [
       "<pre style=\"white-space:pre;overflow-x:auto;line-height:normal;font-family:Menlo,'DejaVu Sans Mono',consolas,'Courier New',monospace\"></pre>\n"
      ],
      "text/plain": []
     },
     "metadata": {},
     "output_type": "display_data"
    },
    {
     "data": {
      "text/html": [
       "<pre style=\"white-space:pre;overflow-x:auto;line-height:normal;font-family:Menlo,'DejaVu Sans Mono',consolas,'Courier New',monospace\">\n",
       "</pre>\n"
      ],
      "text/plain": [
       "\n"
      ]
     },
     "metadata": {},
     "output_type": "display_data"
    },
    {
     "data": {
      "application/vnd.jupyter.widget-view+json": {
       "model_id": "2c3aa78949b34e1eb4508221571f2408",
       "version_major": 2,
       "version_minor": 0
      },
      "text/plain": [
       "Output()"
      ]
     },
     "metadata": {},
     "output_type": "display_data"
    },
    {
     "name": "stdout",
     "output_type": "stream",
     "text": [
      "37\n"
     ]
    },
    {
     "data": {
      "text/html": [
       "<pre style=\"white-space:pre;overflow-x:auto;line-height:normal;font-family:Menlo,'DejaVu Sans Mono',consolas,'Courier New',monospace\"></pre>\n"
      ],
      "text/plain": []
     },
     "metadata": {},
     "output_type": "display_data"
    },
    {
     "data": {
      "text/html": [
       "<pre style=\"white-space:pre;overflow-x:auto;line-height:normal;font-family:Menlo,'DejaVu Sans Mono',consolas,'Courier New',monospace\">\n",
       "</pre>\n"
      ],
      "text/plain": [
       "\n"
      ]
     },
     "metadata": {},
     "output_type": "display_data"
    },
    {
     "data": {
      "application/vnd.jupyter.widget-view+json": {
       "model_id": "79a291b40c3c4a14aba910313a19a356",
       "version_major": 2,
       "version_minor": 0
      },
      "text/plain": [
       "Output()"
      ]
     },
     "metadata": {},
     "output_type": "display_data"
    },
    {
     "name": "stdout",
     "output_type": "stream",
     "text": [
      "38\n"
     ]
    },
    {
     "data": {
      "text/html": [
       "<pre style=\"white-space:pre;overflow-x:auto;line-height:normal;font-family:Menlo,'DejaVu Sans Mono',consolas,'Courier New',monospace\">Request to \n",
       "https://eutils.ncbi.nlm.nih.gov/entrez/eutils/efetch.fcgi?db=protein&amp;retmode=text&amp;rettype=genbank&amp;id=NPA91215.1,MYD\n",
       "10971.1,MBM3730989.1,WP_050623766.1,WP_040854406.1,WP_193898693.1,NCC24536.1,WP_187067678.1,WP_182942386.1,TFG53225\n",
       ".1 failed with status code 429\n",
       "</pre>\n"
      ],
      "text/plain": [
       "Request to \n",
       "https://eutils.ncbi.nlm.nih.gov/entrez/eutils/efetch.fcgi?db=protein&retmode=text&rettype=genbank&id=NPA91215.1,MYD\n",
       "10971.1,MBM3730989.1,WP_050623766.1,WP_040854406.1,WP_193898693.1,NCC24536.1,WP_187067678.1,WP_182942386.1,TFG53225\n",
       ".1 failed with status code 429\n"
      ]
     },
     "metadata": {},
     "output_type": "display_data"
    },
    {
     "data": {
      "text/html": [
       "<pre style=\"white-space:pre;overflow-x:auto;line-height:normal;font-family:Menlo,'DejaVu Sans Mono',consolas,'Courier New',monospace\">Response: {\"error\":\"API rate limit exceeded\",\"api-key\":\"145.40.68.99\",\"count\":\"4\",\"limit\":\"3\"}\n",
       "\n",
       "</pre>\n"
      ],
      "text/plain": [
       "Response: {\"error\":\"API rate limit exceeded\",\"api-key\":\"145.40.68.99\",\"count\":\"4\",\"limit\":\"3\"}\n",
       "\n"
      ]
     },
     "metadata": {},
     "output_type": "display_data"
    },
    {
     "data": {
      "text/html": [
       "<pre style=\"white-space:pre;overflow-x:auto;line-height:normal;font-family:Menlo,'DejaVu Sans Mono',consolas,'Courier New',monospace\">Rate limit exceeded. Waiting for 1 second...\n",
       "</pre>\n"
      ],
      "text/plain": [
       "Rate limit exceeded. Waiting for 1 second...\n"
      ]
     },
     "metadata": {},
     "output_type": "display_data"
    },
    {
     "data": {
      "text/html": [
       "<pre style=\"white-space:pre;overflow-x:auto;line-height:normal;font-family:Menlo,'DejaVu Sans Mono',consolas,'Courier New',monospace\">Request to \n",
       "https://eutils.ncbi.nlm.nih.gov/entrez/eutils/efetch.fcgi?db=protein&amp;retmode=text&amp;rettype=genbank&amp;id=TQN56591.1,MBK\n",
       "7161022.1,MBO9563218.1,WP_142930029.1,WP_137159565.1,WP_244619673.1,MBO6782028.1,CCD87611.1,MBV9153669.1,PSR79227.1\n",
       " failed with status code 429\n",
       "</pre>\n"
      ],
      "text/plain": [
       "Request to \n",
       "https://eutils.ncbi.nlm.nih.gov/entrez/eutils/efetch.fcgi?db=protein&retmode=text&rettype=genbank&id=TQN56591.1,MBK\n",
       "7161022.1,MBO9563218.1,WP_142930029.1,WP_137159565.1,WP_244619673.1,MBO6782028.1,CCD87611.1,MBV9153669.1,PSR79227.1\n",
       " failed with status code 429\n"
      ]
     },
     "metadata": {},
     "output_type": "display_data"
    },
    {
     "data": {
      "text/html": [
       "<pre style=\"white-space:pre;overflow-x:auto;line-height:normal;font-family:Menlo,'DejaVu Sans Mono',consolas,'Courier New',monospace\">Response: {\"error\":\"API rate limit exceeded\",\"api-key\":\"145.40.68.99\",\"count\":\"4\",\"limit\":\"3\"}\n",
       "\n",
       "</pre>\n"
      ],
      "text/plain": [
       "Response: {\"error\":\"API rate limit exceeded\",\"api-key\":\"145.40.68.99\",\"count\":\"4\",\"limit\":\"3\"}\n",
       "\n"
      ]
     },
     "metadata": {},
     "output_type": "display_data"
    },
    {
     "data": {
      "text/html": [
       "<pre style=\"white-space:pre;overflow-x:auto;line-height:normal;font-family:Menlo,'DejaVu Sans Mono',consolas,'Courier New',monospace\">Rate limit exceeded. Waiting for 1 second...\n",
       "</pre>\n"
      ],
      "text/plain": [
       "Rate limit exceeded. Waiting for 1 second...\n"
      ]
     },
     "metadata": {},
     "output_type": "display_data"
    },
    {
     "data": {
      "text/html": [
       "<pre style=\"white-space:pre;overflow-x:auto;line-height:normal;font-family:Menlo,'DejaVu Sans Mono',consolas,'Courier New',monospace\"></pre>\n"
      ],
      "text/plain": []
     },
     "metadata": {},
     "output_type": "display_data"
    },
    {
     "data": {
      "text/html": [
       "<pre style=\"white-space:pre;overflow-x:auto;line-height:normal;font-family:Menlo,'DejaVu Sans Mono',consolas,'Courier New',monospace\">\n",
       "</pre>\n"
      ],
      "text/plain": [
       "\n"
      ]
     },
     "metadata": {},
     "output_type": "display_data"
    },
    {
     "data": {
      "application/vnd.jupyter.widget-view+json": {
       "model_id": "7a8872f14a9a42bba2a7598c63759035",
       "version_major": 2,
       "version_minor": 0
      },
      "text/plain": [
       "Output()"
      ]
     },
     "metadata": {},
     "output_type": "display_data"
    },
    {
     "name": "stdout",
     "output_type": "stream",
     "text": [
      "39\n"
     ]
    },
    {
     "data": {
      "text/html": [
       "<pre style=\"white-space:pre;overflow-x:auto;line-height:normal;font-family:Menlo,'DejaVu Sans Mono',consolas,'Courier New',monospace\"></pre>\n"
      ],
      "text/plain": []
     },
     "metadata": {},
     "output_type": "display_data"
    },
    {
     "data": {
      "text/html": [
       "<pre style=\"white-space:pre;overflow-x:auto;line-height:normal;font-family:Menlo,'DejaVu Sans Mono',consolas,'Courier New',monospace\">\n",
       "</pre>\n"
      ],
      "text/plain": [
       "\n"
      ]
     },
     "metadata": {},
     "output_type": "display_data"
    },
    {
     "data": {
      "application/vnd.jupyter.widget-view+json": {
       "model_id": "6f1ca51f7caa47eca34edd7c61aeccc1",
       "version_major": 2,
       "version_minor": 0
      },
      "text/plain": [
       "Output()"
      ]
     },
     "metadata": {},
     "output_type": "display_data"
    },
    {
     "name": "stdout",
     "output_type": "stream",
     "text": [
      "40\n"
     ]
    },
    {
     "data": {
      "text/html": [
       "<pre style=\"white-space:pre;overflow-x:auto;line-height:normal;font-family:Menlo,'DejaVu Sans Mono',consolas,'Courier New',monospace\">Request to \n",
       "https://eutils.ncbi.nlm.nih.gov/entrez/eutils/efetch.fcgi?db=protein&amp;retmode=text&amp;rettype=genbank&amp;id=MBA4180657.1,M\n",
       "CU1503182.1,WP_250676929.1,WP_131217961.1,WP_222254764.1,NLG37776.1,WP_019874292.1,WP_222224304.1,MCG6879824.1,WP_1\n",
       "70013089.1 failed with status code 429\n",
       "</pre>\n"
      ],
      "text/plain": [
       "Request to \n",
       "https://eutils.ncbi.nlm.nih.gov/entrez/eutils/efetch.fcgi?db=protein&retmode=text&rettype=genbank&id=MBA4180657.1,M\n",
       "CU1503182.1,WP_250676929.1,WP_131217961.1,WP_222254764.1,NLG37776.1,WP_019874292.1,WP_222224304.1,MCG6879824.1,WP_1\n",
       "70013089.1 failed with status code 429\n"
      ]
     },
     "metadata": {},
     "output_type": "display_data"
    },
    {
     "data": {
      "text/html": [
       "<pre style=\"white-space:pre;overflow-x:auto;line-height:normal;font-family:Menlo,'DejaVu Sans Mono',consolas,'Courier New',monospace\">Response: {\"error\":\"API rate limit exceeded\",\"api-key\":\"145.40.68.99\",\"count\":\"4\",\"limit\":\"3\"}\n",
       "\n",
       "</pre>\n"
      ],
      "text/plain": [
       "Response: {\"error\":\"API rate limit exceeded\",\"api-key\":\"145.40.68.99\",\"count\":\"4\",\"limit\":\"3\"}\n",
       "\n"
      ]
     },
     "metadata": {},
     "output_type": "display_data"
    },
    {
     "data": {
      "text/html": [
       "<pre style=\"white-space:pre;overflow-x:auto;line-height:normal;font-family:Menlo,'DejaVu Sans Mono',consolas,'Courier New',monospace\">Rate limit exceeded. Waiting for 1 second...\n",
       "</pre>\n"
      ],
      "text/plain": [
       "Rate limit exceeded. Waiting for 1 second...\n"
      ]
     },
     "metadata": {},
     "output_type": "display_data"
    },
    {
     "data": {
      "text/html": [
       "<pre style=\"white-space:pre;overflow-x:auto;line-height:normal;font-family:Menlo,'DejaVu Sans Mono',consolas,'Courier New',monospace\"></pre>\n"
      ],
      "text/plain": []
     },
     "metadata": {},
     "output_type": "display_data"
    },
    {
     "data": {
      "text/html": [
       "<pre style=\"white-space:pre;overflow-x:auto;line-height:normal;font-family:Menlo,'DejaVu Sans Mono',consolas,'Courier New',monospace\">\n",
       "</pre>\n"
      ],
      "text/plain": [
       "\n"
      ]
     },
     "metadata": {},
     "output_type": "display_data"
    },
    {
     "data": {
      "application/vnd.jupyter.widget-view+json": {
       "model_id": "38603509497e4711ae899fcce52a7788",
       "version_major": 2,
       "version_minor": 0
      },
      "text/plain": [
       "Output()"
      ]
     },
     "metadata": {},
     "output_type": "display_data"
    },
    {
     "name": "stdout",
     "output_type": "stream",
     "text": [
      "41\n"
     ]
    },
    {
     "data": {
      "text/html": [
       "<pre style=\"white-space:pre;overflow-x:auto;line-height:normal;font-family:Menlo,'DejaVu Sans Mono',consolas,'Courier New',monospace\"></pre>\n"
      ],
      "text/plain": []
     },
     "metadata": {},
     "output_type": "display_data"
    },
    {
     "data": {
      "text/html": [
       "<pre style=\"white-space:pre;overflow-x:auto;line-height:normal;font-family:Menlo,'DejaVu Sans Mono',consolas,'Courier New',monospace\">\n",
       "</pre>\n"
      ],
      "text/plain": [
       "\n"
      ]
     },
     "metadata": {},
     "output_type": "display_data"
    },
    {
     "data": {
      "application/vnd.jupyter.widget-view+json": {
       "model_id": "02da65a13adc49e8a24012da847c736c",
       "version_major": 2,
       "version_minor": 0
      },
      "text/plain": [
       "Output()"
      ]
     },
     "metadata": {},
     "output_type": "display_data"
    },
    {
     "name": "stdout",
     "output_type": "stream",
     "text": [
      "42\n"
     ]
    },
    {
     "data": {
      "text/html": [
       "<pre style=\"white-space:pre;overflow-x:auto;line-height:normal;font-family:Menlo,'DejaVu Sans Mono',consolas,'Courier New',monospace\"></pre>\n"
      ],
      "text/plain": []
     },
     "metadata": {},
     "output_type": "display_data"
    },
    {
     "data": {
      "text/html": [
       "<pre style=\"white-space:pre;overflow-x:auto;line-height:normal;font-family:Menlo,'DejaVu Sans Mono',consolas,'Courier New',monospace\">\n",
       "</pre>\n"
      ],
      "text/plain": [
       "\n"
      ]
     },
     "metadata": {},
     "output_type": "display_data"
    },
    {
     "data": {
      "application/vnd.jupyter.widget-view+json": {
       "model_id": "4d54a6cac85141ca90d471dea347aac4",
       "version_major": 2,
       "version_minor": 0
      },
      "text/plain": [
       "Output()"
      ]
     },
     "metadata": {},
     "output_type": "display_data"
    },
    {
     "name": "stdout",
     "output_type": "stream",
     "text": [
      "43\n"
     ]
    },
    {
     "data": {
      "text/html": [
       "<pre style=\"white-space:pre;overflow-x:auto;line-height:normal;font-family:Menlo,'DejaVu Sans Mono',consolas,'Courier New',monospace\"></pre>\n"
      ],
      "text/plain": []
     },
     "metadata": {},
     "output_type": "display_data"
    },
    {
     "data": {
      "text/html": [
       "<pre style=\"white-space:pre;overflow-x:auto;line-height:normal;font-family:Menlo,'DejaVu Sans Mono',consolas,'Courier New',monospace\">\n",
       "</pre>\n"
      ],
      "text/plain": [
       "\n"
      ]
     },
     "metadata": {},
     "output_type": "display_data"
    },
    {
     "data": {
      "application/vnd.jupyter.widget-view+json": {
       "model_id": "7944458436c346b29db98658da3abdbe",
       "version_major": 2,
       "version_minor": 0
      },
      "text/plain": [
       "Output()"
      ]
     },
     "metadata": {},
     "output_type": "display_data"
    },
    {
     "name": "stdout",
     "output_type": "stream",
     "text": [
      "44\n"
     ]
    },
    {
     "data": {
      "text/html": [
       "<pre style=\"white-space:pre;overflow-x:auto;line-height:normal;font-family:Menlo,'DejaVu Sans Mono',consolas,'Courier New',monospace\"></pre>\n"
      ],
      "text/plain": []
     },
     "metadata": {},
     "output_type": "display_data"
    },
    {
     "data": {
      "text/html": [
       "<pre style=\"white-space:pre;overflow-x:auto;line-height:normal;font-family:Menlo,'DejaVu Sans Mono',consolas,'Courier New',monospace\">\n",
       "</pre>\n"
      ],
      "text/plain": [
       "\n"
      ]
     },
     "metadata": {},
     "output_type": "display_data"
    },
    {
     "data": {
      "application/vnd.jupyter.widget-view+json": {
       "model_id": "5a8c0ed2bdd44243a3c8b624789c24e6",
       "version_major": 2,
       "version_minor": 0
      },
      "text/plain": [
       "Output()"
      ]
     },
     "metadata": {},
     "output_type": "display_data"
    },
    {
     "name": "stdout",
     "output_type": "stream",
     "text": [
      "45\n"
     ]
    },
    {
     "data": {
      "text/html": [
       "<pre style=\"white-space:pre;overflow-x:auto;line-height:normal;font-family:Menlo,'DejaVu Sans Mono',consolas,'Courier New',monospace\">Response: {\"error\":\"API rate limit exceeded\",\"api-key\":\"145.40.68.99\",\"count\":\"4\",\"limit\":\"3\"}\n",
       "\n",
       "</pre>\n"
      ],
      "text/plain": [
       "Response: {\"error\":\"API rate limit exceeded\",\"api-key\":\"145.40.68.99\",\"count\":\"4\",\"limit\":\"3\"}\n",
       "\n"
      ]
     },
     "metadata": {},
     "output_type": "display_data"
    },
    {
     "data": {
      "text/html": [
       "<pre style=\"white-space:pre;overflow-x:auto;line-height:normal;font-family:Menlo,'DejaVu Sans Mono',consolas,'Courier New',monospace\">Rate limit exceeded. Waiting for 1 second...\n",
       "</pre>\n"
      ],
      "text/plain": [
       "Rate limit exceeded. Waiting for 1 second...\n"
      ]
     },
     "metadata": {},
     "output_type": "display_data"
    },
    {
     "data": {
      "text/html": [
       "<pre style=\"white-space:pre;overflow-x:auto;line-height:normal;font-family:Menlo,'DejaVu Sans Mono',consolas,'Courier New',monospace\">Request to \n",
       "https://eutils.ncbi.nlm.nih.gov/entrez/eutils/efetch.fcgi?db=protein&amp;retmode=text&amp;rettype=genbank&amp;id=MBJ7288477.1,M\n",
       "BM4439416.1,MBE0613409.1,MBG0831528.1,WP_235214308.1,WP_067693736.1,MBY8987292.1,HAC46575.1,WP_207200159.1,WP_10405\n",
       "1391.1 failed with status code 429\n",
       "</pre>\n"
      ],
      "text/plain": [
       "Request to \n",
       "https://eutils.ncbi.nlm.nih.gov/entrez/eutils/efetch.fcgi?db=protein&retmode=text&rettype=genbank&id=MBJ7288477.1,M\n",
       "BM4439416.1,MBE0613409.1,MBG0831528.1,WP_235214308.1,WP_067693736.1,MBY8987292.1,HAC46575.1,WP_207200159.1,WP_10405\n",
       "1391.1 failed with status code 429\n"
      ]
     },
     "metadata": {},
     "output_type": "display_data"
    },
    {
     "data": {
      "text/html": [
       "<pre style=\"white-space:pre;overflow-x:auto;line-height:normal;font-family:Menlo,'DejaVu Sans Mono',consolas,'Courier New',monospace\">Response: {\"error\":\"API rate limit exceeded\",\"api-key\":\"145.40.68.99\",\"count\":\"4\",\"limit\":\"3\"}\n",
       "\n",
       "</pre>\n"
      ],
      "text/plain": [
       "Response: {\"error\":\"API rate limit exceeded\",\"api-key\":\"145.40.68.99\",\"count\":\"4\",\"limit\":\"3\"}\n",
       "\n"
      ]
     },
     "metadata": {},
     "output_type": "display_data"
    },
    {
     "data": {
      "text/html": [
       "<pre style=\"white-space:pre;overflow-x:auto;line-height:normal;font-family:Menlo,'DejaVu Sans Mono',consolas,'Courier New',monospace\">Rate limit exceeded. Waiting for 1 second...\n",
       "</pre>\n"
      ],
      "text/plain": [
       "Rate limit exceeded. Waiting for 1 second...\n"
      ]
     },
     "metadata": {},
     "output_type": "display_data"
    },
    {
     "data": {
      "text/html": [
       "<pre style=\"white-space:pre;overflow-x:auto;line-height:normal;font-family:Menlo,'DejaVu Sans Mono',consolas,'Courier New',monospace\"></pre>\n"
      ],
      "text/plain": []
     },
     "metadata": {},
     "output_type": "display_data"
    },
    {
     "data": {
      "text/html": [
       "<pre style=\"white-space:pre;overflow-x:auto;line-height:normal;font-family:Menlo,'DejaVu Sans Mono',consolas,'Courier New',monospace\">\n",
       "</pre>\n"
      ],
      "text/plain": [
       "\n"
      ]
     },
     "metadata": {},
     "output_type": "display_data"
    },
    {
     "data": {
      "application/vnd.jupyter.widget-view+json": {
       "model_id": "0713a9dafb364b41b902d36ad4563dc8",
       "version_major": 2,
       "version_minor": 0
      },
      "text/plain": [
       "Output()"
      ]
     },
     "metadata": {},
     "output_type": "display_data"
    },
    {
     "name": "stdout",
     "output_type": "stream",
     "text": [
      "46\n"
     ]
    },
    {
     "data": {
      "text/html": [
       "<pre style=\"white-space:pre;overflow-x:auto;line-height:normal;font-family:Menlo,'DejaVu Sans Mono',consolas,'Courier New',monospace\"></pre>\n"
      ],
      "text/plain": []
     },
     "metadata": {},
     "output_type": "display_data"
    },
    {
     "data": {
      "text/html": [
       "<pre style=\"white-space:pre;overflow-x:auto;line-height:normal;font-family:Menlo,'DejaVu Sans Mono',consolas,'Courier New',monospace\">\n",
       "</pre>\n"
      ],
      "text/plain": [
       "\n"
      ]
     },
     "metadata": {},
     "output_type": "display_data"
    },
    {
     "data": {
      "application/vnd.jupyter.widget-view+json": {
       "model_id": "3adcdc0ca5e245b28d2a42883a9cde79",
       "version_major": 2,
       "version_minor": 0
      },
      "text/plain": [
       "Output()"
      ]
     },
     "metadata": {},
     "output_type": "display_data"
    },
    {
     "name": "stdout",
     "output_type": "stream",
     "text": [
      "47\n"
     ]
    },
    {
     "data": {
      "text/html": [
       "<pre style=\"white-space:pre;overflow-x:auto;line-height:normal;font-family:Menlo,'DejaVu Sans Mono',consolas,'Courier New',monospace\"></pre>\n"
      ],
      "text/plain": []
     },
     "metadata": {},
     "output_type": "display_data"
    },
    {
     "data": {
      "text/html": [
       "<pre style=\"white-space:pre;overflow-x:auto;line-height:normal;font-family:Menlo,'DejaVu Sans Mono',consolas,'Courier New',monospace\">\n",
       "</pre>\n"
      ],
      "text/plain": [
       "\n"
      ]
     },
     "metadata": {},
     "output_type": "display_data"
    },
    {
     "data": {
      "application/vnd.jupyter.widget-view+json": {
       "model_id": "59a90e3024a748f0a9bf6a92674850da",
       "version_major": 2,
       "version_minor": 0
      },
      "text/plain": [
       "Output()"
      ]
     },
     "metadata": {},
     "output_type": "display_data"
    },
    {
     "name": "stdout",
     "output_type": "stream",
     "text": [
      "48\n"
     ]
    },
    {
     "data": {
      "text/html": [
       "<pre style=\"white-space:pre;overflow-x:auto;line-height:normal;font-family:Menlo,'DejaVu Sans Mono',consolas,'Courier New',monospace\"></pre>\n"
      ],
      "text/plain": []
     },
     "metadata": {},
     "output_type": "display_data"
    },
    {
     "data": {
      "text/html": [
       "<pre style=\"white-space:pre;overflow-x:auto;line-height:normal;font-family:Menlo,'DejaVu Sans Mono',consolas,'Courier New',monospace\">\n",
       "</pre>\n"
      ],
      "text/plain": [
       "\n"
      ]
     },
     "metadata": {},
     "output_type": "display_data"
    },
    {
     "data": {
      "application/vnd.jupyter.widget-view+json": {
       "model_id": "adc8a3d7fc3d41b887a65447cf938c9b",
       "version_major": 2,
       "version_minor": 0
      },
      "text/plain": [
       "Output()"
      ]
     },
     "metadata": {},
     "output_type": "display_data"
    },
    {
     "name": "stdout",
     "output_type": "stream",
     "text": [
      "49\n"
     ]
    },
    {
     "data": {
      "text/html": [
       "<pre style=\"white-space:pre;overflow-x:auto;line-height:normal;font-family:Menlo,'DejaVu Sans Mono',consolas,'Courier New',monospace\"></pre>\n"
      ],
      "text/plain": []
     },
     "metadata": {},
     "output_type": "display_data"
    },
    {
     "data": {
      "text/html": [
       "<pre style=\"white-space:pre;overflow-x:auto;line-height:normal;font-family:Menlo,'DejaVu Sans Mono',consolas,'Courier New',monospace\">\n",
       "</pre>\n"
      ],
      "text/plain": [
       "\n"
      ]
     },
     "metadata": {},
     "output_type": "display_data"
    },
    {
     "data": {
      "application/vnd.jupyter.widget-view+json": {
       "model_id": "a8eff0a30ac947a0ac2745914ba24008",
       "version_major": 2,
       "version_minor": 0
      },
      "text/plain": [
       "Output()"
      ]
     },
     "metadata": {},
     "output_type": "display_data"
    },
    {
     "name": "stdout",
     "output_type": "stream",
     "text": [
      "50\n"
     ]
    },
    {
     "data": {
      "text/html": [
       "<pre style=\"white-space:pre;overflow-x:auto;line-height:normal;font-family:Menlo,'DejaVu Sans Mono',consolas,'Courier New',monospace\">Request to \n",
       "https://eutils.ncbi.nlm.nih.gov/entrez/eutils/efetch.fcgi?db=protein&amp;retmode=text&amp;rettype=genbank&amp;id=WP_235566573.1\n",
       ",MBK7397986.1,MBM4264365.1,MCE2817441.1,KAI9806263.1,MCA0339542.1,WP_231026543.1,WP_193044730.1,WP_169589780.1,MBO8\n",
       "182804.1 failed with status code 429\n",
       "</pre>\n"
      ],
      "text/plain": [
       "Request to \n",
       "https://eutils.ncbi.nlm.nih.gov/entrez/eutils/efetch.fcgi?db=protein&retmode=text&rettype=genbank&id=WP_235566573.1\n",
       ",MBK7397986.1,MBM4264365.1,MCE2817441.1,KAI9806263.1,MCA0339542.1,WP_231026543.1,WP_193044730.1,WP_169589780.1,MBO8\n",
       "182804.1 failed with status code 429\n"
      ]
     },
     "metadata": {},
     "output_type": "display_data"
    },
    {
     "data": {
      "text/html": [
       "<pre style=\"white-space:pre;overflow-x:auto;line-height:normal;font-family:Menlo,'DejaVu Sans Mono',consolas,'Courier New',monospace\">Response: {\"error\":\"API rate limit exceeded\",\"api-key\":\"145.40.68.99\",\"count\":\"4\",\"limit\":\"3\"}\n",
       "\n",
       "</pre>\n"
      ],
      "text/plain": [
       "Response: {\"error\":\"API rate limit exceeded\",\"api-key\":\"145.40.68.99\",\"count\":\"4\",\"limit\":\"3\"}\n",
       "\n"
      ]
     },
     "metadata": {},
     "output_type": "display_data"
    },
    {
     "data": {
      "text/html": [
       "<pre style=\"white-space:pre;overflow-x:auto;line-height:normal;font-family:Menlo,'DejaVu Sans Mono',consolas,'Courier New',monospace\">Rate limit exceeded. Waiting for 1 second...\n",
       "</pre>\n"
      ],
      "text/plain": [
       "Rate limit exceeded. Waiting for 1 second...\n"
      ]
     },
     "metadata": {},
     "output_type": "display_data"
    },
    {
     "data": {
      "text/html": [
       "<pre style=\"white-space:pre;overflow-x:auto;line-height:normal;font-family:Menlo,'DejaVu Sans Mono',consolas,'Courier New',monospace\"></pre>\n"
      ],
      "text/plain": []
     },
     "metadata": {},
     "output_type": "display_data"
    },
    {
     "data": {
      "text/html": [
       "<pre style=\"white-space:pre;overflow-x:auto;line-height:normal;font-family:Menlo,'DejaVu Sans Mono',consolas,'Courier New',monospace\">\n",
       "</pre>\n"
      ],
      "text/plain": [
       "\n"
      ]
     },
     "metadata": {},
     "output_type": "display_data"
    },
    {
     "data": {
      "application/vnd.jupyter.widget-view+json": {
       "model_id": "720f9f21e6374a64a2dd3a75874ec13a",
       "version_major": 2,
       "version_minor": 0
      },
      "text/plain": [
       "Output()"
      ]
     },
     "metadata": {},
     "output_type": "display_data"
    },
    {
     "name": "stdout",
     "output_type": "stream",
     "text": [
      "51\n"
     ]
    },
    {
     "data": {
      "text/html": [
       "<pre style=\"white-space:pre;overflow-x:auto;line-height:normal;font-family:Menlo,'DejaVu Sans Mono',consolas,'Courier New',monospace\"></pre>\n"
      ],
      "text/plain": []
     },
     "metadata": {},
     "output_type": "display_data"
    },
    {
     "data": {
      "text/html": [
       "<pre style=\"white-space:pre;overflow-x:auto;line-height:normal;font-family:Menlo,'DejaVu Sans Mono',consolas,'Courier New',monospace\">\n",
       "</pre>\n"
      ],
      "text/plain": [
       "\n"
      ]
     },
     "metadata": {},
     "output_type": "display_data"
    },
    {
     "data": {
      "application/vnd.jupyter.widget-view+json": {
       "model_id": "be8149e333004d8a83096229cce55bf3",
       "version_major": 2,
       "version_minor": 0
      },
      "text/plain": [
       "Output()"
      ]
     },
     "metadata": {},
     "output_type": "display_data"
    },
    {
     "name": "stdout",
     "output_type": "stream",
     "text": [
      "52\n"
     ]
    },
    {
     "data": {
      "text/html": [
       "<pre style=\"white-space:pre;overflow-x:auto;line-height:normal;font-family:Menlo,'DejaVu Sans Mono',consolas,'Courier New',monospace\"></pre>\n"
      ],
      "text/plain": []
     },
     "metadata": {},
     "output_type": "display_data"
    },
    {
     "data": {
      "text/html": [
       "<pre style=\"white-space:pre;overflow-x:auto;line-height:normal;font-family:Menlo,'DejaVu Sans Mono',consolas,'Courier New',monospace\">\n",
       "</pre>\n"
      ],
      "text/plain": [
       "\n"
      ]
     },
     "metadata": {},
     "output_type": "display_data"
    },
    {
     "data": {
      "application/vnd.jupyter.widget-view+json": {
       "model_id": "9b2255435595445f9e56d4c40f7747a2",
       "version_major": 2,
       "version_minor": 0
      },
      "text/plain": [
       "Output()"
      ]
     },
     "metadata": {},
     "output_type": "display_data"
    },
    {
     "name": "stdout",
     "output_type": "stream",
     "text": [
      "53\n"
     ]
    },
    {
     "data": {
      "text/html": [
       "<pre style=\"white-space:pre;overflow-x:auto;line-height:normal;font-family:Menlo,'DejaVu Sans Mono',consolas,'Courier New',monospace\"></pre>\n"
      ],
      "text/plain": []
     },
     "metadata": {},
     "output_type": "display_data"
    },
    {
     "data": {
      "text/html": [
       "<pre style=\"white-space:pre;overflow-x:auto;line-height:normal;font-family:Menlo,'DejaVu Sans Mono',consolas,'Courier New',monospace\">\n",
       "</pre>\n"
      ],
      "text/plain": [
       "\n"
      ]
     },
     "metadata": {},
     "output_type": "display_data"
    },
    {
     "data": {
      "application/vnd.jupyter.widget-view+json": {
       "model_id": "322b74a545d94ae3a500aa221199eddd",
       "version_major": 2,
       "version_minor": 0
      },
      "text/plain": [
       "Output()"
      ]
     },
     "metadata": {},
     "output_type": "display_data"
    },
    {
     "name": "stdout",
     "output_type": "stream",
     "text": [
      "54\n"
     ]
    },
    {
     "data": {
      "text/html": [
       "<pre style=\"white-space:pre;overflow-x:auto;line-height:normal;font-family:Menlo,'DejaVu Sans Mono',consolas,'Courier New',monospace\"></pre>\n"
      ],
      "text/plain": []
     },
     "metadata": {},
     "output_type": "display_data"
    },
    {
     "data": {
      "text/html": [
       "<pre style=\"white-space:pre;overflow-x:auto;line-height:normal;font-family:Menlo,'DejaVu Sans Mono',consolas,'Courier New',monospace\">\n",
       "</pre>\n"
      ],
      "text/plain": [
       "\n"
      ]
     },
     "metadata": {},
     "output_type": "display_data"
    },
    {
     "data": {
      "application/vnd.jupyter.widget-view+json": {
       "model_id": "ec85820391db4b099f01d1df51811afa",
       "version_major": 2,
       "version_minor": 0
      },
      "text/plain": [
       "Output()"
      ]
     },
     "metadata": {},
     "output_type": "display_data"
    },
    {
     "name": "stdout",
     "output_type": "stream",
     "text": [
      "55\n"
     ]
    },
    {
     "data": {
      "text/html": [
       "<pre style=\"white-space:pre;overflow-x:auto;line-height:normal;font-family:Menlo,'DejaVu Sans Mono',consolas,'Courier New',monospace\"></pre>\n"
      ],
      "text/plain": []
     },
     "metadata": {},
     "output_type": "display_data"
    },
    {
     "data": {
      "text/html": [
       "<pre style=\"white-space:pre;overflow-x:auto;line-height:normal;font-family:Menlo,'DejaVu Sans Mono',consolas,'Courier New',monospace\">\n",
       "</pre>\n"
      ],
      "text/plain": [
       "\n"
      ]
     },
     "metadata": {},
     "output_type": "display_data"
    },
    {
     "data": {
      "application/vnd.jupyter.widget-view+json": {
       "model_id": "a4ca30e479a445ea96328e19cfc723a2",
       "version_major": 2,
       "version_minor": 0
      },
      "text/plain": [
       "Output()"
      ]
     },
     "metadata": {},
     "output_type": "display_data"
    },
    {
     "name": "stdout",
     "output_type": "stream",
     "text": [
      "56\n"
     ]
    },
    {
     "data": {
      "text/html": [
       "<pre style=\"white-space:pre;overflow-x:auto;line-height:normal;font-family:Menlo,'DejaVu Sans Mono',consolas,'Courier New',monospace\"></pre>\n"
      ],
      "text/plain": []
     },
     "metadata": {},
     "output_type": "display_data"
    },
    {
     "data": {
      "text/html": [
       "<pre style=\"white-space:pre;overflow-x:auto;line-height:normal;font-family:Menlo,'DejaVu Sans Mono',consolas,'Courier New',monospace\">\n",
       "</pre>\n"
      ],
      "text/plain": [
       "\n"
      ]
     },
     "metadata": {},
     "output_type": "display_data"
    },
    {
     "data": {
      "application/vnd.jupyter.widget-view+json": {
       "model_id": "f8fa02ded25e401c86dc725bde989c96",
       "version_major": 2,
       "version_minor": 0
      },
      "text/plain": [
       "Output()"
      ]
     },
     "metadata": {},
     "output_type": "display_data"
    },
    {
     "name": "stdout",
     "output_type": "stream",
     "text": [
      "57\n"
     ]
    },
    {
     "data": {
      "text/html": [
       "<pre style=\"white-space:pre;overflow-x:auto;line-height:normal;font-family:Menlo,'DejaVu Sans Mono',consolas,'Courier New',monospace\"></pre>\n"
      ],
      "text/plain": []
     },
     "metadata": {},
     "output_type": "display_data"
    },
    {
     "data": {
      "text/html": [
       "<pre style=\"white-space:pre;overflow-x:auto;line-height:normal;font-family:Menlo,'DejaVu Sans Mono',consolas,'Courier New',monospace\">\n",
       "</pre>\n"
      ],
      "text/plain": [
       "\n"
      ]
     },
     "metadata": {},
     "output_type": "display_data"
    },
    {
     "data": {
      "application/vnd.jupyter.widget-view+json": {
       "model_id": "222f0df8255f4c02803cff61f80a976d",
       "version_major": 2,
       "version_minor": 0
      },
      "text/plain": [
       "Output()"
      ]
     },
     "metadata": {},
     "output_type": "display_data"
    },
    {
     "name": "stdout",
     "output_type": "stream",
     "text": [
      "58\n"
     ]
    },
    {
     "data": {
      "text/html": [
       "<pre style=\"white-space:pre;overflow-x:auto;line-height:normal;font-family:Menlo,'DejaVu Sans Mono',consolas,'Courier New',monospace\"></pre>\n"
      ],
      "text/plain": []
     },
     "metadata": {},
     "output_type": "display_data"
    },
    {
     "data": {
      "text/html": [
       "<pre style=\"white-space:pre;overflow-x:auto;line-height:normal;font-family:Menlo,'DejaVu Sans Mono',consolas,'Courier New',monospace\">\n",
       "</pre>\n"
      ],
      "text/plain": [
       "\n"
      ]
     },
     "metadata": {},
     "output_type": "display_data"
    },
    {
     "data": {
      "application/vnd.jupyter.widget-view+json": {
       "model_id": "58c782a89bd842c5ac9be78799e5cbf9",
       "version_major": 2,
       "version_minor": 0
      },
      "text/plain": [
       "Output()"
      ]
     },
     "metadata": {},
     "output_type": "display_data"
    },
    {
     "name": "stdout",
     "output_type": "stream",
     "text": [
      "59\n"
     ]
    },
    {
     "data": {
      "text/html": [
       "<pre style=\"white-space:pre;overflow-x:auto;line-height:normal;font-family:Menlo,'DejaVu Sans Mono',consolas,'Courier New',monospace\"></pre>\n"
      ],
      "text/plain": []
     },
     "metadata": {},
     "output_type": "display_data"
    },
    {
     "data": {
      "text/html": [
       "<pre style=\"white-space:pre;overflow-x:auto;line-height:normal;font-family:Menlo,'DejaVu Sans Mono',consolas,'Courier New',monospace\">\n",
       "</pre>\n"
      ],
      "text/plain": [
       "\n"
      ]
     },
     "metadata": {},
     "output_type": "display_data"
    },
    {
     "data": {
      "application/vnd.jupyter.widget-view+json": {
       "model_id": "6c4969a591524a4f8a5f11eec803c301",
       "version_major": 2,
       "version_minor": 0
      },
      "text/plain": [
       "Output()"
      ]
     },
     "metadata": {},
     "output_type": "display_data"
    },
    {
     "name": "stdout",
     "output_type": "stream",
     "text": [
      "60\n"
     ]
    },
    {
     "data": {
      "text/html": [
       "<pre style=\"white-space:pre;overflow-x:auto;line-height:normal;font-family:Menlo,'DejaVu Sans Mono',consolas,'Courier New',monospace\"></pre>\n"
      ],
      "text/plain": []
     },
     "metadata": {},
     "output_type": "display_data"
    },
    {
     "data": {
      "text/html": [
       "<pre style=\"white-space:pre;overflow-x:auto;line-height:normal;font-family:Menlo,'DejaVu Sans Mono',consolas,'Courier New',monospace\">\n",
       "</pre>\n"
      ],
      "text/plain": [
       "\n"
      ]
     },
     "metadata": {},
     "output_type": "display_data"
    },
    {
     "data": {
      "application/vnd.jupyter.widget-view+json": {
       "model_id": "8c1c2920d380454ca63e6f60aef29bc8",
       "version_major": 2,
       "version_minor": 0
      },
      "text/plain": [
       "Output()"
      ]
     },
     "metadata": {},
     "output_type": "display_data"
    },
    {
     "name": "stdout",
     "output_type": "stream",
     "text": [
      "61\n"
     ]
    },
    {
     "data": {
      "text/html": [
       "<pre style=\"white-space:pre;overflow-x:auto;line-height:normal;font-family:Menlo,'DejaVu Sans Mono',consolas,'Courier New',monospace\"></pre>\n"
      ],
      "text/plain": []
     },
     "metadata": {},
     "output_type": "display_data"
    },
    {
     "data": {
      "text/html": [
       "<pre style=\"white-space:pre;overflow-x:auto;line-height:normal;font-family:Menlo,'DejaVu Sans Mono',consolas,'Courier New',monospace\">\n",
       "</pre>\n"
      ],
      "text/plain": [
       "\n"
      ]
     },
     "metadata": {},
     "output_type": "display_data"
    },
    {
     "data": {
      "application/vnd.jupyter.widget-view+json": {
       "model_id": "67019e67749240b8a75e37e418918e2c",
       "version_major": 2,
       "version_minor": 0
      },
      "text/plain": [
       "Output()"
      ]
     },
     "metadata": {},
     "output_type": "display_data"
    },
    {
     "name": "stdout",
     "output_type": "stream",
     "text": [
      "62\n"
     ]
    },
    {
     "data": {
      "text/html": [
       "<pre style=\"white-space:pre;overflow-x:auto;line-height:normal;font-family:Menlo,'DejaVu Sans Mono',consolas,'Courier New',monospace\"></pre>\n"
      ],
      "text/plain": []
     },
     "metadata": {},
     "output_type": "display_data"
    },
    {
     "data": {
      "text/html": [
       "<pre style=\"white-space:pre;overflow-x:auto;line-height:normal;font-family:Menlo,'DejaVu Sans Mono',consolas,'Courier New',monospace\">\n",
       "</pre>\n"
      ],
      "text/plain": [
       "\n"
      ]
     },
     "metadata": {},
     "output_type": "display_data"
    },
    {
     "data": {
      "application/vnd.jupyter.widget-view+json": {
       "model_id": "db4695518d494febb9813ad3823cc956",
       "version_major": 2,
       "version_minor": 0
      },
      "text/plain": [
       "Output()"
      ]
     },
     "metadata": {},
     "output_type": "display_data"
    },
    {
     "name": "stdout",
     "output_type": "stream",
     "text": [
      "63\n"
     ]
    },
    {
     "data": {
      "text/html": [
       "<pre style=\"white-space:pre;overflow-x:auto;line-height:normal;font-family:Menlo,'DejaVu Sans Mono',consolas,'Courier New',monospace\"></pre>\n"
      ],
      "text/plain": []
     },
     "metadata": {},
     "output_type": "display_data"
    },
    {
     "data": {
      "text/html": [
       "<pre style=\"white-space:pre;overflow-x:auto;line-height:normal;font-family:Menlo,'DejaVu Sans Mono',consolas,'Courier New',monospace\">\n",
       "</pre>\n"
      ],
      "text/plain": [
       "\n"
      ]
     },
     "metadata": {},
     "output_type": "display_data"
    },
    {
     "data": {
      "application/vnd.jupyter.widget-view+json": {
       "model_id": "1c579f8db1da47168f13d3e0a5128449",
       "version_major": 2,
       "version_minor": 0
      },
      "text/plain": [
       "Output()"
      ]
     },
     "metadata": {},
     "output_type": "display_data"
    },
    {
     "name": "stdout",
     "output_type": "stream",
     "text": [
      "64\n"
     ]
    },
    {
     "data": {
      "text/html": [
       "<pre style=\"white-space:pre;overflow-x:auto;line-height:normal;font-family:Menlo,'DejaVu Sans Mono',consolas,'Courier New',monospace\"></pre>\n"
      ],
      "text/plain": []
     },
     "metadata": {},
     "output_type": "display_data"
    },
    {
     "data": {
      "text/html": [
       "<pre style=\"white-space:pre;overflow-x:auto;line-height:normal;font-family:Menlo,'DejaVu Sans Mono',consolas,'Courier New',monospace\">\n",
       "</pre>\n"
      ],
      "text/plain": [
       "\n"
      ]
     },
     "metadata": {},
     "output_type": "display_data"
    },
    {
     "data": {
      "application/vnd.jupyter.widget-view+json": {
       "model_id": "7860799658ab4967904088cf836df16c",
       "version_major": 2,
       "version_minor": 0
      },
      "text/plain": [
       "Output()"
      ]
     },
     "metadata": {},
     "output_type": "display_data"
    },
    {
     "name": "stdout",
     "output_type": "stream",
     "text": [
      "65\n"
     ]
    },
    {
     "data": {
      "text/html": [
       "<pre style=\"white-space:pre;overflow-x:auto;line-height:normal;font-family:Menlo,'DejaVu Sans Mono',consolas,'Courier New',monospace\"></pre>\n"
      ],
      "text/plain": []
     },
     "metadata": {},
     "output_type": "display_data"
    },
    {
     "data": {
      "text/html": [
       "<pre style=\"white-space:pre;overflow-x:auto;line-height:normal;font-family:Menlo,'DejaVu Sans Mono',consolas,'Courier New',monospace\">\n",
       "</pre>\n"
      ],
      "text/plain": [
       "\n"
      ]
     },
     "metadata": {},
     "output_type": "display_data"
    },
    {
     "data": {
      "application/vnd.jupyter.widget-view+json": {
       "model_id": "106c546a14b143ce8417de555f541bd6",
       "version_major": 2,
       "version_minor": 0
      },
      "text/plain": [
       "Output()"
      ]
     },
     "metadata": {},
     "output_type": "display_data"
    },
    {
     "name": "stdout",
     "output_type": "stream",
     "text": [
      "66\n"
     ]
    },
    {
     "data": {
      "text/html": [
       "<pre style=\"white-space:pre;overflow-x:auto;line-height:normal;font-family:Menlo,'DejaVu Sans Mono',consolas,'Courier New',monospace\"></pre>\n"
      ],
      "text/plain": []
     },
     "metadata": {},
     "output_type": "display_data"
    },
    {
     "data": {
      "text/html": [
       "<pre style=\"white-space:pre;overflow-x:auto;line-height:normal;font-family:Menlo,'DejaVu Sans Mono',consolas,'Courier New',monospace\">\n",
       "</pre>\n"
      ],
      "text/plain": [
       "\n"
      ]
     },
     "metadata": {},
     "output_type": "display_data"
    },
    {
     "data": {
      "application/vnd.jupyter.widget-view+json": {
       "model_id": "2070fb22b6714e3abb3378f2ef05ccc6",
       "version_major": 2,
       "version_minor": 0
      },
      "text/plain": [
       "Output()"
      ]
     },
     "metadata": {},
     "output_type": "display_data"
    },
    {
     "name": "stdout",
     "output_type": "stream",
     "text": [
      "67\n"
     ]
    },
    {
     "data": {
      "text/html": [
       "<pre style=\"white-space:pre;overflow-x:auto;line-height:normal;font-family:Menlo,'DejaVu Sans Mono',consolas,'Courier New',monospace\"></pre>\n"
      ],
      "text/plain": []
     },
     "metadata": {},
     "output_type": "display_data"
    },
    {
     "data": {
      "text/html": [
       "<pre style=\"white-space:pre;overflow-x:auto;line-height:normal;font-family:Menlo,'DejaVu Sans Mono',consolas,'Courier New',monospace\">\n",
       "</pre>\n"
      ],
      "text/plain": [
       "\n"
      ]
     },
     "metadata": {},
     "output_type": "display_data"
    },
    {
     "data": {
      "application/vnd.jupyter.widget-view+json": {
       "model_id": "6e119bce3c6040acb6855f6925d34bec",
       "version_major": 2,
       "version_minor": 0
      },
      "text/plain": [
       "Output()"
      ]
     },
     "metadata": {},
     "output_type": "display_data"
    },
    {
     "name": "stdout",
     "output_type": "stream",
     "text": [
      "68\n"
     ]
    },
    {
     "data": {
      "text/html": [
       "<pre style=\"white-space:pre;overflow-x:auto;line-height:normal;font-family:Menlo,'DejaVu Sans Mono',consolas,'Courier New',monospace\"></pre>\n"
      ],
      "text/plain": []
     },
     "metadata": {},
     "output_type": "display_data"
    },
    {
     "data": {
      "text/html": [
       "<pre style=\"white-space:pre;overflow-x:auto;line-height:normal;font-family:Menlo,'DejaVu Sans Mono',consolas,'Courier New',monospace\">\n",
       "</pre>\n"
      ],
      "text/plain": [
       "\n"
      ]
     },
     "metadata": {},
     "output_type": "display_data"
    },
    {
     "data": {
      "application/vnd.jupyter.widget-view+json": {
       "model_id": "68525ee4b47d4553bd2188801aebe7eb",
       "version_major": 2,
       "version_minor": 0
      },
      "text/plain": [
       "Output()"
      ]
     },
     "metadata": {},
     "output_type": "display_data"
    },
    {
     "name": "stdout",
     "output_type": "stream",
     "text": [
      "69\n"
     ]
    },
    {
     "data": {
      "text/html": [
       "<pre style=\"white-space:pre;overflow-x:auto;line-height:normal;font-family:Menlo,'DejaVu Sans Mono',consolas,'Courier New',monospace\"></pre>\n"
      ],
      "text/plain": []
     },
     "metadata": {},
     "output_type": "display_data"
    },
    {
     "data": {
      "text/html": [
       "<pre style=\"white-space:pre;overflow-x:auto;line-height:normal;font-family:Menlo,'DejaVu Sans Mono',consolas,'Courier New',monospace\">\n",
       "</pre>\n"
      ],
      "text/plain": [
       "\n"
      ]
     },
     "metadata": {},
     "output_type": "display_data"
    },
    {
     "data": {
      "application/vnd.jupyter.widget-view+json": {
       "model_id": "c33fa44da9984ffb96b4899c483f2540",
       "version_major": 2,
       "version_minor": 0
      },
      "text/plain": [
       "Output()"
      ]
     },
     "metadata": {},
     "output_type": "display_data"
    },
    {
     "name": "stdout",
     "output_type": "stream",
     "text": [
      "70\n"
     ]
    },
    {
     "data": {
      "text/html": [
       "<pre style=\"white-space:pre;overflow-x:auto;line-height:normal;font-family:Menlo,'DejaVu Sans Mono',consolas,'Courier New',monospace\"></pre>\n"
      ],
      "text/plain": []
     },
     "metadata": {},
     "output_type": "display_data"
    },
    {
     "data": {
      "text/html": [
       "<pre style=\"white-space:pre;overflow-x:auto;line-height:normal;font-family:Menlo,'DejaVu Sans Mono',consolas,'Courier New',monospace\">\n",
       "</pre>\n"
      ],
      "text/plain": [
       "\n"
      ]
     },
     "metadata": {},
     "output_type": "display_data"
    },
    {
     "data": {
      "application/vnd.jupyter.widget-view+json": {
       "model_id": "e630e80411d64e88903592bcef6d718b",
       "version_major": 2,
       "version_minor": 0
      },
      "text/plain": [
       "Output()"
      ]
     },
     "metadata": {},
     "output_type": "display_data"
    },
    {
     "name": "stdout",
     "output_type": "stream",
     "text": [
      "71\n"
     ]
    },
    {
     "data": {
      "text/html": [
       "<pre style=\"white-space:pre;overflow-x:auto;line-height:normal;font-family:Menlo,'DejaVu Sans Mono',consolas,'Courier New',monospace\"></pre>\n"
      ],
      "text/plain": []
     },
     "metadata": {},
     "output_type": "display_data"
    },
    {
     "data": {
      "text/html": [
       "<pre style=\"white-space:pre;overflow-x:auto;line-height:normal;font-family:Menlo,'DejaVu Sans Mono',consolas,'Courier New',monospace\">\n",
       "</pre>\n"
      ],
      "text/plain": [
       "\n"
      ]
     },
     "metadata": {},
     "output_type": "display_data"
    },
    {
     "data": {
      "application/vnd.jupyter.widget-view+json": {
       "model_id": "907859e84952443db658ca26cf27a589",
       "version_major": 2,
       "version_minor": 0
      },
      "text/plain": [
       "Output()"
      ]
     },
     "metadata": {},
     "output_type": "display_data"
    },
    {
     "name": "stdout",
     "output_type": "stream",
     "text": [
      "72\n"
     ]
    },
    {
     "data": {
      "text/html": [
       "<pre style=\"white-space:pre;overflow-x:auto;line-height:normal;font-family:Menlo,'DejaVu Sans Mono',consolas,'Courier New',monospace\"></pre>\n"
      ],
      "text/plain": []
     },
     "metadata": {},
     "output_type": "display_data"
    },
    {
     "data": {
      "text/html": [
       "<pre style=\"white-space:pre;overflow-x:auto;line-height:normal;font-family:Menlo,'DejaVu Sans Mono',consolas,'Courier New',monospace\">\n",
       "</pre>\n"
      ],
      "text/plain": [
       "\n"
      ]
     },
     "metadata": {},
     "output_type": "display_data"
    },
    {
     "data": {
      "application/vnd.jupyter.widget-view+json": {
       "model_id": "5f679d91af724de9ad59029d2c5dc50b",
       "version_major": 2,
       "version_minor": 0
      },
      "text/plain": [
       "Output()"
      ]
     },
     "metadata": {},
     "output_type": "display_data"
    },
    {
     "name": "stdout",
     "output_type": "stream",
     "text": [
      "73\n"
     ]
    },
    {
     "data": {
      "text/html": [
       "<pre style=\"white-space:pre;overflow-x:auto;line-height:normal;font-family:Menlo,'DejaVu Sans Mono',consolas,'Courier New',monospace\"></pre>\n"
      ],
      "text/plain": []
     },
     "metadata": {},
     "output_type": "display_data"
    },
    {
     "data": {
      "text/html": [
       "<pre style=\"white-space:pre;overflow-x:auto;line-height:normal;font-family:Menlo,'DejaVu Sans Mono',consolas,'Courier New',monospace\">\n",
       "</pre>\n"
      ],
      "text/plain": [
       "\n"
      ]
     },
     "metadata": {},
     "output_type": "display_data"
    },
    {
     "data": {
      "application/vnd.jupyter.widget-view+json": {
       "model_id": "6e0ee824f49b481e9d35a1e68e3cb4da",
       "version_major": 2,
       "version_minor": 0
      },
      "text/plain": [
       "Output()"
      ]
     },
     "metadata": {},
     "output_type": "display_data"
    },
    {
     "name": "stdout",
     "output_type": "stream",
     "text": [
      "74\n"
     ]
    },
    {
     "data": {
      "text/html": [
       "<pre style=\"white-space:pre;overflow-x:auto;line-height:normal;font-family:Menlo,'DejaVu Sans Mono',consolas,'Courier New',monospace\"></pre>\n"
      ],
      "text/plain": []
     },
     "metadata": {},
     "output_type": "display_data"
    },
    {
     "data": {
      "text/html": [
       "<pre style=\"white-space:pre;overflow-x:auto;line-height:normal;font-family:Menlo,'DejaVu Sans Mono',consolas,'Courier New',monospace\">\n",
       "</pre>\n"
      ],
      "text/plain": [
       "\n"
      ]
     },
     "metadata": {},
     "output_type": "display_data"
    },
    {
     "data": {
      "application/vnd.jupyter.widget-view+json": {
       "model_id": "2cf537bb9dec4c8e8edba0f90c1f6984",
       "version_major": 2,
       "version_minor": 0
      },
      "text/plain": [
       "Output()"
      ]
     },
     "metadata": {},
     "output_type": "display_data"
    },
    {
     "name": "stdout",
     "output_type": "stream",
     "text": [
      "75\n"
     ]
    },
    {
     "data": {
      "text/html": [
       "<pre style=\"white-space:pre;overflow-x:auto;line-height:normal;font-family:Menlo,'DejaVu Sans Mono',consolas,'Courier New',monospace\"></pre>\n"
      ],
      "text/plain": []
     },
     "metadata": {},
     "output_type": "display_data"
    },
    {
     "data": {
      "text/html": [
       "<pre style=\"white-space:pre;overflow-x:auto;line-height:normal;font-family:Menlo,'DejaVu Sans Mono',consolas,'Courier New',monospace\">\n",
       "</pre>\n"
      ],
      "text/plain": [
       "\n"
      ]
     },
     "metadata": {},
     "output_type": "display_data"
    },
    {
     "data": {
      "application/vnd.jupyter.widget-view+json": {
       "model_id": "d485ace36d8c4e179bf1c5544fc3ffbe",
       "version_major": 2,
       "version_minor": 0
      },
      "text/plain": [
       "Output()"
      ]
     },
     "metadata": {},
     "output_type": "display_data"
    },
    {
     "name": "stdout",
     "output_type": "stream",
     "text": [
      "76\n"
     ]
    },
    {
     "data": {
      "text/html": [
       "<pre style=\"white-space:pre;overflow-x:auto;line-height:normal;font-family:Menlo,'DejaVu Sans Mono',consolas,'Courier New',monospace\"></pre>\n"
      ],
      "text/plain": []
     },
     "metadata": {},
     "output_type": "display_data"
    },
    {
     "data": {
      "text/html": [
       "<pre style=\"white-space:pre;overflow-x:auto;line-height:normal;font-family:Menlo,'DejaVu Sans Mono',consolas,'Courier New',monospace\">\n",
       "</pre>\n"
      ],
      "text/plain": [
       "\n"
      ]
     },
     "metadata": {},
     "output_type": "display_data"
    },
    {
     "data": {
      "application/vnd.jupyter.widget-view+json": {
       "model_id": "b5124e931c7842eab122d910ec8f00f8",
       "version_major": 2,
       "version_minor": 0
      },
      "text/plain": [
       "Output()"
      ]
     },
     "metadata": {},
     "output_type": "display_data"
    },
    {
     "name": "stdout",
     "output_type": "stream",
     "text": [
      "77\n"
     ]
    },
    {
     "data": {
      "text/html": [
       "<pre style=\"white-space:pre;overflow-x:auto;line-height:normal;font-family:Menlo,'DejaVu Sans Mono',consolas,'Courier New',monospace\"></pre>\n"
      ],
      "text/plain": []
     },
     "metadata": {},
     "output_type": "display_data"
    },
    {
     "data": {
      "text/html": [
       "<pre style=\"white-space:pre;overflow-x:auto;line-height:normal;font-family:Menlo,'DejaVu Sans Mono',consolas,'Courier New',monospace\">\n",
       "</pre>\n"
      ],
      "text/plain": [
       "\n"
      ]
     },
     "metadata": {},
     "output_type": "display_data"
    },
    {
     "data": {
      "application/vnd.jupyter.widget-view+json": {
       "model_id": "c2a9548f14234e8b842cd987711ff984",
       "version_major": 2,
       "version_minor": 0
      },
      "text/plain": [
       "Output()"
      ]
     },
     "metadata": {},
     "output_type": "display_data"
    },
    {
     "name": "stdout",
     "output_type": "stream",
     "text": [
      "78\n"
     ]
    },
    {
     "data": {
      "text/html": [
       "<pre style=\"white-space:pre;overflow-x:auto;line-height:normal;font-family:Menlo,'DejaVu Sans Mono',consolas,'Courier New',monospace\">Request to \n",
       "https://eutils.ncbi.nlm.nih.gov/entrez/eutils/efetch.fcgi?db=protein&amp;retmode=text&amp;rettype=genbank&amp;id=MCP5056218.1,M\n",
       "CS6841215.1,CCV15289.1,MCB0918456.1,WP_254533482.1,MBU36490.1,WP_211978148.1,WP_251455940.1,MBK8796541.1,WP_1645934\n",
       "71.1 failed with status code 429\n",
       "</pre>\n"
      ],
      "text/plain": [
       "Request to \n",
       "https://eutils.ncbi.nlm.nih.gov/entrez/eutils/efetch.fcgi?db=protein&retmode=text&rettype=genbank&id=MCP5056218.1,M\n",
       "CS6841215.1,CCV15289.1,MCB0918456.1,WP_254533482.1,MBU36490.1,WP_211978148.1,WP_251455940.1,MBK8796541.1,WP_1645934\n",
       "71.1 failed with status code 429\n"
      ]
     },
     "metadata": {},
     "output_type": "display_data"
    },
    {
     "data": {
      "text/html": [
       "<pre style=\"white-space:pre;overflow-x:auto;line-height:normal;font-family:Menlo,'DejaVu Sans Mono',consolas,'Courier New',monospace\">Response: {\"error\":\"API rate limit exceeded\",\"api-key\":\"145.40.68.99\",\"count\":\"4\",\"limit\":\"3\"}\n",
       "\n",
       "</pre>\n"
      ],
      "text/plain": [
       "Response: {\"error\":\"API rate limit exceeded\",\"api-key\":\"145.40.68.99\",\"count\":\"4\",\"limit\":\"3\"}\n",
       "\n"
      ]
     },
     "metadata": {},
     "output_type": "display_data"
    },
    {
     "data": {
      "text/html": [
       "<pre style=\"white-space:pre;overflow-x:auto;line-height:normal;font-family:Menlo,'DejaVu Sans Mono',consolas,'Courier New',monospace\">Rate limit exceeded. Waiting for 1 second...\n",
       "</pre>\n"
      ],
      "text/plain": [
       "Rate limit exceeded. Waiting for 1 second...\n"
      ]
     },
     "metadata": {},
     "output_type": "display_data"
    },
    {
     "data": {
      "text/html": [
       "<pre style=\"white-space:pre;overflow-x:auto;line-height:normal;font-family:Menlo,'DejaVu Sans Mono',consolas,'Courier New',monospace\"></pre>\n"
      ],
      "text/plain": []
     },
     "metadata": {},
     "output_type": "display_data"
    },
    {
     "data": {
      "text/html": [
       "<pre style=\"white-space:pre;overflow-x:auto;line-height:normal;font-family:Menlo,'DejaVu Sans Mono',consolas,'Courier New',monospace\">\n",
       "</pre>\n"
      ],
      "text/plain": [
       "\n"
      ]
     },
     "metadata": {},
     "output_type": "display_data"
    },
    {
     "data": {
      "application/vnd.jupyter.widget-view+json": {
       "model_id": "3fa7e510424c447c857320e77a6412f9",
       "version_major": 2,
       "version_minor": 0
      },
      "text/plain": [
       "Output()"
      ]
     },
     "metadata": {},
     "output_type": "display_data"
    },
    {
     "name": "stdout",
     "output_type": "stream",
     "text": [
      "79\n"
     ]
    },
    {
     "data": {
      "text/html": [
       "<pre style=\"white-space:pre;overflow-x:auto;line-height:normal;font-family:Menlo,'DejaVu Sans Mono',consolas,'Courier New',monospace\"></pre>\n"
      ],
      "text/plain": []
     },
     "metadata": {},
     "output_type": "display_data"
    },
    {
     "data": {
      "text/html": [
       "<pre style=\"white-space:pre;overflow-x:auto;line-height:normal;font-family:Menlo,'DejaVu Sans Mono',consolas,'Courier New',monospace\">\n",
       "</pre>\n"
      ],
      "text/plain": [
       "\n"
      ]
     },
     "metadata": {},
     "output_type": "display_data"
    },
    {
     "data": {
      "application/vnd.jupyter.widget-view+json": {
       "model_id": "280b999839e7495eb91aece2ffbb3cc5",
       "version_major": 2,
       "version_minor": 0
      },
      "text/plain": [
       "Output()"
      ]
     },
     "metadata": {},
     "output_type": "display_data"
    },
    {
     "name": "stdout",
     "output_type": "stream",
     "text": [
      "80\n"
     ]
    },
    {
     "data": {
      "text/html": [
       "<pre style=\"white-space:pre;overflow-x:auto;line-height:normal;font-family:Menlo,'DejaVu Sans Mono',consolas,'Courier New',monospace\"></pre>\n"
      ],
      "text/plain": []
     },
     "metadata": {},
     "output_type": "display_data"
    },
    {
     "data": {
      "text/html": [
       "<pre style=\"white-space:pre;overflow-x:auto;line-height:normal;font-family:Menlo,'DejaVu Sans Mono',consolas,'Courier New',monospace\">\n",
       "</pre>\n"
      ],
      "text/plain": [
       "\n"
      ]
     },
     "metadata": {},
     "output_type": "display_data"
    },
    {
     "data": {
      "application/vnd.jupyter.widget-view+json": {
       "model_id": "25f7f2d1cd5d45fd9fdb8b31ba586785",
       "version_major": 2,
       "version_minor": 0
      },
      "text/plain": [
       "Output()"
      ]
     },
     "metadata": {},
     "output_type": "display_data"
    },
    {
     "name": "stdout",
     "output_type": "stream",
     "text": [
      "81\n"
     ]
    },
    {
     "data": {
      "text/html": [
       "<pre style=\"white-space:pre;overflow-x:auto;line-height:normal;font-family:Menlo,'DejaVu Sans Mono',consolas,'Courier New',monospace\">Request to \n",
       "https://eutils.ncbi.nlm.nih.gov/entrez/eutils/efetch.fcgi?db=protein&amp;retmode=text&amp;rettype=genbank&amp;id=WP_084493337.1\n",
       ",NNF84603.1,WP_268849391.1,MBW6464875.1,PYN04899.1,MBA3784687.1,WP_160819524.1,RYE26465.1,WP_072149703.1,WP_1075619\n",
       "81.1 failed with status code 429\n",
       "</pre>\n"
      ],
      "text/plain": [
       "Request to \n",
       "https://eutils.ncbi.nlm.nih.gov/entrez/eutils/efetch.fcgi?db=protein&retmode=text&rettype=genbank&id=WP_084493337.1\n",
       ",NNF84603.1,WP_268849391.1,MBW6464875.1,PYN04899.1,MBA3784687.1,WP_160819524.1,RYE26465.1,WP_072149703.1,WP_1075619\n",
       "81.1 failed with status code 429\n"
      ]
     },
     "metadata": {},
     "output_type": "display_data"
    },
    {
     "data": {
      "text/html": [
       "<pre style=\"white-space:pre;overflow-x:auto;line-height:normal;font-family:Menlo,'DejaVu Sans Mono',consolas,'Courier New',monospace\">Response: {\"error\":\"API rate limit exceeded\",\"api-key\":\"145.40.68.99\",\"count\":\"4\",\"limit\":\"3\"}\n",
       "\n",
       "</pre>\n"
      ],
      "text/plain": [
       "Response: {\"error\":\"API rate limit exceeded\",\"api-key\":\"145.40.68.99\",\"count\":\"4\",\"limit\":\"3\"}\n",
       "\n"
      ]
     },
     "metadata": {},
     "output_type": "display_data"
    },
    {
     "data": {
      "text/html": [
       "<pre style=\"white-space:pre;overflow-x:auto;line-height:normal;font-family:Menlo,'DejaVu Sans Mono',consolas,'Courier New',monospace\">Rate limit exceeded. Waiting for 1 second...\n",
       "</pre>\n"
      ],
      "text/plain": [
       "Rate limit exceeded. Waiting for 1 second...\n"
      ]
     },
     "metadata": {},
     "output_type": "display_data"
    },
    {
     "data": {
      "text/html": [
       "<pre style=\"white-space:pre;overflow-x:auto;line-height:normal;font-family:Menlo,'DejaVu Sans Mono',consolas,'Courier New',monospace\">Request to \n",
       "https://eutils.ncbi.nlm.nih.gov/entrez/eutils/efetch.fcgi?db=protein&amp;retmode=text&amp;rettype=genbank&amp;id=NQW54578.1,WP_\n",
       "078700379.1,WP_183897926.1,CAA9247530.1,WP_085152131.1,WP_044242674.1,MBZ9571996.1,WP_159901371.1,MCC6435456.1,WP_2\n",
       "33168054.1 failed with status code 429\n",
       "</pre>\n"
      ],
      "text/plain": [
       "Request to \n",
       "https://eutils.ncbi.nlm.nih.gov/entrez/eutils/efetch.fcgi?db=protein&retmode=text&rettype=genbank&id=NQW54578.1,WP_\n",
       "078700379.1,WP_183897926.1,CAA9247530.1,WP_085152131.1,WP_044242674.1,MBZ9571996.1,WP_159901371.1,MCC6435456.1,WP_2\n",
       "33168054.1 failed with status code 429\n"
      ]
     },
     "metadata": {},
     "output_type": "display_data"
    },
    {
     "data": {
      "text/html": [
       "<pre style=\"white-space:pre;overflow-x:auto;line-height:normal;font-family:Menlo,'DejaVu Sans Mono',consolas,'Courier New',monospace\">Response: {\"error\":\"API rate limit exceeded\",\"api-key\":\"145.40.68.99\",\"count\":\"4\",\"limit\":\"3\"}\n",
       "\n",
       "</pre>\n"
      ],
      "text/plain": [
       "Response: {\"error\":\"API rate limit exceeded\",\"api-key\":\"145.40.68.99\",\"count\":\"4\",\"limit\":\"3\"}\n",
       "\n"
      ]
     },
     "metadata": {},
     "output_type": "display_data"
    },
    {
     "data": {
      "text/html": [
       "<pre style=\"white-space:pre;overflow-x:auto;line-height:normal;font-family:Menlo,'DejaVu Sans Mono',consolas,'Courier New',monospace\">Rate limit exceeded. Waiting for 1 second...\n",
       "</pre>\n"
      ],
      "text/plain": [
       "Rate limit exceeded. Waiting for 1 second...\n"
      ]
     },
     "metadata": {},
     "output_type": "display_data"
    },
    {
     "data": {
      "text/html": [
       "<pre style=\"white-space:pre;overflow-x:auto;line-height:normal;font-family:Menlo,'DejaVu Sans Mono',consolas,'Courier New',monospace\"></pre>\n"
      ],
      "text/plain": []
     },
     "metadata": {},
     "output_type": "display_data"
    },
    {
     "data": {
      "text/html": [
       "<pre style=\"white-space:pre;overflow-x:auto;line-height:normal;font-family:Menlo,'DejaVu Sans Mono',consolas,'Courier New',monospace\">\n",
       "</pre>\n"
      ],
      "text/plain": [
       "\n"
      ]
     },
     "metadata": {},
     "output_type": "display_data"
    },
    {
     "data": {
      "application/vnd.jupyter.widget-view+json": {
       "model_id": "c66604e6f3844689b817facf6848065f",
       "version_major": 2,
       "version_minor": 0
      },
      "text/plain": [
       "Output()"
      ]
     },
     "metadata": {},
     "output_type": "display_data"
    },
    {
     "name": "stdout",
     "output_type": "stream",
     "text": [
      "82\n"
     ]
    },
    {
     "data": {
      "text/html": [
       "<pre style=\"white-space:pre;overflow-x:auto;line-height:normal;font-family:Menlo,'DejaVu Sans Mono',consolas,'Courier New',monospace\"></pre>\n"
      ],
      "text/plain": []
     },
     "metadata": {},
     "output_type": "display_data"
    },
    {
     "data": {
      "text/html": [
       "<pre style=\"white-space:pre;overflow-x:auto;line-height:normal;font-family:Menlo,'DejaVu Sans Mono',consolas,'Courier New',monospace\">\n",
       "</pre>\n"
      ],
      "text/plain": [
       "\n"
      ]
     },
     "metadata": {},
     "output_type": "display_data"
    },
    {
     "data": {
      "application/vnd.jupyter.widget-view+json": {
       "model_id": "e424514a1f2a44af83e75a9b0ebdc703",
       "version_major": 2,
       "version_minor": 0
      },
      "text/plain": [
       "Output()"
      ]
     },
     "metadata": {},
     "output_type": "display_data"
    },
    {
     "name": "stdout",
     "output_type": "stream",
     "text": [
      "83\n"
     ]
    },
    {
     "data": {
      "text/html": [
       "<pre style=\"white-space:pre;overflow-x:auto;line-height:normal;font-family:Menlo,'DejaVu Sans Mono',consolas,'Courier New',monospace\"></pre>\n"
      ],
      "text/plain": []
     },
     "metadata": {},
     "output_type": "display_data"
    },
    {
     "data": {
      "text/html": [
       "<pre style=\"white-space:pre;overflow-x:auto;line-height:normal;font-family:Menlo,'DejaVu Sans Mono',consolas,'Courier New',monospace\">\n",
       "</pre>\n"
      ],
      "text/plain": [
       "\n"
      ]
     },
     "metadata": {},
     "output_type": "display_data"
    },
    {
     "data": {
      "application/vnd.jupyter.widget-view+json": {
       "model_id": "b27c392731624b859bd55c3e008d0815",
       "version_major": 2,
       "version_minor": 0
      },
      "text/plain": [
       "Output()"
      ]
     },
     "metadata": {},
     "output_type": "display_data"
    },
    {
     "name": "stdout",
     "output_type": "stream",
     "text": [
      "84\n"
     ]
    },
    {
     "data": {
      "text/html": [
       "<pre style=\"white-space:pre;overflow-x:auto;line-height:normal;font-family:Menlo,'DejaVu Sans Mono',consolas,'Courier New',monospace\"></pre>\n"
      ],
      "text/plain": []
     },
     "metadata": {},
     "output_type": "display_data"
    },
    {
     "data": {
      "text/html": [
       "<pre style=\"white-space:pre;overflow-x:auto;line-height:normal;font-family:Menlo,'DejaVu Sans Mono',consolas,'Courier New',monospace\">\n",
       "</pre>\n"
      ],
      "text/plain": [
       "\n"
      ]
     },
     "metadata": {},
     "output_type": "display_data"
    },
    {
     "data": {
      "application/vnd.jupyter.widget-view+json": {
       "model_id": "5df3dc1d31384cd2bb655a1d2a493caf",
       "version_major": 2,
       "version_minor": 0
      },
      "text/plain": [
       "Output()"
      ]
     },
     "metadata": {},
     "output_type": "display_data"
    },
    {
     "name": "stdout",
     "output_type": "stream",
     "text": [
      "85\n"
     ]
    },
    {
     "data": {
      "text/html": [
       "<pre style=\"white-space:pre;overflow-x:auto;line-height:normal;font-family:Menlo,'DejaVu Sans Mono',consolas,'Courier New',monospace\"></pre>\n"
      ],
      "text/plain": []
     },
     "metadata": {},
     "output_type": "display_data"
    },
    {
     "data": {
      "text/html": [
       "<pre style=\"white-space:pre;overflow-x:auto;line-height:normal;font-family:Menlo,'DejaVu Sans Mono',consolas,'Courier New',monospace\">\n",
       "</pre>\n"
      ],
      "text/plain": [
       "\n"
      ]
     },
     "metadata": {},
     "output_type": "display_data"
    },
    {
     "data": {
      "application/vnd.jupyter.widget-view+json": {
       "model_id": "acb4456ec3fd440a873b07320beb0cb1",
       "version_major": 2,
       "version_minor": 0
      },
      "text/plain": [
       "Output()"
      ]
     },
     "metadata": {},
     "output_type": "display_data"
    },
    {
     "name": "stdout",
     "output_type": "stream",
     "text": [
      "86\n"
     ]
    },
    {
     "data": {
      "text/html": [
       "<pre style=\"white-space:pre;overflow-x:auto;line-height:normal;font-family:Menlo,'DejaVu Sans Mono',consolas,'Courier New',monospace\"></pre>\n"
      ],
      "text/plain": []
     },
     "metadata": {},
     "output_type": "display_data"
    },
    {
     "data": {
      "text/html": [
       "<pre style=\"white-space:pre;overflow-x:auto;line-height:normal;font-family:Menlo,'DejaVu Sans Mono',consolas,'Courier New',monospace\">\n",
       "</pre>\n"
      ],
      "text/plain": [
       "\n"
      ]
     },
     "metadata": {},
     "output_type": "display_data"
    },
    {
     "data": {
      "application/vnd.jupyter.widget-view+json": {
       "model_id": "154c844f9cfc4e2cbc7906a62cb406c1",
       "version_major": 2,
       "version_minor": 0
      },
      "text/plain": [
       "Output()"
      ]
     },
     "metadata": {},
     "output_type": "display_data"
    },
    {
     "name": "stdout",
     "output_type": "stream",
     "text": [
      "87\n"
     ]
    },
    {
     "data": {
      "text/html": [
       "<pre style=\"white-space:pre;overflow-x:auto;line-height:normal;font-family:Menlo,'DejaVu Sans Mono',consolas,'Courier New',monospace\"></pre>\n"
      ],
      "text/plain": []
     },
     "metadata": {},
     "output_type": "display_data"
    },
    {
     "data": {
      "text/html": [
       "<pre style=\"white-space:pre;overflow-x:auto;line-height:normal;font-family:Menlo,'DejaVu Sans Mono',consolas,'Courier New',monospace\">\n",
       "</pre>\n"
      ],
      "text/plain": [
       "\n"
      ]
     },
     "metadata": {},
     "output_type": "display_data"
    },
    {
     "data": {
      "application/vnd.jupyter.widget-view+json": {
       "model_id": "443b86dcd56e4a74b172fb49f38d1459",
       "version_major": 2,
       "version_minor": 0
      },
      "text/plain": [
       "Output()"
      ]
     },
     "metadata": {},
     "output_type": "display_data"
    },
    {
     "name": "stdout",
     "output_type": "stream",
     "text": [
      "88\n"
     ]
    },
    {
     "data": {
      "text/html": [
       "<pre style=\"white-space:pre;overflow-x:auto;line-height:normal;font-family:Menlo,'DejaVu Sans Mono',consolas,'Courier New',monospace\">Request to \n",
       "https://eutils.ncbi.nlm.nih.gov/entrez/eutils/efetch.fcgi?db=protein&amp;retmode=text&amp;rettype=genbank&amp;id=SCW54434.1,WP_\n",
       "085421030.1,WP_181737805.1,WP_266070385.1,RME74004.1,WP_105218367.1,NGX40832.1,MCH8885900.1,WP_195096586.1,MBN84766\n",
       "13.1 failed with status code 429\n",
       "</pre>\n"
      ],
      "text/plain": [
       "Request to \n",
       "https://eutils.ncbi.nlm.nih.gov/entrez/eutils/efetch.fcgi?db=protein&retmode=text&rettype=genbank&id=SCW54434.1,WP_\n",
       "085421030.1,WP_181737805.1,WP_266070385.1,RME74004.1,WP_105218367.1,NGX40832.1,MCH8885900.1,WP_195096586.1,MBN84766\n",
       "13.1 failed with status code 429\n"
      ]
     },
     "metadata": {},
     "output_type": "display_data"
    },
    {
     "data": {
      "text/html": [
       "<pre style=\"white-space:pre;overflow-x:auto;line-height:normal;font-family:Menlo,'DejaVu Sans Mono',consolas,'Courier New',monospace\">Response: {\"error\":\"API rate limit exceeded\",\"api-key\":\"145.40.68.99\",\"count\":\"4\",\"limit\":\"3\"}\n",
       "\n",
       "</pre>\n"
      ],
      "text/plain": [
       "Response: {\"error\":\"API rate limit exceeded\",\"api-key\":\"145.40.68.99\",\"count\":\"4\",\"limit\":\"3\"}\n",
       "\n"
      ]
     },
     "metadata": {},
     "output_type": "display_data"
    },
    {
     "data": {
      "text/html": [
       "<pre style=\"white-space:pre;overflow-x:auto;line-height:normal;font-family:Menlo,'DejaVu Sans Mono',consolas,'Courier New',monospace\">Rate limit exceeded. Waiting for 1 second...\n",
       "</pre>\n"
      ],
      "text/plain": [
       "Rate limit exceeded. Waiting for 1 second...\n"
      ]
     },
     "metadata": {},
     "output_type": "display_data"
    },
    {
     "data": {
      "text/html": [
       "<pre style=\"white-space:pre;overflow-x:auto;line-height:normal;font-family:Menlo,'DejaVu Sans Mono',consolas,'Courier New',monospace\"></pre>\n"
      ],
      "text/plain": []
     },
     "metadata": {},
     "output_type": "display_data"
    },
    {
     "data": {
      "text/html": [
       "<pre style=\"white-space:pre;overflow-x:auto;line-height:normal;font-family:Menlo,'DejaVu Sans Mono',consolas,'Courier New',monospace\">\n",
       "</pre>\n"
      ],
      "text/plain": [
       "\n"
      ]
     },
     "metadata": {},
     "output_type": "display_data"
    },
    {
     "data": {
      "application/vnd.jupyter.widget-view+json": {
       "model_id": "95cfe422e9e4426db8723153069d7139",
       "version_major": 2,
       "version_minor": 0
      },
      "text/plain": [
       "Output()"
      ]
     },
     "metadata": {},
     "output_type": "display_data"
    },
    {
     "name": "stdout",
     "output_type": "stream",
     "text": [
      "89\n"
     ]
    },
    {
     "data": {
      "text/html": [
       "<pre style=\"white-space:pre;overflow-x:auto;line-height:normal;font-family:Menlo,'DejaVu Sans Mono',consolas,'Courier New',monospace\"></pre>\n"
      ],
      "text/plain": []
     },
     "metadata": {},
     "output_type": "display_data"
    },
    {
     "data": {
      "text/html": [
       "<pre style=\"white-space:pre;overflow-x:auto;line-height:normal;font-family:Menlo,'DejaVu Sans Mono',consolas,'Courier New',monospace\">\n",
       "</pre>\n"
      ],
      "text/plain": [
       "\n"
      ]
     },
     "metadata": {},
     "output_type": "display_data"
    },
    {
     "data": {
      "application/vnd.jupyter.widget-view+json": {
       "model_id": "e002dc2c1de9455f950e53c5915d3601",
       "version_major": 2,
       "version_minor": 0
      },
      "text/plain": [
       "Output()"
      ]
     },
     "metadata": {},
     "output_type": "display_data"
    },
    {
     "name": "stdout",
     "output_type": "stream",
     "text": [
      "90\n"
     ]
    },
    {
     "data": {
      "text/html": [
       "<pre style=\"white-space:pre;overflow-x:auto;line-height:normal;font-family:Menlo,'DejaVu Sans Mono',consolas,'Courier New',monospace\"></pre>\n"
      ],
      "text/plain": []
     },
     "metadata": {},
     "output_type": "display_data"
    },
    {
     "data": {
      "text/html": [
       "<pre style=\"white-space:pre;overflow-x:auto;line-height:normal;font-family:Menlo,'DejaVu Sans Mono',consolas,'Courier New',monospace\">\n",
       "</pre>\n"
      ],
      "text/plain": [
       "\n"
      ]
     },
     "metadata": {},
     "output_type": "display_data"
    },
    {
     "data": {
      "application/vnd.jupyter.widget-view+json": {
       "model_id": "1857a4b0b897408f93fab00dcb127e34",
       "version_major": 2,
       "version_minor": 0
      },
      "text/plain": [
       "Output()"
      ]
     },
     "metadata": {},
     "output_type": "display_data"
    },
    {
     "name": "stdout",
     "output_type": "stream",
     "text": [
      "91\n"
     ]
    },
    {
     "data": {
      "text/html": [
       "<pre style=\"white-space:pre;overflow-x:auto;line-height:normal;font-family:Menlo,'DejaVu Sans Mono',consolas,'Courier New',monospace\"></pre>\n"
      ],
      "text/plain": []
     },
     "metadata": {},
     "output_type": "display_data"
    },
    {
     "data": {
      "text/html": [
       "<pre style=\"white-space:pre;overflow-x:auto;line-height:normal;font-family:Menlo,'DejaVu Sans Mono',consolas,'Courier New',monospace\">\n",
       "</pre>\n"
      ],
      "text/plain": [
       "\n"
      ]
     },
     "metadata": {},
     "output_type": "display_data"
    },
    {
     "data": {
      "application/vnd.jupyter.widget-view+json": {
       "model_id": "66dc624438bf44bdaeaef873609dbbf2",
       "version_major": 2,
       "version_minor": 0
      },
      "text/plain": [
       "Output()"
      ]
     },
     "metadata": {},
     "output_type": "display_data"
    },
    {
     "name": "stdout",
     "output_type": "stream",
     "text": [
      "92\n"
     ]
    },
    {
     "data": {
      "text/html": [
       "<pre style=\"white-space:pre;overflow-x:auto;line-height:normal;font-family:Menlo,'DejaVu Sans Mono',consolas,'Courier New',monospace\"></pre>\n"
      ],
      "text/plain": []
     },
     "metadata": {},
     "output_type": "display_data"
    },
    {
     "data": {
      "text/html": [
       "<pre style=\"white-space:pre;overflow-x:auto;line-height:normal;font-family:Menlo,'DejaVu Sans Mono',consolas,'Courier New',monospace\">\n",
       "</pre>\n"
      ],
      "text/plain": [
       "\n"
      ]
     },
     "metadata": {},
     "output_type": "display_data"
    },
    {
     "data": {
      "application/vnd.jupyter.widget-view+json": {
       "model_id": "ebce35ecc66b462fa235c703582f45a9",
       "version_major": 2,
       "version_minor": 0
      },
      "text/plain": [
       "Output()"
      ]
     },
     "metadata": {},
     "output_type": "display_data"
    },
    {
     "name": "stdout",
     "output_type": "stream",
     "text": [
      "93\n"
     ]
    },
    {
     "data": {
      "text/html": [
       "<pre style=\"white-space:pre;overflow-x:auto;line-height:normal;font-family:Menlo,'DejaVu Sans Mono',consolas,'Courier New',monospace\">Request to \n",
       "https://eutils.ncbi.nlm.nih.gov/entrez/eutils/efetch.fcgi?db=protein&amp;retmode=text&amp;rettype=genbank&amp;id=HEY80050.1,MBQ\n",
       "0797727.1,WP_189682921.1,WP_271091825.1,WP_073680704.1,WP_219635613.1,ERF81460.1,MCC6612334.1,MBO7336206.1,MBL46394\n",
       "16.1 failed with status code 429\n",
       "</pre>\n"
      ],
      "text/plain": [
       "Request to \n",
       "https://eutils.ncbi.nlm.nih.gov/entrez/eutils/efetch.fcgi?db=protein&retmode=text&rettype=genbank&id=HEY80050.1,MBQ\n",
       "0797727.1,WP_189682921.1,WP_271091825.1,WP_073680704.1,WP_219635613.1,ERF81460.1,MCC6612334.1,MBO7336206.1,MBL46394\n",
       "16.1 failed with status code 429\n"
      ]
     },
     "metadata": {},
     "output_type": "display_data"
    },
    {
     "data": {
      "text/html": [
       "<pre style=\"white-space:pre;overflow-x:auto;line-height:normal;font-family:Menlo,'DejaVu Sans Mono',consolas,'Courier New',monospace\">Response: {\"error\":\"API rate limit exceeded\",\"api-key\":\"145.40.68.99\",\"count\":\"4\",\"limit\":\"3\"}\n",
       "\n",
       "</pre>\n"
      ],
      "text/plain": [
       "Response: {\"error\":\"API rate limit exceeded\",\"api-key\":\"145.40.68.99\",\"count\":\"4\",\"limit\":\"3\"}\n",
       "\n"
      ]
     },
     "metadata": {},
     "output_type": "display_data"
    },
    {
     "data": {
      "text/html": [
       "<pre style=\"white-space:pre;overflow-x:auto;line-height:normal;font-family:Menlo,'DejaVu Sans Mono',consolas,'Courier New',monospace\">Rate limit exceeded. Waiting for 1 second...\n",
       "</pre>\n"
      ],
      "text/plain": [
       "Rate limit exceeded. Waiting for 1 second...\n"
      ]
     },
     "metadata": {},
     "output_type": "display_data"
    },
    {
     "data": {
      "text/html": [
       "<pre style=\"white-space:pre;overflow-x:auto;line-height:normal;font-family:Menlo,'DejaVu Sans Mono',consolas,'Courier New',monospace\"></pre>\n"
      ],
      "text/plain": []
     },
     "metadata": {},
     "output_type": "display_data"
    },
    {
     "data": {
      "text/html": [
       "<pre style=\"white-space:pre;overflow-x:auto;line-height:normal;font-family:Menlo,'DejaVu Sans Mono',consolas,'Courier New',monospace\">\n",
       "</pre>\n"
      ],
      "text/plain": [
       "\n"
      ]
     },
     "metadata": {},
     "output_type": "display_data"
    },
    {
     "data": {
      "application/vnd.jupyter.widget-view+json": {
       "model_id": "8d594e7d734f4aaeb8f0d034756fbd79",
       "version_major": 2,
       "version_minor": 0
      },
      "text/plain": [
       "Output()"
      ]
     },
     "metadata": {},
     "output_type": "display_data"
    },
    {
     "name": "stdout",
     "output_type": "stream",
     "text": [
      "94\n"
     ]
    },
    {
     "data": {
      "text/html": [
       "<pre style=\"white-space:pre;overflow-x:auto;line-height:normal;font-family:Menlo,'DejaVu Sans Mono',consolas,'Courier New',monospace\"></pre>\n"
      ],
      "text/plain": []
     },
     "metadata": {},
     "output_type": "display_data"
    },
    {
     "data": {
      "text/html": [
       "<pre style=\"white-space:pre;overflow-x:auto;line-height:normal;font-family:Menlo,'DejaVu Sans Mono',consolas,'Courier New',monospace\">\n",
       "</pre>\n"
      ],
      "text/plain": [
       "\n"
      ]
     },
     "metadata": {},
     "output_type": "display_data"
    },
    {
     "data": {
      "application/vnd.jupyter.widget-view+json": {
       "model_id": "d96f6d5ca98846fd9b30cc7ca1742e93",
       "version_major": 2,
       "version_minor": 0
      },
      "text/plain": [
       "Output()"
      ]
     },
     "metadata": {},
     "output_type": "display_data"
    },
    {
     "name": "stdout",
     "output_type": "stream",
     "text": [
      "95\n"
     ]
    },
    {
     "data": {
      "text/html": [
       "<pre style=\"white-space:pre;overflow-x:auto;line-height:normal;font-family:Menlo,'DejaVu Sans Mono',consolas,'Courier New',monospace\"></pre>\n"
      ],
      "text/plain": []
     },
     "metadata": {},
     "output_type": "display_data"
    },
    {
     "data": {
      "text/html": [
       "<pre style=\"white-space:pre;overflow-x:auto;line-height:normal;font-family:Menlo,'DejaVu Sans Mono',consolas,'Courier New',monospace\">\n",
       "</pre>\n"
      ],
      "text/plain": [
       "\n"
      ]
     },
     "metadata": {},
     "output_type": "display_data"
    },
    {
     "data": {
      "application/vnd.jupyter.widget-view+json": {
       "model_id": "a12ab68132a549f89dc61460be6487f5",
       "version_major": 2,
       "version_minor": 0
      },
      "text/plain": [
       "Output()"
      ]
     },
     "metadata": {},
     "output_type": "display_data"
    },
    {
     "name": "stdout",
     "output_type": "stream",
     "text": [
      "96\n"
     ]
    },
    {
     "data": {
      "text/html": [
       "<pre style=\"white-space:pre;overflow-x:auto;line-height:normal;font-family:Menlo,'DejaVu Sans Mono',consolas,'Courier New',monospace\"></pre>\n"
      ],
      "text/plain": []
     },
     "metadata": {},
     "output_type": "display_data"
    },
    {
     "data": {
      "text/html": [
       "<pre style=\"white-space:pre;overflow-x:auto;line-height:normal;font-family:Menlo,'DejaVu Sans Mono',consolas,'Courier New',monospace\">\n",
       "</pre>\n"
      ],
      "text/plain": [
       "\n"
      ]
     },
     "metadata": {},
     "output_type": "display_data"
    },
    {
     "data": {
      "application/vnd.jupyter.widget-view+json": {
       "model_id": "afa8c46c571344d58a3992418c8d91aa",
       "version_major": 2,
       "version_minor": 0
      },
      "text/plain": [
       "Output()"
      ]
     },
     "metadata": {},
     "output_type": "display_data"
    },
    {
     "name": "stdout",
     "output_type": "stream",
     "text": [
      "97\n"
     ]
    },
    {
     "data": {
      "text/html": [
       "<pre style=\"white-space:pre;overflow-x:auto;line-height:normal;font-family:Menlo,'DejaVu Sans Mono',consolas,'Courier New',monospace\">Request to \n",
       "https://eutils.ncbi.nlm.nih.gov/entrez/eutils/efetch.fcgi?db=protein&amp;retmode=text&amp;rettype=genbank&amp;id=HAJ37193.1,UCF\n",
       "27876.1,WP_110239379.1,MBQ4549835.1,WP_024517252.1,WP_204675701.1,WP_218114533.1,MBA3432956.1,MBW8734684.1,WP_24536\n",
       "6302.1 failed with status code 429\n",
       "</pre>\n"
      ],
      "text/plain": [
       "Request to \n",
       "https://eutils.ncbi.nlm.nih.gov/entrez/eutils/efetch.fcgi?db=protein&retmode=text&rettype=genbank&id=HAJ37193.1,UCF\n",
       "27876.1,WP_110239379.1,MBQ4549835.1,WP_024517252.1,WP_204675701.1,WP_218114533.1,MBA3432956.1,MBW8734684.1,WP_24536\n",
       "6302.1 failed with status code 429\n"
      ]
     },
     "metadata": {},
     "output_type": "display_data"
    },
    {
     "data": {
      "text/html": [
       "<pre style=\"white-space:pre;overflow-x:auto;line-height:normal;font-family:Menlo,'DejaVu Sans Mono',consolas,'Courier New',monospace\">Response: {\"error\":\"API rate limit exceeded\",\"api-key\":\"145.40.68.99\",\"count\":\"4\",\"limit\":\"3\"}\n",
       "\n",
       "</pre>\n"
      ],
      "text/plain": [
       "Response: {\"error\":\"API rate limit exceeded\",\"api-key\":\"145.40.68.99\",\"count\":\"4\",\"limit\":\"3\"}\n",
       "\n"
      ]
     },
     "metadata": {},
     "output_type": "display_data"
    },
    {
     "data": {
      "text/html": [
       "<pre style=\"white-space:pre;overflow-x:auto;line-height:normal;font-family:Menlo,'DejaVu Sans Mono',consolas,'Courier New',monospace\">Rate limit exceeded. Waiting for 1 second...\n",
       "</pre>\n"
      ],
      "text/plain": [
       "Rate limit exceeded. Waiting for 1 second...\n"
      ]
     },
     "metadata": {},
     "output_type": "display_data"
    },
    {
     "data": {
      "text/html": [
       "<pre style=\"white-space:pre;overflow-x:auto;line-height:normal;font-family:Menlo,'DejaVu Sans Mono',consolas,'Courier New',monospace\"></pre>\n"
      ],
      "text/plain": []
     },
     "metadata": {},
     "output_type": "display_data"
    },
    {
     "data": {
      "text/html": [
       "<pre style=\"white-space:pre;overflow-x:auto;line-height:normal;font-family:Menlo,'DejaVu Sans Mono',consolas,'Courier New',monospace\">\n",
       "</pre>\n"
      ],
      "text/plain": [
       "\n"
      ]
     },
     "metadata": {},
     "output_type": "display_data"
    },
    {
     "data": {
      "application/vnd.jupyter.widget-view+json": {
       "model_id": "835f9fc5247d4bf3b09e084b6779f9a0",
       "version_major": 2,
       "version_minor": 0
      },
      "text/plain": [
       "Output()"
      ]
     },
     "metadata": {},
     "output_type": "display_data"
    },
    {
     "name": "stdout",
     "output_type": "stream",
     "text": [
      "98\n"
     ]
    },
    {
     "data": {
      "text/html": [
       "<pre style=\"white-space:pre;overflow-x:auto;line-height:normal;font-family:Menlo,'DejaVu Sans Mono',consolas,'Courier New',monospace\"></pre>\n"
      ],
      "text/plain": []
     },
     "metadata": {},
     "output_type": "display_data"
    },
    {
     "data": {
      "text/html": [
       "<pre style=\"white-space:pre;overflow-x:auto;line-height:normal;font-family:Menlo,'DejaVu Sans Mono',consolas,'Courier New',monospace\">\n",
       "</pre>\n"
      ],
      "text/plain": [
       "\n"
      ]
     },
     "metadata": {},
     "output_type": "display_data"
    },
    {
     "name": "stdout",
     "output_type": "stream",
     "text": [
      "99\n"
     ]
    }
   ],
   "source": [
    "#5\n",
    "i = 40000\n",
    "j=40100\n",
    "counter = 0\n",
    "proteins = []\n",
    "error = []\n",
    "lenght = int(len(source_ids)/100)\n",
    "for _ in range(100):\n",
    "    try: \n",
    "        protein_i = ProteinRecord.get_ids(source_ids[i:j])\n",
    "        proteins.extend(protein_i)\n",
    "        \n",
    "    except:\n",
    "        error.append(f\"error in range {i}:{j}\")\n",
    "    \n",
    "    print(counter)\n",
    "    \n",
    "    counter += 1\n",
    "    i += 100\n",
    "    j += 100"
   ]
  },
  {
   "cell_type": "code",
   "execution_count": 8,
   "metadata": {},
   "outputs": [
    {
     "name": "stdout",
     "output_type": "stream",
     "text": [
      "\u001b[4mProteinRecord\u001b[0m\n",
      "├── \u001b[94mid\u001b[0m = MCA2320969.1\n",
      "├── \u001b[94mname\u001b[0m = alpha/beta hydrolase\n",
      "├── \u001b[94morganism\u001b[0m\n",
      "│   └── \u001b[4mOrganism\u001b[0m\n",
      "│       ├── \u001b[94mid\u001b[0m = 7394d882-9e11-4d6e-87b9-a33e839b1192\n",
      "│       ├── \u001b[94mtaxonomy_id\u001b[0m = 1767\n",
      "│       ├── \u001b[94mname\u001b[0m = Mycobacterium intracellulare\n",
      "│       ├── \u001b[94mdomain\u001b[0m = Bacteria\n",
      "│       ├── \u001b[94mphylum\u001b[0m = Actinomycetota\n",
      "│       ├── \u001b[94mtax_class\u001b[0m = Actinomycetes\n",
      "│       ├── \u001b[94morder\u001b[0m = Mycobacteriales\n",
      "│       ├── \u001b[94mfamily\u001b[0m = Mycobacteriaceae\n",
      "│       └── \u001b[94mgenus\u001b[0m = Mycobacterium\n",
      "├── \u001b[94msequence\u001b[0m = MQVRTGYAISGDLKLYYEDMGDVDDPPVLLIMGLGAQLLLWRTAFCQKLIDQGLRVIRYDNRDVGLSSKTQYGSSGQPLVTRLVRSFLGLPSRAVYKLEDMADDAAAVLDHLGIERAHIVGASMGGMIAQIFAARFRERTQSLAIIFSSNNAALLPPPAPRALLALLKGPPPNSPREVIVDNAVRVGKIIGSPRYRVPDEQARAEAAEGYDRNYYPQGVARHFAAVLGSGSLRRYNHGTVAPTVVIHGRADKLMRPFGGRAVARAIDGARLVLFDGMGHDLPQQVWDQVIGVLTNNFARAC\n",
      "└── \u001b[94mcoding_sequence\u001b[0m\n",
      "    └── 0\n",
      "        └── \u001b[4mRegion\u001b[0m\n",
      "            ├── \u001b[94mid\u001b[0m = JAEKMV010000023.1\n",
      "            ├── \u001b[94mstart\u001b[0m = 5644\n",
      "            └── \u001b[94mend\u001b[0m = 6549\n",
      "\n",
      "10000\n",
      "[]\n"
     ]
    }
   ],
   "source": [
    "print(proteins[0])\n",
    "print(len(proteins))\n",
    "print(error)"
   ]
  },
  {
   "cell_type": "markdown",
   "metadata": {},
   "source": [
    "safe all ProteinRecord files in a folder as a json file   \n",
    "each json contains one ProteinRecord and the name of the file is the id "
   ]
  },
  {
   "cell_type": "code",
   "execution_count": 9,
   "metadata": {},
   "outputs": [],
   "source": [
    "current_path = os.path.dirname(os.getcwd())\n",
    "output_folder_blast_search = os.path.join(current_path, \"PHA_Depolymerasen\", \"proteins\")\n",
    "os.makedirs(output_folder_blast_search, exist_ok=True)\n",
    "counter = 0\n",
    "for hit in proteins:\n",
    "    #print(hit)\n",
    "    with open(output_folder_blast_search + \"/{}.json\".format(hit.id), \"w\") as f:\n",
    "        f.write(hit.json())\n",
    "        counter += 1"
   ]
  },
  {
   "cell_type": "markdown",
   "metadata": {},
   "source": [
    "if there was an error in the get_id function before it is now done\n",
    "all other steps are equivalent to the ones before but for a specific range of the list with all blasted proteins\n",
    "\n",
    "check the error in range 13400:13500"
   ]
  },
  {
   "cell_type": "code",
   "execution_count": 8,
   "metadata": {},
   "outputs": [
    {
     "data": {
      "application/vnd.jupyter.widget-view+json": {
       "model_id": "8136448b47534e358111eb1be9571ee0",
       "version_major": 2,
       "version_minor": 0
      },
      "text/plain": [
       "Output()"
      ]
     },
     "metadata": {},
     "output_type": "display_data"
    },
    {
     "data": {
      "text/html": [
       "<pre style=\"white-space:pre;overflow-x:auto;line-height:normal;font-family:Menlo,'DejaVu Sans Mono',consolas,'Courier New',monospace\">Request to \n",
       "https://eutils.ncbi.nlm.nih.gov/entrez/eutils/efetch.fcgi?db=protein&amp;retmode=text&amp;rettype=genbank&amp;id=WP_139620860.1\n",
       ",WP_263215622.1,MBA3943056.1,PYQ11055.1,MCU1654246.1,MCS6809350.1,MBI5096986.1,KXK12834.1,WP_045996670.1,NBV61445.1\n",
       " failed with status code 429\n",
       "</pre>\n"
      ],
      "text/plain": [
       "Request to \n",
       "https://eutils.ncbi.nlm.nih.gov/entrez/eutils/efetch.fcgi?db=protein&retmode=text&rettype=genbank&id=WP_139620860.1\n",
       ",WP_263215622.1,MBA3943056.1,PYQ11055.1,MCU1654246.1,MCS6809350.1,MBI5096986.1,KXK12834.1,WP_045996670.1,NBV61445.1\n",
       " failed with status code 429\n"
      ]
     },
     "metadata": {},
     "output_type": "display_data"
    },
    {
     "data": {
      "text/html": [
       "<pre style=\"white-space:pre;overflow-x:auto;line-height:normal;font-family:Menlo,'DejaVu Sans Mono',consolas,'Courier New',monospace\">Response: {\"error\":\"API rate limit exceeded\",\"api-key\":\"145.40.68.99\",\"count\":\"4\",\"limit\":\"3\"}\n",
       "\n",
       "</pre>\n"
      ],
      "text/plain": [
       "Response: {\"error\":\"API rate limit exceeded\",\"api-key\":\"145.40.68.99\",\"count\":\"4\",\"limit\":\"3\"}\n",
       "\n"
      ]
     },
     "metadata": {},
     "output_type": "display_data"
    },
    {
     "data": {
      "text/html": [
       "<pre style=\"white-space:pre;overflow-x:auto;line-height:normal;font-family:Menlo,'DejaVu Sans Mono',consolas,'Courier New',monospace\">Rate limit exceeded. Waiting for 1 second...\n",
       "</pre>\n"
      ],
      "text/plain": [
       "Rate limit exceeded. Waiting for 1 second...\n"
      ]
     },
     "metadata": {},
     "output_type": "display_data"
    },
    {
     "data": {
      "text/html": [
       "<pre style=\"white-space:pre;overflow-x:auto;line-height:normal;font-family:Menlo,'DejaVu Sans Mono',consolas,'Courier New',monospace\">Request to \n",
       "https://eutils.ncbi.nlm.nih.gov/entrez/eutils/efetch.fcgi?db=protein&amp;retmode=text&amp;rettype=genbank&amp;id=MCF8169556.1,O\n",
       "YU34491.1,TMQ25239.1,RME74004.1,MCB8944144.1,WP_081955781.1,WP_145842713.1,WP_125846719.1,WP_056604623.1,MCP5071286\n",
       ".1 failed with status code 429\n",
       "</pre>\n"
      ],
      "text/plain": [
       "Request to \n",
       "https://eutils.ncbi.nlm.nih.gov/entrez/eutils/efetch.fcgi?db=protein&retmode=text&rettype=genbank&id=MCF8169556.1,O\n",
       "YU34491.1,TMQ25239.1,RME74004.1,MCB8944144.1,WP_081955781.1,WP_145842713.1,WP_125846719.1,WP_056604623.1,MCP5071286\n",
       ".1 failed with status code 429\n"
      ]
     },
     "metadata": {},
     "output_type": "display_data"
    },
    {
     "data": {
      "text/html": [
       "<pre style=\"white-space:pre;overflow-x:auto;line-height:normal;font-family:Menlo,'DejaVu Sans Mono',consolas,'Courier New',monospace\">Response: {\"error\":\"API rate limit exceeded\",\"api-key\":\"145.40.68.99\",\"count\":\"4\",\"limit\":\"3\"}\n",
       "\n",
       "</pre>\n"
      ],
      "text/plain": [
       "Response: {\"error\":\"API rate limit exceeded\",\"api-key\":\"145.40.68.99\",\"count\":\"4\",\"limit\":\"3\"}\n",
       "\n"
      ]
     },
     "metadata": {},
     "output_type": "display_data"
    },
    {
     "data": {
      "text/html": [
       "<pre style=\"white-space:pre;overflow-x:auto;line-height:normal;font-family:Menlo,'DejaVu Sans Mono',consolas,'Courier New',monospace\">Rate limit exceeded. Waiting for 1 second...\n",
       "</pre>\n"
      ],
      "text/plain": [
       "Rate limit exceeded. Waiting for 1 second...\n"
      ]
     },
     "metadata": {},
     "output_type": "display_data"
    },
    {
     "data": {
      "text/html": [
       "<pre style=\"white-space:pre;overflow-x:auto;line-height:normal;font-family:Menlo,'DejaVu Sans Mono',consolas,'Courier New',monospace\">Request to \n",
       "https://eutils.ncbi.nlm.nih.gov/entrez/eutils/efetch.fcgi?db=protein&amp;retmode=text&amp;rettype=genbank&amp;id=WP_132141130.1\n",
       ",MAT94792.1,WP_107321941.1,WP_100955638.1,PIK15870.1,MCD6639832.1,WP_260078640.1,WP_085179271.1,MBA2516069.1,WP_165\n",
       "270606.1 failed with status code 429\n",
       "</pre>\n"
      ],
      "text/plain": [
       "Request to \n",
       "https://eutils.ncbi.nlm.nih.gov/entrez/eutils/efetch.fcgi?db=protein&retmode=text&rettype=genbank&id=WP_132141130.1\n",
       ",MAT94792.1,WP_107321941.1,WP_100955638.1,PIK15870.1,MCD6639832.1,WP_260078640.1,WP_085179271.1,MBA2516069.1,WP_165\n",
       "270606.1 failed with status code 429\n"
      ]
     },
     "metadata": {},
     "output_type": "display_data"
    },
    {
     "data": {
      "text/html": [
       "<pre style=\"white-space:pre;overflow-x:auto;line-height:normal;font-family:Menlo,'DejaVu Sans Mono',consolas,'Courier New',monospace\">Response: {\"error\":\"API rate limit exceeded\",\"api-key\":\"145.40.68.99\",\"count\":\"4\",\"limit\":\"3\"}\n",
       "\n",
       "</pre>\n"
      ],
      "text/plain": [
       "Response: {\"error\":\"API rate limit exceeded\",\"api-key\":\"145.40.68.99\",\"count\":\"4\",\"limit\":\"3\"}\n",
       "\n"
      ]
     },
     "metadata": {},
     "output_type": "display_data"
    },
    {
     "data": {
      "text/html": [
       "<pre style=\"white-space:pre;overflow-x:auto;line-height:normal;font-family:Menlo,'DejaVu Sans Mono',consolas,'Courier New',monospace\">Rate limit exceeded. Waiting for 1 second...\n",
       "</pre>\n"
      ],
      "text/plain": [
       "Rate limit exceeded. Waiting for 1 second...\n"
      ]
     },
     "metadata": {},
     "output_type": "display_data"
    },
    {
     "data": {
      "text/html": [
       "<pre style=\"white-space:pre;overflow-x:auto;line-height:normal;font-family:Menlo,'DejaVu Sans Mono',consolas,'Courier New',monospace\">Request to \n",
       "https://eutils.ncbi.nlm.nih.gov/entrez/eutils/efetch.fcgi?db=protein&amp;retmode=text&amp;rettype=genbank&amp;id=WP_062940829.1\n",
       ",WP_232497041.1,WP_109472600.1,MBL8351467.1,WP_120955035.1,RWD68286.1,WP_168670869.1,PYM56685.1,WP_035797921.1,WP_2\n",
       "66880973.1 failed with status code 429\n",
       "</pre>\n"
      ],
      "text/plain": [
       "Request to \n",
       "https://eutils.ncbi.nlm.nih.gov/entrez/eutils/efetch.fcgi?db=protein&retmode=text&rettype=genbank&id=WP_062940829.1\n",
       ",WP_232497041.1,WP_109472600.1,MBL8351467.1,WP_120955035.1,RWD68286.1,WP_168670869.1,PYM56685.1,WP_035797921.1,WP_2\n",
       "66880973.1 failed with status code 429\n"
      ]
     },
     "metadata": {},
     "output_type": "display_data"
    },
    {
     "data": {
      "text/html": [
       "<pre style=\"white-space:pre;overflow-x:auto;line-height:normal;font-family:Menlo,'DejaVu Sans Mono',consolas,'Courier New',monospace\">Response: {\"error\":\"API rate limit exceeded\",\"api-key\":\"145.40.68.99\",\"count\":\"4\",\"limit\":\"3\"}\n",
       "\n",
       "</pre>\n"
      ],
      "text/plain": [
       "Response: {\"error\":\"API rate limit exceeded\",\"api-key\":\"145.40.68.99\",\"count\":\"4\",\"limit\":\"3\"}\n",
       "\n"
      ]
     },
     "metadata": {},
     "output_type": "display_data"
    },
    {
     "data": {
      "text/html": [
       "<pre style=\"white-space:pre;overflow-x:auto;line-height:normal;font-family:Menlo,'DejaVu Sans Mono',consolas,'Courier New',monospace\">Rate limit exceeded. Waiting for 1 second...\n",
       "</pre>\n"
      ],
      "text/plain": [
       "Rate limit exceeded. Waiting for 1 second...\n"
      ]
     },
     "metadata": {},
     "output_type": "display_data"
    },
    {
     "data": {
      "text/html": [
       "<pre style=\"white-space:pre;overflow-x:auto;line-height:normal;font-family:Menlo,'DejaVu Sans Mono',consolas,'Courier New',monospace\">Request to \n",
       "https://eutils.ncbi.nlm.nih.gov/entrez/eutils/efetch.fcgi?db=protein&amp;retmode=text&amp;rettype=genbank&amp;id=WP_136851554.1\n",
       ",MCC7414179.1,WP_187632864.1,MBS0594348.1,NWG24049.1,PWU80644.1,HIN05322.1,SEP41215.1,WP_208867041.1,WP_273598309.1\n",
       " failed with status code 429\n",
       "</pre>\n"
      ],
      "text/plain": [
       "Request to \n",
       "https://eutils.ncbi.nlm.nih.gov/entrez/eutils/efetch.fcgi?db=protein&retmode=text&rettype=genbank&id=WP_136851554.1\n",
       ",MCC7414179.1,WP_187632864.1,MBS0594348.1,NWG24049.1,PWU80644.1,HIN05322.1,SEP41215.1,WP_208867041.1,WP_273598309.1\n",
       " failed with status code 429\n"
      ]
     },
     "metadata": {},
     "output_type": "display_data"
    },
    {
     "data": {
      "text/html": [
       "<pre style=\"white-space:pre;overflow-x:auto;line-height:normal;font-family:Menlo,'DejaVu Sans Mono',consolas,'Courier New',monospace\">Response: {\"error\":\"API rate limit exceeded\",\"api-key\":\"145.40.68.99\",\"count\":\"4\",\"limit\":\"3\"}\n",
       "\n",
       "</pre>\n"
      ],
      "text/plain": [
       "Response: {\"error\":\"API rate limit exceeded\",\"api-key\":\"145.40.68.99\",\"count\":\"4\",\"limit\":\"3\"}\n",
       "\n"
      ]
     },
     "metadata": {},
     "output_type": "display_data"
    },
    {
     "data": {
      "text/html": [
       "<pre style=\"white-space:pre;overflow-x:auto;line-height:normal;font-family:Menlo,'DejaVu Sans Mono',consolas,'Courier New',monospace\">Rate limit exceeded. Waiting for 1 second...\n",
       "</pre>\n"
      ],
      "text/plain": [
       "Rate limit exceeded. Waiting for 1 second...\n"
      ]
     },
     "metadata": {},
     "output_type": "display_data"
    },
    {
     "data": {
      "text/html": [
       "<pre style=\"white-space:pre;overflow-x:auto;line-height:normal;font-family:Menlo,'DejaVu Sans Mono',consolas,'Courier New',monospace\">Request to \n",
       "https://eutils.ncbi.nlm.nih.gov/entrez/eutils/efetch.fcgi?db=protein&amp;retmode=text&amp;rettype=genbank&amp;id=MCJ8335289.1,W\n",
       "P_077214329.1,MBK5238712.1,WP_015112270.1,MCA9927900.1,HCX81468.1,WP_145769484.1,OGO47912.1,MCU1678796.1,WP_1082400\n",
       "94.1 failed with status code 429\n",
       "</pre>\n"
      ],
      "text/plain": [
       "Request to \n",
       "https://eutils.ncbi.nlm.nih.gov/entrez/eutils/efetch.fcgi?db=protein&retmode=text&rettype=genbank&id=MCJ8335289.1,W\n",
       "P_077214329.1,MBK5238712.1,WP_015112270.1,MCA9927900.1,HCX81468.1,WP_145769484.1,OGO47912.1,MCU1678796.1,WP_1082400\n",
       "94.1 failed with status code 429\n"
      ]
     },
     "metadata": {},
     "output_type": "display_data"
    },
    {
     "data": {
      "text/html": [
       "<pre style=\"white-space:pre;overflow-x:auto;line-height:normal;font-family:Menlo,'DejaVu Sans Mono',consolas,'Courier New',monospace\">Response: {\"error\":\"API rate limit exceeded\",\"api-key\":\"145.40.68.99\",\"count\":\"4\",\"limit\":\"3\"}\n",
       "\n",
       "</pre>\n"
      ],
      "text/plain": [
       "Response: {\"error\":\"API rate limit exceeded\",\"api-key\":\"145.40.68.99\",\"count\":\"4\",\"limit\":\"3\"}\n",
       "\n"
      ]
     },
     "metadata": {},
     "output_type": "display_data"
    },
    {
     "data": {
      "text/html": [
       "<pre style=\"white-space:pre;overflow-x:auto;line-height:normal;font-family:Menlo,'DejaVu Sans Mono',consolas,'Courier New',monospace\">Rate limit exceeded. Waiting for 1 second...\n",
       "</pre>\n"
      ],
      "text/plain": [
       "Rate limit exceeded. Waiting for 1 second...\n"
      ]
     },
     "metadata": {},
     "output_type": "display_data"
    },
    {
     "data": {
      "text/html": [
       "<pre style=\"white-space:pre;overflow-x:auto;line-height:normal;font-family:Menlo,'DejaVu Sans Mono',consolas,'Courier New',monospace\">Request to \n",
       "https://eutils.ncbi.nlm.nih.gov/entrez/eutils/efetch.fcgi?db=protein&amp;retmode=text&amp;rettype=genbank&amp;id=WP_067701451.1\n",
       ",WP_142582125.1,WP_254476407.1,KAF7131272.1,WP_059262053.1,BCX16420.1,WP_174816946.1,TMK37622.1,WP_212345644.1,MBA3\n",
       "420698.1 failed with status code 429\n",
       "</pre>\n"
      ],
      "text/plain": [
       "Request to \n",
       "https://eutils.ncbi.nlm.nih.gov/entrez/eutils/efetch.fcgi?db=protein&retmode=text&rettype=genbank&id=WP_067701451.1\n",
       ",WP_142582125.1,WP_254476407.1,KAF7131272.1,WP_059262053.1,BCX16420.1,WP_174816946.1,TMK37622.1,WP_212345644.1,MBA3\n",
       "420698.1 failed with status code 429\n"
      ]
     },
     "metadata": {},
     "output_type": "display_data"
    },
    {
     "data": {
      "text/html": [
       "<pre style=\"white-space:pre;overflow-x:auto;line-height:normal;font-family:Menlo,'DejaVu Sans Mono',consolas,'Courier New',monospace\">Response: {\"error\":\"API rate limit exceeded\",\"api-key\":\"145.40.68.99\",\"count\":\"4\",\"limit\":\"3\"}\n",
       "\n",
       "</pre>\n"
      ],
      "text/plain": [
       "Response: {\"error\":\"API rate limit exceeded\",\"api-key\":\"145.40.68.99\",\"count\":\"4\",\"limit\":\"3\"}\n",
       "\n"
      ]
     },
     "metadata": {},
     "output_type": "display_data"
    },
    {
     "data": {
      "text/html": [
       "<pre style=\"white-space:pre;overflow-x:auto;line-height:normal;font-family:Menlo,'DejaVu Sans Mono',consolas,'Courier New',monospace\">Rate limit exceeded. Waiting for 1 second...\n",
       "</pre>\n"
      ],
      "text/plain": [
       "Rate limit exceeded. Waiting for 1 second...\n"
      ]
     },
     "metadata": {},
     "output_type": "display_data"
    },
    {
     "data": {
      "text/html": [
       "<pre style=\"white-space:pre;overflow-x:auto;line-height:normal;font-family:Menlo,'DejaVu Sans Mono',consolas,'Courier New',monospace\">Request to \n",
       "https://eutils.ncbi.nlm.nih.gov/entrez/eutils/efetch.fcgi?db=protein&amp;retmode=text&amp;rettype=genbank&amp;id=MCF8383211.1,M\n",
       "BK1866442.1,MCB9638204.1,TMF41522.1,MBL0089822.1,WP_194050862.1,MCH3967741.1,MBI2525725.1,HCU89803.1,OUR98015.1 \n",
       "failed with status code 429\n",
       "</pre>\n"
      ],
      "text/plain": [
       "Request to \n",
       "https://eutils.ncbi.nlm.nih.gov/entrez/eutils/efetch.fcgi?db=protein&retmode=text&rettype=genbank&id=MCF8383211.1,M\n",
       "BK1866442.1,MCB9638204.1,TMF41522.1,MBL0089822.1,WP_194050862.1,MCH3967741.1,MBI2525725.1,HCU89803.1,OUR98015.1 \n",
       "failed with status code 429\n"
      ]
     },
     "metadata": {},
     "output_type": "display_data"
    },
    {
     "data": {
      "text/html": [
       "<pre style=\"white-space:pre;overflow-x:auto;line-height:normal;font-family:Menlo,'DejaVu Sans Mono',consolas,'Courier New',monospace\">Response: {\"error\":\"API rate limit exceeded\",\"api-key\":\"145.40.68.99\",\"count\":\"4\",\"limit\":\"3\"}\n",
       "\n",
       "</pre>\n"
      ],
      "text/plain": [
       "Response: {\"error\":\"API rate limit exceeded\",\"api-key\":\"145.40.68.99\",\"count\":\"4\",\"limit\":\"3\"}\n",
       "\n"
      ]
     },
     "metadata": {},
     "output_type": "display_data"
    },
    {
     "data": {
      "text/html": [
       "<pre style=\"white-space:pre;overflow-x:auto;line-height:normal;font-family:Menlo,'DejaVu Sans Mono',consolas,'Courier New',monospace\">Rate limit exceeded. Waiting for 1 second...\n",
       "</pre>\n"
      ],
      "text/plain": [
       "Rate limit exceeded. Waiting for 1 second...\n"
      ]
     },
     "metadata": {},
     "output_type": "display_data"
    },
    {
     "data": {
      "text/html": [
       "<pre style=\"white-space:pre;overflow-x:auto;line-height:normal;font-family:Menlo,'DejaVu Sans Mono',consolas,'Courier New',monospace\">Request to \n",
       "https://eutils.ncbi.nlm.nih.gov/entrez/eutils/efetch.fcgi?db=protein&amp;retmode=text&amp;rettype=genbank&amp;id=WP_267886575.1\n",
       ",MBJ30984.1,WP_079602308.1,WP_206473251.1,MCC6948902.1,WP_050530426.1,QAU32756.1,TNE97321.1,MBD2761008.1,MBY8105058\n",
       ".1 failed with status code 429\n",
       "</pre>\n"
      ],
      "text/plain": [
       "Request to \n",
       "https://eutils.ncbi.nlm.nih.gov/entrez/eutils/efetch.fcgi?db=protein&retmode=text&rettype=genbank&id=WP_267886575.1\n",
       ",MBJ30984.1,WP_079602308.1,WP_206473251.1,MCC6948902.1,WP_050530426.1,QAU32756.1,TNE97321.1,MBD2761008.1,MBY8105058\n",
       ".1 failed with status code 429\n"
      ]
     },
     "metadata": {},
     "output_type": "display_data"
    },
    {
     "data": {
      "text/html": [
       "<pre style=\"white-space:pre;overflow-x:auto;line-height:normal;font-family:Menlo,'DejaVu Sans Mono',consolas,'Courier New',monospace\">Response: {\"error\":\"API rate limit exceeded\",\"api-key\":\"145.40.68.99\",\"count\":\"4\",\"limit\":\"3\"}\n",
       "\n",
       "</pre>\n"
      ],
      "text/plain": [
       "Response: {\"error\":\"API rate limit exceeded\",\"api-key\":\"145.40.68.99\",\"count\":\"4\",\"limit\":\"3\"}\n",
       "\n"
      ]
     },
     "metadata": {},
     "output_type": "display_data"
    },
    {
     "data": {
      "text/html": [
       "<pre style=\"white-space:pre;overflow-x:auto;line-height:normal;font-family:Menlo,'DejaVu Sans Mono',consolas,'Courier New',monospace\">Rate limit exceeded. Waiting for 1 second...\n",
       "</pre>\n"
      ],
      "text/plain": [
       "Rate limit exceeded. Waiting for 1 second...\n"
      ]
     },
     "metadata": {},
     "output_type": "display_data"
    },
    {
     "data": {
      "text/html": [
       "<pre style=\"white-space:pre;overflow-x:auto;line-height:normal;font-family:Menlo,'DejaVu Sans Mono',consolas,'Courier New',monospace\">Request to \n",
       "https://eutils.ncbi.nlm.nih.gov/entrez/eutils/efetch.fcgi?db=protein&amp;retmode=text&amp;rettype=genbank&amp;id=MBU1156638.1,M\n",
       "BL4886149.1,GAA99864.1,WP_224274607.1,MCD6010659.1,MCB0755084.1,MBI2205395.1,XP_045847402.1,MCI3948329.1,MBV8357041\n",
       ".1 failed with status code 429\n",
       "</pre>\n"
      ],
      "text/plain": [
       "Request to \n",
       "https://eutils.ncbi.nlm.nih.gov/entrez/eutils/efetch.fcgi?db=protein&retmode=text&rettype=genbank&id=MBU1156638.1,M\n",
       "BL4886149.1,GAA99864.1,WP_224274607.1,MCD6010659.1,MCB0755084.1,MBI2205395.1,XP_045847402.1,MCI3948329.1,MBV8357041\n",
       ".1 failed with status code 429\n"
      ]
     },
     "metadata": {},
     "output_type": "display_data"
    },
    {
     "data": {
      "text/html": [
       "<pre style=\"white-space:pre;overflow-x:auto;line-height:normal;font-family:Menlo,'DejaVu Sans Mono',consolas,'Courier New',monospace\">Response: {\"error\":\"API rate limit exceeded\",\"api-key\":\"145.40.68.99\",\"count\":\"4\",\"limit\":\"3\"}\n",
       "\n",
       "</pre>\n"
      ],
      "text/plain": [
       "Response: {\"error\":\"API rate limit exceeded\",\"api-key\":\"145.40.68.99\",\"count\":\"4\",\"limit\":\"3\"}\n",
       "\n"
      ]
     },
     "metadata": {},
     "output_type": "display_data"
    },
    {
     "data": {
      "text/html": [
       "<pre style=\"white-space:pre;overflow-x:auto;line-height:normal;font-family:Menlo,'DejaVu Sans Mono',consolas,'Courier New',monospace\">Rate limit exceeded. Waiting for 1 second...\n",
       "</pre>\n"
      ],
      "text/plain": [
       "Rate limit exceeded. Waiting for 1 second...\n"
      ]
     },
     "metadata": {},
     "output_type": "display_data"
    },
    {
     "data": {
      "text/html": [
       "<pre style=\"white-space:pre;overflow-x:auto;line-height:normal;font-family:Menlo,'DejaVu Sans Mono',consolas,'Courier New',monospace\">Error mapping organism for ERI89778.1: [{'type': 'missing', 'loc': ('taxonomy_id',), 'msg': 'Field required', \n",
       "'input': {}, 'url': 'https://errors.pydantic.dev/2.7/v/missing'}] \n",
       "[{\"type\":\"missing\",\"loc\":[\"taxonomy_id\"],\"msg\":\"Field \n",
       "required\",\"input\":{},\"url\":\"https://errors.pydantic.dev/2.7/v/missing\"}]\n",
       "</pre>\n"
      ],
      "text/plain": [
       "Error mapping organism for ERI89778.1: [{'type': 'missing', 'loc': ('taxonomy_id',), 'msg': 'Field required', \n",
       "'input': {}, 'url': 'https://errors.pydantic.dev/2.7/v/missing'}] \n",
       "[{\"type\":\"missing\",\"loc\":[\"taxonomy_id\"],\"msg\":\"Field \n",
       "required\",\"input\":{},\"url\":\"https://errors.pydantic.dev/2.7/v/missing\"}]\n"
      ]
     },
     "metadata": {},
     "output_type": "display_data"
    },
    {
     "data": {
      "text/html": [
       "<pre style=\"white-space:pre;overflow-x:auto;line-height:normal;font-family:Menlo,'DejaVu Sans Mono',consolas,'Courier New',monospace\">Error mapping organism for EFG76799.1: [{'type': 'missing', 'loc': ('taxonomy_id',), 'msg': 'Field required', \n",
       "'input': {}, 'url': 'https://errors.pydantic.dev/2.7/v/missing'}] \n",
       "[{\"type\":\"missing\",\"loc\":[\"taxonomy_id\"],\"msg\":\"Field \n",
       "required\",\"input\":{},\"url\":\"https://errors.pydantic.dev/2.7/v/missing\"}]\n",
       "</pre>\n"
      ],
      "text/plain": [
       "Error mapping organism for EFG76799.1: [{'type': 'missing', 'loc': ('taxonomy_id',), 'msg': 'Field required', \n",
       "'input': {}, 'url': 'https://errors.pydantic.dev/2.7/v/missing'}] \n",
       "[{\"type\":\"missing\",\"loc\":[\"taxonomy_id\"],\"msg\":\"Field \n",
       "required\",\"input\":{},\"url\":\"https://errors.pydantic.dev/2.7/v/missing\"}]\n"
      ]
     },
     "metadata": {},
     "output_type": "display_data"
    },
    {
     "data": {
      "text/html": [
       "<pre style=\"white-space:pre;overflow-x:auto;line-height:normal;font-family:Menlo,'DejaVu Sans Mono',consolas,'Courier New',monospace\">Error mapping organism for GAB22142.1: [{'type': 'missing', 'loc': ('taxonomy_id',), 'msg': 'Field required', \n",
       "'input': {}, 'url': 'https://errors.pydantic.dev/2.7/v/missing'}] \n",
       "[{\"type\":\"missing\",\"loc\":[\"taxonomy_id\"],\"msg\":\"Field \n",
       "required\",\"input\":{},\"url\":\"https://errors.pydantic.dev/2.7/v/missing\"}]\n",
       "</pre>\n"
      ],
      "text/plain": [
       "Error mapping organism for GAB22142.1: [{'type': 'missing', 'loc': ('taxonomy_id',), 'msg': 'Field required', \n",
       "'input': {}, 'url': 'https://errors.pydantic.dev/2.7/v/missing'}] \n",
       "[{\"type\":\"missing\",\"loc\":[\"taxonomy_id\"],\"msg\":\"Field \n",
       "required\",\"input\":{},\"url\":\"https://errors.pydantic.dev/2.7/v/missing\"}]\n"
      ]
     },
     "metadata": {},
     "output_type": "display_data"
    },
    {
     "data": {
      "text/html": [
       "<pre style=\"white-space:pre;overflow-x:auto;line-height:normal;font-family:Menlo,'DejaVu Sans Mono',consolas,'Courier New',monospace\"></pre>\n"
      ],
      "text/plain": []
     },
     "metadata": {},
     "output_type": "display_data"
    },
    {
     "data": {
      "text/html": [
       "<pre style=\"white-space:pre;overflow-x:auto;line-height:normal;font-family:Menlo,'DejaVu Sans Mono',consolas,'Courier New',monospace\">\n",
       "</pre>\n"
      ],
      "text/plain": [
       "\n"
      ]
     },
     "metadata": {},
     "output_type": "display_data"
    },
    {
     "data": {
      "application/vnd.jupyter.widget-view+json": {
       "model_id": "bd5aa447c7a84b59a636a4af38fe544e",
       "version_major": 2,
       "version_minor": 0
      },
      "text/plain": [
       "Output()"
      ]
     },
     "metadata": {},
     "output_type": "display_data"
    },
    {
     "data": {
      "text/html": [
       "<pre style=\"white-space:pre;overflow-x:auto;line-height:normal;font-family:Menlo,'DejaVu Sans Mono',consolas,'Courier New',monospace\">Request to \n",
       "https://eutils.ncbi.nlm.nih.gov/entrez/eutils/efetch.fcgi?db=protein&amp;retmode=text&amp;rettype=genbank&amp;id=WP_048730694.1\n",
       ",TAM02258.1,WP_274126402.1,MCK4388458.1,WP_091390092.1,TCK91904.1,WP_091768325.1,MTI52999.1,MCE5287769.1,KAJ1296818\n",
       ".1 failed with status code 429\n",
       "</pre>\n"
      ],
      "text/plain": [
       "Request to \n",
       "https://eutils.ncbi.nlm.nih.gov/entrez/eutils/efetch.fcgi?db=protein&retmode=text&rettype=genbank&id=WP_048730694.1\n",
       ",TAM02258.1,WP_274126402.1,MCK4388458.1,WP_091390092.1,TCK91904.1,WP_091768325.1,MTI52999.1,MCE5287769.1,KAJ1296818\n",
       ".1 failed with status code 429\n"
      ]
     },
     "metadata": {},
     "output_type": "display_data"
    },
    {
     "data": {
      "text/html": [
       "<pre style=\"white-space:pre;overflow-x:auto;line-height:normal;font-family:Menlo,'DejaVu Sans Mono',consolas,'Courier New',monospace\">Response: {\"error\":\"API rate limit exceeded\",\"api-key\":\"145.40.68.99\",\"count\":\"4\",\"limit\":\"3\"}\n",
       "\n",
       "</pre>\n"
      ],
      "text/plain": [
       "Response: {\"error\":\"API rate limit exceeded\",\"api-key\":\"145.40.68.99\",\"count\":\"4\",\"limit\":\"3\"}\n",
       "\n"
      ]
     },
     "metadata": {},
     "output_type": "display_data"
    },
    {
     "data": {
      "text/html": [
       "<pre style=\"white-space:pre;overflow-x:auto;line-height:normal;font-family:Menlo,'DejaVu Sans Mono',consolas,'Courier New',monospace\">Rate limit exceeded. Waiting for 1 second...\n",
       "</pre>\n"
      ],
      "text/plain": [
       "Rate limit exceeded. Waiting for 1 second...\n"
      ]
     },
     "metadata": {},
     "output_type": "display_data"
    }
   ],
   "source": [
    "i = 35500\n",
    "j=355001\n",
    "proteins_test = []\n",
    "error_test = []\n",
    "for _ in range(100):\n",
    "    try: \n",
    "        protein_i = ProteinRecord.get_ids(source_ids[i:j])\n",
    "        proteins_test.extend(protein_i)\n",
    "        print(i)\n",
    "        \n",
    "    except:\n",
    "        error_test.append(f\"error in range {i}:{j}\")\n",
    "    \n",
    "    i += 1\n",
    "    j += 1"
   ]
  },
  {
   "cell_type": "code",
   "execution_count": null,
   "metadata": {},
   "outputs": [],
   "source": [
    "i = 2200\n",
    "\n",
    "proteins_test = []\n",
    "error_test = []\n",
    "for k in range(100):\n",
    "    try: \n",
    "        protein_i = ProteinRecord.get_id(source_ids[i])\n",
    "        proteins_test.extend(protein_i)\n",
    "\n",
    "    except: \n",
    "        error_test.append(f\"error in source id {source_ids[i]}\")\n",
    "    \n",
    "    i += 1\n"
   ]
  },
  {
   "cell_type": "code",
   "execution_count": null,
   "metadata": {},
   "outputs": [
    {
     "name": "stdout",
     "output_type": "stream",
     "text": [
      "\u001b[4mProteinRecord\u001b[0m\n",
      "├── \u001b[94mid\u001b[0m = BAO91169.1\n",
      "├── \u001b[94mname\u001b[0m = branched-chain alpha-keto acid dehydrogenase\n",
      "├── \u001b[94morganism\u001b[0m\n",
      "│   └── \u001b[4mOrganism\u001b[0m\n",
      "│       ├── \u001b[94mid\u001b[0m = 3c9838c0-23fb-42a2-b2aa-e2e3faa99197\n",
      "│       ├── \u001b[94mtaxonomy_id\u001b[0m = 758796\n",
      "│       ├── \u001b[94mname\u001b[0m = Burkholderia sp. RPE67\n",
      "│       ├── \u001b[94mdomain\u001b[0m = Bacteria\n",
      "│       ├── \u001b[94mphylum\u001b[0m = Pseudomonadota\n",
      "│       ├── \u001b[94mtax_class\u001b[0m = Betaproteobacteria\n",
      "│       ├── \u001b[94morder\u001b[0m = Burkholderiales\n",
      "│       ├── \u001b[94mfamily\u001b[0m = Burkholderiaceae\n",
      "│       └── \u001b[94mgenus\u001b[0m = Burkholderia\n",
      "├── \u001b[94msequence\u001b[0m = MAAITPIVMPKWGLSMKEGTVNEWLVEEGTEITVGMPILDVETDKIANAVEAPDAGLLRRRVAAAGDVLPVKALLGVLAPAEVSDADIDAYVSSYVTPAEDEDEGEEAAAYHFVDVDGIRVRYASRGGDDAARSAVLFLHGFGGDLDNWLFNLDALAEKNRVFALDLPGHGQSTPNVPGTSLAALASFVGKFMDAVGIERAHLVGHSMGGGIAAQMAVDSPARVQSVSLISPAGFGDEVNNAYTEGFVTAESRRELKPVVELLFANPELVSRQMLDDLLKYKRLDGVSDALTSLNAGLFAGGKQSAQPGGQLAESGKPVLVIWGAKDQIIPAAHAKNAPQGATVKVFDDAGHMSQMEKANEVNALLKEQVGKGG\n",
      "├── \u001b[94mregions\u001b[0m\n",
      "│   └── 0\n",
      "│       └── \u001b[4mRegion\u001b[0m\n",
      "│           ├── \u001b[94mid\u001b[0m = PRK14875\n",
      "│           ├── \u001b[94mstart\u001b[0m = 3\n",
      "│           └── \u001b[94mend\u001b[0m = 373\n",
      "└── \u001b[94mcoding_sequence\u001b[0m\n",
      "    └── 0\n",
      "        └── \u001b[4mRegion\u001b[0m\n",
      "            ├── \u001b[94mid\u001b[0m = AP014579.1\n",
      "            ├── \u001b[94mstart\u001b[0m = 15102\n",
      "            └── \u001b[94mend\u001b[0m = 16226\n",
      "\n",
      "\u001b[4mProteinRecord\u001b[0m\n",
      "├── \u001b[94mid\u001b[0m = WP_075568328.1\n",
      "├── \u001b[94mname\u001b[0m = alpha/beta hydrolase\n",
      "├── \u001b[94morganism\u001b[0m\n",
      "│   └── \u001b[4mOrganism\u001b[0m\n",
      "│       ├── \u001b[94mid\u001b[0m = 404433\n",
      "│       ├── \u001b[94mtaxonomy_id\u001b[0m = 404433\n",
      "│       └── \u001b[94mname\u001b[0m = Salinicola socius\n",
      "├── \u001b[94msequence\u001b[0m = MMIETDNAVLHVVEHGAGQRTLVFLHYWGGSGRTWTEVAKALGGRHRCLMPDLPGWGQSSLSRRGYRIADLADSVSGMIDARQLRDVVLVGHSMGGKIAQYLAGQRPAWLKELVLVASSPALPMDVPEPQRLAMQSAYDSRASVEETLDHVLTATPVAGVMRERAIADSLAGDPAAKAAWPAVAMLEDISETTRRIDVPTLLLTGECDRVDPPAVLADRLAPFLPTPEIQELAGIGHLLPLEAPAEVAAHIQRWLDEHRG\n",
      "├── \u001b[94mregions\u001b[0m\n",
      "│   └── 0\n",
      "│       └── \u001b[4mRegion\u001b[0m\n",
      "│           ├── \u001b[94mid\u001b[0m = MenH\n",
      "│           ├── \u001b[94mstart\u001b[0m = 0\n",
      "│           └── \u001b[94mend\u001b[0m = 258\n",
      "└── \u001b[94mmol_weight\u001b[0m = 28015.0\n",
      "\n",
      "\u001b[4mProteinRecord\u001b[0m\n",
      "├── \u001b[94mid\u001b[0m = MBA2354832.1\n",
      "├── \u001b[94mname\u001b[0m = alpha/beta fold hydrolase\n",
      "├── \u001b[94morganism\u001b[0m\n",
      "│   └── \u001b[4mOrganism\u001b[0m\n",
      "│       ├── \u001b[94mid\u001b[0m = f83837b9-eb76-4e12-8904-01caf21cb068\n",
      "│       ├── \u001b[94mtaxonomy_id\u001b[0m = 1978231\n",
      "│       ├── \u001b[94mname\u001b[0m = Acidobacteriota bacterium\n",
      "│       ├── \u001b[94mdomain\u001b[0m = Bacteria\n",
      "│       └── \u001b[94mphylum\u001b[0m = Acidobacteriota\n",
      "├── \u001b[94msequence\u001b[0m = MVVTGRGPAMLMIPGIQGRWEWMAPAVDTLGARLRVGSYSLSGEPESVPPQIARTFDDLVRQALNALTRLTDAPAVVCGVSYGALIALRLAARYPERVRALVLASPLNADFAPDARIRGWVAHPYLMAPAFLAGSPGRTLPEIRAAHDGRWLRAALGLLARVARAPHSPGRMAARLRMLDGEDLVSDCRAVRQPTLLVTGEPVLDLIVPADASCRMLDWIPDVRHVTLRRTGHWGLVTRREAFATQVHAFLETLP\n",
      "└── \u001b[94mcoding_sequence\u001b[0m\n",
      "    └── 0\n",
      "        └── \u001b[4mRegion\u001b[0m\n",
      "            ├── \u001b[94mid\u001b[0m = JACDAO010000394.1\n",
      "            ├── \u001b[94mstart\u001b[0m = 3298\n",
      "            └── \u001b[94mend\u001b[0m = 4065\n",
      "\n",
      "\u001b[4mProteinRecord\u001b[0m\n",
      "├── \u001b[94mid\u001b[0m = WP_183100717.1\n",
      "├── \u001b[94mname\u001b[0m = alpha/beta fold hydrolase\n",
      "├── \u001b[94morganism\u001b[0m\n",
      "│   └── \u001b[4mOrganism\u001b[0m\n",
      "│       ├── \u001b[94mid\u001b[0m = b6a47826-ea3c-4aaf-9380-c0f02408c774\n",
      "│       ├── \u001b[94mtaxonomy_id\u001b[0m = 2172019\n",
      "│       ├── \u001b[94mname\u001b[0m = Nocardioides pelophilus\n",
      "│       ├── \u001b[94mdomain\u001b[0m = Bacteria\n",
      "│       ├── \u001b[94mphylum\u001b[0m = Actinomycetota\n",
      "│       ├── \u001b[94mtax_class\u001b[0m = Actinomycetes\n",
      "│       ├── \u001b[94morder\u001b[0m = Propionibacteriales\n",
      "│       ├── \u001b[94mfamily\u001b[0m = Nocardioidaceae\n",
      "│       └── \u001b[94mgenus\u001b[0m = Nocardioides\n",
      "├── \u001b[94msequence\u001b[0m = MALATVQLLPWHGRHLAVRRAGVGPSVVLIHGMAGSLTTWDPVFAELARNCDVIAVDLPGHGTSSRMRGDYSLGSMAASVRDVLDVLDVKRATVVGHSLGGGIAMQFMYQFPERCERLVLVGSGGLGREVTPMLRALAVPGAGLALGAVARLQHQRHVAAAGRLVRPLAARVWNDLPYMLRQMATLDDPETRRSFLATIHAVIDVGGQGINATDRLHLAAGLPTLIVWGEHDRMIPSRHGRAAAELVPGCRFELIPGAGHYPHEDNPELFASLVADFIATTQPRDMTAS\n",
      "├── \u001b[94mregions\u001b[0m\n",
      "│   └── 0\n",
      "│       └── \u001b[4mRegion\u001b[0m\n",
      "│           ├── \u001b[94mid\u001b[0m = MenH\n",
      "│           ├── \u001b[94mstart\u001b[0m = 2\n",
      "│           └── \u001b[94mend\u001b[0m = 281\n",
      "└── \u001b[94mmol_weight\u001b[0m = 30849.0\n",
      "\n",
      "\u001b[4mProteinRecord\u001b[0m\n",
      "├── \u001b[94mid\u001b[0m = KNH21882.1\n",
      "├── \u001b[94mname\u001b[0m = alpha/beta hydrolase\n",
      "├── \u001b[94morganism\u001b[0m\n",
      "│   └── \u001b[4mOrganism\u001b[0m\n",
      "│       ├── \u001b[94mid\u001b[0m = 626c30aa-1e43-4caa-84c1-4038d7d33ef4\n",
      "│       ├── \u001b[94mtaxonomy_id\u001b[0m = 1676590\n",
      "│       ├── \u001b[94mname\u001b[0m = Arthrobacter sp. ZBG10\n",
      "│       ├── \u001b[94mdomain\u001b[0m = Bacteria\n",
      "│       ├── \u001b[94mphylum\u001b[0m = Actinomycetota\n",
      "│       ├── \u001b[94mtax_class\u001b[0m = Actinomycetes\n",
      "│       ├── \u001b[94morder\u001b[0m = Micrococcales\n",
      "│       ├── \u001b[94mfamily\u001b[0m = Micrococcaceae\n",
      "│       └── \u001b[94mgenus\u001b[0m = Arthrobacter\n",
      "├── \u001b[94msequence\u001b[0m = MTVPCLVQDTGRTGTPLLLLHAWGESRKSFDRLIPQLTGCRTYAPHLRGQGDADKPLSGYSLTKQAEDAAAILDALELPHAAVVGSSSCGYVAQQLALAHPQRVTALVLVGSPLSLQGRPAVADEVDALTDPLDEAWVRNSLTWFPLVHDVPAWYIMDRVRDGRSMPAHAWKSIFNGLCGAIPPSKSGTIQAPTLILWGGQDNLLPRTDQETLAARIPGSVLRTYPDAAHLVLWECPERVAEDITVFLRTLG\n",
      "├── \u001b[94mregions\u001b[0m\n",
      "│   └── 0\n",
      "│       └── \u001b[4mRegion\u001b[0m\n",
      "│           ├── \u001b[94mid\u001b[0m = MenH\n",
      "│           ├── \u001b[94mstart\u001b[0m = 6\n",
      "│           └── \u001b[94mend\u001b[0m = 251\n",
      "└── \u001b[94mcoding_sequence\u001b[0m\n",
      "    └── 0\n",
      "        └── \u001b[4mRegion\u001b[0m\n",
      "            ├── \u001b[94mid\u001b[0m = LFQH01000008.1\n",
      "            ├── \u001b[94mstart\u001b[0m = 16554\n",
      "            └── \u001b[94mend\u001b[0m = 17312\n",
      "\n",
      "\u001b[4mProteinRecord\u001b[0m\n",
      "├── \u001b[94mid\u001b[0m = MCU0765294.1\n",
      "├── \u001b[94mname\u001b[0m = 3-oxoadipate enol-lactonase\n",
      "├── \u001b[94morganism\u001b[0m\n",
      "│   └── \u001b[4mOrganism\u001b[0m\n",
      "│       ├── \u001b[94mid\u001b[0m = fc23f4b1-8361-442c-a14e-448dbd05a769\n",
      "│       ├── \u001b[94mtaxonomy_id\u001b[0m = 2030806\n",
      "│       ├── \u001b[94mname\u001b[0m = Burkholderiaceae bacterium\n",
      "│       ├── \u001b[94mdomain\u001b[0m = Bacteria\n",
      "│       ├── \u001b[94mphylum\u001b[0m = Pseudomonadota\n",
      "│       ├── \u001b[94mtax_class\u001b[0m = Betaproteobacteria\n",
      "│       ├── \u001b[94morder\u001b[0m = Burkholderiales\n",
      "│       └── \u001b[94mfamily\u001b[0m = Burkholderiaceae\n",
      "├── \u001b[94msequence\u001b[0m = MPFAQLADVRLHYELEGDPARPVLMLCNSLGTTLEMWAPQMPAFLAHFRVLRYDTRGHGRSEVTPGEYSIARLGADAVALLDHLGIGRVSFCGLSMGGMTGMWLGANRPERVERLVLANTGARVGDPSVWAARFAAVRAGGMAAITPGVLDRWFTARYQHLAADEVQKVRAMLLATSPDGYIANGAAVRDMDQRAELAKITAPTLVIAGTHDGSTPPELGRAVAQAIDGARYVELDAAHLSNWEQAGAFTAAALSLLLDGGPNERARFEAGLAVRRPVLGTEYVDRALAGRSAFSAEFQDLVTRYCWGEVWTRPGLPRHTRSLLTIVMTLALNRMDEFRLHVRAARNNGVTRDEIREALLQAAIYCGVPAGVSAFRVAG\n",
      "├── \u001b[94mcoding_sequence\u001b[0m\n",
      "│   └── 0\n",
      "│       └── \u001b[4mRegion\u001b[0m\n",
      "│           ├── \u001b[94mid\u001b[0m = JALOSB010000155.1\n",
      "│           ├── \u001b[94mstart\u001b[0m = 2680\n",
      "│           └── \u001b[94mend\u001b[0m = 3815\n",
      "└── \u001b[94mec_number\u001b[0m = 3.1.1.24\n",
      "\n",
      "\u001b[4mProteinRecord\u001b[0m\n",
      "├── \u001b[94mid\u001b[0m = WP_014129794.1\n",
      "├── \u001b[94mname\u001b[0m = 3-oxoadipate enol-lactonase\n",
      "├── \u001b[94morganism\u001b[0m\n",
      "│   └── \u001b[4mOrganism\u001b[0m\n",
      "│       ├── \u001b[94mid\u001b[0m = 2a569a0d-7624-4343-978b-e975cdd92829\n",
      "│       ├── \u001b[94mtaxonomy_id\u001b[0m = 531813\n",
      "│       ├── \u001b[94mname\u001b[0m = Pelagibacterium halotolerans\n",
      "│       ├── \u001b[94mdomain\u001b[0m = Bacteria\n",
      "│       ├── \u001b[94mphylum\u001b[0m = Pseudomonadota\n",
      "│       ├── \u001b[94mtax_class\u001b[0m = Alphaproteobacteria\n",
      "│       ├── \u001b[94morder\u001b[0m = Hyphomicrobiales\n",
      "│       ├── \u001b[94mfamily\u001b[0m = Devosiaceae\n",
      "│       └── \u001b[94mgenus\u001b[0m = Pelagibacterium\n",
      "├── \u001b[94msequence\u001b[0m = MQFLKVDDAVLHFQVIGGPENGPVLVFANALGTDFRIWRDVIVCLVGKFTILTYDTRGHGLSETGEGPVTMERHAEDLAAIMDHLGFKRSIICGLSVGGLIAQQLYADRRDLVSALILCDTGAKVGDADLWNQRIAAVEANGISVLSDDLMPNWFTADFRTSRAEELAGYRTMLERQSARGYIATCAAIRDTDLREKARQIGVPTICIVGEQDGSTPVQTVRELAKSIPGSRFEIIGGSGHLACVEAPERLADIILAFTDGLPKRPVLN\n",
      "├── \u001b[94mregions\u001b[0m\n",
      "│   └── 0\n",
      "│       └── \u001b[4mRegion\u001b[0m\n",
      "│           ├── \u001b[94mid\u001b[0m = protocat_pcaD\n",
      "│           ├── \u001b[94mstart\u001b[0m = 9\n",
      "│           └── \u001b[94mend\u001b[0m = 258\n",
      "├── \u001b[94mec_number\u001b[0m = 3.1.1.24\n",
      "└── \u001b[94mmol_weight\u001b[0m = 29078.0\n",
      "\n",
      "\u001b[4mProteinRecord\u001b[0m\n",
      "├── \u001b[94mid\u001b[0m = MCP4624338.1\n",
      "├── \u001b[94mname\u001b[0m = alpha/beta fold hydrolase\n",
      "├── \u001b[94morganism\u001b[0m\n",
      "│   └── \u001b[4mOrganism\u001b[0m\n",
      "│       ├── \u001b[94mid\u001b[0m = 923f615f-6d53-48e7-a1f2-e073dcf1716d\n",
      "│       ├── \u001b[94mtaxonomy_id\u001b[0m = 1869227\n",
      "│       ├── \u001b[94mname\u001b[0m = bacterium\n",
      "│       └── \u001b[94mdomain\u001b[0m = Bacteria\n",
      "├── \u001b[94msequence\u001b[0m = MKILANDIQINYELTGQAEAPVVMLSHSLASSMVMWNPQLPSLEAHFQVLRYDMRGHGDSEAPEGAYTLELLAQDAVALLNALDIDTVHFVGLSIGGMIGQSLALNHADRLKSIALCDTSAIMPAEAQPILQERIATARASGMDDQVDGTLERWFTPQYLEENPPEVEMIRKQIAATPLAGYLGCSEALGGLNYLARLPEIKLATLIMVGEEDPGTPVAASEAIHERIAGSQLVILPSARHLSNIEQADAFNKSLINFLLNQ\n",
      "└── \u001b[94mcoding_sequence\u001b[0m\n",
      "    └── 0\n",
      "        └── \u001b[4mRegion\u001b[0m\n",
      "            ├── \u001b[94mid\u001b[0m = JAAEQO010000480.1\n",
      "            ├── \u001b[94mstart\u001b[0m = 2169\n",
      "            └── \u001b[94mend\u001b[0m = 2957\n",
      "\n",
      "\u001b[4mProteinRecord\u001b[0m\n",
      "├── \u001b[94mid\u001b[0m = WP_062420326.1\n",
      "├── \u001b[94mname\u001b[0m = alpha/beta hydrolase\n",
      "├── \u001b[94morganism\u001b[0m\n",
      "│   └── \u001b[4mOrganism\u001b[0m\n",
      "│       ├── \u001b[94mid\u001b[0m = cdbf38f0-ffba-4c76-91fb-39c0d535a7b9\n",
      "│       ├── \u001b[94mtaxonomy_id\u001b[0m = 229920\n",
      "│       ├── \u001b[94mname\u001b[0m = Leptolinea tardivitalis\n",
      "│       ├── \u001b[94mdomain\u001b[0m = Bacteria\n",
      "│       ├── \u001b[94mphylum\u001b[0m = Chloroflexota\n",
      "│       ├── \u001b[94mtax_class\u001b[0m = Anaerolineae\n",
      "│       ├── \u001b[94morder\u001b[0m = Anaerolineales\n",
      "│       ├── \u001b[94mfamily\u001b[0m = Anaerolineaceae\n",
      "│       └── \u001b[94mgenus\u001b[0m = Leptolinea\n",
      "├── \u001b[94msequence\u001b[0m = MAIINTEKASIFYLDPRPMNRPVIFLLHGLGTEASSWTYQIEALEDAGFRPIAPDLPGFGRSRFFGDRWSIRYTSAAIVSMADNLGIDRFHIAGISMGGTIALQTAIDHPDRLLSLVLINTFASLHPKRWNEWVYLVRRYIRAWFRGAGAQAELTANRIFPRPDQEELRRELVSHIRQTDPQVYKQAMRELGLYDARKSLNRIQIHSLLITGRDDTTVPLENQHDLATGIDGCRQVFIANAGHGVIIDQPEEVNRYLVEFLRLHSN\n",
      "├── \u001b[94mregions\u001b[0m\n",
      "│   └── 0\n",
      "│       └── \u001b[4mRegion\u001b[0m\n",
      "│           ├── \u001b[94mid\u001b[0m = MenH\n",
      "│           ├── \u001b[94mstart\u001b[0m = 10\n",
      "│           └── \u001b[94mend\u001b[0m = 262\n",
      "└── \u001b[94mmol_weight\u001b[0m = 30189.0\n",
      "\n",
      "\u001b[4mProteinRecord\u001b[0m\n",
      "├── \u001b[94mid\u001b[0m = WP_048919218.1\n",
      "├── \u001b[94mname\u001b[0m = alpha/beta hydrolase\n",
      "├── \u001b[94morganism\u001b[0m\n",
      "│   └── \u001b[4mOrganism\u001b[0m\n",
      "│       ├── \u001b[94mid\u001b[0m = ab397b4d-972e-4125-9fd6-f9521f0ccc9a\n",
      "│       ├── \u001b[94mtaxonomy_id\u001b[0m = 1379910\n",
      "│       ├── \u001b[94mname\u001b[0m = Rufibacter radiotolerans\n",
      "│       ├── \u001b[94mdomain\u001b[0m = Bacteria\n",
      "│       ├── \u001b[94mphylum\u001b[0m = Bacteroidota\n",
      "│       ├── \u001b[94mtax_class\u001b[0m = Cytophagia\n",
      "│       ├── \u001b[94morder\u001b[0m = Cytophagales\n",
      "│       ├── \u001b[94mfamily\u001b[0m = Hymenobacteraceae\n",
      "│       └── \u001b[94mgenus\u001b[0m = Rufibacter\n",
      "├── \u001b[94msequence\u001b[0m = MTNPSLSYTQTGSGPALVFLHGFCESKDLWTDFTKPLGHEFRVICLDLPGHGESPVPQDFSMESQARHVHETLKKLDIDSCLLVGHSMGGYVALAFAQAFPEMIYGLCLFHSSALPDSQEKKESRNKTIEFVEKNGVQKLMDTLIAPLFAESNQKSCKEAIKKMQDIGKATKEATVVGCLQAMRDRQDRTAVLQKSQVPVLFIAGKEDPAVPLEATLQQCHLPEDSTVHFLGHVGHMGMFERTTLTRAALVQFAESLSPANTQKYRSTNSF\n",
      "├── \u001b[94mregions\u001b[0m\n",
      "│   └── 0\n",
      "│       └── \u001b[4mRegion\u001b[0m\n",
      "│           ├── \u001b[94mid\u001b[0m = MenH\n",
      "│           ├── \u001b[94mstart\u001b[0m = 5\n",
      "│           └── \u001b[94mend\u001b[0m = 257\n",
      "└── \u001b[94mmol_weight\u001b[0m = 29842.0\n",
      "\n",
      "\u001b[4mProteinRecord\u001b[0m\n",
      "├── \u001b[94mid\u001b[0m = WP_192099524.1\n",
      "├── \u001b[94mname\u001b[0m = 3-oxoadipate enol-lactonase\n",
      "├── \u001b[94morganism\u001b[0m\n",
      "│   └── \u001b[4mOrganism\u001b[0m\n",
      "│       ├── \u001b[94mid\u001b[0m = fce2b9e6-baf2-495a-85b7-273587cad0e7\n",
      "│       ├── \u001b[94mtaxonomy_id\u001b[0m = 2775314\n",
      "│       ├── \u001b[94mname\u001b[0m = Sphingomonas sp. CFBP 13706\n",
      "│       ├── \u001b[94mdomain\u001b[0m = Bacteria\n",
      "│       ├── \u001b[94mphylum\u001b[0m = Pseudomonadota\n",
      "│       ├── \u001b[94mtax_class\u001b[0m = Alphaproteobacteria\n",
      "│       ├── \u001b[94morder\u001b[0m = Sphingomonadales\n",
      "│       ├── \u001b[94mfamily\u001b[0m = Sphingomonadaceae\n",
      "│       └── \u001b[94mgenus\u001b[0m = Sphingomonas\n",
      "├── \u001b[94msequence\u001b[0m = MPFAIREDVRVYWKLDGAPDLPVLVLLNSIGTDMALWETSVPHLLPALRLLRIDTRGHGASDAPDGDYSLAMLADDVAAVMDAAGVQSAAVAGVSLGGMIAMELALTHPTRVTALALVCTSATMDADTWRNRIEVVRTRGTAAIADMAMGRLLSPRFVATHGGAAESVRRGLIAMADAGYAGCGAAIRDMAVIDRLPEIGMPMLVVAGDRDTSTPFAGHGERIVAAVPDAHVVHLDAAHLAPIETPAALAATLRAFLKPADTQDAASTLFEAGLVNRRRVLGDAWVDASLAKRTDFTADFQAMITRIAWNEIWGRPGLDDRSRRFIVLAITVALGRWEEFALHVRTGLMRDGFTREELKEVLMQSAIYAGVPAANTAFAEAGKIIAELDSSGNRG\n",
      "├── \u001b[94mregions\u001b[0m\n",
      "│   ├── 0\n",
      "│   │   └── \u001b[4mRegion\u001b[0m\n",
      "│   │       ├── \u001b[94mid\u001b[0m = protocat_pcaD\n",
      "│   │       ├── \u001b[94mstart\u001b[0m = 9\n",
      "│   │       └── \u001b[94mend\u001b[0m = 258\n",
      "│   └── 1\n",
      "│       └── \u001b[4mRegion\u001b[0m\n",
      "│           ├── \u001b[94mid\u001b[0m = ahpD_dom\n",
      "│           ├── \u001b[94mstart\u001b[0m = 269\n",
      "│           └── \u001b[94mend\u001b[0m = 389\n",
      "├── \u001b[94mec_number\u001b[0m = 3.1.1.24\n",
      "└── \u001b[94mmol_weight\u001b[0m = 41921.0\n",
      "\n",
      "\u001b[4mProteinRecord\u001b[0m\n",
      "├── \u001b[94mid\u001b[0m = NCG36224.1\n",
      "├── \u001b[94mname\u001b[0m = alpha/beta fold hydrolase\n",
      "├── \u001b[94morganism\u001b[0m\n",
      "│   └── \u001b[4mOrganism\u001b[0m\n",
      "│       ├── \u001b[94mid\u001b[0m = 6fbb4f2f-21c8-482e-b8ae-bd9bdac3579f\n",
      "│       ├── \u001b[94mtaxonomy_id\u001b[0m = 2900548\n",
      "│       ├── \u001b[94mname\u001b[0m = Actinomycetota bacterium\n",
      "│       ├── \u001b[94mdomain\u001b[0m = Bacteria\n",
      "│       └── \u001b[94mphylum\u001b[0m = Actinomycetota\n",
      "├── \u001b[94msequence\u001b[0m = METIRISGVPELACDLVGDGPPVVFLHGIGGNRTNWTRQLLALEDEFSTMAWDARGYGDSADVAGERRFSHFADDLARLLDQQNIEKAHLVGLSMGARILLTFFPLHAERVATLTLCDCFYGFNAMSDEKRSDFMALREKPLREGKTFADLAPALVESWVSPDCPPEIAAELYDSIVMLRVEPYLKTLMATTVFDAYAAMEEINVPVQLIFGEHDRLSPPSIGEEMVDLITDARLEVLEGAGHLSNLERPAQFNDTLRSFLAPRATLARYRERL\n",
      "└── \u001b[94mcoding_sequence\u001b[0m\n",
      "    └── 0\n",
      "        └── \u001b[4mRegion\u001b[0m\n",
      "            ├── \u001b[94mid\u001b[0m = JAACCU010000027.1\n",
      "            ├── \u001b[94mstart\u001b[0m = 24005\n",
      "            └── \u001b[94mend\u001b[0m = 24829\n",
      "\n",
      "\u001b[4mProteinRecord\u001b[0m\n",
      "├── \u001b[94mid\u001b[0m = WP_184465101.1\n",
      "├── \u001b[94mname\u001b[0m = alpha/beta fold hydrolase\n",
      "├── \u001b[94morganism\u001b[0m\n",
      "│   └── \u001b[4mOrganism\u001b[0m\n",
      "│       ├── \u001b[94mid\u001b[0m = ebc1a1a3-7fef-4582-9618-efc7fd1e5e33\n",
      "│       ├── \u001b[94mtaxonomy_id\u001b[0m = 641702\n",
      "│       ├── \u001b[94mname\u001b[0m = Zhongshania antarctica\n",
      "│       ├── \u001b[94mdomain\u001b[0m = Bacteria\n",
      "│       ├── \u001b[94mphylum\u001b[0m = Pseudomonadota\n",
      "│       ├── \u001b[94mtax_class\u001b[0m = Gammaproteobacteria\n",
      "│       ├── \u001b[94morder\u001b[0m = Cellvibrionales\n",
      "│       ├── \u001b[94mfamily\u001b[0m = Spongiibacteraceae\n",
      "│       └── \u001b[94mgenus\u001b[0m = Zhongshania\n",
      "├── \u001b[94msequence\u001b[0m = MVEQPGLLRVSPSRRARLLEAQQAANIDIRHAQIGCARIRYAVKAGVGEPLLLCNGIGANLELTLPLLKYLTRPVVVLDLPGTGGSESTLFWPSLRRYSRFAMDVLDHAGYTGRFAVAGVSWGGGLAQQIARHHHKRVSHLILMATSPGIIMLPGRIGAIRRMATPQRYLSRGYMAKNASAIYGGELRNAPHKAVEHARLIMPPTGLAYVQQLLAMWGFSSLPWLHRLRCPALIICGDDDPLIHLGNGHLLAKLIPRAKLHVMRGGGHLFMTMRSEETAELLNTWIESASVVD\n",
      "├── \u001b[94mregions\u001b[0m\n",
      "│   └── 0\n",
      "│       └── \u001b[4mRegion\u001b[0m\n",
      "│           ├── \u001b[94mid\u001b[0m = PHA_depoly_arom\n",
      "│           ├── \u001b[94mstart\u001b[0m = 38\n",
      "│           └── \u001b[94mend\u001b[0m = 282\n",
      "└── \u001b[94mmol_weight\u001b[0m = 32026.0\n",
      "\n",
      "\u001b[4mProteinRecord\u001b[0m\n",
      "├── \u001b[94mid\u001b[0m = WP_172159912.1\n",
      "├── \u001b[94mname\u001b[0m = alpha/beta hydrolase\n",
      "├── \u001b[94morganism\u001b[0m\n",
      "│   └── \u001b[4mOrganism\u001b[0m\n",
      "│       ├── \u001b[94mid\u001b[0m = 5e7d9bc7-d844-4f39-b9f5-cbf6f38ca40f\n",
      "│       ├── \u001b[94mtaxonomy_id\u001b[0m = 2736640\n",
      "│       ├── \u001b[94mname\u001b[0m = Pseudonocardia broussonetiae\n",
      "│       ├── \u001b[94mdomain\u001b[0m = Bacteria\n",
      "│       ├── \u001b[94mphylum\u001b[0m = Actinomycetota\n",
      "│       ├── \u001b[94mtax_class\u001b[0m = Actinomycetes\n",
      "│       ├── \u001b[94morder\u001b[0m = Pseudonocardiales\n",
      "│       ├── \u001b[94mfamily\u001b[0m = Pseudonocardiaceae\n",
      "│       └── \u001b[94mgenus\u001b[0m = Pseudonocardia\n",
      "├── \u001b[94msequence\u001b[0m = MATVHALPTGTELQFRMVHGYRRAFRIAGSGPPVVLVHGIGDSSATWAPVLPALARRHLVIAPDLLGHGSSDKPRADYSVAAYANGVRDLLGVLGVERATLVGHSLGGGVAMQFAYQFPERTERLVLVGSGGAGPDVTPVLRAMTLPGAAAALGLLRMPTARLQVGAGVALLRLLGTDLGQDAPDLLRMVDALPDATARAAFIRTLRAVVDWRGQVVTMLDRCYLTRGMPTMLVWGARDAVVPVAHAHRAHDAMPGSRLEIFPGAGHFPFHTDPVRFVDLLEDFLTTTAAARWSPHQWRELLRDPEPGPLHAPDQRNAT\n",
      "├── \u001b[94mregions\u001b[0m\n",
      "│   └── 0\n",
      "│       └── \u001b[4mRegion\u001b[0m\n",
      "│           ├── \u001b[94mid\u001b[0m = MenH\n",
      "│           ├── \u001b[94mstart\u001b[0m = 10\n",
      "│           └── \u001b[94mend\u001b[0m = 288\n",
      "└── \u001b[94mmol_weight\u001b[0m = 34045.0\n",
      "\n",
      "\u001b[4mProteinRecord\u001b[0m\n",
      "├── \u001b[94mid\u001b[0m = WP_054017945.1\n",
      "├── \u001b[94mname\u001b[0m = alpha/beta fold hydrolase\n",
      "├── \u001b[94morganism\u001b[0m\n",
      "│   └── \u001b[4mOrganism\u001b[0m\n",
      "│       ├── \u001b[94mid\u001b[0m = 74da11d4-4281-4f67-aedf-d5b80079f927\n",
      "│       ├── \u001b[94mtaxonomy_id\u001b[0m = 1547922\n",
      "│       ├── \u001b[94mname\u001b[0m = Piscinibacter sakaiensis\n",
      "│       ├── \u001b[94mdomain\u001b[0m = Bacteria\n",
      "│       ├── \u001b[94mphylum\u001b[0m = Pseudomonadota\n",
      "│       ├── \u001b[94mtax_class\u001b[0m = Betaproteobacteria\n",
      "│       ├── \u001b[94morder\u001b[0m = Burkholderiales\n",
      "│       ├── \u001b[94mfamily\u001b[0m = Sphaerotilaceae\n",
      "│       └── \u001b[94mgenus\u001b[0m = Piscinibacter\n",
      "├── \u001b[94msequence\u001b[0m = MSERQQDDFDRGLRNRRAVLGDAWVDQSLDRASAFNDEFQSLITRYAWHDIWGRPGLDVVTRRLLVLGMTMGQARWEEFELHCRAAVRGGVPLETIKETLMQGAIYCGVPAANTAFKLTLQILREEGRLPPPAPLSEGVRVVHHHTFSQPQLHAAVQGAGPGVPVVLSHALGLDLRMWDALAAELAPGRAVLRYDHRGHGGSAVPPGPYTLDAMVDDAARLLREWGRGPVVFVGLSMGGMVGQGLALRHPELLRGLVIANSTARYPEAARAAWAQRIAAVEAGGMAAIAPMVVERYLHADFRAAQPAVAEALRATLLRCDPAGYAAASAAVAGVDWLDALPALRCPTLVIAGERDVGAPPEMARAMADAIPGARLELLADASHLSVAESAWRFGELLRGFLAGIDAGSPA\n",
      "├── \u001b[94mregions\u001b[0m\n",
      "│   ├── 0\n",
      "│   │   └── \u001b[4mRegion\u001b[0m\n",
      "│   │       ├── \u001b[94mid\u001b[0m = ahpD_dom\n",
      "│   │       ├── \u001b[94mstart\u001b[0m = 5\n",
      "│   │       └── \u001b[94mend\u001b[0m = 125\n",
      "│   └── 1\n",
      "│       └── \u001b[4mRegion\u001b[0m\n",
      "│           ├── \u001b[94mid\u001b[0m = protocat_pcaD\n",
      "│           ├── \u001b[94mstart\u001b[0m = 151\n",
      "│           └── \u001b[94mend\u001b[0m = 402\n",
      "└── \u001b[94mmol_weight\u001b[0m = 43761.0\n",
      "\n",
      "\u001b[4mProteinRecord\u001b[0m\n",
      "├── \u001b[94mid\u001b[0m = PYJ75489.1\n",
      "├── \u001b[94mname\u001b[0m = hypothetical protein\n",
      "├── \u001b[94morganism\u001b[0m\n",
      "│   └── \u001b[4mOrganism\u001b[0m\n",
      "│       ├── \u001b[94mid\u001b[0m = de2396af-f397-4f57-b463-1b56f08c0e60\n",
      "│       ├── \u001b[94mtaxonomy_id\u001b[0m = 2026799\n",
      "│       ├── \u001b[94mname\u001b[0m = Verrucomicrobiota bacterium\n",
      "│       ├── \u001b[94mdomain\u001b[0m = Bacteria\n",
      "│       └── \u001b[94mphylum\u001b[0m = Verrucomicrobiota\n",
      "├── \u001b[94msequence\u001b[0m = MLTFRFAFLIGFFAIVSCPLHCPAQEAKEAPPKTDKFVTVYGAKIHYVEAGSGAPLILIHGLADNVAVWDSVIPSLAAKFRVIAFDQIGFGHSDKPLLNYRVSTFVDFLDGLMTELKIERASLVGNSLGGWVAAAFALTHPERVERLVLSDAAGYAALAKTMDPRALRALRLASHEDIRYLGPLGADIEPMEKAGVPAFSPIQDSRFYFNYHHTAADTLDKIVPKELAENSLVASVLAYALANMEQPLPR\n",
      "├── \u001b[94mregions\u001b[0m\n",
      "│   ├── 0\n",
      "│   │   └── \u001b[4mRegion\u001b[0m\n",
      "│   │       ├── \u001b[94mid\u001b[0m = MenH\n",
      "│   │       ├── \u001b[94mstart\u001b[0m = 33\n",
      "│   │       └── \u001b[94mend\u001b[0m = 179\n",
      "│   └── 1\n",
      "│       └── \u001b[4mRegion\u001b[0m\n",
      "│           ├── \u001b[94mid\u001b[0m = Zinc_peptidase_like\n",
      "│           ├── \u001b[94mstart\u001b[0m = 125\n",
      "│           └── \u001b[94mend\u001b[0m = 245\n",
      "└── \u001b[94mcoding_sequence\u001b[0m\n",
      "    └── 0\n",
      "        └── \u001b[4mRegion\u001b[0m\n",
      "            ├── \u001b[94mid\u001b[0m = QHOM01000325.1\n",
      "            ├── \u001b[94mstart\u001b[0m = 1803\n",
      "            └── \u001b[94mend\u001b[0m = 2555\n",
      "\n",
      "\u001b[4mProteinRecord\u001b[0m\n",
      "├── \u001b[94mid\u001b[0m = WP_043522462.1\n",
      "├── \u001b[94mname\u001b[0m = alpha/beta fold hydrolase\n",
      "├── \u001b[94morganism\u001b[0m\n",
      "│   └── \u001b[4mOrganism\u001b[0m\n",
      "│       ├── \u001b[94mid\u001b[0m = 7b8a49ea-c99e-4704-86a0-d68fdab4f423\n",
      "│       ├── \u001b[94mtaxonomy_id\u001b[0m = 1869\n",
      "│       ├── \u001b[94mname\u001b[0m = Actinoplanes utahensis\n",
      "│       ├── \u001b[94mdomain\u001b[0m = Bacteria\n",
      "│       ├── \u001b[94mphylum\u001b[0m = Actinomycetota\n",
      "│       ├── \u001b[94mtax_class\u001b[0m = Actinomycetes\n",
      "│       ├── \u001b[94morder\u001b[0m = Micromonosporales\n",
      "│       ├── \u001b[94mfamily\u001b[0m = Micromonosporaceae\n",
      "│       └── \u001b[94mgenus\u001b[0m = Actinoplanes\n",
      "├── \u001b[94msequence\u001b[0m = MRFLDVRGTRVRVHETGDPAAPPVVLLHGIGRSLEDWSLQHPLLDGDYRVISIDMPGFGLSQRLAAPTTLAGLADGVWATLDTLGETRPVHLMGNSLGGAVAMTMLAGTPERVSTLTLVNSAGFGKEVTVALRLLAVPVLGRQMLRRVDRLTAPRMERMVFADRAHVTPERIEMAIRIARQPDFAAVYLEVAKALGGLRGVAAAWRTELLGRLRAHEKPTMLVWGDRDLILPSKHLAAARAAFPHAQSHLFAHTGHMPQIERPEEFAGLVRPMLATVSV\n",
      "├── \u001b[94mregions\u001b[0m\n",
      "│   └── 0\n",
      "│       └── \u001b[4mRegion\u001b[0m\n",
      "│           ├── \u001b[94mid\u001b[0m = PRK14875\n",
      "│           ├── \u001b[94mstart\u001b[0m = 1\n",
      "│           └── \u001b[94mend\u001b[0m = 277\n",
      "└── \u001b[94mmol_weight\u001b[0m = 30271.0\n",
      "\n",
      "\u001b[4mProteinRecord\u001b[0m\n",
      "├── \u001b[94mid\u001b[0m = NTW68249.1\n",
      "├── \u001b[94mname\u001b[0m = alpha/beta fold hydrolase\n",
      "├── \u001b[94morganism\u001b[0m\n",
      "│   └── \u001b[4mOrganism\u001b[0m\n",
      "│       ├── \u001b[94mid\u001b[0m = 28d3b52b-09b0-4783-ad64-cea87c8b3851\n",
      "│       ├── \u001b[94mtaxonomy_id\u001b[0m = 2067991\n",
      "│       ├── \u001b[94mname\u001b[0m = Chlorobiaceae bacterium\n",
      "│       ├── \u001b[94mdomain\u001b[0m = Bacteria\n",
      "│       ├── \u001b[94mphylum\u001b[0m = Chlorobiota\n",
      "│       ├── \u001b[94mtax_class\u001b[0m = Chlorobiia\n",
      "│       ├── \u001b[94morder\u001b[0m = Chlorobiales\n",
      "│       └── \u001b[94mfamily\u001b[0m = Chlorobiaceae\n",
      "├── \u001b[94msequence\u001b[0m = MLTYRSANTAEGSRSRHAVLLLHAFPLSAAMWQPQIEALANTGFTVIAPNAYGIDGSEEKESWNFTGYAHELAALLDSLGIEQVTVAGLSMGGYQAFEFYRLYPDKTASLILCDTRAENDAPEARAGREEFIRAVEQRGANEAAERMIPNFFSPSTYTEKPELVSEARAMIENQSAPVVNATMRAIMTRKDATPLLASINCPVLVIVGSDDKVTTKETAATISDRITGSRLLVLQDAGHLSNLEQPEQFTHALLEHIENLIALM\n",
      "└── \u001b[94mcoding_sequence\u001b[0m\n",
      "    └── 0\n",
      "        └── \u001b[4mRegion\u001b[0m\n",
      "            ├── \u001b[94mid\u001b[0m = JAAXXL010000001.1\n",
      "            ├── \u001b[94mstart\u001b[0m = 34945\n",
      "            └── \u001b[94mend\u001b[0m = 35739\n",
      "\n",
      "\u001b[4mProteinRecord\u001b[0m\n",
      "├── \u001b[94mid\u001b[0m = WP_261723530.1\n",
      "├── \u001b[94mname\u001b[0m = 4-carboxymuconolactone decarboxylase\n",
      "├── \u001b[94morganism\u001b[0m\n",
      "│   └── \u001b[4mOrganism\u001b[0m\n",
      "│       ├── \u001b[94mid\u001b[0m = 9e75f515-a462-4fc6-abff-54bfdc6006a8\n",
      "│       ├── \u001b[94mtaxonomy_id\u001b[0m = 285535\n",
      "│       ├── \u001b[94mname\u001b[0m = Streptomyces fulvoviolaceus\n",
      "│       ├── \u001b[94mdomain\u001b[0m = Bacteria\n",
      "│       ├── \u001b[94mphylum\u001b[0m = Actinomycetota\n",
      "│       ├── \u001b[94mtax_class\u001b[0m = Actinomycetes\n",
      "│       ├── \u001b[94morder\u001b[0m = Kitasatosporales\n",
      "│       ├── \u001b[94mfamily\u001b[0m = Streptomycetaceae\n",
      "│       └── \u001b[94mgenus\u001b[0m = Streptomyces\n",
      "├── \u001b[94msequence\u001b[0m = MSETKTPALQYRFDGPEDAPVLILGPSLGTTWHMWDRQVPELAKQWRVFRFDLPGHGGAPAYPAGSVGDLTARLLATLDGLGVQRFGYAGCAFGGAIGMELALRHPERIASLALIAASPRFGTPDEFRQRGVIVRTNGLDPIARSSPDRWFTGGFAAAQPAITEWAVQMVRTTDPGCYIAACEALAAFDVRAELAGVAVPTLVLVGSDDQVTGPAEARTLVASIPDARLAVVPGASHLVPVEQPAAVTDLLVRHFSTAWQPAFDSSTGQMAIPAAPVKPVLPATPPQPAPIAEIAPAVVEPQVTGRPDPYDAGLKVRREVLGDAHVDRALAQADEFSGDFQEFITRYAWGEIWDRPGLDRRSRSCVTLTALVAGGHLEELAFHVRAALRNGLTPGEIKEVLLQAAVYCGVPAANSAFKVAQQIIREETTPTE\n",
      "├── \u001b[94mregions\u001b[0m\n",
      "│   ├── 0\n",
      "│   │   └── \u001b[4mRegion\u001b[0m\n",
      "│   │       ├── \u001b[94mid\u001b[0m = protocat_pcaD\n",
      "│   │       ├── \u001b[94mstart\u001b[0m = 8\n",
      "│   │       └── \u001b[94mend\u001b[0m = 256\n",
      "│   └── 1\n",
      "│       └── \u001b[4mRegion\u001b[0m\n",
      "│           ├── \u001b[94mid\u001b[0m = ahpD_dom\n",
      "│           ├── \u001b[94mstart\u001b[0m = 309\n",
      "│           └── \u001b[94mend\u001b[0m = 426\n",
      "├── \u001b[94mec_number\u001b[0m = 4.1.1.44\n",
      "└── \u001b[94mmol_weight\u001b[0m = 45933.0\n",
      "\n",
      "\u001b[4mProteinRecord\u001b[0m\n",
      "├── \u001b[94mid\u001b[0m = WP_085123620.1\n",
      "├── \u001b[94mname\u001b[0m = alpha/beta fold hydrolase\n",
      "├── \u001b[94morganism\u001b[0m\n",
      "│   └── \u001b[4mOrganism\u001b[0m\n",
      "│       ├── \u001b[94mid\u001b[0m = b5f97bb9-6e9c-41e5-a096-49027e2786d9\n",
      "│       ├── \u001b[94mtaxonomy_id\u001b[0m = 1321365\n",
      "│       ├── \u001b[94mname\u001b[0m = Tistlia consotensis\n",
      "│       ├── \u001b[94mdomain\u001b[0m = Bacteria\n",
      "│       ├── \u001b[94mphylum\u001b[0m = Pseudomonadota\n",
      "│       ├── \u001b[94mtax_class\u001b[0m = Alphaproteobacteria\n",
      "│       ├── \u001b[94morder\u001b[0m = Rhodospirillales\n",
      "│       ├── \u001b[94mfamily\u001b[0m = Fodinicurvataceae\n",
      "│       └── \u001b[94mgenus\u001b[0m = Tistlia\n",
      "├── \u001b[94msequence\u001b[0m = MTIFDDGIRRLNYVDEGEGPPLVLIHGVGANLQSWDEVARRLVGRFRVIRADLRGHGASARIEGRFSLEAFAEDSVALLDHLGIDRAHVAGFSLGGLIAQCLAVGWPARIDRLALISAVANRTEEERAKVVGRLEMIEKDGIQAVTGAARERWFTEAFAAAHPDRIARRIAELVANDKASYLEAYRVFGQSEMGPRLHEIGHRTLVLTGEFDVGSNPRMARFMHEQIRRSELVILPGLKHSLLAEVPELIAERLEAFLAG\n",
      "├── \u001b[94mregions\u001b[0m\n",
      "│   └── 0\n",
      "│       └── \u001b[4mRegion\u001b[0m\n",
      "│           ├── \u001b[94mid\u001b[0m = MenH\n",
      "│           ├── \u001b[94mstart\u001b[0m = 0\n",
      "│           └── \u001b[94mend\u001b[0m = 260\n",
      "└── \u001b[94mmol_weight\u001b[0m = 28612.0\n",
      "\n",
      "\u001b[4mProteinRecord\u001b[0m\n",
      "├── \u001b[94mid\u001b[0m = KAH9524818.1\n",
      "├── \u001b[94mname\u001b[0m = Protein abhd8\n",
      "├── \u001b[94morganism\u001b[0m\n",
      "│   └── \u001b[4mOrganism\u001b[0m\n",
      "│       ├── \u001b[94mid\u001b[0m = 57989291-edec-44be-96a0-3d9fb4fd6a91\n",
      "│       ├── \u001b[94mtaxonomy_id\u001b[0m = 55810\n",
      "│       ├── \u001b[94mname\u001b[0m = Bulinus truncatus\n",
      "│       ├── \u001b[94mdomain\u001b[0m = Eukaryota\n",
      "│       ├── \u001b[94mkingdom\u001b[0m = Metazoa\n",
      "│       ├── \u001b[94mphylum\u001b[0m = Mollusca\n",
      "│       ├── \u001b[94mtax_class\u001b[0m = Gastropoda\n",
      "│       ├── \u001b[94mfamily\u001b[0m = Planorbidae\n",
      "│       └── \u001b[94mgenus\u001b[0m = Bulinus\n",
      "├── \u001b[94msequence\u001b[0m = MSGRNRVRVGPAEINGEIIEIRPSRKLRIQHLNARPRDEKFEKEMQIYSELRNKSISPGPLTVPKQKTISQNQSSSDSTAEQLQSIKPDSANSHMKKKGEFSNEKVIIFQQYINGTEKKPHSSQSFNHGFQEHSIKLYHDLPETTDLCLSTTLSSDSSVHHDFFKSQGNSLSAGLSPMDVDSIKSRQSAEVDKDLVIFFIHGVGGSSDIWSLQTQYLSRLGYEIITPDLIGHGFSCAPRHSKAYHFKEIAADIEEIFDKYCKRRNIIIGHSYGASFASYLARRRPKRVTKLILVSGGPPTPLAPQPGIFKLPYFMLVCVKPCLEYGFYKGAFHKSKTPFISKKEAFNIPAYVLQSIMNGQDWPDGDELFHNWLTCPCLLIYGAEDQLVSLSDEEEMAQTIFDSQLVVIKDASHMVMVEAPDEVNPIIENFIKKTDDPHLEAIPSTSEYCVNKKSAFSFGSTHCYKCWELF\n",
      "├── \u001b[94mregions\u001b[0m\n",
      "│   └── 0\n",
      "│       └── \u001b[4mRegion\u001b[0m\n",
      "│           ├── \u001b[94mid\u001b[0m = MenH\n",
      "│           ├── \u001b[94mstart\u001b[0m = 195\n",
      "│           └── \u001b[94mend\u001b[0m = 434\n",
      "└── \u001b[94mcoding_sequence\u001b[0m\n",
      "    ├── 0\n",
      "    │   └── \u001b[4mRegion\u001b[0m\n",
      "    │       ├── \u001b[94mid\u001b[0m = JAGDYQ010000002.1\n",
      "    │       ├── \u001b[94mstart\u001b[0m = 14969837\n",
      "    │       └── \u001b[94mend\u001b[0m = 14970654\n",
      "    ├── 1\n",
      "    │   └── \u001b[4mRegion\u001b[0m\n",
      "    │       ├── \u001b[94mid\u001b[0m = JAGDYQ010000002.1\n",
      "    │       ├── \u001b[94mstart\u001b[0m = 14970764\n",
      "    │       └── \u001b[94mend\u001b[0m = 14970931\n",
      "    ├── 2\n",
      "    │   └── \u001b[4mRegion\u001b[0m\n",
      "    │       ├── \u001b[94mid\u001b[0m = JAGDYQ010000002.1\n",
      "    │       ├── \u001b[94mstart\u001b[0m = 14971147\n",
      "    │       └── \u001b[94mend\u001b[0m = 14971354\n",
      "    ├── 3\n",
      "    │   └── \u001b[4mRegion\u001b[0m\n",
      "    │       ├── \u001b[94mid\u001b[0m = JAGDYQ010000002.1\n",
      "    │       ├── \u001b[94mstart\u001b[0m = 14971598\n",
      "    │       └── \u001b[94mend\u001b[0m = 14971746\n",
      "    └── 4\n",
      "        └── \u001b[4mRegion\u001b[0m\n",
      "            ├── \u001b[94mid\u001b[0m = JAGDYQ010000002.1\n",
      "            ├── \u001b[94mstart\u001b[0m = 14972343\n",
      "            └── \u001b[94mend\u001b[0m = 14972412\n",
      "\n",
      "\u001b[4mProteinRecord\u001b[0m\n",
      "├── \u001b[94mid\u001b[0m = WP_194097983.1\n",
      "├── \u001b[94mname\u001b[0m = 3-oxoadipate enol-lactonase\n",
      "├── \u001b[94morganism\u001b[0m\n",
      "│   └── \u001b[4mOrganism\u001b[0m\n",
      "│       ├── \u001b[94mid\u001b[0m = 5522d08a-e325-4b67-9a54-2fe4019b2def\n",
      "│       ├── \u001b[94mtaxonomy_id\u001b[0m = 2774876\n",
      "│       ├── \u001b[94mname\u001b[0m = Marivivens aquimaris\n",
      "│       ├── \u001b[94mdomain\u001b[0m = Bacteria\n",
      "│       ├── \u001b[94mphylum\u001b[0m = Pseudomonadota\n",
      "│       ├── \u001b[94mtax_class\u001b[0m = Alphaproteobacteria\n",
      "│       ├── \u001b[94morder\u001b[0m = Rhodobacterales\n",
      "│       ├── \u001b[94mfamily\u001b[0m = Paracoccaceae\n",
      "│       └── \u001b[94mgenus\u001b[0m = Marivivens\n",
      "├── \u001b[94msequence\u001b[0m = MREHYIQCDDVTLYAREDGVLDDSAPTIVFANSLGTDMSLWDDLLPLLPEGLRIVRMDKRGHGKSSCPDAPYAMGALVKDAEAVCDHLNVRDAMFVGLSIGGMIAQGLAVKRLDIIRTLVLSNTAAKIGIQKLWDERINAVRTKGLEAIADGVMERWFAKEFANSPAVKKWRDLLCATPVEGYTGCCAAISGTDFYTPTSGLRLPTMGIVGSEDGSTPPDLVRETVELIPGSTFHIIRKTGHLPNVEKPQEYADLLNQFIKDTGHI\n",
      "├── \u001b[94mregions\u001b[0m\n",
      "│   └── 0\n",
      "│       └── \u001b[4mRegion\u001b[0m\n",
      "│           ├── \u001b[94mid\u001b[0m = protocat_pcaD\n",
      "│           ├── \u001b[94mstart\u001b[0m = 11\n",
      "│           └── \u001b[94mend\u001b[0m = 261\n",
      "├── \u001b[94mec_number\u001b[0m = 3.1.1.24\n",
      "└── \u001b[94mmol_weight\u001b[0m = 28954.0\n",
      "\n",
      "\u001b[4mProteinRecord\u001b[0m\n",
      "├── \u001b[94mid\u001b[0m = WP_209428183.1\n",
      "├── \u001b[94mname\u001b[0m = alpha/beta fold hydrolase\n",
      "├── \u001b[94morganism\u001b[0m\n",
      "│   └── \u001b[4mOrganism\u001b[0m\n",
      "│       ├── \u001b[94mid\u001b[0m = b830a6e6-e92e-4243-8071-a2bca3df7ff5\n",
      "│       ├── \u001b[94mtaxonomy_id\u001b[0m = 2780075\n",
      "│       ├── \u001b[94mname\u001b[0m = Pararhodobacter sp. SW119\n",
      "│       ├── \u001b[94mdomain\u001b[0m = Bacteria\n",
      "│       ├── \u001b[94mphylum\u001b[0m = Pseudomonadota\n",
      "│       ├── \u001b[94mtax_class\u001b[0m = Alphaproteobacteria\n",
      "│       ├── \u001b[94morder\u001b[0m = Rhodobacterales\n",
      "│       ├── \u001b[94mfamily\u001b[0m = Paracoccaceae\n",
      "│       └── \u001b[94mgenus\u001b[0m = Pararhodobacter\n",
      "├── \u001b[94msequence\u001b[0m = MEMTQPLQDALYWTSTGTGAPVVALHGSASAGAQWRSLSEHLAARFRVIAPDLAGYGRSGQPAARASLAAEAAFLRPALAAAGEPVHLVGHSFGGAVALAVAITMPESVRSLTLIEPAAFRLLMADDLTDRMLGAEIGCVADDVRSTLRIGRRTEAAARFIDYWNGDGAWARSSPRLQGLILAAMDRVAENFTALAAPGLTARALSRLHCPTLVIAGLETPLPALRTAELVAETIPNAQLALIHGVGHMAPLTDPHIVDPMIAAHLSAAVAHPRPAPALAA\n",
      "├── \u001b[94mregions\u001b[0m\n",
      "│   └── 0\n",
      "│       └── \u001b[4mRegion\u001b[0m\n",
      "│           ├── \u001b[94mid\u001b[0m = MenH\n",
      "│           ├── \u001b[94mstart\u001b[0m = 11\n",
      "│           └── \u001b[94mend\u001b[0m = 269\n",
      "└── \u001b[94mmol_weight\u001b[0m = 29116.0\n",
      "\n",
      "\u001b[4mProteinRecord\u001b[0m\n",
      "├── \u001b[94mid\u001b[0m = RMO67302.1\n",
      "├── \u001b[94mname\u001b[0m = Alpha/beta hydrolase fold protein\n",
      "├── \u001b[94morganism\u001b[0m\n",
      "│   └── \u001b[4mOrganism\u001b[0m\n",
      "│       ├── \u001b[94mid\u001b[0m = fae5c172-726c-4bd5-83f8-15e9a1d71e56\n",
      "│       ├── \u001b[94mtaxonomy_id\u001b[0m = 251707\n",
      "│       ├── \u001b[94mname\u001b[0m = Pseudomonas syringae pv. primulae\n",
      "│       ├── \u001b[94mdomain\u001b[0m = Bacteria\n",
      "│       ├── \u001b[94mphylum\u001b[0m = Pseudomonadota\n",
      "│       ├── \u001b[94mtax_class\u001b[0m = Gammaproteobacteria\n",
      "│       ├── \u001b[94morder\u001b[0m = Pseudomonadales\n",
      "│       ├── \u001b[94mfamily\u001b[0m = Pseudomonadaceae\n",
      "│       └── \u001b[94mgenus\u001b[0m = Pseudomonas\n",
      "├── \u001b[94msequence\u001b[0m = MTSCSFRSCRNLRQLLQAIAFPVALQQKRAPMPTLALPHGNLYYQLNGQPDAPTLVLSNSLGTDLGMWDAQIPALAEHFSVLRYDTRGHGRSLVSNGPYSIEQHAGDVLVLLDALGVQRASFCGLSMGGLIGQWLLMHAAHRLNRVVLCNTAAKIANAEIWNTRIETVMRDGKAAMLGLREASIARWFSPGFAATQPEEVERILDMLVNTSPIGYAANCSAVRDADYRKDMSSVRVPTLIVCGDHDPVTTVADSQFLADAIQGSKLLSLPTAHLSNVEAQATFTAAILPFLLQS\n",
      "├── \u001b[94mregions\u001b[0m\n",
      "│   └── 0\n",
      "│       └── \u001b[4mRegion\u001b[0m\n",
      "│           ├── \u001b[94mid\u001b[0m = protocat_pcaD\n",
      "│           ├── \u001b[94mstart\u001b[0m = 41\n",
      "│           └── \u001b[94mend\u001b[0m = 291\n",
      "└── \u001b[94mcoding_sequence\u001b[0m\n",
      "    └── 0\n",
      "        └── \u001b[4mRegion\u001b[0m\n",
      "            ├── \u001b[94mid\u001b[0m = RBPY01000207.1\n",
      "            ├── \u001b[94mstart\u001b[0m = 22413\n",
      "            └── \u001b[94mend\u001b[0m = 23297\n",
      "\n",
      "\u001b[4mProteinRecord\u001b[0m\n",
      "├── \u001b[94mid\u001b[0m = TAF49992.1\n",
      "├── \u001b[94mname\u001b[0m = alpha/beta hydrolase\n",
      "├── \u001b[94morganism\u001b[0m\n",
      "│   └── \u001b[4mOrganism\u001b[0m\n",
      "│       ├── \u001b[94mid\u001b[0m = 01db562e-e0e4-47c0-aabf-50d7f6732ee4\n",
      "│       ├── \u001b[94mtaxonomy_id\u001b[0m = 1151\n",
      "│       ├── \u001b[94mname\u001b[0m = Oscillatoriales cyanobacterium\n",
      "│       ├── \u001b[94mdomain\u001b[0m = Bacteria\n",
      "│       ├── \u001b[94mphylum\u001b[0m = Cyanobacteriota\n",
      "│       ├── \u001b[94mtax_class\u001b[0m = Cyanophyceae\n",
      "│       └── \u001b[94morder\u001b[0m = Oscillatoriales\n",
      "├── \u001b[94msequence\u001b[0m = MTTTWGEPHQPPVLLLHGLGDTATVWSEFAPTLADRYFVIAPDLRGHGDSDKPTSGYGFNSIIADLQALIAHFQLDSVHLIGHSWTAKLAPLWATRHPEQIRSLTLVDPFFIGAMPGWFRITFPLLYKVLPFIKAMGPYESREAAIAFGREMKQYRGWSALQQRAYEASIEAKPDGSWGSKFTTAARDGVFEEVMHVAGLTQPIATPTLFVQPEAGLNRSNWQFKPYRDYLQQLDWAIVPGNHWPFLVEPEAFGVAVRGFLDRQTSG\n",
      "├── \u001b[94mregions\u001b[0m\n",
      "│   └── 0\n",
      "│       └── \u001b[4mRegion\u001b[0m\n",
      "│           ├── \u001b[94mid\u001b[0m = MenH\n",
      "│           ├── \u001b[94mstart\u001b[0m = 7\n",
      "│           └── \u001b[94mend\u001b[0m = 263\n",
      "└── \u001b[94mcoding_sequence\u001b[0m\n",
      "    └── 0\n",
      "        └── \u001b[4mRegion\u001b[0m\n",
      "            ├── \u001b[94mid\u001b[0m = RDYZ01000343.1\n",
      "            ├── \u001b[94mstart\u001b[0m = 846\n",
      "            └── \u001b[94mend\u001b[0m = 1649\n",
      "\n",
      "\u001b[4mProteinRecord\u001b[0m\n",
      "├── \u001b[94mid\u001b[0m = MUN36718.1\n",
      "├── \u001b[94mname\u001b[0m = alpha/beta fold hydrolase\n",
      "├── \u001b[94morganism\u001b[0m\n",
      "│   └── \u001b[4mOrganism\u001b[0m\n",
      "│       ├── \u001b[94mid\u001b[0m = 4f5a2a19-9bca-44b1-b0b1-6b8963960b66\n",
      "│       ├── \u001b[94mtaxonomy_id\u001b[0m = 2678616\n",
      "│       ├── \u001b[94mname\u001b[0m = Actinomadura litoris\n",
      "│       ├── \u001b[94mdomain\u001b[0m = Bacteria\n",
      "│       ├── \u001b[94mphylum\u001b[0m = Actinomycetota\n",
      "│       ├── \u001b[94mtax_class\u001b[0m = Actinomycetes\n",
      "│       ├── \u001b[94morder\u001b[0m = Streptosporangiales\n",
      "│       ├── \u001b[94mfamily\u001b[0m = Thermomonosporaceae\n",
      "│       └── \u001b[94mgenus\u001b[0m = Actinomadura\n",
      "├── \u001b[94msequence\u001b[0m = MAVAERYGLSRVVLSLMNKAVNTAYQIMGEALMDVSSAPGDDVRVLSVDGVRFNCRILWNDDHPQTVPVVYTHDAFARMHFCGLSGPISDVATLVQVNLPGSGDADDVPVDQSPDFLIRVLLEVMDEVPLPRVNLVGGSATGPLAYQFARRYPERVRRLVLIAAVASASEMRSLHADKSVSWDEGVTETLTQSDIDTVLRLLVDHSSGNPVIGRDAVRDRLRAMFGHMMPEEIARLAHQWQALAALSTDSGGGAYDGPALVCTGEFDALTPPEACREFAATLAPSTFATIGRADHMAHLERIHEVADLVRRFVTDQPLDGLPYLASIEYFLGPRGAETPATPQAPRPPVVPGP\n",
      "└── \u001b[94mcoding_sequence\u001b[0m\n",
      "    └── 0\n",
      "        └── \u001b[4mRegion\u001b[0m\n",
      "            ├── \u001b[94mid\u001b[0m = WOFH01000003.1\n",
      "            ├── \u001b[94mstart\u001b[0m = 192951\n",
      "            └── \u001b[94mend\u001b[0m = 194012\n",
      "\n",
      "\u001b[4mProteinRecord\u001b[0m\n",
      "├── \u001b[94mid\u001b[0m = WP_138666153.1\n",
      "├── \u001b[94mname\u001b[0m = alpha/beta hydrolase\n",
      "├── \u001b[94morganism\u001b[0m\n",
      "│   └── \u001b[4mOrganism\u001b[0m\n",
      "│       ├── \u001b[94mid\u001b[0m = bde10aa2-6ed5-455e-a6a9-7bda70a59eca\n",
      "│       ├── \u001b[94mtaxonomy_id\u001b[0m = 103838\n",
      "│       ├── \u001b[94mname\u001b[0m = Nonomuraea turkmeniaca\n",
      "│       ├── \u001b[94mdomain\u001b[0m = Bacteria\n",
      "│       ├── \u001b[94mphylum\u001b[0m = Actinomycetota\n",
      "│       ├── \u001b[94mtax_class\u001b[0m = Actinomycetes\n",
      "│       ├── \u001b[94morder\u001b[0m = Streptosporangiales\n",
      "│       ├── \u001b[94mfamily\u001b[0m = Streptosporangiaceae\n",
      "│       └── \u001b[94mgenus\u001b[0m = Nonomuraea\n",
      "├── \u001b[94msequence\u001b[0m = MDIPQVRHGFVDVDGVRVFYREAGPRNALPVLLLHGFPSASHQYRRLMDALGDRYRLIAPDYPGFGHTQAPDGFVYSFDRLADVIEGFVRAIGLERFVWYAFDFGGPVGFRVATRHPEWIAALIVQNANAYDEGLSELARKTIDSPVKDLFTLPVTRSQYEGGTTDPALIAPDGWTLDQHFLDLPGRKEAQLALALDYRSNVELYPAWQAWLREHRPPTLVLWGRGDAFFPEPGAHAYRRDVPEAEIHVFDTGHFALEEKLPEIAPLIAGFLARQA\n",
      "├── \u001b[94mregions\u001b[0m\n",
      "│   └── 0\n",
      "│       └── \u001b[4mRegion\u001b[0m\n",
      "│           ├── \u001b[94mid\u001b[0m = MenH\n",
      "│           ├── \u001b[94mstart\u001b[0m = 6\n",
      "│           └── \u001b[94mend\u001b[0m = 274\n",
      "└── \u001b[94mmol_weight\u001b[0m = 30962.0\n",
      "\n",
      "\u001b[4mProteinRecord\u001b[0m\n",
      "├── \u001b[94mid\u001b[0m = TQL19130.1\n",
      "├── \u001b[94mname\u001b[0m = 4-carboxymuconolactone decarboxylase /3-oxoadipate enol-lactonase\n",
      "├── \u001b[94morganism\u001b[0m\n",
      "│   └── \u001b[4mOrganism\u001b[0m\n",
      "│       ├── \u001b[94mid\u001b[0m = 565a3ae4-2ffe-4621-8981-505b936be8c2\n",
      "│       ├── \u001b[94mtaxonomy_id\u001b[0m = 2768456\n",
      "│       ├── \u001b[94mname\u001b[0m = Streptomyces sp. SLBN-134\n",
      "│       ├── \u001b[94mdomain\u001b[0m = Bacteria\n",
      "│       ├── \u001b[94mphylum\u001b[0m = Actinomycetota\n",
      "│       ├── \u001b[94mtax_class\u001b[0m = Actinomycetes\n",
      "│       ├── \u001b[94morder\u001b[0m = Kitasatosporales\n",
      "│       ├── \u001b[94mfamily\u001b[0m = Streptomycetaceae\n",
      "│       └── \u001b[94mgenus\u001b[0m = Streptomyces\n",
      "├── \u001b[94msequence\u001b[0m = MAWLAGCRRLHRRYERQAEHFLAFTSIAARLDARSSDASSDTQPARSAAWWAGFPHPCVIGTSVRRERVWGVSETPPNTLQYRFDGPEDAPVLILGPSLGTTWHMWDRQVPELTKQWRVFRFDLPGHGGAPAHPAGSVADLTTRLLVTLEGLGVHRFGYAGCALGGAVGIELALRHPERLASLALIAASPRFGTADEFRQRGVIVRTNGLDPIARSAPERWFTGGFAAAQPAITEWAVQMVRTTDPGCYIAACEALASFDARAGLGSVGAPTLVLVGSDDQVTGPAEARTLVAGIPDARLAVVPGASHLVPVEQPAAVTDLLVRHFSTAWQPAFETATGQTALPAAALNPVPAPAPPQPVPVAEIAPPDVPQVTHGRPDPYDTGIKVRREVLGDAHVDRTLAGADEFSGDFQELVTRYAWGEVWDRPGLDRRTRSCVTLTALVAGGHLEELAVHTRAALRNGLTPAEIKEVLLQAAVYCGVPAANSAFRVAQRIVREETTPQE\n",
      "├── \u001b[94mregions\u001b[0m\n",
      "│   ├── 0\n",
      "│   │   └── \u001b[4mRegion\u001b[0m\n",
      "│   │       ├── \u001b[94mid\u001b[0m = transpos_IS5_3\n",
      "│   │       ├── \u001b[94mstart\u001b[0m = 1\n",
      "│   │       └── \u001b[94mend\u001b[0m = 29\n",
      "│   ├── 1\n",
      "│   │   └── \u001b[4mRegion\u001b[0m\n",
      "│   │       ├── \u001b[94mid\u001b[0m = protocat_pcaD\n",
      "│   │       ├── \u001b[94mstart\u001b[0m = 78\n",
      "│   │       └── \u001b[94mend\u001b[0m = 327\n",
      "│   └── 2\n",
      "│       └── \u001b[4mRegion\u001b[0m\n",
      "│           ├── \u001b[94mid\u001b[0m = ahpD_dom\n",
      "│           ├── \u001b[94mstart\u001b[0m = 380\n",
      "│           └── \u001b[94mend\u001b[0m = 497\n",
      "└── \u001b[94mcoding_sequence\u001b[0m\n",
      "    └── 0\n",
      "        └── \u001b[4mRegion\u001b[0m\n",
      "            ├── \u001b[94mid\u001b[0m = VFOE01000001.1\n",
      "            ├── \u001b[94mstart\u001b[0m = 1156217\n",
      "            └── \u001b[94mend\u001b[0m = 1157728\n",
      "\n",
      "\u001b[4mProteinRecord\u001b[0m\n",
      "├── \u001b[94mid\u001b[0m = WP_055102184.1\n",
      "├── \u001b[94mname\u001b[0m = alpha/beta fold hydrolase\n",
      "├── \u001b[94morganism\u001b[0m\n",
      "│   └── \u001b[4mOrganism\u001b[0m\n",
      "│       ├── \u001b[94mid\u001b[0m = f22a2603-c924-44f0-b36b-1edb017444f3\n",
      "│       ├── \u001b[94mtaxonomy_id\u001b[0m = 1563157\n",
      "│       ├── \u001b[94mname\u001b[0m = Pseudomonas endophytica\n",
      "│       ├── \u001b[94mdomain\u001b[0m = Bacteria\n",
      "│       ├── \u001b[94mphylum\u001b[0m = Pseudomonadota\n",
      "│       ├── \u001b[94mtax_class\u001b[0m = Gammaproteobacteria\n",
      "│       ├── \u001b[94morder\u001b[0m = Pseudomonadales\n",
      "│       ├── \u001b[94mfamily\u001b[0m = Pseudomonadaceae\n",
      "│       └── \u001b[94mgenus\u001b[0m = Pseudomonas\n",
      "├── \u001b[94msequence\u001b[0m = MIRLTAERTPAGTSYLATGQGQPVVLIHGVGLNKEMWGGQVVGLAAQYHVIAYDMLGHGASALPETGTPLLGYADQLLELLDHLQLTQATVIGFSMGGLVARAFALHYPQRLQGLVVLNSVFNRSAEQRAGVIARTAQAAEHGPNANAEAALSRWFSREYQAANPAQIAALRQTLAGNDPQGYLTTYELFATQDMYRADDLGSIKVPTLVATGERDPGSTPEMAVQLAERIPGAQVAILAEQRHMMPVESPRLVNQVLLGFLDTAYSRQNPIKGIVA\n",
      "├── \u001b[94mregions\u001b[0m\n",
      "│   └── 0\n",
      "│       └── \u001b[4mRegion\u001b[0m\n",
      "│           ├── \u001b[94mid\u001b[0m = MenH\n",
      "│           ├── \u001b[94mstart\u001b[0m = 13\n",
      "│           └── \u001b[94mend\u001b[0m = 265\n",
      "└── \u001b[94mmol_weight\u001b[0m = 29579.0\n",
      "\n",
      "\u001b[4mProteinRecord\u001b[0m\n",
      "├── \u001b[94mid\u001b[0m = WP_137313289.1\n",
      "├── \u001b[94mname\u001b[0m = alpha/beta fold hydrolase\n",
      "├── \u001b[94morganism\u001b[0m\n",
      "│   └── \u001b[4mOrganism\u001b[0m\n",
      "│       ├── \u001b[94mid\u001b[0m = 18e0cc42-7f2a-4a03-a1c7-918d69a91443\n",
      "│       ├── \u001b[94mtaxonomy_id\u001b[0m = 864828\n",
      "│       ├── \u001b[94mname\u001b[0m = Pseudoduganella umbonata\n",
      "│       ├── \u001b[94mdomain\u001b[0m = Bacteria\n",
      "│       ├── \u001b[94mphylum\u001b[0m = Pseudomonadota\n",
      "│       ├── \u001b[94mtax_class\u001b[0m = Betaproteobacteria\n",
      "│       ├── \u001b[94morder\u001b[0m = Burkholderiales\n",
      "│       ├── \u001b[94mfamily\u001b[0m = Oxalobacteraceae\n",
      "│       └── \u001b[94mgenus\u001b[0m = Pseudoduganella\n",
      "├── \u001b[94msequence\u001b[0m = MNDPNYPALATTHPTYRYATIGGRKLAYLESGRGFPVLLGHSYLWDAAMWQPQIDVLSRHFRVIVPDLWGHGQSDPPPDGTRDLDDLAEHHAALLDSLAIDACHVVGLSAGGMWAEALAQRHPGKVRKLVLMDTFVGEEPEASRSVYMGMLARIEREGEVAPELLDRIVPMFFGPAIDRQSALFRNFSSALCGFSTERLRDGIVPLGRIVFGRKDRLARLHRLDPRRTLVVAGQCDIPRPVAESIAMANLIDCPMTTVPDAGHIANLENPGAVNRILLKFLLDGDGQAVR\n",
      "├── \u001b[94mregions\u001b[0m\n",
      "│   └── 0\n",
      "│       └── \u001b[4mRegion\u001b[0m\n",
      "│           ├── \u001b[94mid\u001b[0m = MenH\n",
      "│           ├── \u001b[94mstart\u001b[0m = 13\n",
      "│           └── \u001b[94mend\u001b[0m = 281\n",
      "└── \u001b[94mmol_weight\u001b[0m = 31811.0\n",
      "\n",
      "\u001b[4mProteinRecord\u001b[0m\n",
      "├── \u001b[94mid\u001b[0m = MCQ4360020.1\n",
      "├── \u001b[94mname\u001b[0m = alpha/beta fold hydrolase\n",
      "├── \u001b[94morganism\u001b[0m\n",
      "│   └── \u001b[4mOrganism\u001b[0m\n",
      "│       ├── \u001b[94mid\u001b[0m = d3d47b44-2d69-4a25-9fb7-74245494f1ca\n",
      "│       ├── \u001b[94mtaxonomy_id\u001b[0m = 1778\n",
      "│       ├── \u001b[94mname\u001b[0m = Mycobacterium gordonae\n",
      "│       ├── \u001b[94mdomain\u001b[0m = Bacteria\n",
      "│       ├── \u001b[94mphylum\u001b[0m = Actinomycetota\n",
      "│       ├── \u001b[94mtax_class\u001b[0m = Actinomycetes\n",
      "│       ├── \u001b[94morder\u001b[0m = Mycobacteriales\n",
      "│       ├── \u001b[94mfamily\u001b[0m = Mycobacteriaceae\n",
      "│       └── \u001b[94mgenus\u001b[0m = Mycobacterium\n",
      "├── \u001b[94msequence\u001b[0m = MSHFVTAGGQRIRVEVRPGSGVPLVLCNGIGASLEVLDPLVEQMTRPVMRFDVPGTGGSRISPLPYGFPYLAWVLGRVLMKLDFGVVDILGLSWGGALAQQFAFQNPRRCRRLVLVATGTGALMVPAHPRVLAKMATPRRFSDPDYAARIAGELYGGTVRAHGDDVARLFFKQLHAGSRIGYLHQLLAGSVWTSLFALPAVRQQTLIVAGTDDPIIPVVNAHIMHRLLPHSRLHLHPGGHIDVVHNAAELAPVIEGFLPLSLDRGGERAGDPDQILR\n",
      "└── \u001b[94mcoding_sequence\u001b[0m\n",
      "    └── 0\n",
      "        └── \u001b[4mRegion\u001b[0m\n",
      "            ├── \u001b[94mid\u001b[0m = JANFXG010000005.1\n",
      "            ├── \u001b[94mstart\u001b[0m = 71957\n",
      "            └── \u001b[94mend\u001b[0m = 72790\n",
      "\n",
      "\u001b[4mProteinRecord\u001b[0m\n",
      "├── \u001b[94mid\u001b[0m = KAG7390625.1\n",
      "├── \u001b[94mname\u001b[0m = hypothetical protein\n",
      "├── \u001b[94morganism\u001b[0m\n",
      "│   └── \u001b[4mOrganism\u001b[0m\n",
      "│       ├── \u001b[94mid\u001b[0m = 4090314d-5e05-4f77-bb1e-c690bd2397f6\n",
      "│       ├── \u001b[94mtaxonomy_id\u001b[0m = 221518\n",
      "│       ├── \u001b[94mname\u001b[0m = Phytophthora pseudosyringae\n",
      "│       ├── \u001b[94mdomain\u001b[0m = Eukaryota\n",
      "│       ├── \u001b[94mphylum\u001b[0m = Oomycota\n",
      "│       ├── \u001b[94morder\u001b[0m = Peronosporales\n",
      "│       ├── \u001b[94mfamily\u001b[0m = Peronosporaceae\n",
      "│       └── \u001b[94mgenus\u001b[0m = Phytophthora\n",
      "├── \u001b[94msequence\u001b[0m = MKIEEVPTFAGLGIHSERHIAALCSAPTHFPKDRIQKATLSSGLTMEYAIESSADEPETEDLPEERLVMINGFMMTKEGWAPIIDTLLGKWSAKTQGKRLQILSFDNRGAGGSDAPLTRYTTSQMAQDTLSLLDHVGWDSAHFIGGSMGGMIAIELAATVPERLRSLTLLVTTRGAYLPHPRMWKPFLGSVLGGSMQCVMELLYPSTILDQPIEGHDGLTVQDVLKKYHTTPQSDNGFPPLYALIAQGVACLTHWVSDERLELVAKAGFPILIIGSKQDILIPPENSVALIERLKGEHVKTLFFETGGHGAFFQFAEEIADGLQQTIERAKL\n",
      "├── \u001b[94mregions\u001b[0m\n",
      "│   └── 0\n",
      "│       └── \u001b[4mRegion\u001b[0m\n",
      "│           ├── \u001b[94mid\u001b[0m = MenH\n",
      "│           ├── \u001b[94mstart\u001b[0m = 42\n",
      "│           └── \u001b[94mend\u001b[0m = 330\n",
      "└── \u001b[94mcoding_sequence\u001b[0m\n",
      "    ├── 0\n",
      "    │   └── \u001b[4mRegion\u001b[0m\n",
      "    │       ├── \u001b[94mid\u001b[0m = JAGDFM010000029.1\n",
      "    │       ├── \u001b[94mstart\u001b[0m = 1756\n",
      "    │       └── \u001b[94mend\u001b[0m = 2314\n",
      "    └── 1\n",
      "        └── \u001b[4mRegion\u001b[0m\n",
      "            ├── \u001b[94mid\u001b[0m = JAGDFM010000029.1\n",
      "            ├── \u001b[94mstart\u001b[0m = 2385\n",
      "            └── \u001b[94mend\u001b[0m = 2824\n",
      "\n",
      "\u001b[4mProteinRecord\u001b[0m\n",
      "├── \u001b[94mid\u001b[0m = WP_188832212.1\n",
      "├── \u001b[94mname\u001b[0m = alpha/beta hydrolase\n",
      "├── \u001b[94morganism\u001b[0m\n",
      "│   └── \u001b[4mOrganism\u001b[0m\n",
      "│       ├── \u001b[94mid\u001b[0m = c6cdf59f-f667-470b-bd8a-166efc6447ea\n",
      "│       ├── \u001b[94mtaxonomy_id\u001b[0m = 2027860\n",
      "│       ├── \u001b[94mname\u001b[0m = Mucilaginibacter rubeus\n",
      "│       ├── \u001b[94mdomain\u001b[0m = Bacteria\n",
      "│       ├── \u001b[94mphylum\u001b[0m = Bacteroidota\n",
      "│       ├── \u001b[94mtax_class\u001b[0m = Sphingobacteriia\n",
      "│       ├── \u001b[94morder\u001b[0m = Sphingobacteriales\n",
      "│       ├── \u001b[94mfamily\u001b[0m = Sphingobacteriaceae\n",
      "│       └── \u001b[94mgenus\u001b[0m = Mucilaginibacter\n",
      "├── \u001b[94msequence\u001b[0m = MNKLQTTTIDNLEIRYASNQGNFAESILLLSPLPESIRAFEPIWNKLSSRFNLVAIDLPGFGKSQSRQDLLAPIALSEFVIKAIDHFNLGAVHIVGPDVGSSVALFVAQHHPEKIKSATVGSAACVFPIQAAGILTGMILDPNLDDLKKLGSKAIVNGSLATMTQYPLPEDVREDYLSSYEDGRFWDTMLFLKQLPVDLPKLDFENIQIPVSIIWGKNDPLAILKNGEILHQLLPRNEFNILDSGHYAWEDTHEEYAEILTRWVGAGYLEA\n",
      "├── \u001b[94mregions\u001b[0m\n",
      "│   └── 0\n",
      "│       └── \u001b[4mRegion\u001b[0m\n",
      "│           ├── \u001b[94mid\u001b[0m = MenH\n",
      "│           ├── \u001b[94mstart\u001b[0m = 0\n",
      "│           └── \u001b[94mend\u001b[0m = 266\n",
      "└── \u001b[94mmol_weight\u001b[0m = 29964.0\n",
      "\n",
      "\u001b[4mProteinRecord\u001b[0m\n",
      "├── \u001b[94mid\u001b[0m = WP_142383145.1\n",
      "├── \u001b[94mname\u001b[0m = alpha/beta hydrolase\n",
      "├── \u001b[94morganism\u001b[0m\n",
      "│   └── \u001b[4mOrganism\u001b[0m\n",
      "│       ├── \u001b[94mid\u001b[0m = 863049b5-d5ee-48fd-a1ef-071d7e32ae5f\n",
      "│       ├── \u001b[94mtaxonomy_id\u001b[0m = 1767\n",
      "│       ├── \u001b[94mname\u001b[0m = Mycobacterium intracellulare\n",
      "│       ├── \u001b[94mdomain\u001b[0m = Bacteria\n",
      "│       ├── \u001b[94mphylum\u001b[0m = Actinomycetota\n",
      "│       ├── \u001b[94mtax_class\u001b[0m = Actinomycetes\n",
      "│       ├── \u001b[94morder\u001b[0m = Mycobacteriales\n",
      "│       ├── \u001b[94mfamily\u001b[0m = Mycobacteriaceae\n",
      "│       └── \u001b[94mgenus\u001b[0m = Mycobacterium\n",
      "├── \u001b[94msequence\u001b[0m = MSTARIRSVHLAGAPQLPPMVLGPSLGVPVTALWSSTADRLGRSHHVIGWDLPGHGASPPLTTSCTIGELADAVAALADTEIGDRPFVYAGVSVGGAVGLQVLLDHPGRISAAALICTGAKIGTPEDWIARAGSVRRDGMGAMVPGAAQRWFAQGFTERDPAVHNTLLESLRNVDSDSYAFICEALAEFDVRERLSEIDTPIVAVAGADDVVTPPTSLLFIAERVARGRYIELLQTAHLAPVERPDWVAPLVAGLDEWSRR\n",
      "├── \u001b[94mregions\u001b[0m\n",
      "│   └── 0\n",
      "│       └── \u001b[4mRegion\u001b[0m\n",
      "│           ├── \u001b[94mid\u001b[0m = MenH\n",
      "│           ├── \u001b[94mstart\u001b[0m = 17\n",
      "│           └── \u001b[94mend\u001b[0m = 253\n",
      "└── \u001b[94mmol_weight\u001b[0m = 27489.0\n",
      "\n",
      "\u001b[4mProteinRecord\u001b[0m\n",
      "├── \u001b[94mid\u001b[0m = WP_208341383.1\n",
      "├── \u001b[94mname\u001b[0m = alpha/beta hydrolase\n",
      "├── \u001b[94morganism\u001b[0m\n",
      "│   └── \u001b[4mOrganism\u001b[0m\n",
      "│       ├── \u001b[94mid\u001b[0m = 143b53ca-9d40-4bc4-8a77-563599d22815\n",
      "│       ├── \u001b[94mtaxonomy_id\u001b[0m = 1550245\n",
      "│       ├── \u001b[94mname\u001b[0m = Aetokthonos hydrillicola\n",
      "│       ├── \u001b[94mdomain\u001b[0m = Bacteria\n",
      "│       ├── \u001b[94mphylum\u001b[0m = Cyanobacteriota\n",
      "│       ├── \u001b[94mtax_class\u001b[0m = Cyanophyceae\n",
      "│       ├── \u001b[94morder\u001b[0m = Nostocales\n",
      "│       ├── \u001b[94mfamily\u001b[0m = Hapalosiphonaceae\n",
      "│       └── \u001b[94mgenus\u001b[0m = Aetokthonos\n",
      "├── \u001b[94msequence\u001b[0m = MVPVRKTLSKPDIQLSYLEWNQGREALLLLHGLADHALVWSSLGDYLAADYHIIAPDMRGHGDTSKPDKDYTFESAIADLEALMDHLGWSATHVVAHSWTGKLAVIWARLNPQRLKSMVLVDPIFIWKIPSFFKFTFPMLYRVLPFLQGMGPFASYDEAEQKARQLNQYQGWSDLQQQVFAGSIEQKSDGSWGSKFTVSARDGIFTEVMEVPGFTNVIDTPTLFVQPQKGVNRQDWQIKPYKTYLKNLQICKVPGNHWAFLTEPETFNQTVEAFLRKFD\n",
      "├── \u001b[94mregions\u001b[0m\n",
      "│   └── 0\n",
      "│       └── \u001b[4mRegion\u001b[0m\n",
      "│           ├── \u001b[94mid\u001b[0m = MenH\n",
      "│           ├── \u001b[94mstart\u001b[0m = 2\n",
      "│           └── \u001b[94mend\u001b[0m = 277\n",
      "└── \u001b[94mmol_weight\u001b[0m = 31785.0\n",
      "\n",
      "\u001b[4mProteinRecord\u001b[0m\n",
      "├── \u001b[94mid\u001b[0m = MBW2519229.1\n",
      "├── \u001b[94mname\u001b[0m = alpha/beta hydrolase\n",
      "├── \u001b[94morganism\u001b[0m\n",
      "│   └── \u001b[4mOrganism\u001b[0m\n",
      "│       ├── \u001b[94mid\u001b[0m = 7aba39e9-b58c-46a3-b4ba-ddbfd60f11f7\n",
      "│       ├── \u001b[94mtaxonomy_id\u001b[0m = 2026735\n",
      "│       ├── \u001b[94mname\u001b[0m = Deltaproteobacteria bacterium\n",
      "│       ├── \u001b[94mdomain\u001b[0m = Bacteria\n",
      "│       ├── \u001b[94mphylum\u001b[0m = Myxococcota\n",
      "│       └── \u001b[94mtax_class\u001b[0m = Myxococcia\n",
      "├── \u001b[94msequence\u001b[0m = MPVEPIDDLPIYYEVHGQGPTLILIHGLGSSHLDWEHQVEFLAEHFQIVTIDLRGHGKSGKPPGPYSVSLFASDVAKLIRSLRLAPAHVAGISMGGMVAFQLAIDAPELLKSLVIINSGPALVLRTSQERAAFFLRGLIIRCLGMGYLAQMLGKMLLPEPHQKSLQIKLINRWSKNDKKAYLASLRAITGWSVEDRISAIQCPSLIMSADNDYTPVGFKQAYLSKMIRAELVVIRNSRHLSPIDQPKQVNNAILKFLSSL\n",
      "└── \u001b[94mcoding_sequence\u001b[0m\n",
      "    └── 0\n",
      "        └── \u001b[4mRegion\u001b[0m\n",
      "            ├── \u001b[94mid\u001b[0m = JAFDBS010000065.1\n",
      "            ├── \u001b[94mstart\u001b[0m = 20066\n",
      "            └── \u001b[94mend\u001b[0m = 20848\n",
      "\n",
      "\u001b[4mProteinRecord\u001b[0m\n",
      "├── \u001b[94mid\u001b[0m = WP_102623931.1\n",
      "├── \u001b[94mname\u001b[0m = 3-oxoadipate enol-lactonase\n",
      "├── \u001b[94morganism\u001b[0m\n",
      "│   └── \u001b[4mOrganism\u001b[0m\n",
      "│       ├── \u001b[94mid\u001b[0m = 196821\n",
      "│       ├── \u001b[94mtaxonomy_id\u001b[0m = 196821\n",
      "│       └── \u001b[94mname\u001b[0m = unclassified Pseudomonas\n",
      "├── \u001b[94msequence\u001b[0m = MPVVHLADGDLNYQLDGPADAPVLLLCNSLGTDLHMWDAQLPAFAERFRVLRYDTRGHGRSLVSAGPYSIEQLGHDVLALLDALNITRVSFCGLSMGGLIGQWLALNAPERIQRLVLCNTAAKIGNADVWNPRIDTVLAGGEQAMRDLRDASVSRWFTAAFASAEPARVEPVVGMLALTSPQGYAANCAAVRDADFSEQIAAIGAPTLIVCGTADAVTTPEHGRFMQARIAGAELVEFEAAHLSNVQACDAFSQKVLGFLLDGL\n",
      "├── \u001b[94mregions\u001b[0m\n",
      "│   └── 0\n",
      "│       └── \u001b[4mRegion\u001b[0m\n",
      "│           ├── \u001b[94mid\u001b[0m = protocat_pcaD\n",
      "│           ├── \u001b[94mstart\u001b[0m = 10\n",
      "│           └── \u001b[94mend\u001b[0m = 260\n",
      "├── \u001b[94mec_number\u001b[0m = 3.1.1.24\n",
      "└── \u001b[94mmol_weight\u001b[0m = 28025.0\n",
      "\n",
      "\u001b[4mProteinRecord\u001b[0m\n",
      "├── \u001b[94mid\u001b[0m = WP_053129519.1\n",
      "├── \u001b[94mname\u001b[0m = alpha/beta hydrolase\n",
      "├── \u001b[94morganism\u001b[0m\n",
      "│   └── \u001b[4mOrganism\u001b[0m\n",
      "│       ├── \u001b[94mid\u001b[0m = 286\n",
      "│       ├── \u001b[94mtaxonomy_id\u001b[0m = 286\n",
      "│       └── \u001b[94mname\u001b[0m = Pseudomonas\n",
      "├── \u001b[94msequence\u001b[0m = MEWLIAAAIFLVVSVVLWVVSFRIDRRIESQVPINGRFLEVGGERLHYTDEGRGPALLMIHGLSGCGRNLTHSLAPQLRDRYRVITLDRPGSGYSTRSRGAPADLPAQASLVAKFIRALDLNQPLVLGHSLGGAIALSLALNHPQSVSGLVLVAPLTHPQRMLPLVFLSLGVRPALLRRWMSLTLAAPMAMLGRHKLVKAVFAPDSVPEDFDVRGGGLLGMRSNNFYNASSEIAVVNRDLPDMVKHYPSLKLPVGLIYGSRDPVLSYRRHGEAMVGKVPGLMLEIVQGRGHMLPISAVEHVVAMVHQVASQAAPQRSATVLHPPFAASRAG\n",
      "├── \u001b[94mregions\u001b[0m\n",
      "│   └── 0\n",
      "│       └── \u001b[4mRegion\u001b[0m\n",
      "│           ├── \u001b[94mid\u001b[0m = MenH\n",
      "│           ├── \u001b[94mstart\u001b[0m = 36\n",
      "│           └── \u001b[94mend\u001b[0m = 312\n",
      "└── \u001b[94mmol_weight\u001b[0m = 35731.0\n",
      "\n",
      "\u001b[4mProteinRecord\u001b[0m\n",
      "├── \u001b[94mid\u001b[0m = WP_184713685.1\n",
      "├── \u001b[94mname\u001b[0m = alpha/beta hydrolase\n",
      "├── \u001b[94morganism\u001b[0m\n",
      "│   └── \u001b[4mOrganism\u001b[0m\n",
      "│       ├── \u001b[94mid\u001b[0m = 90a88d2a-7f25-4215-8a8a-f58e30235ce7\n",
      "│       ├── \u001b[94mtaxonomy_id\u001b[0m = 1706840\n",
      "│       ├── \u001b[94mname\u001b[0m = Streptosporangium saharense\n",
      "│       ├── \u001b[94mdomain\u001b[0m = Bacteria\n",
      "│       ├── \u001b[94mphylum\u001b[0m = Actinomycetota\n",
      "│       ├── \u001b[94mtax_class\u001b[0m = Actinomycetes\n",
      "│       ├── \u001b[94morder\u001b[0m = Streptosporangiales\n",
      "│       ├── \u001b[94mfamily\u001b[0m = Streptosporangiaceae\n",
      "│       └── \u001b[94mgenus\u001b[0m = Streptosporangium\n",
      "├── \u001b[94msequence\u001b[0m = MSEYDIERSQGMHVVHDGPRQAPPLLLIHGSGASGGFWSPVVPALAGHHHVIRVDLPGCGQSPPAPPYDVPAQADRVAALLDDLGLRHVAVAGHSSGGYVATALAERRPDLVDSLALISSGPSPDALLRQPLILRALLAPPLGPLLWSRRSDAMIRKGVSATAARPVNIPDDVVADVRSITYRVMRTMLRRNTAYIAERSVPERLTDLKVPVLAIFGAADPRWEPSSAHRYDAVPNARVELLPGVGHLPMLEAPETISELLLSFTATAHL\n",
      "├── \u001b[94mregions\u001b[0m\n",
      "│   └── 0\n",
      "│       └── \u001b[4mRegion\u001b[0m\n",
      "│           ├── \u001b[94mid\u001b[0m = MenH\n",
      "│           ├── \u001b[94mstart\u001b[0m = 11\n",
      "│           └── \u001b[94mend\u001b[0m = 264\n",
      "└── \u001b[94mmol_weight\u001b[0m = 28774.0\n",
      "\n",
      "\u001b[4mProteinRecord\u001b[0m\n",
      "├── \u001b[94mid\u001b[0m = WP_020645926.1\n",
      "├── \u001b[94mname\u001b[0m = alpha/beta hydrolase\n",
      "├── \u001b[94morganism\u001b[0m\n",
      "│   └── \u001b[4mOrganism\u001b[0m\n",
      "│       ├── \u001b[94mid\u001b[0m = bceeb206-8927-4a7a-ad3b-a9c332c21325\n",
      "│       ├── \u001b[94mtaxonomy_id\u001b[0m = 208443\n",
      "│       ├── \u001b[94mname\u001b[0m = Amycolatopsis balhimycina\n",
      "│       ├── \u001b[94mdomain\u001b[0m = Bacteria\n",
      "│       ├── \u001b[94mphylum\u001b[0m = Actinomycetota\n",
      "│       ├── \u001b[94mtax_class\u001b[0m = Actinomycetes\n",
      "│       ├── \u001b[94morder\u001b[0m = Pseudonocardiales\n",
      "│       ├── \u001b[94mfamily\u001b[0m = Pseudonocardiaceae\n",
      "│       └── \u001b[94mgenus\u001b[0m = Amycolatopsis\n",
      "├── \u001b[94msequence\u001b[0m = MSTTTADTAENLYVQGPSATFAYRRLGPRGGVPLILLNRLRGTIDWWDPEFLDHLAAEHDVIVFDDIGVGYSTGTPRDSVEGFADGAIEFIEALGLTRVDLLGWTLGGIVAQYVTRRRPELVRKLVLAASNLDGRVPGAPAPDPKVRAILGQPEVSGDDLVYLFFPDTDTGRAAGHAYLARVAGRLATGRPEISEAAATSQFSAIGKSAGISFDRTRADLETITHPVLYATGMRDAMIPALSAYVAVQHLADATLVIYGDAGHAFLFQHAKDFATQVATFLAA\n",
      "├── \u001b[94mregions\u001b[0m\n",
      "│   └── 0\n",
      "│       └── \u001b[4mRegion\u001b[0m\n",
      "│           ├── \u001b[94mid\u001b[0m = MenH\n",
      "│           ├── \u001b[94mstart\u001b[0m = 12\n",
      "│           └── \u001b[94mend\u001b[0m = 283\n",
      "└── \u001b[94mmol_weight\u001b[0m = 30137.0\n",
      "\n",
      "\u001b[4mProteinRecord\u001b[0m\n",
      "├── \u001b[94mid\u001b[0m = HCH24540.1\n",
      "├── \u001b[94mname\u001b[0m = alpha/beta hydrolase\n",
      "├── \u001b[94morganism\u001b[0m\n",
      "│   └── \u001b[4mOrganism\u001b[0m\n",
      "│       ├── \u001b[94mid\u001b[0m = 2f613711-993b-42c6-865f-86074d0a11c6\n",
      "│       ├── \u001b[94mtaxonomy_id\u001b[0m = 1899355\n",
      "│       ├── \u001b[94mname\u001b[0m = Oceanospirillaceae bacterium\n",
      "│       ├── \u001b[94mdomain\u001b[0m = Bacteria\n",
      "│       ├── \u001b[94mphylum\u001b[0m = Pseudomonadota\n",
      "│       ├── \u001b[94mtax_class\u001b[0m = Gammaproteobacteria\n",
      "│       ├── \u001b[94morder\u001b[0m = Oceanospirillales\n",
      "│       └── \u001b[94mfamily\u001b[0m = Oceanospirillaceae\n",
      "├── \u001b[94msequence\u001b[0m = MTYAIDCNYTMQGEGPALFLIHGIGAARNAWAKALPALIAHFTVITYDLRGHGSSPMPLDDFGLAELVADLEALRSRLGIEQAHFAGHSLGGMIGPAYAKRYPDRVLSLGLLSTAAFRTEEDSTKVWGVVRAMEDKGIPKVLPTLAQRWFTDAFAKANPEVVEARLQQVIATDAKVFLQVFGIYAGTEIAPWLHEITAPSLILTGENDGGCNPRLNRLIDAALPNSKLVILPEYKHSILLEAGDIVAQEIVRFITQATAER\n",
      "└── \u001b[94mcoding_sequence\u001b[0m\n",
      "    └── 0\n",
      "        └── \u001b[4mRegion\u001b[0m\n",
      "            ├── \u001b[94mid\u001b[0m = DPHB01000041.1\n",
      "            ├── \u001b[94mstart\u001b[0m = 7384\n",
      "            └── \u001b[94mend\u001b[0m = 8169\n",
      "\n",
      "\u001b[4mProteinRecord\u001b[0m\n",
      "├── \u001b[94mid\u001b[0m = SEA27699.1\n",
      "├── \u001b[94mname\u001b[0m = Pimeloyl-ACP methyl ester carboxylesterase\n",
      "├── \u001b[94morganism\u001b[0m\n",
      "│   └── \u001b[4mOrganism\u001b[0m\n",
      "│       ├── \u001b[94mid\u001b[0m = 1e9837ac-d562-42ed-93ed-389c83725400\n",
      "│       ├── \u001b[94mtaxonomy_id\u001b[0m = 1761810\n",
      "│       ├── \u001b[94mname\u001b[0m = Mycobacterium sp. 283mftsu\n",
      "│       ├── \u001b[94mdomain\u001b[0m = Bacteria\n",
      "│       ├── \u001b[94mphylum\u001b[0m = Actinomycetota\n",
      "│       ├── \u001b[94mtax_class\u001b[0m = Actinomycetes\n",
      "│       ├── \u001b[94morder\u001b[0m = Mycobacteriales\n",
      "│       ├── \u001b[94mfamily\u001b[0m = Mycobacteriaceae\n",
      "│       └── \u001b[94mgenus\u001b[0m = Mycobacterium\n",
      "├── \u001b[94msequence\u001b[0m = MDTAYLLAAIADSRQVCPTPHQRTVDTNTNYGHTVSIMKNGDSQQPLYETVDGVRVHYQRSGDGQPLLLLHGSTSSLEHFDRATDILDRHFDVIRPDLPGFGLTGARNDRDYRIRTYARTVAGFMAQLGIDRYAIAGNSLGGNVAWNLALDYPDRVRALVLVNATGYPEKALPLGMRLARNPAVAQLMRRAMPRRMVEGGLRQAVGPQSTIVDDAMVDRVYRLWNHNGNRGAFVDFVNTDQPDRTCELGRIQVPTLVLRSASIDGQHFARDIPHARQAVNPDTGHLLPEEDPDWFTEQVIGFLSTLPRN\n",
      "├── \u001b[94mregions\u001b[0m\n",
      "│   └── 0\n",
      "│       └── \u001b[4mRegion\u001b[0m\n",
      "│           ├── \u001b[94mid\u001b[0m = MenH\n",
      "│           ├── \u001b[94mstart\u001b[0m = 49\n",
      "│           └── \u001b[94mend\u001b[0m = 306\n",
      "└── \u001b[94mcoding_sequence\u001b[0m\n",
      "    └── 0\n",
      "        └── \u001b[4mRegion\u001b[0m\n",
      "            ├── \u001b[94mid\u001b[0m = FNRC01000002.1\n",
      "            ├── \u001b[94mstart\u001b[0m = 240968\n",
      "            └── \u001b[94mend\u001b[0m = 241897\n",
      "\n",
      "\u001b[4mProteinRecord\u001b[0m\n",
      "├── \u001b[94mid\u001b[0m = WP_266964584.1\n",
      "├── \u001b[94mname\u001b[0m = alpha/beta fold hydrolase\n",
      "├── \u001b[94morganism\u001b[0m\n",
      "│   └── \u001b[4mOrganism\u001b[0m\n",
      "│       ├── \u001b[94mid\u001b[0m = 6d4a2555-fdec-4a2c-90a2-dc4af2339634\n",
      "│       ├── \u001b[94mtaxonomy_id\u001b[0m = 2975823\n",
      "│       ├── \u001b[94mname\u001b[0m = Streptomyces sp. NBC_00760\n",
      "│       ├── \u001b[94mdomain\u001b[0m = Bacteria\n",
      "│       ├── \u001b[94mphylum\u001b[0m = Actinomycetota\n",
      "│       ├── \u001b[94mtax_class\u001b[0m = Actinomycetes\n",
      "│       ├── \u001b[94morder\u001b[0m = Kitasatosporales\n",
      "│       ├── \u001b[94mfamily\u001b[0m = Streptomycetaceae\n",
      "│       └── \u001b[94mgenus\u001b[0m = Streptomyces\n",
      "├── \u001b[94msequence\u001b[0m = MPQLEVDGAALTYDDEGPRDGDGVPLVFIHGWTANRHRWDHQMAHFAEKRRVVRLDLRGHGDSSGAGVPTVAELATDVLALLDHLEVERAVLVGHSMGGMIAQTITLDHPERVERLVLVDSIARMTYSRGRGLLMAASTLVPYKLFVATNIQRAFAPGHPREEVRAYIKSAAATPREVVMTLYGAMRAFDVLDRVGEIRIPTLLIHGYHDIQLPVQQMLRMAKAYPDAEVRIIDAGHELPVEKPVELTTALDRFLVPARG\n",
      "└── \u001b[94mmol_weight\u001b[0m = 28682.0\n",
      "\n",
      "\u001b[4mProteinRecord\u001b[0m\n",
      "├── \u001b[94mid\u001b[0m = MBU3745539.1\n",
      "├── \u001b[94mname\u001b[0m = alpha/beta hydrolase\n",
      "├── \u001b[94morganism\u001b[0m\n",
      "│   └── \u001b[4mOrganism\u001b[0m\n",
      "│       ├── \u001b[94mid\u001b[0m = c16c9811-243a-4489-8acf-45b5e173944e\n",
      "│       ├── \u001b[94mtaxonomy_id\u001b[0m = 1917865\n",
      "│       ├── \u001b[94mname\u001b[0m = Sediminibacterium sp.\n",
      "│       ├── \u001b[94mdomain\u001b[0m = Bacteria\n",
      "│       ├── \u001b[94mphylum\u001b[0m = Bacteroidota\n",
      "│       ├── \u001b[94mtax_class\u001b[0m = Chitinophagia\n",
      "│       ├── \u001b[94morder\u001b[0m = Chitinophagales\n",
      "│       ├── \u001b[94mfamily\u001b[0m = Chitinophagaceae\n",
      "│       └── \u001b[94mgenus\u001b[0m = Sediminibacterium\n",
      "├── \u001b[94msequence\u001b[0m = MQSKLFKFFAWLLLVIVSVSIMLGMLFYQADQPPKAVYARYALPQSRQIQIGGVWVHYCVEGNEADSTPLLLIHGTSSSLRTWDGVTAQLKKDYKIIRFDLPGFGLTGPNPQKDYSNAYYNAVIDTLLEKLSLTKVIVAGNSLGGSIAANYAMYRPEKVKGLILVDAAGVPAAKKTKGAIGFKLAQIPGINQLLTRITPRFLVKKSLEDAYGNPEKVTDSLTTQYFDMLTREGNRRALVDRMRMGWQHTDSDYLLAIKAPT\n",
      "└── \u001b[94mcoding_sequence\u001b[0m\n",
      "    └── 0\n",
      "        └── \u001b[4mRegion\u001b[0m\n",
      "            ├── \u001b[94mid\u001b[0m = VERT01000880.1\n",
      "            ├── \u001b[94mstart\u001b[0m = 1\n",
      "            └── \u001b[94mend\u001b[0m = 784\n",
      "\n",
      "\u001b[4mProteinRecord\u001b[0m\n",
      "├── \u001b[94mid\u001b[0m = WP_036346027.1\n",
      "├── \u001b[94mname\u001b[0m = 3-oxoadipate enol-lactonase\n",
      "├── \u001b[94morganism\u001b[0m\n",
      "│   └── \u001b[4mOrganism\u001b[0m\n",
      "│       ├── \u001b[94mid\u001b[0m = 9c85067d-f0e6-49b5-a2d9-1df2fcf2c777\n",
      "│       ├── \u001b[94mtaxonomy_id\u001b[0m = 1549810\n",
      "│       ├── \u001b[94mname\u001b[0m = Microvirga sp. BSC39\n",
      "│       ├── \u001b[94mdomain\u001b[0m = Bacteria\n",
      "│       ├── \u001b[94mphylum\u001b[0m = Pseudomonadota\n",
      "│       ├── \u001b[94mtax_class\u001b[0m = Alphaproteobacteria\n",
      "│       ├── \u001b[94morder\u001b[0m = Hyphomicrobiales\n",
      "│       ├── \u001b[94mfamily\u001b[0m = Methylobacteriaceae\n",
      "│       └── \u001b[94mgenus\u001b[0m = Microvirga\n",
      "├── \u001b[94msequence\u001b[0m = MAFARVNDIVLHYQVLGASNGTSLVFINSLGSDLRIWQEVAPGLAERFRVILYDKRGHGLSDAPSTPYTIDEHTDDLLALLDHLGAERASLVGLSVGGMIAQRMAVRAPGRVQSITLCCTAAKIGTPELWADRIGAVETGGIEPIAGNVLQRWFTPLFRETRADELAGWRNMLVRTPAHGYAGTCAAIRDADLRPDAGRIAVPTLCVAGDQDGSTPADIVKGTADLIPGARFALIEGAGHIPCVEKPAELSRLIKQHLMEAGLV\n",
      "├── \u001b[94mregions\u001b[0m\n",
      "│   └── 0\n",
      "│       └── \u001b[4mRegion\u001b[0m\n",
      "│           ├── \u001b[94mid\u001b[0m = protocat_pcaD\n",
      "│           ├── \u001b[94mstart\u001b[0m = 9\n",
      "│           └── \u001b[94mend\u001b[0m = 258\n",
      "├── \u001b[94mec_number\u001b[0m = 3.1.1.24\n",
      "└── \u001b[94mmol_weight\u001b[0m = 28060.0\n",
      "\n",
      "\u001b[4mProteinRecord\u001b[0m\n",
      "├── \u001b[94mid\u001b[0m = PHX99934.1\n",
      "├── \u001b[94mname\u001b[0m = hypothetical protein\n",
      "├── \u001b[94morganism\u001b[0m\n",
      "│   └── \u001b[4mOrganism\u001b[0m\n",
      "│       ├── \u001b[94mid\u001b[0m = b54a44e8-2eb6-4163-ac31-69040cfb8d84\n",
      "│       ├── \u001b[94mtaxonomy_id\u001b[0m = 1898112\n",
      "│       ├── \u001b[94mname\u001b[0m = Rhodospirillaceae bacterium\n",
      "│       ├── \u001b[94mdomain\u001b[0m = Bacteria\n",
      "│       ├── \u001b[94mphylum\u001b[0m = Pseudomonadota\n",
      "│       ├── \u001b[94mtax_class\u001b[0m = Alphaproteobacteria\n",
      "│       ├── \u001b[94morder\u001b[0m = Rhodospirillales\n",
      "│       └── \u001b[94mfamily\u001b[0m = Rhodospirillaceae\n",
      "├── \u001b[94msequence\u001b[0m = MRHNVNQLTRRATISAALAASALATRSVFSQEKTGSASHPPPALKGLVRKGYASTPIGQIHYRMVTPAKDTGKPPIIFFHPNPFSSLYFVYMLEEMGQDRVAIAFDTPGYGESDKPKAPHSMEQLTKGMAAALESLGYGEKGKGKVDVSGYHTGAYVATEITAARPDLVRRAVLVGVPFWEGEELEKQRKRLLVDKPLTEEPEHVLKEWKAWVTDRNPNIPLQRAYDVFVESLQSGSDIWWAYNAVLNYDARPRYQVINQPVLLLNTGGGLATFTRNILPLLMKGKLIEVPELTSGIWDVGADVLGRHMRDYLDKPA\n",
      "├── \u001b[94mregions\u001b[0m\n",
      "│   └── 0\n",
      "│       └── \u001b[4mRegion\u001b[0m\n",
      "│           ├── \u001b[94mid\u001b[0m = MenH\n",
      "│           ├── \u001b[94mstart\u001b[0m = 58\n",
      "│           └── \u001b[94mend\u001b[0m = 176\n",
      "└── \u001b[94mcoding_sequence\u001b[0m\n",
      "    └── 0\n",
      "        └── \u001b[4mRegion\u001b[0m\n",
      "            ├── \u001b[94mid\u001b[0m = NSIP01000006.1\n",
      "            ├── \u001b[94mstart\u001b[0m = 101061\n",
      "            └── \u001b[94mend\u001b[0m = 102014\n",
      "\n",
      "\u001b[4mProteinRecord\u001b[0m\n",
      "├── \u001b[94mid\u001b[0m = MAW86725.1\n",
      "├── \u001b[94mname\u001b[0m = hypothetical protein\n",
      "├── \u001b[94morganism\u001b[0m\n",
      "│   └── \u001b[4mOrganism\u001b[0m\n",
      "│       ├── \u001b[94mid\u001b[0m = da409eb4-b55e-4d41-bdfb-a1ded0245351\n",
      "│       ├── \u001b[94mtaxonomy_id\u001b[0m = 1871068\n",
      "│       ├── \u001b[94mname\u001b[0m = Phyllobacteriaceae bacterium\n",
      "│       ├── \u001b[94mdomain\u001b[0m = Bacteria\n",
      "│       ├── \u001b[94mphylum\u001b[0m = Pseudomonadota\n",
      "│       ├── \u001b[94mtax_class\u001b[0m = Alphaproteobacteria\n",
      "│       ├── \u001b[94morder\u001b[0m = Hyphomicrobiales\n",
      "│       └── \u001b[94mfamily\u001b[0m = Phyllobacteriaceae\n",
      "├── \u001b[94msequence\u001b[0m = MMEPSMALLSFRSSGTGKPVLLLHPVGLDGRFWDPLSARLSDSFRVVAVDLAGHGDSPPAARPGRMADRVADVVALIEHLGDGPAILVGLSFGGMIAQQVALARPDLVSALVVAGCGGRIGADARGAILKRGEDAEAGGMEAVVDTTLERWFNQSYLSTPEVARVRERLLSDSPSGWAAAWEAIAEHDALDRLGELDMPALVVAGENDLAIPLDAMRALAAAIPGSQLLILSGAPHMMQIESAVDFTAGVAGFLEQLPGRPD\n",
      "└── \u001b[94mcoding_sequence\u001b[0m\n",
      "    └── 0\n",
      "        └── \u001b[4mRegion\u001b[0m\n",
      "            ├── \u001b[94mid\u001b[0m = PAII01000021.1\n",
      "            ├── \u001b[94mstart\u001b[0m = 302469\n",
      "            └── \u001b[94mend\u001b[0m = 303257\n",
      "\n",
      "\u001b[4mProteinRecord\u001b[0m\n",
      "├── \u001b[94mid\u001b[0m = MCO5059510.1\n",
      "├── \u001b[94mname\u001b[0m = acetoin dehydrogenase dihydrolipoyllysine-residue acetyltransferase subunit\n",
      "├── \u001b[94morganism\u001b[0m\n",
      "│   └── \u001b[4mOrganism\u001b[0m\n",
      "│       ├── \u001b[94mid\u001b[0m = 04b1fb71-0fb5-467c-804b-a6c5fb41b28e\n",
      "│       ├── \u001b[94mtaxonomy_id\u001b[0m = 1913961\n",
      "│       ├── \u001b[94mname\u001b[0m = Rhizobiaceae bacterium\n",
      "│       ├── \u001b[94mdomain\u001b[0m = Bacteria\n",
      "│       ├── \u001b[94mphylum\u001b[0m = Pseudomonadota\n",
      "│       ├── \u001b[94mtax_class\u001b[0m = Alphaproteobacteria\n",
      "│       ├── \u001b[94morder\u001b[0m = Hyphomicrobiales\n",
      "│       └── \u001b[94mfamily\u001b[0m = Rhizobiaceae\n",
      "├── \u001b[94msequence\u001b[0m = MAEITPLTMPNWGLSMTEGTIVAWLRGENEAVEKGAEIAEIETTKLTGVYEAHEAGTLRRIVATKGATRKVGELIGVMAGDAVTDADIEAFIAGYSSPDAIEGRESGDTGTIASQTVTIDGLSVHVTSAGDGDKLPVVLLHGFGGNTENWALVQPTLASDRRVVAIDLPGHGRSGKAIADGSFTGMAKLVGDVIDALGIERFHLFGHSYGGGIALALAGVRPDAIASLVLVAPAGMGSPVNRSFVDAYRSADDRRTVKAALELLFKDPALASRQLVADVLKQQRIDGVRGALDTIAAAMFAAEDSSQSPTVARPADTLVVWGSEDAVVAPLASERLPDAVTLTVLDSTGHMPHVEASSAFTQIANDFIQSRD\n",
      "├── \u001b[94mcoding_sequence\u001b[0m\n",
      "│   └── 0\n",
      "│       └── \u001b[4mRegion\u001b[0m\n",
      "│           ├── \u001b[94mid\u001b[0m = JAMLJD010000057.1\n",
      "│           ├── \u001b[94mstart\u001b[0m = 26970\n",
      "│           └── \u001b[94mend\u001b[0m = 28088\n",
      "└── \u001b[94mec_number\u001b[0m = 2.3.1.12\n",
      "\n",
      "\u001b[4mProteinRecord\u001b[0m\n",
      "├── \u001b[94mid\u001b[0m = MBL8705839.1\n",
      "├── \u001b[94mname\u001b[0m = alpha/beta fold hydrolase\n",
      "├── \u001b[94morganism\u001b[0m\n",
      "│   └── \u001b[4mOrganism\u001b[0m\n",
      "│       ├── \u001b[94mid\u001b[0m = 5ee1f35e-17fb-4d82-876b-49271738e6bd\n",
      "│       ├── \u001b[94mtaxonomy_id\u001b[0m = 2026786\n",
      "│       ├── \u001b[94mname\u001b[0m = Rhodospirillales bacterium\n",
      "│       ├── \u001b[94mdomain\u001b[0m = Bacteria\n",
      "│       ├── \u001b[94mphylum\u001b[0m = Pseudomonadota\n",
      "│       ├── \u001b[94mtax_class\u001b[0m = Alphaproteobacteria\n",
      "│       └── \u001b[94morder\u001b[0m = Rhodospirillales\n",
      "├── \u001b[94msequence\u001b[0m = MSMVPFALFAGDRGEPVVFLHGIGGQPELFRPQLAEFGRTHRCIAWEMPGYGRTTLPAETSFASLAAALGRLMDRAAAPRAHLVGHSMGGMVALEFAAAHPERVRSLAISGSSAAFGGSSGAWQAEFIAKRTRPLDEGRGMAGIAPDVVDGLLGDAPDPGARPAAIAAMSAIPEASYRAALSCLVTFDRRDALPGLAMPVLLLAGSRDTVASPELMKKMQSKIPGAQYAEIEGAGHLANIEKPQAFNDALGGFLGALEQKAA\n",
      "└── \u001b[94mcoding_sequence\u001b[0m\n",
      "    └── 0\n",
      "        └── \u001b[4mRegion\u001b[0m\n",
      "            ├── \u001b[94mid\u001b[0m = JAEULC010000294.1\n",
      "            ├── \u001b[94mstart\u001b[0m = 1023\n",
      "            └── \u001b[94mend\u001b[0m = 1811\n",
      "\n",
      "\u001b[4mProteinRecord\u001b[0m\n",
      "├── \u001b[94mid\u001b[0m = MBE2222358.1\n",
      "├── \u001b[94mname\u001b[0m = alpha/beta fold hydrolase\n",
      "├── \u001b[94morganism\u001b[0m\n",
      "│   └── \u001b[4mOrganism\u001b[0m\n",
      "│       ├── \u001b[94mid\u001b[0m = ea07c31c-912b-456e-b6b8-9c6259524b80\n",
      "│       ├── \u001b[94mtaxonomy_id\u001b[0m = 2052143\n",
      "│       ├── \u001b[94mname\u001b[0m = Anaerolineae bacterium\n",
      "│       ├── \u001b[94mdomain\u001b[0m = Bacteria\n",
      "│       ├── \u001b[94mphylum\u001b[0m = Chloroflexota\n",
      "│       └── \u001b[94mtax_class\u001b[0m = Anaerolineae\n",
      "├── \u001b[94msequence\u001b[0m = MKKKLRGIKRTDIQLDYDLYRVNVRMRGVADSYLSVVDLHPEGIEKTIMFVHGYAGVLESWEHQINHFARTHRVVAPDLRGHGQSDAPYTDYTMREMVSDLHAIVVDLDFPEKFILVAHSFGGSIAVEYANAHPERLEKLVLIATAGEYPLPKAARWATRIPGKIGQPFWKYRTRYDAEFHVMKRMAANNVLKWQGWSLMRNITTPTLVVTGERDNYFPREVFDDVGKMIPNAEVYDVGSAKHKVQLERHEAVIRVIERFIDDDEKSSWRDDAQKDDPLAERIWLRSYSPDTPPMLPIPERPLTIFLDSAAKWLPKQTAVIFYNHHLTYQQLNDKVNRFAQVLHGKGVQPGDRVMLVLPNMPQMIIAFYATLKVGGIAVMPNPDADAALITQQAIMTTPKVMVTLKSFGRLAQAIREKSGLKQFIFADIKPVVSAKVYKALIDRWQLPASQPEDAAIVRAIGEPMDSLMDDVPAIAPPRVHVKGEDLAAILFTSGTTDEPKGVCLTHKNLVANTLQTRHWIPDLVYGKEVCLAVLPIIHSYGLINAMSLPIALGGTVILSPVFDVAEVLSHIRDYGVTLFPGVPSMYTAINHFPAAREYGLGSIKACVSGAAPLPIEVQEEFEKLTRGRLVEGYGLTEASPVTHANPLYGVRKPGSIGVPVPNTEAKIIDLVTGEPVAQGEIGELAVRGPQVMQGYWQDQAATDEVIKDGWLNTGDVAVMDRDGYFQIISRKRDTIMFGDYSVFPRDVEEVLYENNKVMEVAVVGVGKVAGEQKIKAFVVPRPGSALTEDELMQMCHRRLDPYAVPWEIEFREALPKSFIGKVLRRVLVQEVEGNDGTV\n",
      "└── \u001b[94mcoding_sequence\u001b[0m\n",
      "    └── 0\n",
      "        └── \u001b[4mRegion\u001b[0m\n",
      "            ├── \u001b[94mid\u001b[0m = JACSSI010000265.1\n",
      "            ├── \u001b[94mstart\u001b[0m = 3410\n",
      "            └── \u001b[94mend\u001b[0m = 5929\n",
      "\n",
      "\u001b[4mProteinRecord\u001b[0m\n",
      "├── \u001b[94mid\u001b[0m = TML63091.1\n",
      "├── \u001b[94mname\u001b[0m = alpha/beta hydrolase\n",
      "├── \u001b[94morganism\u001b[0m\n",
      "│   └── \u001b[4mOrganism\u001b[0m\n",
      "│       ├── \u001b[94mid\u001b[0m = 80c57aab-3963-49f8-a4c6-462a1038e220\n",
      "│       ├── \u001b[94mtaxonomy_id\u001b[0m = 2900548\n",
      "│       ├── \u001b[94mname\u001b[0m = Actinomycetota bacterium\n",
      "│       ├── \u001b[94mdomain\u001b[0m = Bacteria\n",
      "│       └── \u001b[94mphylum\u001b[0m = Actinomycetota\n",
      "├── \u001b[94msequence\u001b[0m = MASDDLGEHLVWRKAQVAGRQALYGVAGVGLPVVFLHGWGLGQHAYKRALKRLVRLGCQVFAPALPGFGGTADLPGDEFSLPGYARWVDAFLEAVDVQEPVFLVGHSFGGGVAIQVAHDFPDRVRTLVLVNSIGGSAWGRRGSALRSMADRPLWDWGIHFPSDLLPIPNFTKVLPVILEDAVPNLVRNPRAFWKVANLARNADLTAELEHLKKRKLPVVVLWGEQDQIIPRSSFDALCAAIGQPGEIVAGNHSWLLADPDSFGEVMTNVVEVAKLARSMEPATRPPARRGGRLGLRRVRPRRLRTIDAAKPADEEQQTQ\n",
      "├── \u001b[94mregions\u001b[0m\n",
      "│   └── 0\n",
      "│       └── \u001b[4mRegion\u001b[0m\n",
      "│           ├── \u001b[94mid\u001b[0m = MenH\n",
      "│           ├── \u001b[94mstart\u001b[0m = 12\n",
      "│           └── \u001b[94mend\u001b[0m = 266\n",
      "└── \u001b[94mcoding_sequence\u001b[0m\n",
      "    └── 0\n",
      "        └── \u001b[4mRegion\u001b[0m\n",
      "            ├── \u001b[94mid\u001b[0m = VAXF01000100.1\n",
      "            ├── \u001b[94mstart\u001b[0m = 1498\n",
      "            └── \u001b[94mend\u001b[0m = 2457\n",
      "\n",
      "\u001b[4mProteinRecord\u001b[0m\n",
      "├── \u001b[94mid\u001b[0m = MBW4828383.1\n",
      "├── \u001b[94mname\u001b[0m = alpha/beta hydrolase\n",
      "├── \u001b[94morganism\u001b[0m\n",
      "│   └── \u001b[4mOrganism\u001b[0m\n",
      "│       ├── \u001b[94mid\u001b[0m = 423b232a-42af-4b2e-8840-f73c64d6c0e3\n",
      "│       ├── \u001b[94mtaxonomy_id\u001b[0m = 1898204\n",
      "│       ├── \u001b[94mname\u001b[0m = Clostridiaceae bacterium\n",
      "│       ├── \u001b[94mdomain\u001b[0m = Bacteria\n",
      "│       ├── \u001b[94mphylum\u001b[0m = Bacillota\n",
      "│       ├── \u001b[94mtax_class\u001b[0m = Clostridia\n",
      "│       ├── \u001b[94morder\u001b[0m = Eubacteriales\n",
      "│       └── \u001b[94mfamily\u001b[0m = Clostridiaceae\n",
      "├── \u001b[94msequence\u001b[0m = MPYLEIKNKRIYYREHGDGEVVVFLNGMMMSTISWSPFIKVFSREYKMLLVDLIDQGFSDKADTYYSQDMHVETLKELLEELGYSKVHLFGISYGGEIAQLFTLKYEDMVKSLILSNTTSYTDNYIRKEEENWYKAAKTYDSDLFLDTIIPSLYSEKFCKENYEWIDGNKKQLKRILNKEWYEAFMRGIKSTYGFNISSEIQEIDVPTLIISSDLDEIMPIKYQKDIYGKIPYSRWILIKDSGHASIYEKPHEFISILLGFLKTIDFKCL\n",
      "└── \u001b[94mcoding_sequence\u001b[0m\n",
      "    └── 0\n",
      "        └── \u001b[4mRegion\u001b[0m\n",
      "            ├── \u001b[94mid\u001b[0m = JAHXQR010000015.1\n",
      "            ├── \u001b[94mstart\u001b[0m = 50851\n",
      "            └── \u001b[94mend\u001b[0m = 51663\n",
      "\n",
      "\u001b[4mProteinRecord\u001b[0m\n",
      "├── \u001b[94mid\u001b[0m = NQU37171.1\n",
      "├── \u001b[94mname\u001b[0m = alpha/beta hydrolase\n",
      "├── \u001b[94morganism\u001b[0m\n",
      "│   └── \u001b[4mOrganism\u001b[0m\n",
      "│       ├── \u001b[94mid\u001b[0m = bcb7eb25-dcc3-4150-b67d-d5edbd36d2f7\n",
      "│       ├── \u001b[94mtaxonomy_id\u001b[0m = 2900548\n",
      "│       ├── \u001b[94mname\u001b[0m = Actinomycetota bacterium\n",
      "│       ├── \u001b[94mdomain\u001b[0m = Bacteria\n",
      "│       └── \u001b[94mphylum\u001b[0m = Actinomycetota\n",
      "├── \u001b[94msequence\u001b[0m = MTSPDRRRSRFLSIAILSAGLTAAPLATAVSTASVPAGDRLATTATLGSQWRGVHLDVRNTPVAGTSIAWATVGSPSASVRPLLMLNGTGSPMAEWDPALLAQLASSRQVIVLDYPGLGESGRNPGAMSFRSLADTTAAFIQAIGLDSVDILGWSMGGFVAQELLRSHSQLVGRAVLAGTNPGGPKTKLGPRWVQEADSDPGAGIGTYLKTNYPDTRRAQRKGRAFVKRLTKSVNSGRYPNESVPAKTYRQMVRAEGPWLRSKRNSRQLRTVSTRVLVITGKQDLITPRANSRRIAKLLPNAKLKLVAGSGHSFLFQKPERVGKQI\n",
      "└── \u001b[94mcoding_sequence\u001b[0m\n",
      "    └── 0\n",
      "        └── \u001b[4mRegion\u001b[0m\n",
      "            ├── \u001b[94mid\u001b[0m = JABMPM010000276.1\n",
      "            ├── \u001b[94mstart\u001b[0m = 1\n",
      "            └── \u001b[94mend\u001b[0m = 979\n",
      "\n",
      "\u001b[4mProteinRecord\u001b[0m\n",
      "├── \u001b[94mid\u001b[0m = MBI4922264.1\n",
      "├── \u001b[94mname\u001b[0m = 3-oxoadipate enol-lactonase\n",
      "├── \u001b[94morganism\u001b[0m\n",
      "│   └── \u001b[4mOrganism\u001b[0m\n",
      "│       ├── \u001b[94mid\u001b[0m = 554ebd7e-7f72-4b8e-a15a-0a3a89c7ab9d\n",
      "│       ├── \u001b[94mtaxonomy_id\u001b[0m = 1228055\n",
      "│       ├── \u001b[94mname\u001b[0m = Devosia nanyangense\n",
      "│       ├── \u001b[94mdomain\u001b[0m = Bacteria\n",
      "│       ├── \u001b[94mphylum\u001b[0m = Pseudomonadota\n",
      "│       ├── \u001b[94mtax_class\u001b[0m = Alphaproteobacteria\n",
      "│       ├── \u001b[94morder\u001b[0m = Hyphomicrobiales\n",
      "│       ├── \u001b[94mfamily\u001b[0m = Devosiaceae\n",
      "│       └── \u001b[94mgenus\u001b[0m = Devosia\n",
      "├── \u001b[94msequence\u001b[0m = MQFARLNDVTLHFQMIGSPESRPLLVFANSLGTDFRIWRDVVVRLAGEFSILTYDLRGHGLSDIGPMPCRIEDHAADLAGLLDLIGARQATIVGVSVGGMIAQALCASRPDLVRALVLCDTAARIGDDAFWNNRIAAIEANGIESIADAILGRWFTPAFRRAGNPAFAGYRNMLIRQPVAGYVATCAALRDADLTAAASAIGVPTLCVVGDSDGSTPPALVASLAKLIPDARFEIIEACGHLPCIEQPEALVGIMRAFFALTGMETISHVSH\n",
      "├── \u001b[94mcoding_sequence\u001b[0m\n",
      "│   └── 0\n",
      "│       └── \u001b[4mRegion\u001b[0m\n",
      "│           ├── \u001b[94mid\u001b[0m = JACRAF010000029.1\n",
      "│           ├── \u001b[94mstart\u001b[0m = 39706\n",
      "│           └── \u001b[94mend\u001b[0m = 40524\n",
      "└── \u001b[94mec_number\u001b[0m = 3.1.1.24\n",
      "\n",
      "\u001b[4mProteinRecord\u001b[0m\n",
      "├── \u001b[94mid\u001b[0m = WP_243520882.1\n",
      "├── \u001b[94mname\u001b[0m = alpha/beta hydrolase\n",
      "├── \u001b[94morganism\u001b[0m\n",
      "│   └── \u001b[4mOrganism\u001b[0m\n",
      "│       ├── \u001b[94mid\u001b[0m = 79431e4f-f9cc-4afb-97d7-0a576eafd171\n",
      "│       ├── \u001b[94mtaxonomy_id\u001b[0m = 1402861\n",
      "│       ├── \u001b[94mname\u001b[0m = Priestia filamentosa\n",
      "│       ├── \u001b[94mdomain\u001b[0m = Bacteria\n",
      "│       ├── \u001b[94mphylum\u001b[0m = Bacillota\n",
      "│       ├── \u001b[94mtax_class\u001b[0m = Bacilli\n",
      "│       ├── \u001b[94morder\u001b[0m = Bacillales\n",
      "│       ├── \u001b[94mfamily\u001b[0m = Bacillaceae\n",
      "│       └── \u001b[94mgenus\u001b[0m = Priestia\n",
      "├── \u001b[94msequence\u001b[0m = MVGDKIIEYSVIGTGIPILMFHGGHSNCYEELGYADLVKEGFSVITPSRPGYGRTSKEIASNLFTTSKFYAKLLDYLGVDKIHIFAVSAGGPSGISFAAQFPERTLSLTLQSAVTREWLTKKDKEYRDAQIIFRPYVEKVTWKLISYLNNCFPTFTFKQFISSFSKLSSKDVMLQIDKDSIESIRRMNNHYRSRHGFLIDLIQVNELSPTTLQAVTCPTLIMHSKNDNAVPLEHAYFAHSQINQSELCLLDSWGHLIWLGDKAKEVNKRVVSFLNKE\n",
      "├── \u001b[94mregions\u001b[0m\n",
      "│   └── 0\n",
      "│       └── \u001b[4mRegion\u001b[0m\n",
      "│           ├── \u001b[94mid\u001b[0m = MenH\n",
      "│           ├── \u001b[94mstart\u001b[0m = 1\n",
      "│           └── \u001b[94mend\u001b[0m = 276\n",
      "└── \u001b[94mmol_weight\u001b[0m = 31300.0\n",
      "\n",
      "\u001b[4mProteinRecord\u001b[0m\n",
      "├── \u001b[94mid\u001b[0m = WP_184469808.1\n",
      "├── \u001b[94mname\u001b[0m = alpha/beta hydrolase\n",
      "├── \u001b[94morganism\u001b[0m\n",
      "│   └── \u001b[4mOrganism\u001b[0m\n",
      "│       ├── \u001b[94mid\u001b[0m = 2211668c-aee5-4dcf-b8c1-e8af9d5e2fbc\n",
      "│       ├── \u001b[94mtaxonomy_id\u001b[0m = 1967781\n",
      "│       ├── \u001b[94mname\u001b[0m = Rhizobium esperanzae\n",
      "│       ├── \u001b[94mdomain\u001b[0m = Bacteria\n",
      "│       ├── \u001b[94mphylum\u001b[0m = Pseudomonadota\n",
      "│       ├── \u001b[94mtax_class\u001b[0m = Alphaproteobacteria\n",
      "│       ├── \u001b[94morder\u001b[0m = Hyphomicrobiales\n",
      "│       ├── \u001b[94mfamily\u001b[0m = Rhizobiaceae\n",
      "│       └── \u001b[94mgenus\u001b[0m = Rhizobium\n",
      "├── \u001b[94msequence\u001b[0m = MIKRLVLSTMLLSAAVIGNVASAQPVAASDYTTTENKYVEIGGTRYAYRTIGDRGSKPPLVLFQHFTGTMDDWDQRTIEGLAKGRELVVFDNAGVGASGGQSPDNVAGMADTAARLIEALKLQQVDALGFSLGGSIVQQLLIEKPSLIRKAILVGAAPQGSAGFRRLPDVISTAIKTSGETGRPLRALLFFTDTEAGKAEADEYLKNINNHSVDPEAPVSEQTMGAQAKALVTWGSMPENTEQLSQIKQPVLIVNGSDDSIAPTLESVTLFQRIPNAQLSLYPDSGHGSLFQHETLFVSQVDMFLDGPK\n",
      "├── \u001b[94mregions\u001b[0m\n",
      "│   └── 0\n",
      "│       └── \u001b[4mRegion\u001b[0m\n",
      "│           ├── \u001b[94mid\u001b[0m = MenH\n",
      "│           ├── \u001b[94mstart\u001b[0m = 33\n",
      "│           └── \u001b[94mend\u001b[0m = 307\n",
      "└── \u001b[94mmol_weight\u001b[0m = 32899.0\n",
      "\n",
      "\u001b[4mProteinRecord\u001b[0m\n",
      "├── \u001b[94mid\u001b[0m = MCB2228745.1\n",
      "├── \u001b[94mname\u001b[0m = alpha/beta hydrolase\n",
      "├── \u001b[94morganism\u001b[0m\n",
      "│   └── \u001b[4mOrganism\u001b[0m\n",
      "│       ├── \u001b[94mid\u001b[0m = 078ce00a-6de5-492e-b5c4-10a76e762e05\n",
      "│       ├── \u001b[94mtaxonomy_id\u001b[0m = 2528248\n",
      "│       ├── \u001b[94mname\u001b[0m = Desulfarculaceae bacterium\n",
      "│       ├── \u001b[94mdomain\u001b[0m = Bacteria\n",
      "│       ├── \u001b[94mphylum\u001b[0m = Thermodesulfobacteriota\n",
      "│       ├── \u001b[94mtax_class\u001b[0m = Desulfarculia\n",
      "│       ├── \u001b[94morder\u001b[0m = Desulfarculales\n",
      "│       └── \u001b[94mfamily\u001b[0m = Desulfarculaceae\n",
      "├── \u001b[94msequence\u001b[0m = MWPEGMTNGEIGFYQGRSGFDPSRPSLLMLHGAGSRGEGFLPQLSRLDGLNTAALDLPGHRGTPGPGCDQIEAYADWVAGLLAGGPLKPVLLGHSMGGVVAMTLALKHPKLIKGLVLMSTGARLPVNPALLQGLKADFTGTVNMIVKWCYGPEADPALLTQGVEQMCQGDPTVMHDDFVACDRCDLSSRLGELKMPCLVLVGDKDKMTPPALGEELAEAIPGAELKLIPGAGHMPQLEKHREVNAALSEFMSRF\n",
      "└── \u001b[94mcoding_sequence\u001b[0m\n",
      "    └── 0\n",
      "        └── \u001b[4mRegion\u001b[0m\n",
      "            ├── \u001b[94mid\u001b[0m = JAHLKT010000008.1\n",
      "            ├── \u001b[94mstart\u001b[0m = 24381\n",
      "            └── \u001b[94mend\u001b[0m = 25145\n",
      "\n",
      "\u001b[4mProteinRecord\u001b[0m\n",
      "├── \u001b[94mid\u001b[0m = WP_132143207.1\n",
      "├── \u001b[94mname\u001b[0m = alpha/beta hydrolase\n",
      "├── \u001b[94morganism\u001b[0m\n",
      "│   └── \u001b[4mOrganism\u001b[0m\n",
      "│       ├── \u001b[94mid\u001b[0m = 63a3bc1f-db56-406d-ba32-f8169a3c5acd\n",
      "│       ├── \u001b[94mtaxonomy_id\u001b[0m = 242606\n",
      "│       ├── \u001b[94mname\u001b[0m = Luteibacter rhizovicinus\n",
      "│       ├── \u001b[94mdomain\u001b[0m = Bacteria\n",
      "│       ├── \u001b[94mphylum\u001b[0m = Pseudomonadota\n",
      "│       ├── \u001b[94mtax_class\u001b[0m = Gammaproteobacteria\n",
      "│       ├── \u001b[94morder\u001b[0m = Lysobacterales\n",
      "│       ├── \u001b[94mfamily\u001b[0m = Rhodanobacteraceae\n",
      "│       └── \u001b[94mgenus\u001b[0m = Luteibacter\n",
      "├── \u001b[94msequence\u001b[0m = MSSHTHQTAPTRYVDANGIRFAYRRFGKAGGVPLVLNMHFIGTMDHWDPAITDGFAKDREVILFDNAGIASSTGEVPTTIEGMAVNAAAFIKALGLDRVDVLGFSLGGLIAQTLTLDEPKLVRKLILVGTGPRSGEGMSSLTPEAQQVFGATYDEPDHLWLKVFFTDSDASQIAGRAFLKRFRQRIENRDPEVDEKVAPAQIEALTKWGAPRENPYTYLRALTQPTLVINGDSDVIIYTANSCILQQNISNAQLILYPDANHGSQYQYPERFVQHVSTFLAE\n",
      "├── \u001b[94mregions\u001b[0m\n",
      "│   └── 0\n",
      "│       └── \u001b[4mRegion\u001b[0m\n",
      "│           ├── \u001b[94mid\u001b[0m = MenH\n",
      "│           ├── \u001b[94mstart\u001b[0m = 8\n",
      "│           └── \u001b[94mend\u001b[0m = 282\n",
      "└── \u001b[94mmol_weight\u001b[0m = 30955.0\n",
      "\n",
      "\u001b[4mProteinRecord\u001b[0m\n",
      "├── \u001b[94mid\u001b[0m = WP_264395903.1\n",
      "├── \u001b[94mname\u001b[0m = 3-oxoadipate enol-lactonase\n",
      "├── \u001b[94morganism\u001b[0m\n",
      "│   └── \u001b[4mOrganism\u001b[0m\n",
      "│       ├── \u001b[94mid\u001b[0m = 0af29c83-fcea-4068-964e-50be856caf82\n",
      "│       ├── \u001b[94mtaxonomy_id\u001b[0m = 2989736\n",
      "│       ├── \u001b[94mname\u001b[0m = Rhizobium acaciae\n",
      "│       ├── \u001b[94mdomain\u001b[0m = Bacteria\n",
      "│       ├── \u001b[94mphylum\u001b[0m = Pseudomonadota\n",
      "│       ├── \u001b[94mtax_class\u001b[0m = Alphaproteobacteria\n",
      "│       ├── \u001b[94morder\u001b[0m = Hyphomicrobiales\n",
      "│       ├── \u001b[94mfamily\u001b[0m = Rhizobiaceae\n",
      "│       └── \u001b[94mgenus\u001b[0m = Rhizobium\n",
      "├── \u001b[94msequence\u001b[0m = MGAAFANAGAEFMEYLNLLSHRLHYRIDGDDQAAPWLLFCNSLGADLHMWDAQAAVLSRHFRVLRYDRRGHGRSSAPPPPYSLADLGGDVLALLDTLGIERAHFCGLSIGGLTGQWLGINAGHRLNKLIICAAAAKIGTAEGWATRSDEVRMNGLSALTAATAERWFTPAFGAAEAGIVAAVLESFAATSVEGYTGCCAALASADFREEIKQIANPLLAVSGDDDPVCPPSDLEYIAAGAQQGRHLSLRGRHIVNIEASQAFNAALLDFLHN\n",
      "├── \u001b[94mregions\u001b[0m\n",
      "│   └── 0\n",
      "│       └── \u001b[4mRegion\u001b[0m\n",
      "│           ├── \u001b[94mid\u001b[0m = protocat_pcaD\n",
      "│           ├── \u001b[94mstart\u001b[0m = 21\n",
      "│           └── \u001b[94mend\u001b[0m = 270\n",
      "├── \u001b[94mec_number\u001b[0m = 3.1.1.24\n",
      "└── \u001b[94mmol_weight\u001b[0m = 28824.0\n",
      "\n",
      "\u001b[4mProteinRecord\u001b[0m\n",
      "├── \u001b[94mid\u001b[0m = MBX7070732.1\n",
      "├── \u001b[94mname\u001b[0m = alpha/beta fold hydrolase\n",
      "├── \u001b[94morganism\u001b[0m\n",
      "│   └── \u001b[4mOrganism\u001b[0m\n",
      "│       ├── \u001b[94mid\u001b[0m = db5b73a2-38f8-4b06-8cc1-152ffc3295b6\n",
      "│       ├── \u001b[94mtaxonomy_id\u001b[0m = 2497627\n",
      "│       ├── \u001b[94mname\u001b[0m = Microthrixaceae bacterium\n",
      "│       ├── \u001b[94mdomain\u001b[0m = Bacteria\n",
      "│       ├── \u001b[94mphylum\u001b[0m = Actinomycetota\n",
      "│       ├── \u001b[94mtax_class\u001b[0m = Acidimicrobiia\n",
      "│       ├── \u001b[94morder\u001b[0m = Acidimicrobiales\n",
      "│       └── \u001b[94mfamily\u001b[0m = Microthrixaceae\n",
      "├── \u001b[94msequence\u001b[0m = MFAHNGDVRLYWEERGPADGAPMLLIMGLGAQLIAWREGFCDRLAERGFRVIRFDNRDVGWSTMTDAVPLSFPEMATLFGPRSRRRPVPYTLSDMAADAAAVLDAAGAPDAHVVGASLGGMIAQTLAIEQPERVRSLTSIMSKTGAPHVGLPTPRVLRKVMQPTPLERTAALAYELERAEVTCGSLFDRAAMAAFLEEAHERAPDRTGMVFQLTAMFASGDRTAALRQLDVPTLVIHGREDGLVRLSGGVATARAVPGAALHVHSRMGHDLPSPLWPELVDSIAAHAHRSDADSDFDAERFGGSVAATG\n",
      "└── \u001b[94mcoding_sequence\u001b[0m\n",
      "    └── 0\n",
      "        └── \u001b[4mRegion\u001b[0m\n",
      "            ├── \u001b[94mid\u001b[0m = JAIBBP010000227.1\n",
      "            ├── \u001b[94mstart\u001b[0m = 3309\n",
      "            └── \u001b[94mend\u001b[0m = 4238\n",
      "\n",
      "\u001b[4mProteinRecord\u001b[0m\n",
      "├── \u001b[94mid\u001b[0m = WP_013568317.1\n",
      "├── \u001b[94mname\u001b[0m = alpha/beta hydrolase\n",
      "├── \u001b[94morganism\u001b[0m\n",
      "│   └── \u001b[4mOrganism\u001b[0m\n",
      "│       ├── \u001b[94mid\u001b[0m = e5fb90f6-a6af-41b3-a72f-95f7eb80bc02\n",
      "│       ├── \u001b[94mtaxonomy_id\u001b[0m = 870903\n",
      "│       ├── \u001b[94mname\u001b[0m = Terriglobus saanensis\n",
      "│       ├── \u001b[94mdomain\u001b[0m = Bacteria\n",
      "│       ├── \u001b[94mphylum\u001b[0m = Acidobacteriota\n",
      "│       ├── \u001b[94mtax_class\u001b[0m = Terriglobia\n",
      "│       ├── \u001b[94morder\u001b[0m = Terriglobales\n",
      "│       ├── \u001b[94mfamily\u001b[0m = Acidobacteriaceae\n",
      "│       └── \u001b[94mgenus\u001b[0m = Terriglobus\n",
      "├── \u001b[94msequence\u001b[0m = MKAPRRATIAYILVGLVLLGLLLVGVVVYNPFYFIQKGSALYLRRNGVQSHYVTVDGYRIHYYEALPPVGSPERPPLLLVHGLGASAGDWTTMLPGLARAGYHVYAPDLLGYGSSERPRDASYSIEQETQITTDFAQAEGLRFYDLGGWSMGGWIALKMTLNHPNAVHRLVLFDAAGIYFPVDFPFDLFTPKDAAGVDRLVNYIEPNVHFIHIPAWATKGLLRRYRELGWISSRSFASMLSGRELLDFRISAIQQPTLIVWGTEDKLIPYNIGQRMFSLVPNSTLVGVEGCGHLAPAECSSEVVPETIRFLDERVPPSHSERILTKPR\n",
      "├── \u001b[94mregions\u001b[0m\n",
      "│   └── 0\n",
      "│       └── \u001b[4mRegion\u001b[0m\n",
      "│           ├── \u001b[94mid\u001b[0m = MenH\n",
      "│           ├── \u001b[94mstart\u001b[0m = 49\n",
      "│           └── \u001b[94mend\u001b[0m = 314\n",
      "└── \u001b[94mmol_weight\u001b[0m = 36457.0\n",
      "\n",
      "\u001b[4mProteinRecord\u001b[0m\n",
      "├── \u001b[94mid\u001b[0m = WP_249148581.1\n",
      "├── \u001b[94mname\u001b[0m = poly(3-hydroxyalkanoate) depolymerase\n",
      "├── \u001b[94morganism\u001b[0m\n",
      "│   └── \u001b[4mOrganism\u001b[0m\n",
      "│       ├── \u001b[94mid\u001b[0m = 6be1363e-d31d-47ef-9fbd-b42d700555e1\n",
      "│       ├── \u001b[94mtaxonomy_id\u001b[0m = 280332\n",
      "│       ├── \u001b[94mname\u001b[0m = Bradyrhizobium jicamae\n",
      "│       ├── \u001b[94mdomain\u001b[0m = Bacteria\n",
      "│       ├── \u001b[94mphylum\u001b[0m = Pseudomonadota\n",
      "│       ├── \u001b[94mtax_class\u001b[0m = Alphaproteobacteria\n",
      "│       ├── \u001b[94morder\u001b[0m = Hyphomicrobiales\n",
      "│       ├── \u001b[94mfamily\u001b[0m = Nitrobacteraceae\n",
      "│       └── \u001b[94mgenus\u001b[0m = Bradyrhizobium\n",
      "├── \u001b[94msequence\u001b[0m = MSDNLAKPGTIEARQITIDGQPLQVAIKHGSGSGPPLLLFNGIGANWELAKPFLDSLTTTTAIIFDVPGIGGSPRPAWPYRPSTLARLAADLAAELGCMEVDVAGVSWGGGIAQQFAHQFPKRCRRLVLAATAPGFTMVPASPSVLWKMATPRRYTDKDYMSSIAADIYGGAFRHDPSLIGRHASAMHGARNVGYLYQLLAMAGWTSLPWLWSLPQPTLVLMGSDDPLVPPINGHILTGLIPNAELRMIDDGHLFMVTRPVETAALIEAFLGGERPRVEPSSLLSRTNDHLRTLVPTSGGEHHKS\n",
      "├── \u001b[94mregions\u001b[0m\n",
      "│   └── 0\n",
      "│       └── \u001b[4mRegion\u001b[0m\n",
      "│           ├── \u001b[94mid\u001b[0m = PHA_depoly_arom\n",
      "│           ├── \u001b[94mstart\u001b[0m = 13\n",
      "│           └── \u001b[94mend\u001b[0m = 277\n",
      "└── \u001b[94mmol_weight\u001b[0m = 32663.0\n",
      "\n",
      "\u001b[4mProteinRecord\u001b[0m\n",
      "├── \u001b[94mid\u001b[0m = WP_241935653.1\n",
      "├── \u001b[94mname\u001b[0m = alpha/beta hydrolase\n",
      "├── \u001b[94morganism\u001b[0m\n",
      "│   └── \u001b[4mOrganism\u001b[0m\n",
      "│       ├── \u001b[94mid\u001b[0m = 20bd2ab2-08f4-45ea-b332-1c5d7271e114\n",
      "│       ├── \u001b[94mtaxonomy_id\u001b[0m = 2926463\n",
      "│       ├── \u001b[94mname\u001b[0m = Hymenobacter cyanobacteriorum\n",
      "│       ├── \u001b[94mdomain\u001b[0m = Bacteria\n",
      "│       ├── \u001b[94mphylum\u001b[0m = Bacteroidota\n",
      "│       ├── \u001b[94mtax_class\u001b[0m = Cytophagia\n",
      "│       ├── \u001b[94morder\u001b[0m = Cytophagales\n",
      "│       ├── \u001b[94mfamily\u001b[0m = Hymenobacteraceae\n",
      "│       └── \u001b[94mgenus\u001b[0m = Hymenobacter\n",
      "├── \u001b[94msequence\u001b[0m = MLRFLMLLLLPLLLAITTTQAQTPPMLNATLDGYEYPFPVRYLPLKLEGQALRMAYMDVPPTAKANGRTVVLLHGKNFFGAYWRETIKTLAAAGFRVVVPDQLGFGKSDKPAIHYSFHQLARNTKHLLDTLDVRRAVVVGHSMGGMLATRFALLYPETTEKLVLENPIGLEDYRVGVPFQTIDQAEATELKSTEASIRKYHATYYPNGYPAAHDQWLLPLAAQTQSPDFAKVARANALTFDMIYQQPVSYEFGQIKVPTLLIIGQADRTVVGKALIKDPQTLARMGQYPALGRRTTAQIKGAKLVEIPNVGHIPHLEAPAQFYKALLGFIN\n",
      "├── \u001b[94mregions\u001b[0m\n",
      "│   └── 0\n",
      "│       └── \u001b[4mRegion\u001b[0m\n",
      "│           ├── \u001b[94mid\u001b[0m = MenH\n",
      "│           ├── \u001b[94mstart\u001b[0m = 51\n",
      "│           └── \u001b[94mend\u001b[0m = 331\n",
      "└── \u001b[94mmol_weight\u001b[0m = 36686.0\n",
      "\n",
      "\u001b[4mProteinRecord\u001b[0m\n",
      "├── \u001b[94mid\u001b[0m = WP_241255134.1\n",
      "├── \u001b[94mname\u001b[0m = alpha/beta fold hydrolase\n",
      "├── \u001b[94morganism\u001b[0m\n",
      "│   └── \u001b[4mOrganism\u001b[0m\n",
      "│       ├── \u001b[94mid\u001b[0m = 521b09ba-8c80-41e4-8f49-1b3f30d34174\n",
      "│       ├── \u001b[94mtaxonomy_id\u001b[0m = 2604537\n",
      "│       ├── \u001b[94mname\u001b[0m = Altererythrobacter sp. BO-6\n",
      "│       ├── \u001b[94mdomain\u001b[0m = Bacteria\n",
      "│       ├── \u001b[94mphylum\u001b[0m = Pseudomonadota\n",
      "│       ├── \u001b[94mtax_class\u001b[0m = Alphaproteobacteria\n",
      "│       ├── \u001b[94morder\u001b[0m = Sphingomonadales\n",
      "│       ├── \u001b[94mfamily\u001b[0m = Erythrobacteraceae\n",
      "│       └── \u001b[94mgenus\u001b[0m = Altererythrobacter\n",
      "├── \u001b[94msequence\u001b[0m = MGKNREEVLDEALDEAMRDARITMENVGGRTLRVATWRLDKPSKHLPILFFNGIGANIEAVAPLAEALPDRAFIMFDMPGVGGSPEPVVPYNTVTMAWTTTQLLDKLGVDQVDVMGVSWGGAMAQHFAIQHPGRTRRLILAATTAGMIMMPGNPASLSKMADPRRYIDAAFMEEHFQTLYGGALGKAMNKMEHIHRLKPPTPRGYFYQLLAMLGWTSVPALPFMRKKTLIMMGDEDHIVPLPNGWFLDKLIPNSELLVLRGGGHLFLLSHSDECVEAIHRFLDEPEEAGKAKAA\n",
      "├── \u001b[94mregions\u001b[0m\n",
      "│   └── 0\n",
      "│       └── \u001b[4mRegion\u001b[0m\n",
      "│           ├── \u001b[94mid\u001b[0m = PHA_depoly_arom\n",
      "│           ├── \u001b[94mstart\u001b[0m = 28\n",
      "│           └── \u001b[94mend\u001b[0m = 284\n",
      "└── \u001b[94mmol_weight\u001b[0m = 32397.0\n",
      "\n",
      "\u001b[4mProteinRecord\u001b[0m\n",
      "├── \u001b[94mid\u001b[0m = WP_161888648.1\n",
      "├── \u001b[94mname\u001b[0m = alpha/beta hydrolase\n",
      "├── \u001b[94morganism\u001b[0m\n",
      "│   └── \u001b[4mOrganism\u001b[0m\n",
      "│       ├── \u001b[94mid\u001b[0m = a4ab14e4-0f55-4444-a92a-e0b1c2aa380a\n",
      "│       ├── \u001b[94mtaxonomy_id\u001b[0m = 2694929\n",
      "│       ├── \u001b[94mname\u001b[0m = Pontibacter russatus\n",
      "│       ├── \u001b[94mdomain\u001b[0m = Bacteria\n",
      "│       ├── \u001b[94mphylum\u001b[0m = Bacteroidota\n",
      "│       ├── \u001b[94mtax_class\u001b[0m = Cytophagia\n",
      "│       ├── \u001b[94morder\u001b[0m = Cytophagales\n",
      "│       ├── \u001b[94mfamily\u001b[0m = Hymenobacteraceae\n",
      "│       └── \u001b[94mgenus\u001b[0m = Pontibacter\n",
      "├── \u001b[94msequence\u001b[0m = MPHIYTNGINLYYEERGAGEPLLLIMGITAPGSVWEKHAAYWEKDFRCIIADNRGVGFSDKPAGPYTTAQMADDYAGLLEALQIPQARVVGCSMGSTIAQQLAIRYPEKVKSLVLMCTWARCDNMARTVFQHMMHCKARLRPEEFSLYIQLLIYAKSSWDNQAMNAELEEGRLQAATDPQPQPLHALEAQAAACMDHNALNGLREIGAPALVIGGQEDAFTPPWMAEEVAGAIPGAALHLYEKSGHAFHWENLEDFNPRVRNWLLAN\n",
      "├── \u001b[94mregions\u001b[0m\n",
      "│   └── 0\n",
      "│       └── \u001b[4mRegion\u001b[0m\n",
      "│           ├── \u001b[94mid\u001b[0m = MenH\n",
      "│           ├── \u001b[94mstart\u001b[0m = 2\n",
      "│           └── \u001b[94mend\u001b[0m = 264\n",
      "└── \u001b[94mmol_weight\u001b[0m = 29567.0\n",
      "\n",
      "\u001b[4mProteinRecord\u001b[0m\n",
      "├── \u001b[94mid\u001b[0m = WP_013614468.1\n",
      "├── \u001b[94mname\u001b[0m = alpha/beta fold hydrolase\n",
      "├── \u001b[94morganism\u001b[0m\n",
      "│   └── \u001b[4mOrganism\u001b[0m\n",
      "│       ├── \u001b[94mid\u001b[0m = 1298\n",
      "│       ├── \u001b[94mtaxonomy_id\u001b[0m = 1298\n",
      "│       └── \u001b[94mname\u001b[0m = Deinococcus\n",
      "├── \u001b[94msequence\u001b[0m = MPARPSSRAPALLLHGAYLSRRAWQPQLSGPLAQHFHLLAPDLRGHGADRTPGPYSVEGWAQELLTWLDRLEVEQVHVCGHSLGGMVAQQLALTAPQRVRSLLLVETSYGTRSTPLERRLTDLTLPLLARWPLRGQAAAFALAYAPHNRPLREYVQAELQAFESRPQDYLAIWQAVTAFDSRAQLSRLTVPTRMVVGGRNLQTHAQARAMAALIPGARLEVVRGAGHLVPLERPAIFSALAGEFWLGAESQ\n",
      "├── \u001b[94mregions\u001b[0m\n",
      "│   └── 0\n",
      "│       └── \u001b[4mRegion\u001b[0m\n",
      "│           ├── \u001b[94mid\u001b[0m = MenH\n",
      "│           ├── \u001b[94mstart\u001b[0m = 9\n",
      "│           └── \u001b[94mend\u001b[0m = 245\n",
      "└── \u001b[94mmol_weight\u001b[0m = 27512.0\n",
      "\n",
      "\u001b[4mProteinRecord\u001b[0m\n",
      "├── \u001b[94mid\u001b[0m = WP_089685561.1\n",
      "├── \u001b[94mname\u001b[0m = alpha/beta hydrolase\n",
      "├── \u001b[94morganism\u001b[0m\n",
      "│   └── \u001b[4mOrganism\u001b[0m\n",
      "│       ├── \u001b[94mid\u001b[0m = bd788f6e-cc11-4ec8-bc5f-dfba7f375a75\n",
      "│       ├── \u001b[94mtaxonomy_id\u001b[0m = 1075417\n",
      "│       ├── \u001b[94mname\u001b[0m = Catalinimonas alkaloidigena\n",
      "│       ├── \u001b[94mdomain\u001b[0m = Bacteria\n",
      "│       ├── \u001b[94mphylum\u001b[0m = Bacteroidota\n",
      "│       ├── \u001b[94mtax_class\u001b[0m = Cytophagia\n",
      "│       ├── \u001b[94morder\u001b[0m = Cytophagales\n",
      "│       ├── \u001b[94mfamily\u001b[0m = Catalimonadaceae\n",
      "│       └── \u001b[94mgenus\u001b[0m = Catalinimonas\n",
      "├── \u001b[94msequence\u001b[0m = MNAVIDQALEAPTRFLEVNGTSYAYRRFGRPSQVPLVGFQHFTGTLDNWDPALLNGLAEAREVIIFDNAGVGSSGGQTPDKVAGMTADAVAFLRALQLEQIDVLGFSLGGFIAQQLAVQHPALVRKVILVGTAPQGAQVLRGFPELIQKAMQLPPAERFLFIFFTGSAPSRAAGEATLQRLWARTEDRDRDASVQAVTAQINAITTWGTDPVTLDLSTLRQPVLIVQGSHDEMMASENAYLLYRQLPNAMLTYYPDAAHGSFFQYPELFVHQANYFLNHIH\n",
      "├── \u001b[94mregions\u001b[0m\n",
      "│   └── 0\n",
      "│       └── \u001b[4mRegion\u001b[0m\n",
      "│           ├── \u001b[94mid\u001b[0m = MenH\n",
      "│           ├── \u001b[94mstart\u001b[0m = 10\n",
      "│           └── \u001b[94mend\u001b[0m = 278\n",
      "└── \u001b[94mmol_weight\u001b[0m = 30728.0\n",
      "\n",
      "\u001b[4mProteinRecord\u001b[0m\n",
      "├── \u001b[94mid\u001b[0m = MBM09508.1\n",
      "├── \u001b[94mname\u001b[0m = 3-oxoadipate enol-lactonase\n",
      "├── \u001b[94morganism\u001b[0m\n",
      "│   └── \u001b[4mOrganism\u001b[0m\n",
      "│       ├── \u001b[94mid\u001b[0m = 570ae4dc-4d8c-433a-9273-f3d52c80c892\n",
      "│       ├── \u001b[94mtaxonomy_id\u001b[0m = 2024836\n",
      "│       ├── \u001b[94mname\u001b[0m = Magnetovibrio sp.\n",
      "│       ├── \u001b[94mdomain\u001b[0m = Bacteria\n",
      "│       ├── \u001b[94mphylum\u001b[0m = Pseudomonadota\n",
      "│       ├── \u001b[94mtax_class\u001b[0m = Alphaproteobacteria\n",
      "│       ├── \u001b[94morder\u001b[0m = Rhodospirillales\n",
      "│       ├── \u001b[94mfamily\u001b[0m = Magnetovibrionaceae\n",
      "│       └── \u001b[94mgenus\u001b[0m = Magnetovibrio\n",
      "├── \u001b[94msequence\u001b[0m = MIQHIEVNGVNLAYRFDGKLDAPVLMLSNSLMSNLSMWAPQVEAFTEKFRVLRYDTRGHGNSDVPPAPYSMDTLGEDAAALIDALDLKAVHFCGLSMGGMVGQYLGAKHGDKLSSLILCDTACVMPPPSLWNDRISHIREHGMAAAVTTTIERWFTTPFREAGSAVINEVEAMIKGTPSEGFVGCALAIRDMDFSASNASIKTPTLIIVGRDDPGTPVAAAEVLHGNIERSELAIVDEAAHLCNMERPAIFNKIVLDFLSRF\n",
      "└── \u001b[94mcoding_sequence\u001b[0m\n",
      "    └── 0\n",
      "        └── \u001b[4mRegion\u001b[0m\n",
      "            ├── \u001b[94mid\u001b[0m = PBLS01000055.1\n",
      "            ├── \u001b[94mstart\u001b[0m = 10310\n",
      "            └── \u001b[94mend\u001b[0m = 11098\n",
      "\n",
      "\u001b[4mProteinRecord\u001b[0m\n",
      "├── \u001b[94mid\u001b[0m = MBD0295465.1\n",
      "├── \u001b[94mname\u001b[0m = alpha/beta hydrolase\n",
      "├── \u001b[94morganism\u001b[0m\n",
      "│   └── \u001b[4mOrganism\u001b[0m\n",
      "│       ├── \u001b[94mid\u001b[0m = 49ef8ca8-7a7f-4914-9795-082a0afba6b6\n",
      "│       ├── \u001b[94mtaxonomy_id\u001b[0m = 1954249\n",
      "│       ├── \u001b[94mname\u001b[0m = Flavisolibacter sp.\n",
      "│       ├── \u001b[94mdomain\u001b[0m = Bacteria\n",
      "│       ├── \u001b[94mphylum\u001b[0m = Bacteroidota\n",
      "│       ├── \u001b[94mtax_class\u001b[0m = Chitinophagia\n",
      "│       ├── \u001b[94morder\u001b[0m = Chitinophagales\n",
      "│       ├── \u001b[94mfamily\u001b[0m = Chitinophagaceae\n",
      "│       └── \u001b[94mgenus\u001b[0m = Flavisolibacter\n",
      "├── \u001b[94msequence\u001b[0m = MDVKTLQLSNGITLEYAEQGGPSGTVLICLHGYADSWRSFEPLFNYLPPTIHVFAVSQRGHGRSDRPLEGYTPSDFAADIALFIDGLNLGAAIIVGHSMGAAIAQRFALDFPQKTRALILIGAIASFPINKTMAELETAVIVLSDPVDPSFAEEFQRSTLVRPVHPHFFQTVVRESLLLPARVWKAILAPLMLVDYTKELPMLTKKVLLVRGSEDSFATTWDQDRLLESITGAQLVVYDGTGHAVHWEEPQRFAREVEDFVRKVIQDDPVHP\n",
      "└── \u001b[94mcoding_sequence\u001b[0m\n",
      "    └── 0\n",
      "        └── \u001b[4mRegion\u001b[0m\n",
      "            ├── \u001b[94mid\u001b[0m = JACVSM010000672.1\n",
      "            ├── \u001b[94mstart\u001b[0m = 4\n",
      "            └── \u001b[94mend\u001b[0m = 822\n",
      "\n",
      "\u001b[4mProteinRecord\u001b[0m\n",
      "├── \u001b[94mid\u001b[0m = WP_137389642.1\n",
      "├── \u001b[94mname\u001b[0m = alpha/beta fold hydrolase\n",
      "├── \u001b[94morganism\u001b[0m\n",
      "│   └── \u001b[4mOrganism\u001b[0m\n",
      "│       ├── \u001b[94mid\u001b[0m = 0e0a8cb5-9387-4336-bf2e-f52aa6f7da72\n",
      "│       ├── \u001b[94mtaxonomy_id\u001b[0m = 2561934\n",
      "│       ├── \u001b[94mname\u001b[0m = Rhodoligotrophos defluvii\n",
      "│       ├── \u001b[94mdomain\u001b[0m = Bacteria\n",
      "│       ├── \u001b[94mphylum\u001b[0m = Pseudomonadota\n",
      "│       ├── \u001b[94mtax_class\u001b[0m = Alphaproteobacteria\n",
      "│       ├── \u001b[94morder\u001b[0m = Hyphomicrobiales\n",
      "│       ├── \u001b[94mfamily\u001b[0m = Rhodoligotrophaceae\n",
      "│       └── \u001b[94mgenus\u001b[0m = Rhodoligotrophos\n",
      "├── \u001b[94msequence\u001b[0m = MLALTAFGALHYDLVGPSAAPVVCMLHSLTSDSGMWAEQVPALLTAGYQVLRIDMRGHGGSSATAGEYRIDELAADVVRVLDQLGLSAVHLVGLSIGGMIGQALAANHPQRLASLVACATTAKWDGDSAMMHRRLAAVRASGSLDPIVDDAMTQRYSPALRERRPLRWRALRETFLGTSLSGYFGCMHAVLNHDVSRLLPSVRVPVLVVAGSDDPVTPPAANRTIAAAVPGARYEEISGGRHFLNVEFDDIFNRLLLDWLASQGDR\n",
      "├── \u001b[94mregions\u001b[0m\n",
      "│   └── 0\n",
      "│       └── \u001b[4mRegion\u001b[0m\n",
      "│           ├── \u001b[94mid\u001b[0m = protocat_pcaD\n",
      "│           ├── \u001b[94mstart\u001b[0m = 9\n",
      "│           └── \u001b[94mend\u001b[0m = 261\n",
      "└── \u001b[94mmol_weight\u001b[0m = 28375.0\n",
      "\n",
      "\u001b[4mProteinRecord\u001b[0m\n",
      "├── \u001b[94mid\u001b[0m = NBR81130.1\n",
      "├── \u001b[94mname\u001b[0m = 3-oxoadipate enol-lactonase\n",
      "├── \u001b[94morganism\u001b[0m\n",
      "│   └── \u001b[4mOrganism\u001b[0m\n",
      "│       ├── \u001b[94mid\u001b[0m = 86d89578-90c5-4855-9ef0-a249127c5bb5\n",
      "│       ├── \u001b[94mtaxonomy_id\u001b[0m = 2576439\n",
      "│       ├── \u001b[94mname\u001b[0m = Candidatus Fonsibacter lacus\n",
      "│       ├── \u001b[94mdomain\u001b[0m = Bacteria\n",
      "│       ├── \u001b[94mphylum\u001b[0m = Pseudomonadota\n",
      "│       ├── \u001b[94mtax_class\u001b[0m = Alphaproteobacteria\n",
      "│       ├── \u001b[94morder\u001b[0m = Candidatus Pelagibacterales\n",
      "│       └── \u001b[94mgenus\u001b[0m = Candidatus Fonsibacter\n",
      "├── \u001b[94msequence\u001b[0m = MKVDVNGVGIHYEVLGEKGDWVTMSHSLCCNVHMWDGLAQELAQRYRVLRFDTRGHGQSDAPTGPYTLAELGADAYGLMQQLGIERSHWIGLSMGGMIGQTMALAYPGLFASMVLADTSAGYPAATQSAWGERMRMAREGGMQAVVPGTLARWFTEPFRQAQPEVMAKVTEMITTTPLPGYLGCCEAIAALDLLDRIHAIACPTLVVVGDQDGATTPDMARDIAARIAGAKLHVVPNASHIANMEQPANFNQAVHAFLASL\n",
      "├── \u001b[94mcoding_sequence\u001b[0m\n",
      "│   └── 0\n",
      "│       └── \u001b[4mRegion\u001b[0m\n",
      "│           ├── \u001b[94mid\u001b[0m = RFXW01000048.1\n",
      "│           ├── \u001b[94mstart\u001b[0m = 3051\n",
      "│           └── \u001b[94mend\u001b[0m = 3836\n",
      "└── \u001b[94mec_number\u001b[0m = 3.1.1.24\n",
      "\n",
      "\u001b[4mProteinRecord\u001b[0m\n",
      "├── \u001b[94mid\u001b[0m = WP_041018616.1\n",
      "├── \u001b[94mname\u001b[0m = alpha/beta hydrolase\n",
      "├── \u001b[94morganism\u001b[0m\n",
      "│   └── \u001b[4mOrganism\u001b[0m\n",
      "│       ├── \u001b[94mid\u001b[0m = 1c0695cc-e100-4751-8360-9143401c9017\n",
      "│       ├── \u001b[94mtaxonomy_id\u001b[0m = 340071\n",
      "│       ├── \u001b[94mname\u001b[0m = Criblamydia sequanensis\n",
      "│       ├── \u001b[94mdomain\u001b[0m = Bacteria\n",
      "│       ├── \u001b[94mphylum\u001b[0m = Chlamydiota\n",
      "│       ├── \u001b[94mtax_class\u001b[0m = Chlamydiia\n",
      "│       ├── \u001b[94morder\u001b[0m = Parachlamydiales\n",
      "│       ├── \u001b[94mfamily\u001b[0m = Criblamydiaceae\n",
      "│       └── \u001b[94mgenus\u001b[0m = Criblamydia\n",
      "├── \u001b[94msequence\u001b[0m = MIDQDAVPCGKESYIPLSGKIFGEGKDKVILLLHGWGLSAKELYPLAELLQSHREVHCLDLPGFGKTPFPKIAWSSLDYAKCLNYYIQEMRIKKVEILGHSFGGKVAAQFATLYPEKAEKLIFVSSSGLNRKRTIPEALKFLSIRSLGKILKTLDKTISTKVYETWFIPKFASSDYKNAKEMRPTLLKTLKEDLTGVFSNIQAKSLILWGEEDRETPLQMGIRIHHLIKDSVLIVLERKGHNPFEGVGSHLIAKYILNFLNGR\n",
      "├── \u001b[94mregions\u001b[0m\n",
      "│   └── 0\n",
      "│       └── \u001b[4mRegion\u001b[0m\n",
      "│           ├── \u001b[94mid\u001b[0m = MenH\n",
      "│           ├── \u001b[94mstart\u001b[0m = 27\n",
      "│           └── \u001b[94mend\u001b[0m = 263\n",
      "└── \u001b[94mmol_weight\u001b[0m = 29600.0\n",
      "\n",
      "\u001b[4mProteinRecord\u001b[0m\n",
      "├── \u001b[94mid\u001b[0m = NMM23474.1\n",
      "├── \u001b[94mname\u001b[0m = alpha/beta fold hydrolase\n",
      "├── \u001b[94morganism\u001b[0m\n",
      "│   └── \u001b[4mOrganism\u001b[0m\n",
      "│       ├── \u001b[94mid\u001b[0m = 8c2c1b25-c305-411a-b1cf-0ef3a48e5ea3\n",
      "│       ├── \u001b[94mtaxonomy_id\u001b[0m = 1902410\n",
      "│       ├── \u001b[94mname\u001b[0m = Phycicoccus sp.\n",
      "│       ├── \u001b[94mdomain\u001b[0m = Bacteria\n",
      "│       ├── \u001b[94mphylum\u001b[0m = Actinomycetota\n",
      "│       ├── \u001b[94mtax_class\u001b[0m = Actinomycetes\n",
      "│       ├── \u001b[94morder\u001b[0m = Micrococcales\n",
      "│       ├── \u001b[94mfamily\u001b[0m = Intrasporangiaceae\n",
      "│       └── \u001b[94mgenus\u001b[0m = Phycicoccus\n",
      "├── \u001b[94msequence\u001b[0m = MRRTGSIRVESQQLSVQGLQIAMQVAGEGPPLLLINGMTRSQQSWKPFTRELTGRTIVTFDAPGVGDSPNALLPLSMAGHAALAVAVLDAAGLAEADVLGFSHGGAVAQQLACDAPDRVGRLVLAATSCGVGATPSRGRAVLSGVEALADEASWQFADALGLLWHSLAISSWSSISFLGAITAPTLVVCGTRDSVVPPANSRVLARRIPNASLVLLPAGHDLQLAEHATALARAAEKFLQTTTQPINIEGQDHGLSAL\n",
      "└── \u001b[94mcoding_sequence\u001b[0m\n",
      "    └── 0\n",
      "        └── \u001b[4mRegion\u001b[0m\n",
      "            ├── \u001b[94mid\u001b[0m = JABBOX010000123.1\n",
      "            ├── \u001b[94mstart\u001b[0m = 1147\n",
      "            └── \u001b[94mend\u001b[0m = 1923\n",
      "\n",
      "\u001b[4mProteinRecord\u001b[0m\n",
      "├── \u001b[94mid\u001b[0m = MBV9897384.1\n",
      "├── \u001b[94mname\u001b[0m = alpha/beta fold hydrolase\n",
      "├── \u001b[94morganism\u001b[0m\n",
      "│   └── \u001b[4mOrganism\u001b[0m\n",
      "│       ├── \u001b[94mid\u001b[0m = 08fb1bc7-5f5c-48dc-ae49-7dfed0b80a35\n",
      "│       ├── \u001b[94mtaxonomy_id\u001b[0m = 2026724\n",
      "│       ├── \u001b[94mname\u001b[0m = Chloroflexota bacterium\n",
      "│       ├── \u001b[94mdomain\u001b[0m = Bacteria\n",
      "│       └── \u001b[94mphylum\u001b[0m = Chloroflexota\n",
      "├── \u001b[94msequence\u001b[0m = MAIERANSTHTEPSQFREKYVDADGFHIRYLEAGTGAPLVHFHGAGGLRLSRSHERLAQTHRVILFEVPGFGNSPTNERFESIEDLGRTMTEAITHLGIDRFNLMGNSFGGKLALWTALQVPERILSLVLVAPAAILPDNHVQDALTRRLSTPSRTELEARMASFQPAVLVVWGTDDRMIPSEMGRVYVEKLPTAFFVLLYDAGHEADADRPEAFADLVTEFIERGAGFVVNRRSGVVHP\n",
      "└── \u001b[94mcoding_sequence\u001b[0m\n",
      "    └── 0\n",
      "        └── \u001b[4mRegion\u001b[0m\n",
      "            ├── \u001b[94mid\u001b[0m = JAFAZN010000341.1\n",
      "            ├── \u001b[94mstart\u001b[0m = 6468\n",
      "            └── \u001b[94mend\u001b[0m = 7190\n",
      "\n",
      "\u001b[4mProteinRecord\u001b[0m\n",
      "├── \u001b[94mid\u001b[0m = WP_022927527.1\n",
      "├── \u001b[94mname\u001b[0m = alpha/beta hydrolase\n",
      "├── \u001b[94morganism\u001b[0m\n",
      "│   └── \u001b[4mOrganism\u001b[0m\n",
      "│       ├── \u001b[94mid\u001b[0m = 8d417d66-6dd7-4bf3-b1fb-9127d19d949b\n",
      "│       ├── \u001b[94mtaxonomy_id\u001b[0m = 588672\n",
      "│       ├── \u001b[94mname\u001b[0m = Patulibacter americanus\n",
      "│       ├── \u001b[94mdomain\u001b[0m = Bacteria\n",
      "│       ├── \u001b[94mphylum\u001b[0m = Actinomycetota\n",
      "│       ├── \u001b[94mtax_class\u001b[0m = Thermoleophilia\n",
      "│       ├── \u001b[94morder\u001b[0m = Solirubrobacterales\n",
      "│       ├── \u001b[94mfamily\u001b[0m = Patulibacteraceae\n",
      "│       └── \u001b[94mgenus\u001b[0m = Patulibacter\n",
      "├── \u001b[94msequence\u001b[0m = MTETPYEARPLELADGTVRTVMERGDGRPLLLVQGMSGTHLHWGRALIDGLVEAGRHVISINHVGVAGSTRSGGREYTICDLAKAQELALDALGVDEPIDVFGISMGGMTAQELALQHPERIRSLVLGCTTPGGPGAHWTDPQDMEGLVRALQSRDAERALRAAWEINVSPAFAAQDSHAYAEFGEVSAQSRVSLRVLSEQMHALARHDARDRLGEIRVPTTVAHGTLDRMLPYPNGLVLAERIPGAVLETFEGAGHLFFWEDPERAVRIALEAAARAD\n",
      "├── \u001b[94mregions\u001b[0m\n",
      "│   └── 0\n",
      "│       └── \u001b[4mRegion\u001b[0m\n",
      "│           ├── \u001b[94mid\u001b[0m = MenH\n",
      "│           ├── \u001b[94mstart\u001b[0m = 13\n",
      "│           └── \u001b[94mend\u001b[0m = 278\n",
      "└── \u001b[94mmol_weight\u001b[0m = 30058.0\n",
      "\n",
      "\u001b[4mProteinRecord\u001b[0m\n",
      "├── \u001b[94mid\u001b[0m = MBT8064599.1\n",
      "├── \u001b[94mname\u001b[0m = alpha/beta hydrolase\n",
      "├── \u001b[94morganism\u001b[0m\n",
      "│   └── \u001b[4mOrganism\u001b[0m\n",
      "│       ├── \u001b[94mid\u001b[0m = 00344c73-5ea7-4864-89e9-1438c9239c2c\n",
      "│       ├── \u001b[94mtaxonomy_id\u001b[0m = 1913989\n",
      "│       ├── \u001b[94mname\u001b[0m = Gammaproteobacteria bacterium\n",
      "│       ├── \u001b[94mdomain\u001b[0m = Bacteria\n",
      "│       ├── \u001b[94mphylum\u001b[0m = Pseudomonadota\n",
      "│       └── \u001b[94mtax_class\u001b[0m = Gammaproteobacteria\n",
      "├── \u001b[94msequence\u001b[0m = MMALFECNDISIRWETAGRGEPVALLNGVLMTLDSWKLQTAELSRSYRCLLHDFRGQLLSSKPEKPWTLADHVADFLALLDHLDIESCHVVGTSYGGEVGLLFAAEHPERVRSLAVISSVSEIGEDVDRAVLDWRRAADEKPESLYRTMLPTTFSDVFAAANPRLLEQGEERLAAAGPDFFKAFVGLIDAFRQLDLTPRLPEITCLTLVMVGEEDRLKPPRYSRLIADRIPNSELVVIPGAGHAVILEQPGAVNAALLDFLQRAFGKGR\n",
      "└── \u001b[94mcoding_sequence\u001b[0m\n",
      "    └── 0\n",
      "        └── \u001b[4mRegion\u001b[0m\n",
      "            ├── \u001b[94mid\u001b[0m = JAHHOY010000254.1\n",
      "            ├── \u001b[94mstart\u001b[0m = 3295\n",
      "            └── \u001b[94mend\u001b[0m = 4103\n",
      "\n",
      "\u001b[4mProteinRecord\u001b[0m\n",
      "├── \u001b[94mid\u001b[0m = WP_091582202.1\n",
      "├── \u001b[94mname\u001b[0m = alpha/beta hydrolase\n",
      "├── \u001b[94morganism\u001b[0m\n",
      "│   └── \u001b[4mOrganism\u001b[0m\n",
      "│       ├── \u001b[94mid\u001b[0m = 240d8b94-8d2d-47f0-9918-9de2bb0b4eb2\n",
      "│       ├── \u001b[94mtaxonomy_id\u001b[0m = 930129\n",
      "│       ├── \u001b[94mname\u001b[0m = Alteribacillus bidgolensis\n",
      "│       ├── \u001b[94mdomain\u001b[0m = Bacteria\n",
      "│       ├── \u001b[94mphylum\u001b[0m = Bacillota\n",
      "│       ├── \u001b[94mtax_class\u001b[0m = Bacilli\n",
      "│       ├── \u001b[94morder\u001b[0m = Bacillales\n",
      "│       ├── \u001b[94mfamily\u001b[0m = Bacillaceae\n",
      "│       └── \u001b[94mgenus\u001b[0m = Alteribacillus\n",
      "├── \u001b[94msequence\u001b[0m = MPTIQLKDISIHYLKEGSGPPLVLLHGMGNNAKSWIHQMEYFKNHYTVIAWDAPGYGNSSDPNEVFQNFSQFTDCLKQFLDQLNLDKIFLLGHSMGAAVAIDFATRFPNIVDKLVIAAPTRGSAGLTEEENVKKRNQRHHLIDYTSSDEIARTRVPSLLSPSASESVTKYAEEIMSEVRPAGYKSVSNSLFHLNQMDDYSKILMPTLIICGNDDQVTPVSESEIIVQNITNGKLEIIQKAGHLCYMERRDAFNQCLSEFLNTK\n",
      "├── \u001b[94mregions\u001b[0m\n",
      "│   └── 0\n",
      "│       └── \u001b[4mRegion\u001b[0m\n",
      "│           ├── \u001b[94mid\u001b[0m = MenH\n",
      "│           ├── \u001b[94mstart\u001b[0m = 0\n",
      "│           └── \u001b[94mend\u001b[0m = 261\n",
      "└── \u001b[94mmol_weight\u001b[0m = 29427.0\n",
      "\n",
      "\u001b[4mProteinRecord\u001b[0m\n",
      "├── \u001b[94mid\u001b[0m = MBA3749189.1\n",
      "├── \u001b[94mname\u001b[0m = alpha/beta fold hydrolase\n",
      "├── \u001b[94morganism\u001b[0m\n",
      "│   └── \u001b[4mOrganism\u001b[0m\n",
      "│       ├── \u001b[94mid\u001b[0m = f76a29b4-4eed-4fcb-a30b-9f65f6267a09\n",
      "│       ├── \u001b[94mtaxonomy_id\u001b[0m = 1909295\n",
      "│       ├── \u001b[94mname\u001b[0m = Solirubrobacterales bacterium\n",
      "│       ├── \u001b[94mdomain\u001b[0m = Bacteria\n",
      "│       ├── \u001b[94mphylum\u001b[0m = Actinomycetota\n",
      "│       ├── \u001b[94mtax_class\u001b[0m = Thermoleophilia\n",
      "│       └── \u001b[94morder\u001b[0m = Solirubrobacterales\n",
      "├── \u001b[94msequence\u001b[0m = MHAVNGTDLHVERRGAGEPLLLVQGMTGHSLHWGEEFLGELERDFELVLYDHRGVGRSAPCDGSFSIADLASDAVGVLDALKLDSAHVLGISMGGMIAQELALAEPERVRTLTLGCTYCGGPGARFTDDTVVSAIAAAILSGDPGLKIRTGWEFNVSPQYATAEGNFERFSKVAELYPVPLPMVIAQVQAIQAHDTSARLADIDVPTLVVHGSGDQMLAAANGEIIAGLIPGARLELLDGAGHLFFWEQPERAAELVREHVAAART\n",
      "└── \u001b[94mcoding_sequence\u001b[0m\n",
      "    └── 0\n",
      "        └── \u001b[4mRegion\u001b[0m\n",
      "            ├── \u001b[94mid\u001b[0m = JACDFA010000903.1\n",
      "            ├── \u001b[94mstart\u001b[0m = 82\n",
      "            └── \u001b[94mend\u001b[0m = 882\n",
      "\n",
      "\u001b[4mProteinRecord\u001b[0m\n",
      "├── \u001b[94mid\u001b[0m = MSQ26228.1\n",
      "├── \u001b[94mname\u001b[0m = alpha/beta fold hydrolase\n",
      "├── \u001b[94morganism\u001b[0m\n",
      "│   └── \u001b[4mOrganism\u001b[0m\n",
      "│       ├── \u001b[94mid\u001b[0m = f2cc2f26-72f3-4277-a4af-991e656596eb\n",
      "│       ├── \u001b[94mtaxonomy_id\u001b[0m = 2026734\n",
      "│       ├── \u001b[94mname\u001b[0m = Dehalococcoidia bacterium\n",
      "│       ├── \u001b[94mdomain\u001b[0m = Bacteria\n",
      "│       ├── \u001b[94mphylum\u001b[0m = Chloroflexota\n",
      "│       └── \u001b[94mtax_class\u001b[0m = Dehalococcoidia\n",
      "├── \u001b[94msequence\u001b[0m = MAPLPGALRPLRHPRVQALQPRRQARPSAACRQLPRGHPAAHRHPPPANHRAPQEKRQRLVIYCPPATQPGRGRRRAAPSIRKVNRQDDICRDIFASGGLRTVTLATHTAKEQTIKLGALGVRLLTGGSGKPLFLIHRDIGNPGWLPFHDALAAAGAVYLPDQPGFGKSDRPDWARDVRDLASLNLWLLQELGAQQADVVGLGFGGWIAAEMATMAHARIRKLILVSPAGIQPKQGEIVDQFLMSSRNYVKSMFADEKTYNQLYGSEPSLDQMEAWEIAREMTTRIAWKPYMFNRRLPMLLGGFKNPALIIWGKQDKIIPPVCGEQYKAALPNARLETLDHCGHCAEVDKPKETAALITKFLAA\n",
      "└── \u001b[94mcoding_sequence\u001b[0m\n",
      "    └── 0\n",
      "        └── \u001b[4mRegion\u001b[0m\n",
      "            ├── \u001b[94mid\u001b[0m = SHYB01000038.1\n",
      "            ├── \u001b[94mstart\u001b[0m = 19154\n",
      "            └── \u001b[94mend\u001b[0m = 20248\n",
      "\n",
      "\u001b[4mProteinRecord\u001b[0m\n",
      "├── \u001b[94mid\u001b[0m = WP_245773382.1\n",
      "├── \u001b[94mname\u001b[0m = alpha/beta fold hydrolase\n",
      "├── \u001b[94morganism\u001b[0m\n",
      "│   └── \u001b[4mOrganism\u001b[0m\n",
      "│       ├── \u001b[94mid\u001b[0m = 8a0220ef-d968-481d-88bb-e8114efa8a4a\n",
      "│       ├── \u001b[94mtaxonomy_id\u001b[0m = 260086\n",
      "│       ├── \u001b[94mname\u001b[0m = Pseudonocardia ammonioxydans\n",
      "│       ├── \u001b[94mdomain\u001b[0m = Bacteria\n",
      "│       ├── \u001b[94mphylum\u001b[0m = Actinomycetota\n",
      "│       ├── \u001b[94mtax_class\u001b[0m = Actinomycetes\n",
      "│       ├── \u001b[94morder\u001b[0m = Pseudonocardiales\n",
      "│       ├── \u001b[94mfamily\u001b[0m = Pseudonocardiaceae\n",
      "│       └── \u001b[94mgenus\u001b[0m = Pseudonocardia\n",
      "├── \u001b[94msequence\u001b[0m = MVTPPRPRPAGAAVEEHDVLVGGRTLRVVRRPASGPGARRTPLLLCNGIGAATDVLDPLVEALPADLDVIRFDPPGIGGSPTPRMPYHLSWMAHRVGQVLTKLGVREADVLGFSWGGMLAQQLAISRRRRVRKLVLAATGPGALMIPASPRVLSVLTSPKRHQDPAYVDAVAPQLYGGALRRHPERAAEVLGSGSRRGPMRGYYYQLAALSGWTSVPLLPTITADTLIIAGDDDPMIPRGNATILARGIRRSRIHRHPGGHLDMLLDPEPFAAEIDRFLTS\n",
      "├── \u001b[94mregions\u001b[0m\n",
      "│   └── 0\n",
      "│       └── \u001b[4mRegion\u001b[0m\n",
      "│           ├── \u001b[94mid\u001b[0m = PHA_depoly_arom\n",
      "│           ├── \u001b[94mstart\u001b[0m = 22\n",
      "│           └── \u001b[94mend\u001b[0m = 279\n",
      "└── \u001b[94mmol_weight\u001b[0m = 30113.0\n",
      "\n",
      "\u001b[4mProteinRecord\u001b[0m\n",
      "├── \u001b[94mid\u001b[0m = RZP05702.1\n",
      "├── \u001b[94mname\u001b[0m = alpha/beta hydrolase\n",
      "├── \u001b[94morganism\u001b[0m\n",
      "│   └── \u001b[4mOrganism\u001b[0m\n",
      "│       ├── \u001b[94mid\u001b[0m = 865b131d-cc7d-49b8-8480-defab08d225a\n",
      "│       ├── \u001b[94mtaxonomy_id\u001b[0m = 2021391\n",
      "│       ├── \u001b[94mname\u001b[0m = Flavobacteriales bacterium\n",
      "│       ├── \u001b[94mdomain\u001b[0m = Bacteria\n",
      "│       ├── \u001b[94mphylum\u001b[0m = Bacteroidota\n",
      "│       ├── \u001b[94mtax_class\u001b[0m = Flavobacteriia\n",
      "│       └── \u001b[94morder\u001b[0m = Flavobacteriales\n",
      "├── \u001b[94msequence\u001b[0m = MINRKLNLLVVILIIGGLIVSFLYSPDISVAELKQKYANQNSKFVSVDGMDVHYRDEGTGEVIVLLHGTGASLHTWDKWTDVLKTRFRVIRLDLPAYGLTGPHPQHKYLIPDYSKFLNTFLNTLQIEEFILAGNSLGGSIAWYYTSEYPKKVKLLSLLNPGGFLNQNKKSPLVFRLSRAPLVKDVLRYVTPRFFVKNTLKEVYFDKNKLTDEKIDTYRDLMLRENNREAFIVRSSLKSSNYTKRLELISTPTQVLWGNEDSWIPVENARLFEKALLNSKVDIMKETGHIPMEERPYESLDLLLKFIEINK\n",
      "├── \u001b[94mregions\u001b[0m\n",
      "│   └── 0\n",
      "│       └── \u001b[4mRegion\u001b[0m\n",
      "│           ├── \u001b[94mid\u001b[0m = MenH\n",
      "│           ├── \u001b[94mstart\u001b[0m = 40\n",
      "│           └── \u001b[94mend\u001b[0m = 307\n",
      "└── \u001b[94mcoding_sequence\u001b[0m\n",
      "    └── 0\n",
      "        └── \u001b[4mRegion\u001b[0m\n",
      "            ├── \u001b[94mid\u001b[0m = SGZG01000026.1\n",
      "            ├── \u001b[94mstart\u001b[0m = 3153\n",
      "            └── \u001b[94mend\u001b[0m = 4085\n",
      "\n",
      "\u001b[4mProteinRecord\u001b[0m\n",
      "├── \u001b[94mid\u001b[0m = WP_025054412.1\n",
      "├── \u001b[94mname\u001b[0m = 3-oxoadipate enol-lactonase\n",
      "├── \u001b[94morganism\u001b[0m\n",
      "│   └── \u001b[4mOrganism\u001b[0m\n",
      "│       ├── \u001b[94mid\u001b[0m = adae8cf2-febb-4626-a96c-32a6e82d65e0\n",
      "│       ├── \u001b[94mtaxonomy_id\u001b[0m = 1342301\n",
      "│       ├── \u001b[94mname\u001b[0m = Sulfitobacter noctilucicola\n",
      "│       ├── \u001b[94mdomain\u001b[0m = Bacteria\n",
      "│       ├── \u001b[94mphylum\u001b[0m = Pseudomonadota\n",
      "│       ├── \u001b[94mtax_class\u001b[0m = Alphaproteobacteria\n",
      "│       ├── \u001b[94morder\u001b[0m = Rhodobacterales\n",
      "│       ├── \u001b[94mfamily\u001b[0m = Roseobacteraceae\n",
      "│       └── \u001b[94mgenus\u001b[0m = Sulfitobacter\n",
      "├── \u001b[94msequence\u001b[0m = MKMLDTGDVRLHYRVDGPDDGPPVVFSNSLGTDLRLWDPILPMLPKGLRLIRYDKRGHGLSSCPPAPYSMGALITDAERLMDHLGVRDCVFVGLSIGGMTAQGLAAKRLDLIRAMVLSNTAAKIGTPAMWNVRIAAVQEGGIEKLADAVMERWFSAGFRATPELELWRNMLVRGEDAGYAGCSAAISGTDLMAPTSGLRLPVLGIAGAEDGSTPPDMVRETVDLIPGSKFHLIRKAGHLPCVEQPEEYARVLTEFLKGVGHV\n",
      "├── \u001b[94mregions\u001b[0m\n",
      "│   └── 0\n",
      "│       └── \u001b[4mRegion\u001b[0m\n",
      "│           ├── \u001b[94mid\u001b[0m = protocat_pcaD\n",
      "│           ├── \u001b[94mstart\u001b[0m = 9\n",
      "│           └── \u001b[94mend\u001b[0m = 257\n",
      "├── \u001b[94mec_number\u001b[0m = 3.1.1.24\n",
      "└── \u001b[94mmol_weight\u001b[0m = 28127.0\n",
      "\n",
      "\u001b[4mProteinRecord\u001b[0m\n",
      "├── \u001b[94mid\u001b[0m = WP_190870781.1\n",
      "├── \u001b[94mname\u001b[0m = alpha/beta hydrolase\n",
      "├── \u001b[94morganism\u001b[0m\n",
      "│   └── \u001b[4mOrganism\u001b[0m\n",
      "│       ├── \u001b[94mid\u001b[0m = 9f4ff70e-6b00-458a-9b22-4a4d82ffc487\n",
      "│       ├── \u001b[94mtaxonomy_id\u001b[0m = 2692777\n",
      "│       ├── \u001b[94mname\u001b[0m = Aulosira sp. FACHB-615\n",
      "│       ├── \u001b[94mdomain\u001b[0m = Bacteria\n",
      "│       ├── \u001b[94mphylum\u001b[0m = Cyanobacteriota\n",
      "│       ├── \u001b[94mtax_class\u001b[0m = Cyanophyceae\n",
      "│       ├── \u001b[94morder\u001b[0m = Nostocales\n",
      "│       ├── \u001b[94mfamily\u001b[0m = Fortieaceae\n",
      "│       └── \u001b[94mgenus\u001b[0m = Aulosira\n",
      "├── \u001b[94msequence\u001b[0m = MPKVQVNGIDIFYEVKGTGEPVLLIAGFMCDRTYWSLLLPHLGSKYQVIRFDNRGIGQSFIPNSPYSTQQMAQDAAALLDILGIKKAHIIGHSMGGQIAQELTLLYPEKVKSLILLSSLAKGNKRFNSLIETWGNLAGKIDLMLYEKLILPWIFTDDFYAIPEMIDQLIEWAINYPFAPTTQGIYHQSRAIINHDTTERIKDIHCPTLVMVGKQDILTPVAFSEQLAQNIPQAELQVIEHGGHGFLIESTAAVIQAILKFLAKFQQ\n",
      "├── \u001b[94mregions\u001b[0m\n",
      "│   └── 0\n",
      "│       └── \u001b[4mRegion\u001b[0m\n",
      "│           ├── \u001b[94mid\u001b[0m = MenH\n",
      "│           ├── \u001b[94mstart\u001b[0m = 3\n",
      "│           └── \u001b[94mend\u001b[0m = 263\n",
      "└── \u001b[94mmol_weight\u001b[0m = 29677.0\n",
      "\n",
      "\u001b[4mProteinRecord\u001b[0m\n",
      "├── \u001b[94mid\u001b[0m = MQA98272.1\n",
      "├── \u001b[94mname\u001b[0m = alpha/beta fold hydrolase\n",
      "├── \u001b[94morganism\u001b[0m\n",
      "│   └── \u001b[4mOrganism\u001b[0m\n",
      "│       ├── \u001b[94mid\u001b[0m = 2d70f611-b76b-4702-af4a-7ac6597dcb2b\n",
      "│       ├── \u001b[94mtaxonomy_id\u001b[0m = 2604148\n",
      "│       ├── \u001b[94mname\u001b[0m = Streptosporangiales bacterium\n",
      "│       ├── \u001b[94mdomain\u001b[0m = Bacteria\n",
      "│       ├── \u001b[94mphylum\u001b[0m = Actinomycetota\n",
      "│       ├── \u001b[94mtax_class\u001b[0m = Actinomycetes\n",
      "│       └── \u001b[94morder\u001b[0m = Streptosporangiales\n",
      "├── \u001b[94msequence\u001b[0m = MERFVEVVPGLRLWVEESGDSGAAPLLLIMGANASGMTWPGELVAALGERHRVIRYDHRDTGRSTRAFETQPYAITDLAEDAVAVLDALEIPRAHVVGMSMGGTLVQLLLLDHPDRLLSGTIFATSALGSGLAATEETQDVPDLPGPDPKLLELWQHMAEPRDREAEITWRVEHWRVLNGPVLPFDAEEFRRLEEWVIEHSGTADNPAAHARAAQNGLDRGHELAGVTTPTLIVEAPEDPINPPPHASYLAGLIPTARLVAIPGMGHALPPAVLPPLAEAILTHTAPIPG\n",
      "└── \u001b[94mcoding_sequence\u001b[0m\n",
      "    └── 0\n",
      "        └── \u001b[4mRegion\u001b[0m\n",
      "            ├── \u001b[94mid\u001b[0m = WHSL01000305.1\n",
      "            ├── \u001b[94mstart\u001b[0m = 1113\n",
      "            └── \u001b[94mend\u001b[0m = 1985\n",
      "\n",
      "\u001b[4mProteinRecord\u001b[0m\n",
      "├── \u001b[94mid\u001b[0m = MSO47046.1\n",
      "├── \u001b[94mname\u001b[0m = alpha/beta fold hydrolase\n",
      "├── \u001b[94morganism\u001b[0m\n",
      "│   └── \u001b[4mOrganism\u001b[0m\n",
      "│       ├── \u001b[94mid\u001b[0m = 1130902e-df30-4937-a600-86c3f5e9fd50\n",
      "│       ├── \u001b[94mtaxonomy_id\u001b[0m = 2026888\n",
      "│       ├── \u001b[94mname\u001b[0m = Thermoleophilia bacterium\n",
      "│       ├── \u001b[94mdomain\u001b[0m = Bacteria\n",
      "│       ├── \u001b[94mphylum\u001b[0m = Actinomycetota\n",
      "│       └── \u001b[94mtax_class\u001b[0m = Thermoleophilia\n",
      "├── \u001b[94msequence\u001b[0m = MELRDVDALPIAWRELGEGETVLFLHGLGMTRTGWDAVMWPLATGYRCVAWDMPGYGASAPLEDFSLEAAADAAAGLIAELGGTAHVVGMSMGGMVALQLALRHPDVVRSLVLVDTSPAFGLDGTDPDEWQAARLAPLLAGARIEEFAEPVLRGVMAPEPDPAAVALAVQSMLRVPIAGLMQTIAALPAHDVRARLGEIGVPTLVLVGELDEETPLSYSQALAEGIEGADLQVIPAAGHMTPFEAPLAVAALIGDHLQAMESN\n",
      "└── \u001b[94mcoding_sequence\u001b[0m\n",
      "    └── 0\n",
      "        └── \u001b[4mRegion\u001b[0m\n",
      "            ├── \u001b[94mid\u001b[0m = SHUX01000016.1\n",
      "            ├── \u001b[94mstart\u001b[0m = 4518\n",
      "            └── \u001b[94mend\u001b[0m = 5309\n",
      "\n",
      "\u001b[4mProteinRecord\u001b[0m\n",
      "├── \u001b[94mid\u001b[0m = MBP7777383.1\n",
      "├── \u001b[94mname\u001b[0m = alpha/beta hydrolase\n",
      "├── \u001b[94morganism\u001b[0m\n",
      "│   └── \u001b[4mOrganism\u001b[0m\n",
      "│       ├── \u001b[94mid\u001b[0m = 438e083d-0893-4f8d-be4e-780830ac0345\n",
      "│       ├── \u001b[94mtaxonomy_id\u001b[0m = 1978231\n",
      "│       ├── \u001b[94mname\u001b[0m = Acidobacteriota bacterium\n",
      "│       ├── \u001b[94mdomain\u001b[0m = Bacteria\n",
      "│       └── \u001b[94mphylum\u001b[0m = Acidobacteriota\n",
      "├── \u001b[94msequence\u001b[0m = MLDRHGIDADSRFVEVPVVDGDAHVLVSGEGPAVVIVNGIGIPAAMWAPLMAELEGFRLFAVDLPAYGLTDTTKDFAGDLRHNAVRFLDQVLDGLGLDAPAFVANSLGSLWTTWLALDRPERVKAMVHVGCPALVLDTSAPLLMRLLSVRPLGRVMTRLRPPSVSQVEELSTMVNEHPLTPELADLILATERLPDFRHTFLAMLNALLRVRGSRPAMRLTAEQLARIPQPTLVFWGNHDPFGSVTAGERMVKAMPNAELHVVGGGHAPWLTQAKRIGPIAACFLRQHE\n",
      "└── \u001b[94mcoding_sequence\u001b[0m\n",
      "    └── 0\n",
      "        └── \u001b[4mRegion\u001b[0m\n",
      "            ├── \u001b[94mid\u001b[0m = JAGNJW010000008.1\n",
      "            ├── \u001b[94mstart\u001b[0m = 133474\n",
      "            └── \u001b[94mend\u001b[0m = 134340\n",
      "\n",
      "\u001b[4mProteinRecord\u001b[0m\n",
      "├── \u001b[94mid\u001b[0m = UCD83799.1\n",
      "├── \u001b[94mname\u001b[0m = alpha/beta fold hydrolase\n",
      "├── \u001b[94morganism\u001b[0m\n",
      "│   └── \u001b[4mOrganism\u001b[0m\n",
      "│       ├── \u001b[94mid\u001b[0m = 09aff455-6bbc-4fc5-871d-f086df6eade4\n",
      "│       ├── \u001b[94mtaxonomy_id\u001b[0m = 2026735\n",
      "│       ├── \u001b[94mname\u001b[0m = Deltaproteobacteria bacterium\n",
      "│       ├── \u001b[94mdomain\u001b[0m = Bacteria\n",
      "│       ├── \u001b[94mphylum\u001b[0m = Myxococcota\n",
      "│       └── \u001b[94mtax_class\u001b[0m = Myxococcia\n",
      "├── \u001b[94msequence\u001b[0m = MPETIINGAKIHYQDNGTGHPLILAHGLGGDLTMWLAQVPVLSQRYRVITWDCRGHGLSEITEDGYSLQNFVDDQYKLLRYLGVEKAHVGGLSMGGLIAWTFALAHPETVTALVLSDTAGVNIGVDQESRRQITDMFMTTADIAEKRGRGGTMANQAIRLMFCDQFIRNNPEIIAMVKERITNSSGVGFARTVRGVFGTEVEIQETDITRLLATIKAPTLVLVGKEDLLTPVPTAEALSRAIPGARLHIFENAGHVPNIEQAEEWNRVVMDFLDGVKV\n",
      "├── \u001b[94mregions\u001b[0m\n",
      "│   └── 0\n",
      "│       └── \u001b[4mRegion\u001b[0m\n",
      "│           ├── \u001b[94mid\u001b[0m = MenH\n",
      "│           ├── \u001b[94mstart\u001b[0m = 5\n",
      "│           └── \u001b[94mend\u001b[0m = 276\n",
      "└── \u001b[94mcoding_sequence\u001b[0m\n",
      "    └── 0\n",
      "        └── \u001b[4mRegion\u001b[0m\n",
      "            ├── \u001b[94mid\u001b[0m = CP070770.1\n",
      "            ├── \u001b[94mstart\u001b[0m = 2437247\n",
      "            └── \u001b[94mend\u001b[0m = 2438083\n",
      "\n",
      "\u001b[4mProteinRecord\u001b[0m\n",
      "├── \u001b[94mid\u001b[0m = WP_132323581.1\n",
      "├── \u001b[94mname\u001b[0m = alpha/beta hydrolase\n",
      "├── \u001b[94morganism\u001b[0m\n",
      "│   └── \u001b[4mOrganism\u001b[0m\n",
      "│       ├── \u001b[94mid\u001b[0m = 2e65f085-fa7d-40af-8c02-7eba3098f5ab\n",
      "│       ├── \u001b[94mtaxonomy_id\u001b[0m = 1513793\n",
      "│       ├── \u001b[94mname\u001b[0m = Pseudobacteriovorax antillogorgiicola\n",
      "│       ├── \u001b[94mdomain\u001b[0m = Bacteria\n",
      "│       ├── \u001b[94mphylum\u001b[0m = Bdellovibrionota\n",
      "│       ├── \u001b[94mtax_class\u001b[0m = Oligoflexia\n",
      "│       ├── \u001b[94morder\u001b[0m = Oligoflexales\n",
      "│       ├── \u001b[94mfamily\u001b[0m = Pseudobacteriovoracaceae\n",
      "│       └── \u001b[94mgenus\u001b[0m = Pseudobacteriovorax\n",
      "├── \u001b[94msequence\u001b[0m = MSFLKQGSSQIYYQTAGDSGPWVTLVNGHTRTHKDFKMMSKVLVNAGFRCLSFDNRGSGESTCELEFGFPELVSDVINLWDELDISESHLLGISMGGMICQKLASEHPQRISSLILVSTTAHAEWIKADSHWGTSFDEVMDKLETYFAPVFVEKNKLLVKSMAKQIWSGIETGSFSSGASKQKAAMKGIDLSSMLQDIKARTLILHGIEDQIIDPRAGSELDDGIPNSELKLIDGVGHLLLAEYSQSLYQDVLSFIQSKR\n",
      "├── \u001b[94mregions\u001b[0m\n",
      "│   └── 0\n",
      "│       └── \u001b[4mRegion\u001b[0m\n",
      "│           ├── \u001b[94mid\u001b[0m = MenH\n",
      "│           ├── \u001b[94mstart\u001b[0m = 9\n",
      "│           └── \u001b[94mend\u001b[0m = 258\n",
      "└── \u001b[94mmol_weight\u001b[0m = 28639.0\n",
      "\n",
      "\u001b[4mProteinRecord\u001b[0m\n",
      "├── \u001b[94mid\u001b[0m = MBP3650116.1\n",
      "├── \u001b[94mname\u001b[0m = alpha/beta hydrolase\n",
      "├── \u001b[94morganism\u001b[0m\n",
      "│   └── \u001b[4mOrganism\u001b[0m\n",
      "│       ├── \u001b[94mid\u001b[0m = ca6622c0-38fb-4f66-a21c-9b94a6536c43\n",
      "│       ├── \u001b[94mtaxonomy_id\u001b[0m = 2044939\n",
      "│       ├── \u001b[94mname\u001b[0m = Clostridia bacterium\n",
      "│       ├── \u001b[94mdomain\u001b[0m = Bacteria\n",
      "│       ├── \u001b[94mphylum\u001b[0m = Bacillota\n",
      "│       └── \u001b[94mtax_class\u001b[0m = Clostridia\n",
      "├── \u001b[94msequence\u001b[0m = MTHKTIDGIGGKVHYWISIPANAAKYTLVFTHGLTANHTMYEKQVDYFRDEYTIIVWDVPMHGLSVPYSSFSYENAAKDLNAIIERENTGSVVLVGMSMGGYISQMYAHMYPEKVLCFIGIDTTPFGASYYSKADLWWLSKVKPMAKWFGERMLRWSIAKSVSVTDYSYQKMMEMLAPLSKEQIIDQMDIAYGAFARECRDIHVNCPVLILLGDQDRTGKVKQYCKVWSKKTGYSLRMIHNAAHFSNGDNAEQVHSEMEQFIAQLGSDASKPVI\n",
      "└── \u001b[94mcoding_sequence\u001b[0m\n",
      "    └── 0\n",
      "        └── \u001b[4mRegion\u001b[0m\n",
      "            ├── \u001b[94mid\u001b[0m = JAGBAY010000179.1\n",
      "            ├── \u001b[94mstart\u001b[0m = 12175\n",
      "            └── \u001b[94mend\u001b[0m = 12999\n",
      "\n",
      "\u001b[4mProteinRecord\u001b[0m\n",
      "├── \u001b[94mid\u001b[0m = WP_110697055.1\n",
      "├── \u001b[94mname\u001b[0m = alpha/beta fold hydrolase\n",
      "├── \u001b[94morganism\u001b[0m\n",
      "│   └── \u001b[4mOrganism\u001b[0m\n",
      "│       ├── \u001b[94mid\u001b[0m = e7b2dcd9-53a1-4903-98e9-671e31e5e3ec\n",
      "│       ├── \u001b[94mtaxonomy_id\u001b[0m = 2202249\n",
      "│       ├── \u001b[94mname\u001b[0m = Streptosporangium sp. 'caverna'\n",
      "│       ├── \u001b[94mdomain\u001b[0m = Bacteria\n",
      "│       ├── \u001b[94mphylum\u001b[0m = Actinomycetota\n",
      "│       ├── \u001b[94mtax_class\u001b[0m = Actinomycetes\n",
      "│       ├── \u001b[94morder\u001b[0m = Streptosporangiales\n",
      "│       ├── \u001b[94mfamily\u001b[0m = Streptosporangiaceae\n",
      "│       └── \u001b[94mgenus\u001b[0m = Streptosporangium\n",
      "├── \u001b[94msequence\u001b[0m = MPTAHVNDITINYQLEGDGPETIVLINGLADDLASWDFQVPALLEAGLRVLRFDNRGIGATDKPAGPYTSRLLADDAKALVDHLGLTDVHLMGVSMGGMIAQEYALAHPDGLKSLTLACTYAAPGAFCSRMFSLWADMAREMGVPAVMRDVTLWAFTVPFFEERTEEAEEFEAAMAALDQPLDAYLAQLSVIQTHDTVERLERITTPTLVLAGEEDILIPVRLSRRLHAAVPDATWATVPGGHACLWETPEPFNTTLIDFVRAHAG\n",
      "├── \u001b[94mregions\u001b[0m\n",
      "│   └── 0\n",
      "│       └── \u001b[4mRegion\u001b[0m\n",
      "│           ├── \u001b[94mid\u001b[0m = MenH\n",
      "│           ├── \u001b[94mstart\u001b[0m = 0\n",
      "│           └── \u001b[94mend\u001b[0m = 264\n",
      "└── \u001b[94mmol_weight\u001b[0m = 28839.0\n",
      "\n",
      "\u001b[4mProteinRecord\u001b[0m\n",
      "├── \u001b[94mid\u001b[0m = WP_172929439.1\n",
      "├── \u001b[94mname\u001b[0m = alpha/beta hydrolase\n",
      "├── \u001b[94morganism\u001b[0m\n",
      "│   └── \u001b[4mOrganism\u001b[0m\n",
      "│       ├── \u001b[94mid\u001b[0m = 3d08e457-913b-4a40-a56c-a097ff2b5277\n",
      "│       ├── \u001b[94mtaxonomy_id\u001b[0m = 2579939\n",
      "│       ├── \u001b[94mname\u001b[0m = Pseudomonas sp. MS19\n",
      "│       ├── \u001b[94mdomain\u001b[0m = Bacteria\n",
      "│       ├── \u001b[94mphylum\u001b[0m = Pseudomonadota\n",
      "│       ├── \u001b[94mtax_class\u001b[0m = Gammaproteobacteria\n",
      "│       ├── \u001b[94morder\u001b[0m = Pseudomonadales\n",
      "│       ├── \u001b[94mfamily\u001b[0m = Pseudomonadaceae\n",
      "│       └── \u001b[94mgenus\u001b[0m = Pseudomonas\n",
      "├── \u001b[94msequence\u001b[0m = MPFASINQQDIHFTDHGGDGLPIILSHGFLMDEQMFAHQVAALSPEFRVITWDERGFGQTRYDGEPFTYWDSARDCLALLDHLDIQHAVFGGMSQGGFLSLRAALLAPERVLGLVLIDTQAGPEPAELVEGHKQLMQAWIENGLSDEVADYIANLIIADPSENAKWIAKWQAMDSQQLVGPSTCLLQREDISDRLAEISAPALVIHGSEDSAIAPELAHALCRGLKNSEPLVLVDGAAHAANLSHPEAVNPAMLGFLRRLAARRD\n",
      "├── \u001b[94mregions\u001b[0m\n",
      "│   └── 0\n",
      "│       └── \u001b[4mRegion\u001b[0m\n",
      "│           ├── \u001b[94mid\u001b[0m = MenH\n",
      "│           ├── \u001b[94mstart\u001b[0m = 2\n",
      "│           └── \u001b[94mend\u001b[0m = 260\n",
      "└── \u001b[94mmol_weight\u001b[0m = 28800.0\n",
      "\n",
      "\u001b[4mProteinRecord\u001b[0m\n",
      "├── \u001b[94mid\u001b[0m = MBI5503207.1\n",
      "├── \u001b[94mname\u001b[0m = alpha/beta fold hydrolase\n",
      "├── \u001b[94morganism\u001b[0m\n",
      "│   └── \u001b[4mOrganism\u001b[0m\n",
      "│       ├── \u001b[94mid\u001b[0m = 3f079d4a-97f4-427a-b20b-5c5b6b9a68dc\n",
      "│       ├── \u001b[94mtaxonomy_id\u001b[0m = 2026735\n",
      "│       ├── \u001b[94mname\u001b[0m = Deltaproteobacteria bacterium\n",
      "│       ├── \u001b[94mdomain\u001b[0m = Bacteria\n",
      "│       ├── \u001b[94mphylum\u001b[0m = Myxococcota\n",
      "│       └── \u001b[94mtax_class\u001b[0m = Myxococcia\n",
      "├── \u001b[94msequence\u001b[0m = MNDSKSDKHARVGKLDVHYELAGPAGAPVVTFVHGLVASLEHWAPAAEALVAEGFRVLRYDLRAHGSTTALREPCSRHDLAADLVGLMEVLGIARSAVVGHSAGGVIAQQTALDFPGRVSALALVGTSSACNDKAAAWYSQCIEVARDRGGGALMQLMGSNPERAAVPDGAGIVPVIEAMRSLNTDPLTERLRELHVPTLIIVGDEDFLGVGGSVILSRAIAGSELEIVPERGHGIYYEAPDWFARRLGVFLAKHLL\n",
      "└── \u001b[94mcoding_sequence\u001b[0m\n",
      "    └── 0\n",
      "        └── \u001b[4mRegion\u001b[0m\n",
      "            ├── \u001b[94mid\u001b[0m = JACRCR010000004.1\n",
      "            ├── \u001b[94mstart\u001b[0m = 27559\n",
      "            └── \u001b[94mend\u001b[0m = 28332\n",
      "\n",
      "\u001b[4mProteinRecord\u001b[0m\n",
      "├── \u001b[94mid\u001b[0m = WP_264597294.1\n",
      "├── \u001b[94mname\u001b[0m = alpha/beta hydrolase\n",
      "├── \u001b[94morganism\u001b[0m\n",
      "│   └── \u001b[4mOrganism\u001b[0m\n",
      "│       ├── \u001b[94mid\u001b[0m = 6b43b411-09c4-4636-b3c9-989fc1fb93b3\n",
      "│       ├── \u001b[94mtaxonomy_id\u001b[0m = 1074\n",
      "│       ├── \u001b[94mname\u001b[0m = Rhodoblastus acidophilus\n",
      "│       ├── \u001b[94mdomain\u001b[0m = Bacteria\n",
      "│       ├── \u001b[94mphylum\u001b[0m = Pseudomonadota\n",
      "│       ├── \u001b[94mtax_class\u001b[0m = Alphaproteobacteria\n",
      "│       ├── \u001b[94morder\u001b[0m = Hyphomicrobiales\n",
      "│       ├── \u001b[94mfamily\u001b[0m = Rhodoblastaceae\n",
      "│       └── \u001b[94mgenus\u001b[0m = Rhodoblastus\n",
      "├── \u001b[94msequence\u001b[0m = MPILSWLAGPAAAATIALPLALYAPDKPRAELEAAYPGDYHMVDGVRLRLRDTGPRDAPAVILLHGFCASLDTWEPWAKTLSTRYRVIRFDLPGFGLTGADPTGDYSDARETKILTDLMNELGVARANLVGNSMGGRIAWKFAAEHPDRVTRMVLVSPEGFGALPGDQGKTDARTEPNAAAPWPMRALEYLAPPRSVVKAGLSAAYANIESLSEATLTRYSDLLLAPGVRQAIVARWSQMRPRDPAPILASIKTPTLLLWGERDGVIPIDEADLFLRDLPHATLVRLPNLGHLPFEENPAASLAPLQRFLSGDTP\n",
      "├── \u001b[94mregions\u001b[0m\n",
      "│   └── 0\n",
      "│       └── \u001b[4mRegion\u001b[0m\n",
      "│           ├── \u001b[94mid\u001b[0m = MenH\n",
      "│           ├── \u001b[94mstart\u001b[0m = 42\n",
      "│           └── \u001b[94mend\u001b[0m = 312\n",
      "└── \u001b[94mmol_weight\u001b[0m = 34021.0\n",
      "\n",
      "\u001b[4mProteinRecord\u001b[0m\n",
      "├── \u001b[94mid\u001b[0m = MCL6609976.1\n",
      "├── \u001b[94mname\u001b[0m = alpha/beta hydrolase\n",
      "├── \u001b[94morganism\u001b[0m\n",
      "│   └── \u001b[4mOrganism\u001b[0m\n",
      "│       ├── \u001b[94mid\u001b[0m = 1dc52013-7562-4f8a-bd11-21fd4ce652a4\n",
      "│       ├── \u001b[94mtaxonomy_id\u001b[0m = 2052179\n",
      "│       ├── \u001b[94mname\u001b[0m = Peptococcaceae bacterium\n",
      "│       ├── \u001b[94mdomain\u001b[0m = Bacteria\n",
      "│       ├── \u001b[94mphylum\u001b[0m = Bacillota\n",
      "│       ├── \u001b[94mtax_class\u001b[0m = Clostridia\n",
      "│       ├── \u001b[94morder\u001b[0m = Eubacteriales\n",
      "│       └── \u001b[94mfamily\u001b[0m = Peptococcaceae\n",
      "├── \u001b[94msequence\u001b[0m = MPTITIDGVDYHYSAKTPDGGEPKQAVLFVHGAGGSHSRWSFQVAGLGGEYLAMAVDLPGHGLSGGSASDRIESYGEFIRSFADRLLGFPFFLAGHSMGGAVALYFALNYPGRLAGLILMGTGSRLRVLPAILENFKSEKMPENMPGVMFRPGTPEAVLKAAEEEMKSTSPSVFYSDFLACDRFDVSGRLSEIDIPTLVLTGDKDVLTPVKYGKFLADNVKGATFEIIEDAGHMLMLEQPGAVNASVKKFLEKHCQ\n",
      "└── \u001b[94mcoding_sequence\u001b[0m\n",
      "    └── 0\n",
      "        └── \u001b[4mRegion\u001b[0m\n",
      "            ├── \u001b[94mid\u001b[0m = JAILZP010000001.1\n",
      "            ├── \u001b[94mstart\u001b[0m = 76037\n",
      "            └── \u001b[94mend\u001b[0m = 76807\n",
      "\n",
      "\u001b[4mProteinRecord\u001b[0m\n",
      "├── \u001b[94mid\u001b[0m = MCC8428373.1\n",
      "├── \u001b[94mname\u001b[0m = alpha/beta hydrolase\n",
      "├── \u001b[94morganism\u001b[0m\n",
      "│   └── \u001b[4mOrganism\u001b[0m\n",
      "│       ├── \u001b[94mid\u001b[0m = c1db2a51-9976-43a4-83ec-fcf97295adcf\n",
      "│       ├── \u001b[94mtaxonomy_id\u001b[0m = 2035356\n",
      "│       ├── \u001b[94mname\u001b[0m = Reyranella aquatilis\n",
      "│       ├── \u001b[94mdomain\u001b[0m = Bacteria\n",
      "│       ├── \u001b[94mphylum\u001b[0m = Pseudomonadota\n",
      "│       ├── \u001b[94mtax_class\u001b[0m = Alphaproteobacteria\n",
      "│       ├── \u001b[94morder\u001b[0m = Hyphomicrobiales\n",
      "│       ├── \u001b[94mfamily\u001b[0m = Reyranellaceae\n",
      "│       └── \u001b[94mgenus\u001b[0m = Reyranella\n",
      "├── \u001b[94msequence\u001b[0m = MARNKILFLPGAGGSPHFWKPVATALPSDWPKEHFGWPGLGAQPHDPAVRGLDDLQKMVTDRMDGPVDLVAQSMGGVLAARIALEHPELVRRLVLCVTSGGVDMAGLGASDWRADYRKSFPRAAAWITDTRQSEPLPVEKIAAPTLLIWGDSDPVSPVAVGEHLLARLPDARLEVVPGGDHDVASTHADLVARLIAKHLA\n",
      "└── \u001b[94mcoding_sequence\u001b[0m\n",
      "    └── 0\n",
      "        └── \u001b[4mRegion\u001b[0m\n",
      "            ├── \u001b[94mid\u001b[0m = JAJISD010000001.1\n",
      "            ├── \u001b[94mstart\u001b[0m = 1093831\n",
      "            └── \u001b[94mend\u001b[0m = 1094433\n",
      "\n",
      "\u001b[4mProteinRecord\u001b[0m\n",
      "├── \u001b[94mid\u001b[0m = MSQ56119.1\n",
      "├── \u001b[94mname\u001b[0m = alpha/beta hydrolase\n",
      "├── \u001b[94morganism\u001b[0m\n",
      "│   └── \u001b[4mOrganism\u001b[0m\n",
      "│       ├── \u001b[94mid\u001b[0m = 5ae20b8c-3352-4803-95ea-0443777e2974\n",
      "│       ├── \u001b[94mtaxonomy_id\u001b[0m = 1907725\n",
      "│       ├── \u001b[94mname\u001b[0m = Limnohabitans sp.\n",
      "│       ├── \u001b[94mdomain\u001b[0m = Bacteria\n",
      "│       ├── \u001b[94mphylum\u001b[0m = Pseudomonadota\n",
      "│       ├── \u001b[94mtax_class\u001b[0m = Betaproteobacteria\n",
      "│       ├── \u001b[94morder\u001b[0m = Burkholderiales\n",
      "│       ├── \u001b[94mfamily\u001b[0m = Comamonadaceae\n",
      "│       └── \u001b[94mgenus\u001b[0m = Limnohabitans\n",
      "├── \u001b[94msequence\u001b[0m = MQVTPPYTLQDMAIDGLKILETLGIQKAHLIGISMGGMIAQRMAIAKPDKILSLTSLMSNSGAEHLPGPQPEVLSALMTKPAMPGSEQAKANALKFMNSLRSPGFPYPPGYLEQLVEDNMNRSSRPQGAMRHMLAVIADTQRTHLLGQIKCPTLILHGKQDPLLPFACAQDTARRIAHSKLVAIEGMGHNLPPALVPHLLAPLLEFLDQCPTQ\n",
      "└── \u001b[94mcoding_sequence\u001b[0m\n",
      "    └── 0\n",
      "        └── \u001b[4mRegion\u001b[0m\n",
      "            ├── \u001b[94mid\u001b[0m = SHXN01000005.1\n",
      "            ├── \u001b[94mstart\u001b[0m = 30970\n",
      "            └── \u001b[94mend\u001b[0m = 31611\n",
      "\n",
      "\u001b[4mProteinRecord\u001b[0m\n",
      "├── \u001b[94mid\u001b[0m = MBF8259696.1\n",
      "├── \u001b[94mname\u001b[0m = Alpha/beta hydrolase\n",
      "├── \u001b[94morganism\u001b[0m\n",
      "│   └── \u001b[4mOrganism\u001b[0m\n",
      "│       ├── \u001b[94mid\u001b[0m = 140d30c8-fd2c-4bb3-9e71-d4ed816a1558\n",
      "│       ├── \u001b[94mtaxonomy_id\u001b[0m = 2900548\n",
      "│       ├── \u001b[94mname\u001b[0m = Actinomycetota bacterium\n",
      "│       ├── \u001b[94mdomain\u001b[0m = Bacteria\n",
      "│       └── \u001b[94mphylum\u001b[0m = Actinomycetota\n",
      "├── \u001b[94msequence\u001b[0m = MPFKDSPGFRMYYEEHGSGFPLLLINGLGSDHVEWLHQVPVFSRRFRTIAFDNRGAGDSEAPEGPYSTGQMADDAAVLLSAMGIGRAHVIGASLGGMIAQELALRHSERVSRLVLACTSPGGEGSVRPSPAALAAFARTADGDRESELRRMIPYLYSERCCRERPGEIEEFIARRLSRPGSPEGYAAQLAAAVGHSAWERLGGIGVPTMVITGGDDRLVPPVNSERIAQRIPGAKLVVLPGGPHRLFAEDPEAFNREVLAFLI\n",
      "└── \u001b[94mcoding_sequence\u001b[0m\n",
      "    └── 0\n",
      "        └── \u001b[4mRegion\u001b[0m\n",
      "            ├── \u001b[94mid\u001b[0m = JACSDD010000268.1\n",
      "            ├── \u001b[94mstart\u001b[0m = 370\n",
      "            └── \u001b[94mend\u001b[0m = 1161\n",
      "\n",
      "\u001b[4mProteinRecord\u001b[0m\n",
      "├── \u001b[94mid\u001b[0m = WP_182669574.1\n",
      "├── \u001b[94mname\u001b[0m = alpha/beta hydrolase\n",
      "├── \u001b[94morganism\u001b[0m\n",
      "│   └── \u001b[4mOrganism\u001b[0m\n",
      "│       ├── \u001b[94mid\u001b[0m = b415299c-8d00-48bc-83a1-b8aa26e353f0\n",
      "│       ├── \u001b[94mtaxonomy_id\u001b[0m = 2759900\n",
      "│       ├── \u001b[94mname\u001b[0m = Lysobacter penaei\n",
      "│       ├── \u001b[94mdomain\u001b[0m = Bacteria\n",
      "│       ├── \u001b[94mphylum\u001b[0m = Pseudomonadota\n",
      "│       ├── \u001b[94mtax_class\u001b[0m = Gammaproteobacteria\n",
      "│       ├── \u001b[94morder\u001b[0m = Lysobacterales\n",
      "│       ├── \u001b[94mfamily\u001b[0m = Lysobacteraceae\n",
      "│       └── \u001b[94mgenus\u001b[0m = Lysobacter\n",
      "├── \u001b[94msequence\u001b[0m = MDPFSLETPLGTVAALRTPPARRPADGPRVLALHGWLDNAASFLPIAPHLPGLDLVALDLPGHGCSAHLPHGADYSFPGSVNAVLDAADALGWEHFVLLGHSMGAGIASLLAASCPERVSRLVVIEALGALAEEPARTAERMRDAISAARALRGKQLRTFPDLAVAARARMAGGQRVGSRLEEDAARLLVERGTRPVDGGYCWSSDPRLMLPTFLRPTEAQIRDLVAAITCPTLALFADPAQPYLPDALRRERAALLPDGRLVVMEGGHHLHMEQPEAVAATIGEFLRG\n",
      "├── \u001b[94mregions\u001b[0m\n",
      "│   └── 0\n",
      "│       └── \u001b[4mRegion\u001b[0m\n",
      "│           ├── \u001b[94mid\u001b[0m = MenH\n",
      "│           ├── \u001b[94mstart\u001b[0m = 25\n",
      "│           └── \u001b[94mend\u001b[0m = 289\n",
      "└── \u001b[94mmol_weight\u001b[0m = 30607.0\n",
      "\n",
      "\u001b[4mProteinRecord\u001b[0m\n",
      "├── \u001b[94mid\u001b[0m = MCH7836512.1\n",
      "├── \u001b[94mname\u001b[0m = alpha/beta fold hydrolase\n",
      "├── \u001b[94morganism\u001b[0m\n",
      "│   └── \u001b[4mOrganism\u001b[0m\n",
      "│       ├── \u001b[94mid\u001b[0m = e65f7de2-e26d-4e56-a49c-025c531a0671\n",
      "│       ├── \u001b[94mtaxonomy_id\u001b[0m = 2026724\n",
      "│       ├── \u001b[94mname\u001b[0m = Chloroflexota bacterium\n",
      "│       ├── \u001b[94mdomain\u001b[0m = Bacteria\n",
      "│       └── \u001b[94mphylum\u001b[0m = Chloroflexota\n",
      "├── \u001b[94msequence\u001b[0m = MAKAQIRDIELYYEVHGPTLLPAGQADPLLLIMGLGANATSWEMQVPDFSREYRVIAFDNRGAGRTDKPQSPYTIPQMAQDAIGLLDHLEIGAAHVFGMSMGGMIAQELALRHPQRVRALVLGGTMAGGPNAVMAGRQLMQQWASTALLPQEQAIEKGLQFLYSEDFIAKNKERLMKRALELGHLQAPLDALQRQVMAVVQFNAYDRLADIRAPTLIITGKDDKIVPSENSRILAERIPGAELVELEGVGHGFLGELPAEANSIVLAFLRRHGAGSPK\n",
      "└── \u001b[94mcoding_sequence\u001b[0m\n",
      "    └── 0\n",
      "        └── \u001b[4mRegion\u001b[0m\n",
      "            ├── \u001b[94mid\u001b[0m = JADFNQ010000147.1\n",
      "            ├── \u001b[94mstart\u001b[0m = 734\n",
      "            └── \u001b[94mend\u001b[0m = 1570\n",
      "\n"
     ]
    }
   ],
   "source": [
    "current_path = os.path.dirname(os.getcwd())\n",
    "output_folder_blast_search = os.path.join(current_path, \"PHA_Depolymerasen\", \"proteins\")\n",
    "os.makedirs(output_folder_blast_search, exist_ok=True)\n",
    "counter = 0\n",
    "for hit in proteins_test:\n",
    "    print(hit)\n",
    "    with open(output_folder_blast_search + \"/{}.json\".format(hit.id), \"w\") as f:\n",
    "        f.write(hit.json())\n",
    "        counter += 1"
   ]
  },
  {
   "cell_type": "code",
   "execution_count": null,
   "metadata": {},
   "outputs": [
    {
     "name": "stdout",
     "output_type": "stream",
     "text": [
      "100\n",
      "6401\n",
      "[]\n"
     ]
    }
   ],
   "source": [
    "print(len(proteins_test))\n",
    "print(len(source_ids))\n",
    "print(error_test)"
   ]
  }
 ],
 "metadata": {
  "kernelspec": {
   "display_name": "pyeed_env",
   "language": "python",
   "name": "python3"
  },
  "language_info": {
   "codemirror_mode": {
    "name": "ipython",
    "version": 3
   },
   "file_extension": ".py",
   "mimetype": "text/x-python",
   "name": "python",
   "nbconvert_exporter": "python",
   "pygments_lexer": "ipython3",
   "version": "3.10.13"
  }
 },
 "nbformat": 4,
 "nbformat_minor": 2
}
