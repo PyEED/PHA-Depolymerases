{
 "cells": [
  {
   "cell_type": "markdown",
   "metadata": {},
   "source": [
    "## First Analysis of the proteins"
   ]
  },
  {
   "cell_type": "markdown",
   "metadata": {},
   "source": [
    "I aim to perform further analysis on the PHA-Depolymerases protein family. Therefore, I decided to do some analysis on the organism. There are methods to categorize the organism as well as to sort the proteins after length and find the family that the proteins belong to. "
   ]
  },
  {
   "cell_type": "code",
   "execution_count": 14,
   "metadata": {},
   "outputs": [
    {
     "ename": "ModuleNotFoundError",
     "evalue": "No module named 'PHA_Depolymerasen'",
     "output_type": "error",
     "traceback": [
      "\u001b[0;31m---------------------------------------------------------------------------\u001b[0m",
      "\u001b[0;31mModuleNotFoundError\u001b[0m                       Traceback (most recent call last)",
      "Cell \u001b[0;32mIn[14], line 8\u001b[0m\n\u001b[1;32m      6\u001b[0m \u001b[38;5;28;01mfrom\u001b[39;00m \u001b[38;5;21;01mpyeed\u001b[39;00m\u001b[38;5;21;01m.\u001b[39;00m\u001b[38;5;21;01mcore\u001b[39;00m \u001b[38;5;28;01mimport\u001b[39;00m ProteinInfo\n\u001b[1;32m      7\u001b[0m \u001b[38;5;28;01mfrom\u001b[39;00m \u001b[38;5;21;01mpyeed\u001b[39;00m\u001b[38;5;21;01m.\u001b[39;00m\u001b[38;5;21;01mcontainers\u001b[39;00m \u001b[38;5;28;01mimport\u001b[39;00m MMSeqs2\n\u001b[0;32m----> 8\u001b[0m \u001b[38;5;28;01mfrom\u001b[39;00m \u001b[38;5;21;01mPHA_Depolymerasen\u001b[39;00m\u001b[38;5;21;01m.\u001b[39;00m\u001b[38;5;21;01mtools\u001b[39;00m\u001b[38;5;21;01m.\u001b[39;00m\u001b[38;5;21;01mtools\u001b[39;00m \u001b[38;5;28;01mimport\u001b[39;00m categorize_len\n\u001b[1;32m      9\u001b[0m \u001b[38;5;28;01mfrom\u001b[39;00m \u001b[38;5;21;01mPHA_Depolymerasen\u001b[39;00m\u001b[38;5;21;01m.\u001b[39;00m\u001b[38;5;21;01mtools\u001b[39;00m\u001b[38;5;21;01m.\u001b[39;00m\u001b[38;5;21;01mtools\u001b[39;00m \u001b[38;5;28;01mimport\u001b[39;00m categorize_organism\n\u001b[1;32m     10\u001b[0m \u001b[38;5;28;01mfrom\u001b[39;00m \u001b[38;5;21;01mPHA_Depolymerasen\u001b[39;00m\u001b[38;5;21;01m.\u001b[39;00m\u001b[38;5;21;01mtools\u001b[39;00m\u001b[38;5;21;01m.\u001b[39;00m\u001b[38;5;21;01mtools\u001b[39;00m \u001b[38;5;28;01mimport\u001b[39;00m find_family\n",
      "\u001b[0;31mModuleNotFoundError\u001b[0m: No module named 'PHA_Depolymerasen'"
     ]
    }
   ],
   "source": [
    "%reload_ext autoreload\n",
    "%autoreload 2\n",
    "\n",
    "from pyeed.core import Organism\n",
    "from pyeed.fetchers import NCBITaxonomyFetcher\n",
    "from pyeed.core import ProteinInfo\n",
    "from pyeed.containers import MMSeqs2\n",
    "from PHA_Depolymerasen.tools.tools import categorize_len\n",
    "from PHA_Depolymerasen.tools.tools import categorize_organism\n",
    "from PHA_Depolymerasen.tools.tools import find_family\n",
    "from pathlib import Path\n",
    "import matplotlib.pyplot as plt"
   ]
  },
  {
   "cell_type": "markdown",
   "metadata": {},
   "source": [
    "Import all the found proteins of the family from the blast search. "
   ]
  },
  {
   "cell_type": "code",
   "execution_count": 5,
   "metadata": {},
   "outputs": [],
   "source": [
    "sequences_1 = []\n",
    "for path in Path(\"./blast_results/blast_results_1\").rglob(\"*.json\"):\n",
    "    with open(str(path.absolute())) as f:\n",
    "        sequences_1.append(ProteinInfo.from_json(f)) \n",
    "\n",
    "sequences_2 = []\n",
    "for path in Path(\"./blast_results/blast_results_2\").rglob(\"*.json\"):\n",
    "    with open(str(path.absolute())) as f:\n",
    "        sequences_2.append(ProteinInfo.from_json(f)) \n",
    "\n",
    "sequences_3 = []\n",
    "for path in Path(\"./blast_results/blast_results_3\").rglob(\"*.json\"):\n",
    "    with open(str(path.absolute())) as f:\n",
    "        sequences_3.append(ProteinInfo.from_json(f)) \n",
    "\n",
    "sequences_4 = []\n",
    "for path in Path(\"./blast_results/blast_results_4\").rglob(\"*.json\"):\n",
    "    with open(str(path.absolute())) as f:\n",
    "        sequences_4.append(ProteinInfo.from_json(f)) \n",
    "\n",
    "sequences_5 = []\n",
    "for path in Path(\"./blast_results/blast_results_5\").rglob(\"*.json\"):\n",
    "    with open(str(path.absolute())) as f:\n",
    "        sequences_5.append(ProteinInfo.from_json(f)) \n",
    "\n",
    "sequences_6 = []\n",
    "for path in Path(\"./blast_results/blast_results_6\").rglob(\"*.json\"):\n",
    "    with open(str(path.absolute())) as f:\n",
    "        sequences_6.append(ProteinInfo.from_json(f)) \n",
    "\n",
    "sequences_7 = []\n",
    "for path in Path(\"./blast_results/blast_results_7\").rglob(\"*.json\"):\n",
    "    with open(str(path.absolute())) as f:\n",
    "        sequences_7.append(ProteinInfo.from_json(f)) \n"
   ]
  },
  {
   "cell_type": "code",
   "execution_count": 7,
   "metadata": {},
   "outputs": [],
   "source": [
    "sequences = []\n",
    "i = 0\n",
    "while i < 7:\n",
    "    for path in Path(\"./blast_results/blast_results_\" + str(i+1)).rglob(\"*.json\"):\n",
    "        with open(str(path.absolute())) as f:\n",
    "            sequences.append(ProteinInfo.from_json(f)) \n",
    "    i = i + 1"
   ]
  },
  {
   "cell_type": "markdown",
   "metadata": {},
   "source": [
    "Perform a clustering with the MM2Seq Clustering Tool.  \n",
    "The input are the sewurnces that should be clustered as well as the wanted coverage and the identity. Coverage means in this case ... and identity. I decided to go with ... since the database I was looking for proteins was already clustered by 90% identity. "
   ]
  },
  {
   "cell_type": "code",
   "execution_count": 4,
   "metadata": {},
   "outputs": [
    {
     "name": "stdout",
     "output_type": "stream",
     "text": [
      "🏃 Clustering sequences with MMSeqs2...\n",
      "╭── initial sequences: 6401\n",
      "├── min. coverage: 80 %\n",
      "╰── min. sequence identity: 0 %\n",
      "🎉 Clustered intitial sequences in 185 representative sequences\n",
      "🏃 Clustering sequences with MMSeqs2...\n",
      "╭── initial sequences: 8762\n",
      "├── min. coverage: 80 %\n",
      "╰── min. sequence identity: 0 %\n",
      "🎉 Clustered intitial sequences in 378 representative sequences\n",
      "🏃 Clustering sequences with MMSeqs2...\n",
      "╭── initial sequences: 57975\n",
      "├── min. coverage: 80 %\n",
      "╰── min. sequence identity: 0 %\n",
      "🎉 Clustered intitial sequences in 1571 representative sequences\n",
      "🏃 Clustering sequences with MMSeqs2...\n",
      "╭── initial sequences: 13810\n",
      "├── min. coverage: 80 %\n",
      "╰── min. sequence identity: 0 %\n",
      "🎉 Clustered intitial sequences in 467 representative sequences\n",
      "🏃 Clustering sequences with MMSeqs2...\n",
      "╭── initial sequences: 11970\n",
      "├── min. coverage: 80 %\n",
      "╰── min. sequence identity: 0 %\n",
      "🎉 Clustered intitial sequences in 1028 representative sequences\n",
      "🏃 Clustering sequences with MMSeqs2...\n",
      "╭── initial sequences: 7165\n",
      "├── min. coverage: 80 %\n",
      "╰── min. sequence identity: 0 %\n",
      "🎉 Clustered intitial sequences in 266 representative sequences\n",
      "🏃 Clustering sequences with MMSeqs2...\n",
      "╭── initial sequences: 6836\n",
      "├── min. coverage: 80 %\n",
      "╰── min. sequence identity: 0 %\n",
      "🎉 Clustered intitial sequences in 250 representative sequences\n"
     ]
    }
   ],
   "source": [
    "representatives_1 = MMSeqs2.easy_cluster(\n",
    "    sequences=sequences_1,\n",
    "    coverage=0.8,\n",
    "    identity=0,\n",
    ")\n",
    "\n",
    "representatives_2 = MMSeqs2.easy_cluster(\n",
    "    sequences=sequences_2,\n",
    "    coverage=0.8,\n",
    "    identity=0,\n",
    ")\n",
    "\n",
    "representatives_3 = MMSeqs2.easy_cluster(\n",
    "    sequences=sequences_3,\n",
    "    coverage=0.8,\n",
    "    identity=0,\n",
    ")\n",
    "\n",
    "representatives_4 = MMSeqs2.easy_cluster(\n",
    "    sequences=sequences_4,\n",
    "    coverage=0.8,\n",
    "    identity=0,\n",
    ")\n",
    "\n",
    "representatives_5 = MMSeqs2.easy_cluster(\n",
    "    sequences=sequences_5,\n",
    "    coverage=0.8,\n",
    "    identity=0,\n",
    ")\n",
    "\n",
    "representatives_6 = MMSeqs2.easy_cluster(\n",
    "    sequences=sequences_6,\n",
    "    coverage=0.8,\n",
    "    identity=0,\n",
    ")\n",
    "\n",
    "representatives_7 = MMSeqs2.easy_cluster(\n",
    "    sequences=sequences_7,\n",
    "    coverage=0.8,\n",
    "    identity=0,\n",
    ")"
   ]
  },
  {
   "cell_type": "code",
   "execution_count": 10,
   "metadata": {},
   "outputs": [
    {
     "name": "stdout",
     "output_type": "stream",
     "text": [
      "🏃 Clustering sequences with MMSeqs2...\n",
      "╭── initial sequences: 0\n",
      "├── min. coverage: 80 %\n",
      "╰── min. sequence identity: 60 %\n",
      "2024-04-11 13:18:02,931 - ERROR - mmseqs2.py:159 - run_container() - Error running ToolImage.MMSEQS2 container: Command 'mmseqs easy-cluster /app/input.fasta /app/result temp -c 0.8 --cov-mode 0 --min-seq-id 0.6 --alignment-mode 3 --alignment-output-mode 0 --cluster-mode 0 ' in image 'sha256:08a2e3a2d4c34d84e8d470e12c18b47ad2cc0200d4842f07c063495392388126' returned non-zero exit status 1\n"
     ]
    },
    {
     "ename": "TypeError",
     "evalue": "'NoneType' object is not subscriptable",
     "output_type": "error",
     "traceback": [
      "\u001b[0;31m---------------------------------------------------------------------------\u001b[0m",
      "\u001b[0;31mTypeError\u001b[0m                                 Traceback (most recent call last)",
      "Cell \u001b[0;32mIn[10], line 1\u001b[0m\n\u001b[0;32m----> 1\u001b[0m representatives \u001b[38;5;241m=\u001b[39m \u001b[43mMMSeqs2\u001b[49m\u001b[38;5;241;43m.\u001b[39;49m\u001b[43measy_cluster\u001b[49m\u001b[43m(\u001b[49m\n\u001b[1;32m      2\u001b[0m \u001b[43m    \u001b[49m\u001b[43msequences\u001b[49m\u001b[38;5;241;43m=\u001b[39;49m\u001b[43msequences\u001b[49m\u001b[43m,\u001b[49m\u001b[43m \u001b[49m\n\u001b[1;32m      3\u001b[0m \u001b[43m    \u001b[49m\u001b[43mcoverage\u001b[49m\u001b[38;5;241;43m=\u001b[39;49m\u001b[38;5;241;43m0.8\u001b[39;49m\u001b[43m,\u001b[49m\n\u001b[1;32m      4\u001b[0m \u001b[43m    \u001b[49m\u001b[43midentity\u001b[49m\u001b[38;5;241;43m=\u001b[39;49m\u001b[38;5;241;43m0.6\u001b[39;49m\n\u001b[1;32m      5\u001b[0m \u001b[43m)\u001b[49m\n",
      "File \u001b[0;32m~/Documents/Dokumente/SimTech/5_Semester/Projektarbeit/pyeed/pyeed/containers/mmseqs2.py:210\u001b[0m, in \u001b[0;36mMMSeqs2.easy_cluster\u001b[0;34m(cls, sequences, identity, coverage, cov_mode, alignment_mode, alignment_output_mode, cluster_mode)\u001b[0m\n\u001b[1;32m    204\u001b[0m multifasta \u001b[38;5;241m=\u001b[39m \u001b[38;5;124m\"\u001b[39m\u001b[38;5;130;01m\\n\u001b[39;00m\u001b[38;5;124m\"\u001b[39m\u001b[38;5;241m.\u001b[39mjoin(\n\u001b[1;32m    205\u001b[0m     [\u001b[38;5;124mf\u001b[39m\u001b[38;5;124m\"\u001b[39m\u001b[38;5;124m>\u001b[39m\u001b[38;5;132;01m{\u001b[39;00mseq\u001b[38;5;241m.\u001b[39msource_id\u001b[38;5;132;01m}\u001b[39;00m\u001b[38;5;130;01m\\n\u001b[39;00m\u001b[38;5;132;01m{\u001b[39;00mseq\u001b[38;5;241m.\u001b[39msequence\u001b[38;5;132;01m}\u001b[39;00m\u001b[38;5;124m\"\u001b[39m \u001b[38;5;28;01mfor\u001b[39;00m seq \u001b[38;5;129;01min\u001b[39;00m sequences]\n\u001b[1;32m    206\u001b[0m )\n\u001b[1;32m    208\u001b[0m result \u001b[38;5;241m=\u001b[39m instance\u001b[38;5;241m.\u001b[39mrun_container(command, multifasta)\n\u001b[0;32m--> 210\u001b[0m ids \u001b[38;5;241m=\u001b[39m re\u001b[38;5;241m.\u001b[39mfindall(\u001b[38;5;124mr\u001b[39m\u001b[38;5;124m\"\u001b[39m\u001b[38;5;124m>([A-Z0-9\u001b[39m\u001b[38;5;124m\\\u001b[39m\u001b[38;5;124m.]+) \u001b[39m\u001b[38;5;124m\"\u001b[39m, \u001b[43mresult\u001b[49m\u001b[43m[\u001b[49m\u001b[38;5;124;43m\"\u001b[39;49m\u001b[38;5;124;43mrepresentatives\u001b[39;49m\u001b[38;5;124;43m\"\u001b[39;49m\u001b[43m]\u001b[49m)\n\u001b[1;32m    212\u001b[0m \u001b[38;5;28;01mreturn\u001b[39;00m \u001b[38;5;28mlist\u001b[39m(\u001b[38;5;28mfilter\u001b[39m(\u001b[38;5;28;01mlambda\u001b[39;00m x: x\u001b[38;5;241m.\u001b[39msource_id \u001b[38;5;129;01min\u001b[39;00m ids, sequences))\n",
      "\u001b[0;31mTypeError\u001b[0m: 'NoneType' object is not subscriptable"
     ]
    }
   ],
   "source": [
    "representatives = MMSeqs2.easy_cluster(\n",
    "    sequences=sequences, \n",
    "    coverage=0.8,\n",
    "    identity=0.6\n",
    ")"
   ]
  },
  {
   "cell_type": "markdown",
   "metadata": {},
   "source": [
    "Sort the proteins with regard to the family. The methods returns all the proteins that belong to the chosen family (in the method) and all the others. It is important to mention that the proteins are only sorted after the annotation which means there are probably more proteins that belong to this family but do not have \"depolymerase\" in the name. But it is still a good method for a first overview."
   ]
  },
  {
   "cell_type": "code",
   "execution_count": null,
   "metadata": {},
   "outputs": [],
   "source": [
    "depolymerases, different = find_family(sequences, \"depolymerase\")\n",
    "print(\"Number of Depolymerases: \" + str(len(depolymerases)))\n",
    "print(\"Numbers of different types: \" + str(len(different)))"
   ]
  },
  {
   "cell_type": "markdown",
   "metadata": {},
   "source": [
    "Analyse the proteins with regard to the categorization of the organism. You can choose between kingom, domain or pyhlum. The function prints the composition of the whole set of proteins in percentage. "
   ]
  },
  {
   "cell_type": "code",
   "execution_count": 72,
   "metadata": {},
   "outputs": [
    {
     "name": "stdout",
     "output_type": "stream",
     "text": [
      "Kingdoms: \n",
      "Percentage of None: 0.8756%\n",
      "Percentage of Fungi: 0.0538%\n",
      "Percentage of Metazoa: 0.0648%\n",
      "Percentage of Viridiplantae: 0.0058%\n",
      "Domains: \n",
      "Percentage of Bacteria: 0.8391%\n",
      "Percentage of Eukaryota: 0.1399%\n",
      "Percentage of Archaea: 0.0206%\n",
      "Percentage of None: 0.0003%\n",
      "Phylum: \n",
      "Percentage of Pseudomonadota: 0.4587%\n",
      "Percentage of Mucoromycota: 0.011%\n",
      "Percentage of Verrucomicrobiota: 0.0064%\n",
      "Percentage of Actinomycetota: 0.0874%\n",
      "Percentage of None: 0.029%\n",
      "Percentage of Chloroflexota: 0.0477%\n",
      "Percentage of Bacteroidota: 0.0351%\n",
      "Percentage of Bacillota: 0.0435%\n",
      "Percentage of Nitrososphaerota: 0.0039%\n",
      "Percentage of Euryarchaeota: 0.0064%\n",
      "Percentage of Bdellovibrionota: 0.0116%\n",
      "Percentage of Nematoda: 0.0087%\n",
      "Percentage of Planctomycetota: 0.0184%\n",
      "Percentage of Candidatus Gracilibacteria: 0.0026%\n",
      "Percentage of Arthropoda: 0.0203%\n",
      "Percentage of Rotifera: 0.0245%\n",
      "Percentage of Ascomycota: 0.0206%\n",
      "Percentage of Mollusca: 0.0045%\n",
      "Percentage of Nitrospirota: 0.0026%\n",
      "Percentage of Acidobacteriota: 0.0158%\n",
      "Percentage of Vulcanimicrobiota: 0.0013%\n",
      "Percentage of Haptophyta: 0.0006%\n",
      "Percentage of Chordata: 0.0055%\n",
      "Percentage of Annelida: 0.0006%\n",
      "Percentage of Ciliophora: 0.0019%\n",
      "Percentage of Myxococcota: 0.0332%\n",
      "Percentage of Chytridiomycota: 0.01%\n",
      "Percentage of Streptophyta: 0.0055%\n",
      "Percentage of Oomycota: 0.0042%\n",
      "Percentage of Candidatus Neomarinimicrobiota: 0.0023%\n",
      "Percentage of Basidiomycota: 0.0097%\n",
      "Percentage of Candidatus Bathyarchaeota: 0.0006%\n",
      "Percentage of Candidatus Latescibacterota: 0.0003%\n",
      "Percentage of Cyanobacteriota: 0.0039%\n",
      "Percentage of Candidatus Rokuibacteriota: 0.0029%\n",
      "Percentage of Zoopagomycota: 0.0026%\n",
      "Percentage of Thermoproteota: 0.0003%\n",
      "Percentage of Balneolota: 0.0006%\n",
      "Percentage of Gemmatimonadota: 0.0087%\n",
      "Percentage of Cnidaria: 0.0003%\n",
      "Percentage of Candidatus Eisenbacteria: 0.0003%\n",
      "Percentage of Candidatus Shapirobacteria: 0.0003%\n",
      "Percentage of Thermodesulfobacteriota: 0.0042%\n",
      "Percentage of Atribacterota: 0.0003%\n",
      "Percentage of Spirochaetota: 0.0058%\n",
      "Percentage of Candidatus Heimdallarchaeota: 0.0006%\n",
      "Percentage of Candidatus Aerophobetes: 0.0003%\n",
      "Percentage of Candidatus Parcubacteria: 0.001%\n",
      "Percentage of Lentisphaerota: 0.0003%\n",
      "Percentage of Rhodothermota: 0.0003%\n",
      "Percentage of Candidatus Binatota: 0.0006%\n",
      "Percentage of Elusimicrobiota: 0.001%\n",
      "Percentage of Candidatus Poribacteria: 0.0006%\n",
      "Percentage of Nitrospinota: 0.0006%\n",
      "Percentage of Candidatus Omnitrophota: 0.0016%\n",
      "Percentage of Tardigrada: 0.0003%\n",
      "Percentage of Candidatus Cloacimonadota: 0.0003%\n",
      "Percentage of Thermotogota: 0.0006%\n",
      "Percentage of Chlorobiota: 0.001%\n",
      "Percentage of Chrysiogenota: 0.0003%\n",
      "Percentage of Candidatus Thermoplasmatota: 0.0023%\n",
      "Percentage of Candidatus Hadarchaeota: 0.0006%\n",
      "Percentage of Candidatus Dormiibacterota: 0.001%\n",
      "Percentage of Candidatus Lokiarchaeota: 0.0006%\n",
      "Percentage of Thermomicrobiota: 0.0013%\n",
      "Percentage of Chlorophyta: 0.0003%\n",
      "Percentage of Campylobacterota: 0.0003%\n",
      "Percentage of Candidatus Bipolaricaulota: 0.0003%\n",
      "Percentage of Chlamydiota: 0.0003%\n",
      "Percentage of Candidatus Saccharibacteria: 0.001%\n",
      "Percentage of Candidatus Helarchaeota: 0.0003%\n",
      "Percentage of Candidatus Thorarchaeota: 0.0006%\n",
      "Percentage of Candidatus Woesebacteria: 0.0003%\n",
      "Percentage of Calditrichota: 0.0006%\n",
      "Percentage of Candidatus Woesearchaeota: 0.0016%\n",
      "Percentage of Nanoarchaeota: 0.0003%\n",
      "Percentage of Candidatus Wirthbacteria: 0.0003%\n",
      "Percentage of Candidatus Firestonebacteria: 0.0006%\n",
      "Percentage of Candidatus Tectomicrobia: 0.0003%\n",
      "Percentage of Candidatus Hydrogenedentota: 0.0003%\n",
      "Percentage of Candidatus Zixiibacteriota: 0.0003%\n",
      "Percentage of Deinococcota: 0.001%\n",
      "Percentage of Fibrobacterota: 0.001%\n",
      "Percentage of candidate division NC10: 0.0003%\n",
      "Percentage of Armatimonadota: 0.0026%\n",
      "Percentage of Candidatus Lloydbacteria: 0.0006%\n",
      "Percentage of Candidatus Magasanikiibacteriota: 0.0003%\n",
      "Percentage of Candidatus Kerfeldbacteria: 0.0003%\n",
      "Percentage of Candidatus Diapherotrites: 0.0003%\n",
      "Percentage of Candidatus Portnoybacteria: 0.0006%\n",
      "Percentage of Candidatus Woykebacteria: 0.0003%\n",
      "Percentage of Candidatus Paceibacterota: 0.0003%\n",
      "Percentage of Kiritimatiellota: 0.0003%\n",
      "Percentage of Candidatus Uhrbacteria: 0.0006%\n",
      "Percentage of Candidatus Moraniibacteriota: 0.0003%\n",
      "Percentage of Candidatus Doudnabacteria: 0.0003%\n",
      "Percentage of Candidatus Aminicenantes: 0.0006%\n",
      "Percentage of Candidatus Nealsonbacteria: 0.0003%\n",
      "Percentage of Candidatus Kaiserbacteria: 0.0003%\n",
      "Percentage of Candidatus Vogelbacteria: 0.0003%\n",
      "Percentage of Candidatus Giovannonibacteria: 0.0003%\n",
      "Percentage of Candidatus Krumholzibacteriota: 0.0003%\n"
     ]
    }
   ],
   "source": [
    "kingdom = categorize_organism(representatives, \"kingdom\")\n",
    "print(kingdom.keys())\n",
    "\n",
    "domain = categorize_organism(representatives, \"domain\")\n",
    "print(domain.keys())\n",
    "\n",
    "phylum = categorize_organism(representatives, \"phylum\")\n",
    "print(phylum.keys())"
   ]
  },
  {
   "cell_type": "markdown",
   "metadata": {},
   "source": [
    "Creating Piecharts to visualize the composition of domain and kingdom. "
   ]
  },
  {
   "cell_type": "code",
   "execution_count": 43,
   "metadata": {},
   "outputs": [],
   "source": [
    "kingdom_none = len(kingdom[None])\n",
    "kingdom_fungi = len(kingdom['Fungi'])\n",
    "kingdom_metazoa = len(kingdom['Metazoa'])\n",
    "kingdom_viri = len(kingdom['Viridiplantae'])\n",
    "\n",
    "lenght = len(representatives)\n",
    "\n",
    "domain_bacteria = len(domain['Bacteria'])\n",
    "domain_eukaryota = len(domain['Eukaryota'])\n",
    "domain_archaea = len(domain['Archaea'])\n",
    "domain_none = len(domain[None])"
   ]
  },
  {
   "cell_type": "code",
   "execution_count": 44,
   "metadata": {},
   "outputs": [
    {
     "data": {
      "text/plain": [
       "([<matplotlib.patches.Wedge at 0x3f7568f40>,\n",
       "  <matplotlib.patches.Wedge at 0x40655c2e0>,\n",
       "  <matplotlib.patches.Wedge at 0x3cb7068f0>],\n",
       " [Text(-0.96294788423064, 0.53172490279818, 'Bacteria'),\n",
       "  Text(0.9264728428186785, -0.5929992171322628, 'Eukaryota'),\n",
       "  Text(1.0976886548941802, -0.07127143127934023, 'Archaea')])"
      ]
     },
     "execution_count": 44,
     "metadata": {},
     "output_type": "execute_result"
    },
    {
     "data": {
      "image/png": "[encoded data removed]",
      "text/plain": [
       "<Figure size 640x480 with 1 Axes>"
      ]
     },
     "metadata": {},
     "output_type": "display_data"
    },
    {
     "data": {
      "image/png": "[encoded data removed]",
      "text/plain": [
       "<Figure size 640x480 with 1 Axes>"
      ]
     },
     "metadata": {},
     "output_type": "display_data"
    }
   ],
   "source": [
    "labels = 'Fungi', 'Metazoa', 'Viridiplantae'\n",
    "sizes = [kingdom_fungi, kingdom_metazoa, kingdom_viri]\n",
    "\n",
    "fig, ax = plt.subplots()\n",
    "ax.pie(sizes, labels=labels)\n",
    "\n",
    "labels = 'None', 'Fungi', 'Metazoa', 'Viridiplantae'\n",
    "sizes = [kingdom_none, kingdom_fungi, kingdom_metazoa, kingdom_viri]\n",
    "\n",
    "fig, ax = plt.subplots()\n",
    "ax.pie(sizes, labels=labels)\n",
    "\n",
    "labels = 'Bacteria', 'Eukaryota', 'Archaea'\n",
    "sizes = [domain_bacteria, domain_eukaryota, domain_archaea]\n",
    "\n",
    "fig, ax = plt.subplots()\n",
    "ax.pie(sizes, labels=labels)"
   ]
  },
  {
   "cell_type": "markdown",
   "metadata": {},
   "source": [
    "Sort the proteins with regard to the length of the sequence and print the number of proteins that belong to the according category.  \n",
    "Small < 100, middle < 300, long > 300"
   ]
  },
  {
   "cell_type": "code",
   "execution_count": null,
   "metadata": {},
   "outputs": [],
   "source": [
    "small, middle, long = categorize_len(sequences)\n",
    "print(f\"Number of small proteins:{len(small)}\")\n",
    "print(f\"Number of middle length proteins:{len(middle)}\")\n",
    "print(f\"Number of long proteins:{len(long)}\")"
   ]
  }
 ],
 "metadata": {
  "kernelspec": {
   "display_name": "pyeed_env",
   "language": "python",
   "name": "python3"
  },
  "language_info": {
   "codemirror_mode": {
    "name": "ipython",
    "version": 3
   },
   "file_extension": ".py",
   "mimetype": "text/x-python",
   "name": "python",
   "nbconvert_exporter": "python",
   "pygments_lexer": "ipython3",
   "version": "3.10.13"
  }
 },
 "nbformat": 4,
 "nbformat_minor": 2
}
